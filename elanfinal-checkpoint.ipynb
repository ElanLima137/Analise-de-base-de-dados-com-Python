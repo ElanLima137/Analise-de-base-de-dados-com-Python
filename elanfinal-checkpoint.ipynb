{
 "cells": [
  {
   "cell_type": "code",
   "execution_count": 72,
   "id": "d6eeb094",
   "metadata": {},
   "outputs": [],
   "source": [
    "import pandas as pd"
   ]
  },
  {
   "cell_type": "code",
   "execution_count": 73,
   "id": "17d1bbc6",
   "metadata": {},
   "outputs": [],
   "source": [
    "import plotly.express as px"
   ]
  },
  {
   "cell_type": "code",
   "execution_count": 74,
   "id": "dc87401a",
   "metadata": {},
   "outputs": [],
   "source": [
    "df = pd.read_csv('SSP 2017 a 2021.csv')"
   ]
  },
  {
   "cell_type": "markdown",
   "id": "02a9c879",
   "metadata": {},
   "source": [
    "# dicionario de dados\n",
    "\n",
    "Nome | Tipo No BigQuery | Descrição\n",
    ":---|:---|:---|\n",
    "ano\t|INT64 |Ano\t\n",
    "mes\t|INT64 |Mês\t\n",
    "id_municipio |\tSTRING\t| ID Município - IBGE 7 Dígitos\t\n",
    "regiao_ssp |STRING\t|Região definida pela SSP\t\n",
    "homicidio_doloso |\tINT64 |\tHomicídio doloso inclui homicídio doloso por acidente de trânsito\t\n",
    "numero_de_vitimas_em_homicidio_doloso |\tINT64 |\tNúmero de vítimas em homicídio doloso inclui número de vítimas de homicídio doloso por acidente de trânsito\t\n",
    "homicidio_doloso_por_acidente_de_transito |\tINT64 |\tHomicídio doloso por acidente de trânsito\t\n",
    "numero_de_vitimas_em_homicidio_doloso_por_acidente_de_transito |\tINT64 |\tNúmero de vítimas de homicídio doloso por acidente de trânsito\t\n",
    "homicidio_culposo_por_acidente_de_transito |\tINT64\t| Homicídio culposo por acidente de trânsito\t\n",
    "homicidio_culposo_outros |\tINT64 |\tOutros tipos de Homicídio Culposo\t\n",
    "tentativa_de_homicidio |\tINT64 |\tTentativa de homicídio\t\n",
    "lesao_corporal_seguida_de_morte |\tINT64 |\tLesão corporal seguida de morte\t\n",
    "lesao_corporal_dolosa |\tINT64\t| Lesão corporal dolosa\t\n",
    "lesao_corporal_culposa_por_acidente_de_transito |\tINT64\t| Lesão corporal culposa por acidente de trânsito\t\n",
    "lesao_corporal_culposa_outras |\tINT64 |\tOutros tipos de lesão corporal culposa\t\n",
    "latrocinio |INT64 |\tLatrocínio\t\n",
    "numero_de_vitimas_em_latrocinio\t| INT64\t|Número de vítimas em latrocínio\t\n",
    "total_de_estupro |\tINT64 |\tSoma de estupro e estupro de vulnerável\t\n",
    "estupro\t| INT64 |Estupro\t\n",
    "estupro_de_vulneravel |\tINT64 |Estupro de vulnerável\t\n",
    "total_de_roubo_outros |\tINT64 |\tSoma de roubo - outros, roubo de carga e roubo a banco\t\n",
    "roubo_outros |\tINT64 |\tOutros tipos de roubos\t\n",
    "roubo_de_veiculo |\tINT64 |\tRoubo de veículo\t\n",
    "roubo_a_banco |\tINT64 |\tRoubo a banco\t\n",
    "roubo_de_carga |INT64 |\tRoubo de carga\t\n",
    "furto_outros |\tINT64 |\tOutros tipos de furto\t\n",
    "furto_de_veiculo |\tINT64 |\tFurto de veiculo"
   ]
  },
  {
   "cell_type": "code",
   "execution_count": null,
   "id": "7afb972e",
   "metadata": {},
   "outputs": [],
   "source": []
  },
  {
   "cell_type": "code",
   "execution_count": 75,
   "id": "d0a34bae",
   "metadata": {},
   "outputs": [
    {
     "data": {
      "text/html": [
       "<div>\n",
       "<style scoped>\n",
       "    .dataframe tbody tr th:only-of-type {\n",
       "        vertical-align: middle;\n",
       "    }\n",
       "\n",
       "    .dataframe tbody tr th {\n",
       "        vertical-align: top;\n",
       "    }\n",
       "\n",
       "    .dataframe thead th {\n",
       "        text-align: right;\n",
       "    }\n",
       "</style>\n",
       "<table border=\"1\" class=\"dataframe\">\n",
       "  <thead>\n",
       "    <tr style=\"text-align: right;\">\n",
       "      <th></th>\n",
       "      <th>ano</th>\n",
       "      <th>mes</th>\n",
       "      <th>id_municipio</th>\n",
       "      <th>regiao_ssp</th>\n",
       "      <th>homicidio_doloso</th>\n",
       "      <th>numero_de_vitimas_em_homicidio_doloso</th>\n",
       "      <th>homicidio_doloso_por_acidente_de_transito</th>\n",
       "      <th>numero_de_vitimas_em_homicidio_doloso_por_acidente_de_transito</th>\n",
       "      <th>homicidio_culposo_por_acidente_de_transito</th>\n",
       "      <th>homicidio_culposo_outros</th>\n",
       "      <th>...</th>\n",
       "      <th>total_de_estupro</th>\n",
       "      <th>estupro</th>\n",
       "      <th>estupro_de_vulneravel</th>\n",
       "      <th>total_de_roubo_outros</th>\n",
       "      <th>roubo_outros</th>\n",
       "      <th>roubo_de_veiculo</th>\n",
       "      <th>roubo_a_banco</th>\n",
       "      <th>roubo_de_carga</th>\n",
       "      <th>furto_outros</th>\n",
       "      <th>furto_de_veiculo</th>\n",
       "    </tr>\n",
       "  </thead>\n",
       "  <tbody>\n",
       "    <tr>\n",
       "      <th>0</th>\n",
       "      <td>2021</td>\n",
       "      <td>1</td>\n",
       "      <td>3500402</td>\n",
       "      <td>Piracicaba</td>\n",
       "      <td>0.0</td>\n",
       "      <td>0.0</td>\n",
       "      <td>0.0</td>\n",
       "      <td>0.0</td>\n",
       "      <td>1.0</td>\n",
       "      <td>0.0</td>\n",
       "      <td>...</td>\n",
       "      <td>0.0</td>\n",
       "      <td>0.0</td>\n",
       "      <td>0.0</td>\n",
       "      <td>0.0</td>\n",
       "      <td>0.0</td>\n",
       "      <td>0.0</td>\n",
       "      <td>0.0</td>\n",
       "      <td>0.0</td>\n",
       "      <td>2.0</td>\n",
       "      <td>0.0</td>\n",
       "    </tr>\n",
       "    <tr>\n",
       "      <th>1</th>\n",
       "      <td>2021</td>\n",
       "      <td>2</td>\n",
       "      <td>3500402</td>\n",
       "      <td>Piracicaba</td>\n",
       "      <td>0.0</td>\n",
       "      <td>0.0</td>\n",
       "      <td>0.0</td>\n",
       "      <td>0.0</td>\n",
       "      <td>0.0</td>\n",
       "      <td>0.0</td>\n",
       "      <td>...</td>\n",
       "      <td>0.0</td>\n",
       "      <td>0.0</td>\n",
       "      <td>0.0</td>\n",
       "      <td>0.0</td>\n",
       "      <td>0.0</td>\n",
       "      <td>1.0</td>\n",
       "      <td>0.0</td>\n",
       "      <td>0.0</td>\n",
       "      <td>8.0</td>\n",
       "      <td>0.0</td>\n",
       "    </tr>\n",
       "    <tr>\n",
       "      <th>2</th>\n",
       "      <td>2021</td>\n",
       "      <td>3</td>\n",
       "      <td>3500402</td>\n",
       "      <td>Piracicaba</td>\n",
       "      <td>0.0</td>\n",
       "      <td>0.0</td>\n",
       "      <td>0.0</td>\n",
       "      <td>0.0</td>\n",
       "      <td>0.0</td>\n",
       "      <td>0.0</td>\n",
       "      <td>...</td>\n",
       "      <td>0.0</td>\n",
       "      <td>0.0</td>\n",
       "      <td>0.0</td>\n",
       "      <td>0.0</td>\n",
       "      <td>0.0</td>\n",
       "      <td>0.0</td>\n",
       "      <td>0.0</td>\n",
       "      <td>0.0</td>\n",
       "      <td>6.0</td>\n",
       "      <td>0.0</td>\n",
       "    </tr>\n",
       "    <tr>\n",
       "      <th>3</th>\n",
       "      <td>2021</td>\n",
       "      <td>4</td>\n",
       "      <td>3500402</td>\n",
       "      <td>Piracicaba</td>\n",
       "      <td>0.0</td>\n",
       "      <td>0.0</td>\n",
       "      <td>0.0</td>\n",
       "      <td>0.0</td>\n",
       "      <td>0.0</td>\n",
       "      <td>0.0</td>\n",
       "      <td>...</td>\n",
       "      <td>1.0</td>\n",
       "      <td>0.0</td>\n",
       "      <td>1.0</td>\n",
       "      <td>0.0</td>\n",
       "      <td>0.0</td>\n",
       "      <td>1.0</td>\n",
       "      <td>0.0</td>\n",
       "      <td>0.0</td>\n",
       "      <td>6.0</td>\n",
       "      <td>0.0</td>\n",
       "    </tr>\n",
       "    <tr>\n",
       "      <th>4</th>\n",
       "      <td>2021</td>\n",
       "      <td>5</td>\n",
       "      <td>3500402</td>\n",
       "      <td>Piracicaba</td>\n",
       "      <td>0.0</td>\n",
       "      <td>0.0</td>\n",
       "      <td>0.0</td>\n",
       "      <td>0.0</td>\n",
       "      <td>0.0</td>\n",
       "      <td>0.0</td>\n",
       "      <td>...</td>\n",
       "      <td>0.0</td>\n",
       "      <td>0.0</td>\n",
       "      <td>0.0</td>\n",
       "      <td>0.0</td>\n",
       "      <td>0.0</td>\n",
       "      <td>0.0</td>\n",
       "      <td>0.0</td>\n",
       "      <td>0.0</td>\n",
       "      <td>2.0</td>\n",
       "      <td>0.0</td>\n",
       "    </tr>\n",
       "  </tbody>\n",
       "</table>\n",
       "<p>5 rows × 27 columns</p>\n",
       "</div>"
      ],
      "text/plain": [
       "    ano  mes  id_municipio  regiao_ssp  homicidio_doloso  \\\n",
       "0  2021    1       3500402  Piracicaba               0.0   \n",
       "1  2021    2       3500402  Piracicaba               0.0   \n",
       "2  2021    3       3500402  Piracicaba               0.0   \n",
       "3  2021    4       3500402  Piracicaba               0.0   \n",
       "4  2021    5       3500402  Piracicaba               0.0   \n",
       "\n",
       "   numero_de_vitimas_em_homicidio_doloso  \\\n",
       "0                                    0.0   \n",
       "1                                    0.0   \n",
       "2                                    0.0   \n",
       "3                                    0.0   \n",
       "4                                    0.0   \n",
       "\n",
       "   homicidio_doloso_por_acidente_de_transito  \\\n",
       "0                                        0.0   \n",
       "1                                        0.0   \n",
       "2                                        0.0   \n",
       "3                                        0.0   \n",
       "4                                        0.0   \n",
       "\n",
       "   numero_de_vitimas_em_homicidio_doloso_por_acidente_de_transito  \\\n",
       "0                                                0.0                \n",
       "1                                                0.0                \n",
       "2                                                0.0                \n",
       "3                                                0.0                \n",
       "4                                                0.0                \n",
       "\n",
       "   homicidio_culposo_por_acidente_de_transito  homicidio_culposo_outros  ...  \\\n",
       "0                                         1.0                       0.0  ...   \n",
       "1                                         0.0                       0.0  ...   \n",
       "2                                         0.0                       0.0  ...   \n",
       "3                                         0.0                       0.0  ...   \n",
       "4                                         0.0                       0.0  ...   \n",
       "\n",
       "   total_de_estupro  estupro  estupro_de_vulneravel  total_de_roubo_outros  \\\n",
       "0               0.0      0.0                    0.0                    0.0   \n",
       "1               0.0      0.0                    0.0                    0.0   \n",
       "2               0.0      0.0                    0.0                    0.0   \n",
       "3               1.0      0.0                    1.0                    0.0   \n",
       "4               0.0      0.0                    0.0                    0.0   \n",
       "\n",
       "   roubo_outros  roubo_de_veiculo  roubo_a_banco  roubo_de_carga  \\\n",
       "0           0.0               0.0            0.0             0.0   \n",
       "1           0.0               1.0            0.0             0.0   \n",
       "2           0.0               0.0            0.0             0.0   \n",
       "3           0.0               1.0            0.0             0.0   \n",
       "4           0.0               0.0            0.0             0.0   \n",
       "\n",
       "   furto_outros  furto_de_veiculo  \n",
       "0           2.0               0.0  \n",
       "1           8.0               0.0  \n",
       "2           6.0               0.0  \n",
       "3           6.0               0.0  \n",
       "4           2.0               0.0  \n",
       "\n",
       "[5 rows x 27 columns]"
      ]
     },
     "execution_count": 75,
     "metadata": {},
     "output_type": "execute_result"
    }
   ],
   "source": [
    "df.head()"
   ]
  },
  {
   "cell_type": "code",
   "execution_count": 76,
   "id": "ab18ae1b",
   "metadata": {},
   "outputs": [
    {
     "name": "stdout",
     "output_type": "stream",
     "text": [
      "<class 'pandas.core.frame.DataFrame'>\n",
      "RangeIndex: 30876 entries, 0 to 30875\n",
      "Data columns (total 27 columns):\n",
      " #   Column                                                          Non-Null Count  Dtype  \n",
      "---  ------                                                          --------------  -----  \n",
      " 0   ano                                                             30876 non-null  int64  \n",
      " 1   mes                                                             30876 non-null  int64  \n",
      " 2   id_municipio                                                    30876 non-null  int64  \n",
      " 3   regiao_ssp                                                      30876 non-null  object \n",
      " 4   homicidio_doloso                                                28296 non-null  float64\n",
      " 5   numero_de_vitimas_em_homicidio_doloso                           28296 non-null  float64\n",
      " 6   homicidio_doloso_por_acidente_de_transito                       28296 non-null  float64\n",
      " 7   numero_de_vitimas_em_homicidio_doloso_por_acidente_de_transito  28296 non-null  float64\n",
      " 8   homicidio_culposo_por_acidente_de_transito                      28296 non-null  float64\n",
      " 9   homicidio_culposo_outros                                        28296 non-null  float64\n",
      " 10  tentativa_de_homicidio                                          28296 non-null  float64\n",
      " 11  lesao_corporal_seguida_de_morte                                 28296 non-null  float64\n",
      " 12  lesao_corporal_dolosa                                           28296 non-null  float64\n",
      " 13  lesao_corporal_culposa_por_acidente_de_transito                 28296 non-null  float64\n",
      " 14  lesao_corporal_culposa_outras                                   28296 non-null  float64\n",
      " 15  latrocinio                                                      28296 non-null  float64\n",
      " 16  numero_de_vitimas_em_latrocinio                                 28296 non-null  float64\n",
      " 17  total_de_estupro                                                28296 non-null  float64\n",
      " 18  estupro                                                         28296 non-null  float64\n",
      " 19  estupro_de_vulneravel                                           28296 non-null  float64\n",
      " 20  total_de_roubo_outros                                           28296 non-null  float64\n",
      " 21  roubo_outros                                                    28296 non-null  float64\n",
      " 22  roubo_de_veiculo                                                28296 non-null  float64\n",
      " 23  roubo_a_banco                                                   28296 non-null  float64\n",
      " 24  roubo_de_carga                                                  28296 non-null  float64\n",
      " 25  furto_outros                                                    28296 non-null  float64\n",
      " 26  furto_de_veiculo                                                28296 non-null  float64\n",
      "dtypes: float64(23), int64(3), object(1)\n",
      "memory usage: 6.4+ MB\n"
     ]
    }
   ],
   "source": [
    "df.info()"
   ]
  },
  {
   "cell_type": "code",
   "execution_count": 77,
   "id": "19b0d24a",
   "metadata": {},
   "outputs": [
    {
     "data": {
      "text/html": [
       "<div>\n",
       "<style scoped>\n",
       "    .dataframe tbody tr th:only-of-type {\n",
       "        vertical-align: middle;\n",
       "    }\n",
       "\n",
       "    .dataframe tbody tr th {\n",
       "        vertical-align: top;\n",
       "    }\n",
       "\n",
       "    .dataframe thead th {\n",
       "        text-align: right;\n",
       "    }\n",
       "</style>\n",
       "<table border=\"1\" class=\"dataframe\">\n",
       "  <thead>\n",
       "    <tr style=\"text-align: right;\">\n",
       "      <th></th>\n",
       "      <th>ano</th>\n",
       "      <th>mes</th>\n",
       "      <th>id_municipio</th>\n",
       "      <th>homicidio_doloso</th>\n",
       "      <th>numero_de_vitimas_em_homicidio_doloso</th>\n",
       "      <th>homicidio_doloso_por_acidente_de_transito</th>\n",
       "      <th>numero_de_vitimas_em_homicidio_doloso_por_acidente_de_transito</th>\n",
       "      <th>homicidio_culposo_por_acidente_de_transito</th>\n",
       "      <th>homicidio_culposo_outros</th>\n",
       "      <th>tentativa_de_homicidio</th>\n",
       "      <th>...</th>\n",
       "      <th>total_de_estupro</th>\n",
       "      <th>estupro</th>\n",
       "      <th>estupro_de_vulneravel</th>\n",
       "      <th>total_de_roubo_outros</th>\n",
       "      <th>roubo_outros</th>\n",
       "      <th>roubo_de_veiculo</th>\n",
       "      <th>roubo_a_banco</th>\n",
       "      <th>roubo_de_carga</th>\n",
       "      <th>furto_outros</th>\n",
       "      <th>furto_de_veiculo</th>\n",
       "    </tr>\n",
       "  </thead>\n",
       "  <tbody>\n",
       "    <tr>\n",
       "      <th>count</th>\n",
       "      <td>30876.000000</td>\n",
       "      <td>30876.000000</td>\n",
       "      <td>3.087600e+04</td>\n",
       "      <td>28296.000000</td>\n",
       "      <td>28296.000000</td>\n",
       "      <td>28296.000000</td>\n",
       "      <td>28296.000000</td>\n",
       "      <td>28296.000000</td>\n",
       "      <td>28296.000000</td>\n",
       "      <td>28296.000000</td>\n",
       "      <td>...</td>\n",
       "      <td>28296.000000</td>\n",
       "      <td>28296.000000</td>\n",
       "      <td>28296.000000</td>\n",
       "      <td>28296.000000</td>\n",
       "      <td>28296.000000</td>\n",
       "      <td>28296.000000</td>\n",
       "      <td>28296.000000</td>\n",
       "      <td>28296.000000</td>\n",
       "      <td>28296.000000</td>\n",
       "      <td>28296.000000</td>\n",
       "    </tr>\n",
       "    <tr>\n",
       "      <th>mean</th>\n",
       "      <td>2019.500583</td>\n",
       "      <td>6.500000</td>\n",
       "      <td>3.528685e+06</td>\n",
       "      <td>0.369876</td>\n",
       "      <td>0.388147</td>\n",
       "      <td>0.002721</td>\n",
       "      <td>0.003322</td>\n",
       "      <td>0.414829</td>\n",
       "      <td>0.019897</td>\n",
       "      <td>0.430803</td>\n",
       "      <td>...</td>\n",
       "      <td>1.518731</td>\n",
       "      <td>0.380655</td>\n",
       "      <td>1.138076</td>\n",
       "      <td>31.258199</td>\n",
       "      <td>30.331425</td>\n",
       "      <td>5.570893</td>\n",
       "      <td>0.004100</td>\n",
       "      <td>0.922675</td>\n",
       "      <td>60.413345</td>\n",
       "      <td>10.835807</td>\n",
       "    </tr>\n",
       "    <tr>\n",
       "      <th>std</th>\n",
       "      <td>1.118921</td>\n",
       "      <td>3.452108</td>\n",
       "      <td>1.670838e+04</td>\n",
       "      <td>2.320806</td>\n",
       "      <td>2.472310</td>\n",
       "      <td>0.059684</td>\n",
       "      <td>0.076523</td>\n",
       "      <td>1.604583</td>\n",
       "      <td>0.200353</td>\n",
       "      <td>2.446447</td>\n",
       "      <td>...</td>\n",
       "      <td>8.646640</td>\n",
       "      <td>2.519891</td>\n",
       "      <td>6.227942</td>\n",
       "      <td>443.676717</td>\n",
       "      <td>431.933715</td>\n",
       "      <td>67.953904</td>\n",
       "      <td>0.086462</td>\n",
       "      <td>11.928412</td>\n",
       "      <td>652.958570</td>\n",
       "      <td>118.219215</td>\n",
       "    </tr>\n",
       "    <tr>\n",
       "      <th>min</th>\n",
       "      <td>2018.000000</td>\n",
       "      <td>1.000000</td>\n",
       "      <td>3.500105e+06</td>\n",
       "      <td>0.000000</td>\n",
       "      <td>0.000000</td>\n",
       "      <td>0.000000</td>\n",
       "      <td>0.000000</td>\n",
       "      <td>0.000000</td>\n",
       "      <td>0.000000</td>\n",
       "      <td>0.000000</td>\n",
       "      <td>...</td>\n",
       "      <td>0.000000</td>\n",
       "      <td>0.000000</td>\n",
       "      <td>0.000000</td>\n",
       "      <td>0.000000</td>\n",
       "      <td>0.000000</td>\n",
       "      <td>0.000000</td>\n",
       "      <td>0.000000</td>\n",
       "      <td>0.000000</td>\n",
       "      <td>0.000000</td>\n",
       "      <td>0.000000</td>\n",
       "    </tr>\n",
       "    <tr>\n",
       "      <th>25%</th>\n",
       "      <td>2018.000000</td>\n",
       "      <td>3.750000</td>\n",
       "      <td>3.514502e+06</td>\n",
       "      <td>0.000000</td>\n",
       "      <td>0.000000</td>\n",
       "      <td>0.000000</td>\n",
       "      <td>0.000000</td>\n",
       "      <td>0.000000</td>\n",
       "      <td>0.000000</td>\n",
       "      <td>0.000000</td>\n",
       "      <td>...</td>\n",
       "      <td>0.000000</td>\n",
       "      <td>0.000000</td>\n",
       "      <td>0.000000</td>\n",
       "      <td>0.000000</td>\n",
       "      <td>0.000000</td>\n",
       "      <td>0.000000</td>\n",
       "      <td>0.000000</td>\n",
       "      <td>0.000000</td>\n",
       "      <td>2.000000</td>\n",
       "      <td>0.000000</td>\n",
       "    </tr>\n",
       "    <tr>\n",
       "      <th>50%</th>\n",
       "      <td>2020.000000</td>\n",
       "      <td>6.500000</td>\n",
       "      <td>3.528601e+06</td>\n",
       "      <td>0.000000</td>\n",
       "      <td>0.000000</td>\n",
       "      <td>0.000000</td>\n",
       "      <td>0.000000</td>\n",
       "      <td>0.000000</td>\n",
       "      <td>0.000000</td>\n",
       "      <td>0.000000</td>\n",
       "      <td>...</td>\n",
       "      <td>0.000000</td>\n",
       "      <td>0.000000</td>\n",
       "      <td>0.000000</td>\n",
       "      <td>0.000000</td>\n",
       "      <td>0.000000</td>\n",
       "      <td>0.000000</td>\n",
       "      <td>0.000000</td>\n",
       "      <td>0.000000</td>\n",
       "      <td>8.000000</td>\n",
       "      <td>0.000000</td>\n",
       "    </tr>\n",
       "    <tr>\n",
       "      <th>75%</th>\n",
       "      <td>2021.000000</td>\n",
       "      <td>9.250000</td>\n",
       "      <td>3.543238e+06</td>\n",
       "      <td>0.000000</td>\n",
       "      <td>0.000000</td>\n",
       "      <td>0.000000</td>\n",
       "      <td>0.000000</td>\n",
       "      <td>0.000000</td>\n",
       "      <td>0.000000</td>\n",
       "      <td>0.000000</td>\n",
       "      <td>...</td>\n",
       "      <td>1.000000</td>\n",
       "      <td>0.000000</td>\n",
       "      <td>1.000000</td>\n",
       "      <td>3.000000</td>\n",
       "      <td>3.000000</td>\n",
       "      <td>1.000000</td>\n",
       "      <td>0.000000</td>\n",
       "      <td>0.000000</td>\n",
       "      <td>25.000000</td>\n",
       "      <td>2.000000</td>\n",
       "    </tr>\n",
       "    <tr>\n",
       "      <th>max</th>\n",
       "      <td>2021.000000</td>\n",
       "      <td>12.000000</td>\n",
       "      <td>3.557303e+06</td>\n",
       "      <td>75.000000</td>\n",
       "      <td>85.000000</td>\n",
       "      <td>4.000000</td>\n",
       "      <td>5.000000</td>\n",
       "      <td>66.000000</td>\n",
       "      <td>16.000000</td>\n",
       "      <td>86.000000</td>\n",
       "      <td>...</td>\n",
       "      <td>302.000000</td>\n",
       "      <td>84.000000</td>\n",
       "      <td>218.000000</td>\n",
       "      <td>14503.000000</td>\n",
       "      <td>14229.000000</td>\n",
       "      <td>2596.000000</td>\n",
       "      <td>5.000000</td>\n",
       "      <td>425.000000</td>\n",
       "      <td>25063.000000</td>\n",
       "      <td>3782.000000</td>\n",
       "    </tr>\n",
       "  </tbody>\n",
       "</table>\n",
       "<p>8 rows × 26 columns</p>\n",
       "</div>"
      ],
      "text/plain": [
       "                ano           mes  id_municipio  homicidio_doloso  \\\n",
       "count  30876.000000  30876.000000  3.087600e+04      28296.000000   \n",
       "mean    2019.500583      6.500000  3.528685e+06          0.369876   \n",
       "std        1.118921      3.452108  1.670838e+04          2.320806   \n",
       "min     2018.000000      1.000000  3.500105e+06          0.000000   \n",
       "25%     2018.000000      3.750000  3.514502e+06          0.000000   \n",
       "50%     2020.000000      6.500000  3.528601e+06          0.000000   \n",
       "75%     2021.000000      9.250000  3.543238e+06          0.000000   \n",
       "max     2021.000000     12.000000  3.557303e+06         75.000000   \n",
       "\n",
       "       numero_de_vitimas_em_homicidio_doloso  \\\n",
       "count                           28296.000000   \n",
       "mean                                0.388147   \n",
       "std                                 2.472310   \n",
       "min                                 0.000000   \n",
       "25%                                 0.000000   \n",
       "50%                                 0.000000   \n",
       "75%                                 0.000000   \n",
       "max                                85.000000   \n",
       "\n",
       "       homicidio_doloso_por_acidente_de_transito  \\\n",
       "count                               28296.000000   \n",
       "mean                                    0.002721   \n",
       "std                                     0.059684   \n",
       "min                                     0.000000   \n",
       "25%                                     0.000000   \n",
       "50%                                     0.000000   \n",
       "75%                                     0.000000   \n",
       "max                                     4.000000   \n",
       "\n",
       "       numero_de_vitimas_em_homicidio_doloso_por_acidente_de_transito  \\\n",
       "count                                       28296.000000                \n",
       "mean                                            0.003322                \n",
       "std                                             0.076523                \n",
       "min                                             0.000000                \n",
       "25%                                             0.000000                \n",
       "50%                                             0.000000                \n",
       "75%                                             0.000000                \n",
       "max                                             5.000000                \n",
       "\n",
       "       homicidio_culposo_por_acidente_de_transito  homicidio_culposo_outros  \\\n",
       "count                                28296.000000              28296.000000   \n",
       "mean                                     0.414829                  0.019897   \n",
       "std                                      1.604583                  0.200353   \n",
       "min                                      0.000000                  0.000000   \n",
       "25%                                      0.000000                  0.000000   \n",
       "50%                                      0.000000                  0.000000   \n",
       "75%                                      0.000000                  0.000000   \n",
       "max                                     66.000000                 16.000000   \n",
       "\n",
       "       tentativa_de_homicidio  ...  total_de_estupro       estupro  \\\n",
       "count            28296.000000  ...      28296.000000  28296.000000   \n",
       "mean                 0.430803  ...          1.518731      0.380655   \n",
       "std                  2.446447  ...          8.646640      2.519891   \n",
       "min                  0.000000  ...          0.000000      0.000000   \n",
       "25%                  0.000000  ...          0.000000      0.000000   \n",
       "50%                  0.000000  ...          0.000000      0.000000   \n",
       "75%                  0.000000  ...          1.000000      0.000000   \n",
       "max                 86.000000  ...        302.000000     84.000000   \n",
       "\n",
       "       estupro_de_vulneravel  total_de_roubo_outros  roubo_outros  \\\n",
       "count           28296.000000           28296.000000  28296.000000   \n",
       "mean                1.138076              31.258199     30.331425   \n",
       "std                 6.227942             443.676717    431.933715   \n",
       "min                 0.000000               0.000000      0.000000   \n",
       "25%                 0.000000               0.000000      0.000000   \n",
       "50%                 0.000000               0.000000      0.000000   \n",
       "75%                 1.000000               3.000000      3.000000   \n",
       "max               218.000000           14503.000000  14229.000000   \n",
       "\n",
       "       roubo_de_veiculo  roubo_a_banco  roubo_de_carga  furto_outros  \\\n",
       "count      28296.000000   28296.000000    28296.000000  28296.000000   \n",
       "mean           5.570893       0.004100        0.922675     60.413345   \n",
       "std           67.953904       0.086462       11.928412    652.958570   \n",
       "min            0.000000       0.000000        0.000000      0.000000   \n",
       "25%            0.000000       0.000000        0.000000      2.000000   \n",
       "50%            0.000000       0.000000        0.000000      8.000000   \n",
       "75%            1.000000       0.000000        0.000000     25.000000   \n",
       "max         2596.000000       5.000000      425.000000  25063.000000   \n",
       "\n",
       "       furto_de_veiculo  \n",
       "count      28296.000000  \n",
       "mean          10.835807  \n",
       "std          118.219215  \n",
       "min            0.000000  \n",
       "25%            0.000000  \n",
       "50%            0.000000  \n",
       "75%            2.000000  \n",
       "max         3782.000000  \n",
       "\n",
       "[8 rows x 26 columns]"
      ]
     },
     "execution_count": 77,
     "metadata": {},
     "output_type": "execute_result"
    }
   ],
   "source": [
    "df.describe()"
   ]
  },
  {
   "cell_type": "code",
   "execution_count": 78,
   "id": "e4ea8c60",
   "metadata": {},
   "outputs": [
    {
     "data": {
      "text/plain": [
       "ano                                                                  0\n",
       "mes                                                                  0\n",
       "id_municipio                                                         0\n",
       "regiao_ssp                                                           0\n",
       "homicidio_doloso                                                  2580\n",
       "numero_de_vitimas_em_homicidio_doloso                             2580\n",
       "homicidio_doloso_por_acidente_de_transito                         2580\n",
       "numero_de_vitimas_em_homicidio_doloso_por_acidente_de_transito    2580\n",
       "homicidio_culposo_por_acidente_de_transito                        2580\n",
       "homicidio_culposo_outros                                          2580\n",
       "tentativa_de_homicidio                                            2580\n",
       "lesao_corporal_seguida_de_morte                                   2580\n",
       "lesao_corporal_dolosa                                             2580\n",
       "lesao_corporal_culposa_por_acidente_de_transito                   2580\n",
       "lesao_corporal_culposa_outras                                     2580\n",
       "latrocinio                                                        2580\n",
       "numero_de_vitimas_em_latrocinio                                   2580\n",
       "total_de_estupro                                                  2580\n",
       "estupro                                                           2580\n",
       "estupro_de_vulneravel                                             2580\n",
       "total_de_roubo_outros                                             2580\n",
       "roubo_outros                                                      2580\n",
       "roubo_de_veiculo                                                  2580\n",
       "roubo_a_banco                                                     2580\n",
       "roubo_de_carga                                                    2580\n",
       "furto_outros                                                      2580\n",
       "furto_de_veiculo                                                  2580\n",
       "dtype: int64"
      ]
     },
     "execution_count": 78,
     "metadata": {},
     "output_type": "execute_result"
    }
   ],
   "source": [
    "df.isnull().sum()"
   ]
  },
  {
   "cell_type": "code",
   "execution_count": 79,
   "id": "dd210df8",
   "metadata": {},
   "outputs": [
    {
     "data": {
      "text/plain": [
       "ano                                                               0\n",
       "mes                                                               0\n",
       "id_municipio                                                      0\n",
       "regiao_ssp                                                        0\n",
       "homicidio_doloso                                                  0\n",
       "numero_de_vitimas_em_homicidio_doloso                             0\n",
       "homicidio_doloso_por_acidente_de_transito                         0\n",
       "numero_de_vitimas_em_homicidio_doloso_por_acidente_de_transito    0\n",
       "homicidio_culposo_por_acidente_de_transito                        0\n",
       "homicidio_culposo_outros                                          0\n",
       "tentativa_de_homicidio                                            0\n",
       "lesao_corporal_seguida_de_morte                                   0\n",
       "lesao_corporal_dolosa                                             0\n",
       "lesao_corporal_culposa_por_acidente_de_transito                   0\n",
       "lesao_corporal_culposa_outras                                     0\n",
       "latrocinio                                                        0\n",
       "numero_de_vitimas_em_latrocinio                                   0\n",
       "total_de_estupro                                                  0\n",
       "estupro                                                           0\n",
       "estupro_de_vulneravel                                             0\n",
       "total_de_roubo_outros                                             0\n",
       "roubo_outros                                                      0\n",
       "roubo_de_veiculo                                                  0\n",
       "roubo_a_banco                                                     0\n",
       "roubo_de_carga                                                    0\n",
       "furto_outros                                                      0\n",
       "furto_de_veiculo                                                  0\n",
       "dtype: int64"
      ]
     },
     "execution_count": 79,
     "metadata": {},
     "output_type": "execute_result"
    }
   ],
   "source": [
    "df2 = df.copy() #cópia do data frame\n",
    "df2 = df2.dropna() #apaga as linhas que contém dados nulos\n",
    "df2.isnull().sum() #somatório de colunas com nulos e seus totais"
   ]
  },
  {
   "cell_type": "code",
   "execution_count": 80,
   "id": "1ac266de",
   "metadata": {
    "scrolled": true
   },
   "outputs": [
    {
     "name": "stdout",
     "output_type": "stream",
     "text": [
      "<class 'pandas.core.frame.DataFrame'>\n",
      "Index: 28296 entries, 0 to 30875\n",
      "Data columns (total 27 columns):\n",
      " #   Column                                                          Non-Null Count  Dtype  \n",
      "---  ------                                                          --------------  -----  \n",
      " 0   ano                                                             28296 non-null  int64  \n",
      " 1   mes                                                             28296 non-null  int64  \n",
      " 2   id_municipio                                                    28296 non-null  int64  \n",
      " 3   regiao_ssp                                                      28296 non-null  object \n",
      " 4   homicidio_doloso                                                28296 non-null  float64\n",
      " 5   numero_de_vitimas_em_homicidio_doloso                           28296 non-null  float64\n",
      " 6   homicidio_doloso_por_acidente_de_transito                       28296 non-null  float64\n",
      " 7   numero_de_vitimas_em_homicidio_doloso_por_acidente_de_transito  28296 non-null  float64\n",
      " 8   homicidio_culposo_por_acidente_de_transito                      28296 non-null  float64\n",
      " 9   homicidio_culposo_outros                                        28296 non-null  float64\n",
      " 10  tentativa_de_homicidio                                          28296 non-null  float64\n",
      " 11  lesao_corporal_seguida_de_morte                                 28296 non-null  float64\n",
      " 12  lesao_corporal_dolosa                                           28296 non-null  float64\n",
      " 13  lesao_corporal_culposa_por_acidente_de_transito                 28296 non-null  float64\n",
      " 14  lesao_corporal_culposa_outras                                   28296 non-null  float64\n",
      " 15  latrocinio                                                      28296 non-null  float64\n",
      " 16  numero_de_vitimas_em_latrocinio                                 28296 non-null  float64\n",
      " 17  total_de_estupro                                                28296 non-null  float64\n",
      " 18  estupro                                                         28296 non-null  float64\n",
      " 19  estupro_de_vulneravel                                           28296 non-null  float64\n",
      " 20  total_de_roubo_outros                                           28296 non-null  float64\n",
      " 21  roubo_outros                                                    28296 non-null  float64\n",
      " 22  roubo_de_veiculo                                                28296 non-null  float64\n",
      " 23  roubo_a_banco                                                   28296 non-null  float64\n",
      " 24  roubo_de_carga                                                  28296 non-null  float64\n",
      " 25  furto_outros                                                    28296 non-null  float64\n",
      " 26  furto_de_veiculo                                                28296 non-null  float64\n",
      "dtypes: float64(23), int64(3), object(1)\n",
      "memory usage: 6.0+ MB\n"
     ]
    }
   ],
   "source": [
    "df2.info()"
   ]
  },
  {
   "cell_type": "code",
   "execution_count": 81,
   "id": "2fa31286",
   "metadata": {},
   "outputs": [
    {
     "data": {
      "text/html": [
       "<div>\n",
       "<style scoped>\n",
       "    .dataframe tbody tr th:only-of-type {\n",
       "        vertical-align: middle;\n",
       "    }\n",
       "\n",
       "    .dataframe tbody tr th {\n",
       "        vertical-align: top;\n",
       "    }\n",
       "\n",
       "    .dataframe thead th {\n",
       "        text-align: right;\n",
       "    }\n",
       "</style>\n",
       "<table border=\"1\" class=\"dataframe\">\n",
       "  <thead>\n",
       "    <tr style=\"text-align: right;\">\n",
       "      <th></th>\n",
       "      <th>ano</th>\n",
       "      <th>mes</th>\n",
       "      <th>id_municipio</th>\n",
       "      <th>homicidio_doloso</th>\n",
       "      <th>numero_de_vitimas_em_homicidio_doloso</th>\n",
       "      <th>homicidio_doloso_por_acidente_de_transito</th>\n",
       "      <th>numero_de_vitimas_em_homicidio_doloso_por_acidente_de_transito</th>\n",
       "      <th>homicidio_culposo_por_acidente_de_transito</th>\n",
       "      <th>homicidio_culposo_outros</th>\n",
       "      <th>tentativa_de_homicidio</th>\n",
       "      <th>...</th>\n",
       "      <th>total_de_estupro</th>\n",
       "      <th>estupro</th>\n",
       "      <th>estupro_de_vulneravel</th>\n",
       "      <th>total_de_roubo_outros</th>\n",
       "      <th>roubo_outros</th>\n",
       "      <th>roubo_de_veiculo</th>\n",
       "      <th>roubo_a_banco</th>\n",
       "      <th>roubo_de_carga</th>\n",
       "      <th>furto_outros</th>\n",
       "      <th>furto_de_veiculo</th>\n",
       "    </tr>\n",
       "  </thead>\n",
       "  <tbody>\n",
       "    <tr>\n",
       "      <th>count</th>\n",
       "      <td>28296.000000</td>\n",
       "      <td>28296.000000</td>\n",
       "      <td>2.829600e+04</td>\n",
       "      <td>28296.000000</td>\n",
       "      <td>28296.000000</td>\n",
       "      <td>28296.000000</td>\n",
       "      <td>28296.000000</td>\n",
       "      <td>28296.000000</td>\n",
       "      <td>28296.000000</td>\n",
       "      <td>28296.000000</td>\n",
       "      <td>...</td>\n",
       "      <td>28296.000000</td>\n",
       "      <td>28296.000000</td>\n",
       "      <td>28296.000000</td>\n",
       "      <td>28296.000000</td>\n",
       "      <td>28296.000000</td>\n",
       "      <td>28296.000000</td>\n",
       "      <td>28296.000000</td>\n",
       "      <td>28296.000000</td>\n",
       "      <td>28296.000000</td>\n",
       "      <td>28296.000000</td>\n",
       "    </tr>\n",
       "    <tr>\n",
       "      <th>mean</th>\n",
       "      <td>2019.363868</td>\n",
       "      <td>6.135284</td>\n",
       "      <td>3.528684e+06</td>\n",
       "      <td>0.369876</td>\n",
       "      <td>0.388147</td>\n",
       "      <td>0.002721</td>\n",
       "      <td>0.003322</td>\n",
       "      <td>0.414829</td>\n",
       "      <td>0.019897</td>\n",
       "      <td>0.430803</td>\n",
       "      <td>...</td>\n",
       "      <td>1.518731</td>\n",
       "      <td>0.380655</td>\n",
       "      <td>1.138076</td>\n",
       "      <td>31.258199</td>\n",
       "      <td>30.331425</td>\n",
       "      <td>5.570893</td>\n",
       "      <td>0.004100</td>\n",
       "      <td>0.922675</td>\n",
       "      <td>60.413345</td>\n",
       "      <td>10.835807</td>\n",
       "    </tr>\n",
       "    <tr>\n",
       "      <th>std</th>\n",
       "      <td>1.068854</td>\n",
       "      <td>3.361214</td>\n",
       "      <td>1.671030e+04</td>\n",
       "      <td>2.320806</td>\n",
       "      <td>2.472310</td>\n",
       "      <td>0.059684</td>\n",
       "      <td>0.076523</td>\n",
       "      <td>1.604583</td>\n",
       "      <td>0.200353</td>\n",
       "      <td>2.446447</td>\n",
       "      <td>...</td>\n",
       "      <td>8.646640</td>\n",
       "      <td>2.519891</td>\n",
       "      <td>6.227942</td>\n",
       "      <td>443.676717</td>\n",
       "      <td>431.933715</td>\n",
       "      <td>67.953904</td>\n",
       "      <td>0.086462</td>\n",
       "      <td>11.928412</td>\n",
       "      <td>652.958570</td>\n",
       "      <td>118.219215</td>\n",
       "    </tr>\n",
       "    <tr>\n",
       "      <th>min</th>\n",
       "      <td>2018.000000</td>\n",
       "      <td>1.000000</td>\n",
       "      <td>3.500105e+06</td>\n",
       "      <td>0.000000</td>\n",
       "      <td>0.000000</td>\n",
       "      <td>0.000000</td>\n",
       "      <td>0.000000</td>\n",
       "      <td>0.000000</td>\n",
       "      <td>0.000000</td>\n",
       "      <td>0.000000</td>\n",
       "      <td>...</td>\n",
       "      <td>0.000000</td>\n",
       "      <td>0.000000</td>\n",
       "      <td>0.000000</td>\n",
       "      <td>0.000000</td>\n",
       "      <td>0.000000</td>\n",
       "      <td>0.000000</td>\n",
       "      <td>0.000000</td>\n",
       "      <td>0.000000</td>\n",
       "      <td>0.000000</td>\n",
       "      <td>0.000000</td>\n",
       "    </tr>\n",
       "    <tr>\n",
       "      <th>25%</th>\n",
       "      <td>2018.000000</td>\n",
       "      <td>3.000000</td>\n",
       "      <td>3.514502e+06</td>\n",
       "      <td>0.000000</td>\n",
       "      <td>0.000000</td>\n",
       "      <td>0.000000</td>\n",
       "      <td>0.000000</td>\n",
       "      <td>0.000000</td>\n",
       "      <td>0.000000</td>\n",
       "      <td>0.000000</td>\n",
       "      <td>...</td>\n",
       "      <td>0.000000</td>\n",
       "      <td>0.000000</td>\n",
       "      <td>0.000000</td>\n",
       "      <td>0.000000</td>\n",
       "      <td>0.000000</td>\n",
       "      <td>0.000000</td>\n",
       "      <td>0.000000</td>\n",
       "      <td>0.000000</td>\n",
       "      <td>2.000000</td>\n",
       "      <td>0.000000</td>\n",
       "    </tr>\n",
       "    <tr>\n",
       "      <th>50%</th>\n",
       "      <td>2019.000000</td>\n",
       "      <td>6.000000</td>\n",
       "      <td>3.528601e+06</td>\n",
       "      <td>0.000000</td>\n",
       "      <td>0.000000</td>\n",
       "      <td>0.000000</td>\n",
       "      <td>0.000000</td>\n",
       "      <td>0.000000</td>\n",
       "      <td>0.000000</td>\n",
       "      <td>0.000000</td>\n",
       "      <td>...</td>\n",
       "      <td>0.000000</td>\n",
       "      <td>0.000000</td>\n",
       "      <td>0.000000</td>\n",
       "      <td>0.000000</td>\n",
       "      <td>0.000000</td>\n",
       "      <td>0.000000</td>\n",
       "      <td>0.000000</td>\n",
       "      <td>0.000000</td>\n",
       "      <td>8.000000</td>\n",
       "      <td>0.000000</td>\n",
       "    </tr>\n",
       "    <tr>\n",
       "      <th>75%</th>\n",
       "      <td>2020.000000</td>\n",
       "      <td>9.000000</td>\n",
       "      <td>3.543238e+06</td>\n",
       "      <td>0.000000</td>\n",
       "      <td>0.000000</td>\n",
       "      <td>0.000000</td>\n",
       "      <td>0.000000</td>\n",
       "      <td>0.000000</td>\n",
       "      <td>0.000000</td>\n",
       "      <td>0.000000</td>\n",
       "      <td>...</td>\n",
       "      <td>1.000000</td>\n",
       "      <td>0.000000</td>\n",
       "      <td>1.000000</td>\n",
       "      <td>3.000000</td>\n",
       "      <td>3.000000</td>\n",
       "      <td>1.000000</td>\n",
       "      <td>0.000000</td>\n",
       "      <td>0.000000</td>\n",
       "      <td>25.000000</td>\n",
       "      <td>2.000000</td>\n",
       "    </tr>\n",
       "    <tr>\n",
       "      <th>max</th>\n",
       "      <td>2021.000000</td>\n",
       "      <td>12.000000</td>\n",
       "      <td>3.557303e+06</td>\n",
       "      <td>75.000000</td>\n",
       "      <td>85.000000</td>\n",
       "      <td>4.000000</td>\n",
       "      <td>5.000000</td>\n",
       "      <td>66.000000</td>\n",
       "      <td>16.000000</td>\n",
       "      <td>86.000000</td>\n",
       "      <td>...</td>\n",
       "      <td>302.000000</td>\n",
       "      <td>84.000000</td>\n",
       "      <td>218.000000</td>\n",
       "      <td>14503.000000</td>\n",
       "      <td>14229.000000</td>\n",
       "      <td>2596.000000</td>\n",
       "      <td>5.000000</td>\n",
       "      <td>425.000000</td>\n",
       "      <td>25063.000000</td>\n",
       "      <td>3782.000000</td>\n",
       "    </tr>\n",
       "  </tbody>\n",
       "</table>\n",
       "<p>8 rows × 26 columns</p>\n",
       "</div>"
      ],
      "text/plain": [
       "                ano           mes  id_municipio  homicidio_doloso  \\\n",
       "count  28296.000000  28296.000000  2.829600e+04      28296.000000   \n",
       "mean    2019.363868      6.135284  3.528684e+06          0.369876   \n",
       "std        1.068854      3.361214  1.671030e+04          2.320806   \n",
       "min     2018.000000      1.000000  3.500105e+06          0.000000   \n",
       "25%     2018.000000      3.000000  3.514502e+06          0.000000   \n",
       "50%     2019.000000      6.000000  3.528601e+06          0.000000   \n",
       "75%     2020.000000      9.000000  3.543238e+06          0.000000   \n",
       "max     2021.000000     12.000000  3.557303e+06         75.000000   \n",
       "\n",
       "       numero_de_vitimas_em_homicidio_doloso  \\\n",
       "count                           28296.000000   \n",
       "mean                                0.388147   \n",
       "std                                 2.472310   \n",
       "min                                 0.000000   \n",
       "25%                                 0.000000   \n",
       "50%                                 0.000000   \n",
       "75%                                 0.000000   \n",
       "max                                85.000000   \n",
       "\n",
       "       homicidio_doloso_por_acidente_de_transito  \\\n",
       "count                               28296.000000   \n",
       "mean                                    0.002721   \n",
       "std                                     0.059684   \n",
       "min                                     0.000000   \n",
       "25%                                     0.000000   \n",
       "50%                                     0.000000   \n",
       "75%                                     0.000000   \n",
       "max                                     4.000000   \n",
       "\n",
       "       numero_de_vitimas_em_homicidio_doloso_por_acidente_de_transito  \\\n",
       "count                                       28296.000000                \n",
       "mean                                            0.003322                \n",
       "std                                             0.076523                \n",
       "min                                             0.000000                \n",
       "25%                                             0.000000                \n",
       "50%                                             0.000000                \n",
       "75%                                             0.000000                \n",
       "max                                             5.000000                \n",
       "\n",
       "       homicidio_culposo_por_acidente_de_transito  homicidio_culposo_outros  \\\n",
       "count                                28296.000000              28296.000000   \n",
       "mean                                     0.414829                  0.019897   \n",
       "std                                      1.604583                  0.200353   \n",
       "min                                      0.000000                  0.000000   \n",
       "25%                                      0.000000                  0.000000   \n",
       "50%                                      0.000000                  0.000000   \n",
       "75%                                      0.000000                  0.000000   \n",
       "max                                     66.000000                 16.000000   \n",
       "\n",
       "       tentativa_de_homicidio  ...  total_de_estupro       estupro  \\\n",
       "count            28296.000000  ...      28296.000000  28296.000000   \n",
       "mean                 0.430803  ...          1.518731      0.380655   \n",
       "std                  2.446447  ...          8.646640      2.519891   \n",
       "min                  0.000000  ...          0.000000      0.000000   \n",
       "25%                  0.000000  ...          0.000000      0.000000   \n",
       "50%                  0.000000  ...          0.000000      0.000000   \n",
       "75%                  0.000000  ...          1.000000      0.000000   \n",
       "max                 86.000000  ...        302.000000     84.000000   \n",
       "\n",
       "       estupro_de_vulneravel  total_de_roubo_outros  roubo_outros  \\\n",
       "count           28296.000000           28296.000000  28296.000000   \n",
       "mean                1.138076              31.258199     30.331425   \n",
       "std                 6.227942             443.676717    431.933715   \n",
       "min                 0.000000               0.000000      0.000000   \n",
       "25%                 0.000000               0.000000      0.000000   \n",
       "50%                 0.000000               0.000000      0.000000   \n",
       "75%                 1.000000               3.000000      3.000000   \n",
       "max               218.000000           14503.000000  14229.000000   \n",
       "\n",
       "       roubo_de_veiculo  roubo_a_banco  roubo_de_carga  furto_outros  \\\n",
       "count      28296.000000   28296.000000    28296.000000  28296.000000   \n",
       "mean           5.570893       0.004100        0.922675     60.413345   \n",
       "std           67.953904       0.086462       11.928412    652.958570   \n",
       "min            0.000000       0.000000        0.000000      0.000000   \n",
       "25%            0.000000       0.000000        0.000000      2.000000   \n",
       "50%            0.000000       0.000000        0.000000      8.000000   \n",
       "75%            1.000000       0.000000        0.000000     25.000000   \n",
       "max         2596.000000       5.000000      425.000000  25063.000000   \n",
       "\n",
       "       furto_de_veiculo  \n",
       "count      28296.000000  \n",
       "mean          10.835807  \n",
       "std          118.219215  \n",
       "min            0.000000  \n",
       "25%            0.000000  \n",
       "50%            0.000000  \n",
       "75%            2.000000  \n",
       "max         3782.000000  \n",
       "\n",
       "[8 rows x 26 columns]"
      ]
     },
     "execution_count": 81,
     "metadata": {},
     "output_type": "execute_result"
    }
   ],
   "source": [
    "df2.describe()"
   ]
  },
  {
   "cell_type": "markdown",
   "id": "00999242",
   "metadata": {},
   "source": [
    "Agrupando dados em um DataFrame no Python: Para agrupar os dados em um DataFrame, você pode usar a função groupby. Aqui está um exemplo de código que usa a função groupby para agrupar os dados em um DataFrame:\n",
    "\n",
    "agora iremos separar o nosso dataframe por anos entre 2018 até 2021:"
   ]
  },
  {
   "cell_type": "markdown",
   "id": "5f25d4c1",
   "metadata": {},
   "source": [
    "# Dados do Ano de 2018:"
   ]
  },
  {
   "cell_type": "code",
   "execution_count": 82,
   "id": "44f8b7b6",
   "metadata": {
    "scrolled": true
   },
   "outputs": [
    {
     "data": {
      "text/html": [
       "<div>\n",
       "<style scoped>\n",
       "    .dataframe tbody tr th:only-of-type {\n",
       "        vertical-align: middle;\n",
       "    }\n",
       "\n",
       "    .dataframe tbody tr th {\n",
       "        vertical-align: top;\n",
       "    }\n",
       "\n",
       "    .dataframe thead th {\n",
       "        text-align: right;\n",
       "    }\n",
       "</style>\n",
       "<table border=\"1\" class=\"dataframe\">\n",
       "  <thead>\n",
       "    <tr style=\"text-align: right;\">\n",
       "      <th></th>\n",
       "      <th>ano</th>\n",
       "      <th>mes</th>\n",
       "      <th>id_municipio</th>\n",
       "      <th>homicidio_doloso</th>\n",
       "      <th>numero_de_vitimas_em_homicidio_doloso</th>\n",
       "      <th>homicidio_doloso_por_acidente_de_transito</th>\n",
       "      <th>numero_de_vitimas_em_homicidio_doloso_por_acidente_de_transito</th>\n",
       "      <th>homicidio_culposo_por_acidente_de_transito</th>\n",
       "      <th>homicidio_culposo_outros</th>\n",
       "      <th>tentativa_de_homicidio</th>\n",
       "      <th>...</th>\n",
       "      <th>total_de_estupro</th>\n",
       "      <th>estupro</th>\n",
       "      <th>estupro_de_vulneravel</th>\n",
       "      <th>total_de_roubo_outros</th>\n",
       "      <th>roubo_outros</th>\n",
       "      <th>roubo_de_veiculo</th>\n",
       "      <th>roubo_a_banco</th>\n",
       "      <th>roubo_de_carga</th>\n",
       "      <th>furto_outros</th>\n",
       "      <th>furto_de_veiculo</th>\n",
       "    </tr>\n",
       "    <tr>\n",
       "      <th>regiao_ssp</th>\n",
       "      <th></th>\n",
       "      <th></th>\n",
       "      <th></th>\n",
       "      <th></th>\n",
       "      <th></th>\n",
       "      <th></th>\n",
       "      <th></th>\n",
       "      <th></th>\n",
       "      <th></th>\n",
       "      <th></th>\n",
       "      <th></th>\n",
       "      <th></th>\n",
       "      <th></th>\n",
       "      <th></th>\n",
       "      <th></th>\n",
       "      <th></th>\n",
       "      <th></th>\n",
       "      <th></th>\n",
       "      <th></th>\n",
       "      <th></th>\n",
       "      <th></th>\n",
       "    </tr>\n",
       "  </thead>\n",
       "  <tbody>\n",
       "    <tr>\n",
       "      <th>Araçatuba</th>\n",
       "      <td>1041288</td>\n",
       "      <td>3354</td>\n",
       "      <td>1818305304</td>\n",
       "      <td>57.0</td>\n",
       "      <td>58.0</td>\n",
       "      <td>0.0</td>\n",
       "      <td>0.0</td>\n",
       "      <td>92.0</td>\n",
       "      <td>3.0</td>\n",
       "      <td>107.0</td>\n",
       "      <td>...</td>\n",
       "      <td>246.0</td>\n",
       "      <td>62.0</td>\n",
       "      <td>184.0</td>\n",
       "      <td>811.0</td>\n",
       "      <td>804.0</td>\n",
       "      <td>34.0</td>\n",
       "      <td>1.0</td>\n",
       "      <td>6.0</td>\n",
       "      <td>7905.0</td>\n",
       "      <td>477.0</td>\n",
       "    </tr>\n",
       "    <tr>\n",
       "      <th>Bauru</th>\n",
       "      <td>1840416</td>\n",
       "      <td>5928</td>\n",
       "      <td>3215632632</td>\n",
       "      <td>97.0</td>\n",
       "      <td>98.0</td>\n",
       "      <td>2.0</td>\n",
       "      <td>3.0</td>\n",
       "      <td>192.0</td>\n",
       "      <td>14.0</td>\n",
       "      <td>145.0</td>\n",
       "      <td>...</td>\n",
       "      <td>611.0</td>\n",
       "      <td>148.0</td>\n",
       "      <td>463.0</td>\n",
       "      <td>1901.0</td>\n",
       "      <td>1864.0</td>\n",
       "      <td>156.0</td>\n",
       "      <td>1.0</td>\n",
       "      <td>36.0</td>\n",
       "      <td>19412.0</td>\n",
       "      <td>1683.0</td>\n",
       "    </tr>\n",
       "    <tr>\n",
       "      <th>Campinas</th>\n",
       "      <td>920208</td>\n",
       "      <td>2964</td>\n",
       "      <td>1609776324</td>\n",
       "      <td>247.0</td>\n",
       "      <td>257.0</td>\n",
       "      <td>1.0</td>\n",
       "      <td>1.0</td>\n",
       "      <td>349.0</td>\n",
       "      <td>8.0</td>\n",
       "      <td>243.0</td>\n",
       "      <td>...</td>\n",
       "      <td>931.0</td>\n",
       "      <td>328.0</td>\n",
       "      <td>603.0</td>\n",
       "      <td>12992.0</td>\n",
       "      <td>12413.0</td>\n",
       "      <td>5014.0</td>\n",
       "      <td>5.0</td>\n",
       "      <td>574.0</td>\n",
       "      <td>39391.0</td>\n",
       "      <td>7784.0</td>\n",
       "    </tr>\n",
       "    <tr>\n",
       "      <th>Capital</th>\n",
       "      <td>24216</td>\n",
       "      <td>78</td>\n",
       "      <td>42603696</td>\n",
       "      <td>672.0</td>\n",
       "      <td>723.0</td>\n",
       "      <td>12.0</td>\n",
       "      <td>12.0</td>\n",
       "      <td>392.0</td>\n",
       "      <td>29.0</td>\n",
       "      <td>749.0</td>\n",
       "      <td>...</td>\n",
       "      <td>2590.0</td>\n",
       "      <td>798.0</td>\n",
       "      <td>1792.0</td>\n",
       "      <td>136589.0</td>\n",
       "      <td>132332.0</td>\n",
       "      <td>26860.0</td>\n",
       "      <td>26.0</td>\n",
       "      <td>4231.0</td>\n",
       "      <td>201798.0</td>\n",
       "      <td>40395.0</td>\n",
       "    </tr>\n",
       "    <tr>\n",
       "      <th>Grande São Paulo (exclui a Capital)</th>\n",
       "      <td>920208</td>\n",
       "      <td>2964</td>\n",
       "      <td>1609102656</td>\n",
       "      <td>669.0</td>\n",
       "      <td>714.0</td>\n",
       "      <td>6.0</td>\n",
       "      <td>8.0</td>\n",
       "      <td>467.0</td>\n",
       "      <td>22.0</td>\n",
       "      <td>646.0</td>\n",
       "      <td>...</td>\n",
       "      <td>2485.0</td>\n",
       "      <td>651.0</td>\n",
       "      <td>1834.0</td>\n",
       "      <td>64233.0</td>\n",
       "      <td>61829.0</td>\n",
       "      <td>18576.0</td>\n",
       "      <td>5.0</td>\n",
       "      <td>2399.0</td>\n",
       "      <td>64283.0</td>\n",
       "      <td>23179.0</td>\n",
       "    </tr>\n",
       "    <tr>\n",
       "      <th>Piracicaba</th>\n",
       "      <td>1259232</td>\n",
       "      <td>4056</td>\n",
       "      <td>2201565300</td>\n",
       "      <td>197.0</td>\n",
       "      <td>204.0</td>\n",
       "      <td>3.0</td>\n",
       "      <td>3.0</td>\n",
       "      <td>278.0</td>\n",
       "      <td>18.0</td>\n",
       "      <td>236.0</td>\n",
       "      <td>...</td>\n",
       "      <td>689.0</td>\n",
       "      <td>199.0</td>\n",
       "      <td>490.0</td>\n",
       "      <td>8263.0</td>\n",
       "      <td>7823.0</td>\n",
       "      <td>2204.0</td>\n",
       "      <td>5.0</td>\n",
       "      <td>435.0</td>\n",
       "      <td>28935.0</td>\n",
       "      <td>6858.0</td>\n",
       "    </tr>\n",
       "    <tr>\n",
       "      <th>Presidente Prudente</th>\n",
       "      <td>1622472</td>\n",
       "      <td>5226</td>\n",
       "      <td>2838356184</td>\n",
       "      <td>58.0</td>\n",
       "      <td>59.0</td>\n",
       "      <td>0.0</td>\n",
       "      <td>0.0</td>\n",
       "      <td>111.0</td>\n",
       "      <td>7.0</td>\n",
       "      <td>88.0</td>\n",
       "      <td>...</td>\n",
       "      <td>343.0</td>\n",
       "      <td>74.0</td>\n",
       "      <td>269.0</td>\n",
       "      <td>568.0</td>\n",
       "      <td>550.0</td>\n",
       "      <td>33.0</td>\n",
       "      <td>0.0</td>\n",
       "      <td>18.0</td>\n",
       "      <td>9234.0</td>\n",
       "      <td>605.0</td>\n",
       "    </tr>\n",
       "    <tr>\n",
       "      <th>Ribeirão Preto</th>\n",
       "      <td>2252088</td>\n",
       "      <td>7254</td>\n",
       "      <td>3938603544</td>\n",
       "      <td>212.0</td>\n",
       "      <td>216.0</td>\n",
       "      <td>4.0</td>\n",
       "      <td>7.0</td>\n",
       "      <td>357.0</td>\n",
       "      <td>16.0</td>\n",
       "      <td>302.0</td>\n",
       "      <td>...</td>\n",
       "      <td>907.0</td>\n",
       "      <td>256.0</td>\n",
       "      <td>651.0</td>\n",
       "      <td>7196.0</td>\n",
       "      <td>7045.0</td>\n",
       "      <td>1292.0</td>\n",
       "      <td>0.0</td>\n",
       "      <td>151.0</td>\n",
       "      <td>41786.0</td>\n",
       "      <td>4903.0</td>\n",
       "    </tr>\n",
       "    <tr>\n",
       "      <th>Santos</th>\n",
       "      <td>581184</td>\n",
       "      <td>1872</td>\n",
       "      <td>1015714932</td>\n",
       "      <td>156.0</td>\n",
       "      <td>169.0</td>\n",
       "      <td>2.0</td>\n",
       "      <td>3.0</td>\n",
       "      <td>232.0</td>\n",
       "      <td>7.0</td>\n",
       "      <td>290.0</td>\n",
       "      <td>...</td>\n",
       "      <td>638.0</td>\n",
       "      <td>193.0</td>\n",
       "      <td>445.0</td>\n",
       "      <td>15542.0</td>\n",
       "      <td>14979.0</td>\n",
       "      <td>1992.0</td>\n",
       "      <td>3.0</td>\n",
       "      <td>560.0</td>\n",
       "      <td>26478.0</td>\n",
       "      <td>3330.0</td>\n",
       "    </tr>\n",
       "    <tr>\n",
       "      <th>Sorocaba</th>\n",
       "      <td>1888848</td>\n",
       "      <td>6084</td>\n",
       "      <td>3301052436</td>\n",
       "      <td>167.0</td>\n",
       "      <td>176.0</td>\n",
       "      <td>4.0</td>\n",
       "      <td>4.0</td>\n",
       "      <td>353.0</td>\n",
       "      <td>14.0</td>\n",
       "      <td>194.0</td>\n",
       "      <td>...</td>\n",
       "      <td>1231.0</td>\n",
       "      <td>272.0</td>\n",
       "      <td>959.0</td>\n",
       "      <td>5152.0</td>\n",
       "      <td>5022.0</td>\n",
       "      <td>1026.0</td>\n",
       "      <td>4.0</td>\n",
       "      <td>126.0</td>\n",
       "      <td>26150.0</td>\n",
       "      <td>3991.0</td>\n",
       "    </tr>\n",
       "    <tr>\n",
       "      <th>São José do Rio Preto</th>\n",
       "      <td>2300520</td>\n",
       "      <td>7410</td>\n",
       "      <td>4026865356</td>\n",
       "      <td>91.0</td>\n",
       "      <td>94.0</td>\n",
       "      <td>1.0</td>\n",
       "      <td>2.0</td>\n",
       "      <td>172.0</td>\n",
       "      <td>4.0</td>\n",
       "      <td>143.0</td>\n",
       "      <td>...</td>\n",
       "      <td>557.0</td>\n",
       "      <td>122.0</td>\n",
       "      <td>435.0</td>\n",
       "      <td>1569.0</td>\n",
       "      <td>1549.0</td>\n",
       "      <td>127.0</td>\n",
       "      <td>1.0</td>\n",
       "      <td>19.0</td>\n",
       "      <td>16274.0</td>\n",
       "      <td>1666.0</td>\n",
       "    </tr>\n",
       "    <tr>\n",
       "      <th>São José dos Campos</th>\n",
       "      <td>944424</td>\n",
       "      <td>3042</td>\n",
       "      <td>1652178324</td>\n",
       "      <td>326.0</td>\n",
       "      <td>338.0</td>\n",
       "      <td>1.0</td>\n",
       "      <td>1.0</td>\n",
       "      <td>198.0</td>\n",
       "      <td>10.0</td>\n",
       "      <td>341.0</td>\n",
       "      <td>...</td>\n",
       "      <td>715.0</td>\n",
       "      <td>181.0</td>\n",
       "      <td>534.0</td>\n",
       "      <td>8298.0</td>\n",
       "      <td>8112.0</td>\n",
       "      <td>1656.0</td>\n",
       "      <td>3.0</td>\n",
       "      <td>183.0</td>\n",
       "      <td>23185.0</td>\n",
       "      <td>4475.0</td>\n",
       "    </tr>\n",
       "  </tbody>\n",
       "</table>\n",
       "<p>12 rows × 26 columns</p>\n",
       "</div>"
      ],
      "text/plain": [
       "                                         ano   mes  id_municipio  \\\n",
       "regiao_ssp                                                         \n",
       "Araçatuba                            1041288  3354    1818305304   \n",
       "Bauru                                1840416  5928    3215632632   \n",
       "Campinas                              920208  2964    1609776324   \n",
       "Capital                                24216    78      42603696   \n",
       "Grande São Paulo (exclui a Capital)   920208  2964    1609102656   \n",
       "Piracicaba                           1259232  4056    2201565300   \n",
       "Presidente Prudente                  1622472  5226    2838356184   \n",
       "Ribeirão Preto                       2252088  7254    3938603544   \n",
       "Santos                                581184  1872    1015714932   \n",
       "Sorocaba                             1888848  6084    3301052436   \n",
       "São José do Rio Preto                2300520  7410    4026865356   \n",
       "São José dos Campos                   944424  3042    1652178324   \n",
       "\n",
       "                                     homicidio_doloso  \\\n",
       "regiao_ssp                                              \n",
       "Araçatuba                                        57.0   \n",
       "Bauru                                            97.0   \n",
       "Campinas                                        247.0   \n",
       "Capital                                         672.0   \n",
       "Grande São Paulo (exclui a Capital)             669.0   \n",
       "Piracicaba                                      197.0   \n",
       "Presidente Prudente                              58.0   \n",
       "Ribeirão Preto                                  212.0   \n",
       "Santos                                          156.0   \n",
       "Sorocaba                                        167.0   \n",
       "São José do Rio Preto                            91.0   \n",
       "São José dos Campos                             326.0   \n",
       "\n",
       "                                     numero_de_vitimas_em_homicidio_doloso  \\\n",
       "regiao_ssp                                                                   \n",
       "Araçatuba                                                             58.0   \n",
       "Bauru                                                                 98.0   \n",
       "Campinas                                                             257.0   \n",
       "Capital                                                              723.0   \n",
       "Grande São Paulo (exclui a Capital)                                  714.0   \n",
       "Piracicaba                                                           204.0   \n",
       "Presidente Prudente                                                   59.0   \n",
       "Ribeirão Preto                                                       216.0   \n",
       "Santos                                                               169.0   \n",
       "Sorocaba                                                             176.0   \n",
       "São José do Rio Preto                                                 94.0   \n",
       "São José dos Campos                                                  338.0   \n",
       "\n",
       "                                     homicidio_doloso_por_acidente_de_transito  \\\n",
       "regiao_ssp                                                                       \n",
       "Araçatuba                                                                  0.0   \n",
       "Bauru                                                                      2.0   \n",
       "Campinas                                                                   1.0   \n",
       "Capital                                                                   12.0   \n",
       "Grande São Paulo (exclui a Capital)                                        6.0   \n",
       "Piracicaba                                                                 3.0   \n",
       "Presidente Prudente                                                        0.0   \n",
       "Ribeirão Preto                                                             4.0   \n",
       "Santos                                                                     2.0   \n",
       "Sorocaba                                                                   4.0   \n",
       "São José do Rio Preto                                                      1.0   \n",
       "São José dos Campos                                                        1.0   \n",
       "\n",
       "                                     numero_de_vitimas_em_homicidio_doloso_por_acidente_de_transito  \\\n",
       "regiao_ssp                                                                                            \n",
       "Araçatuba                                                                          0.0                \n",
       "Bauru                                                                              3.0                \n",
       "Campinas                                                                           1.0                \n",
       "Capital                                                                           12.0                \n",
       "Grande São Paulo (exclui a Capital)                                                8.0                \n",
       "Piracicaba                                                                         3.0                \n",
       "Presidente Prudente                                                                0.0                \n",
       "Ribeirão Preto                                                                     7.0                \n",
       "Santos                                                                             3.0                \n",
       "Sorocaba                                                                           4.0                \n",
       "São José do Rio Preto                                                              2.0                \n",
       "São José dos Campos                                                                1.0                \n",
       "\n",
       "                                     homicidio_culposo_por_acidente_de_transito  \\\n",
       "regiao_ssp                                                                        \n",
       "Araçatuba                                                                  92.0   \n",
       "Bauru                                                                     192.0   \n",
       "Campinas                                                                  349.0   \n",
       "Capital                                                                   392.0   \n",
       "Grande São Paulo (exclui a Capital)                                       467.0   \n",
       "Piracicaba                                                                278.0   \n",
       "Presidente Prudente                                                       111.0   \n",
       "Ribeirão Preto                                                            357.0   \n",
       "Santos                                                                    232.0   \n",
       "Sorocaba                                                                  353.0   \n",
       "São José do Rio Preto                                                     172.0   \n",
       "São José dos Campos                                                       198.0   \n",
       "\n",
       "                                     homicidio_culposo_outros  \\\n",
       "regiao_ssp                                                      \n",
       "Araçatuba                                                 3.0   \n",
       "Bauru                                                    14.0   \n",
       "Campinas                                                  8.0   \n",
       "Capital                                                  29.0   \n",
       "Grande São Paulo (exclui a Capital)                      22.0   \n",
       "Piracicaba                                               18.0   \n",
       "Presidente Prudente                                       7.0   \n",
       "Ribeirão Preto                                           16.0   \n",
       "Santos                                                    7.0   \n",
       "Sorocaba                                                 14.0   \n",
       "São José do Rio Preto                                     4.0   \n",
       "São José dos Campos                                      10.0   \n",
       "\n",
       "                                     tentativa_de_homicidio  ...  \\\n",
       "regiao_ssp                                                   ...   \n",
       "Araçatuba                                             107.0  ...   \n",
       "Bauru                                                 145.0  ...   \n",
       "Campinas                                              243.0  ...   \n",
       "Capital                                               749.0  ...   \n",
       "Grande São Paulo (exclui a Capital)                   646.0  ...   \n",
       "Piracicaba                                            236.0  ...   \n",
       "Presidente Prudente                                    88.0  ...   \n",
       "Ribeirão Preto                                        302.0  ...   \n",
       "Santos                                                290.0  ...   \n",
       "Sorocaba                                              194.0  ...   \n",
       "São José do Rio Preto                                 143.0  ...   \n",
       "São José dos Campos                                   341.0  ...   \n",
       "\n",
       "                                     total_de_estupro  estupro  \\\n",
       "regiao_ssp                                                       \n",
       "Araçatuba                                       246.0     62.0   \n",
       "Bauru                                           611.0    148.0   \n",
       "Campinas                                        931.0    328.0   \n",
       "Capital                                        2590.0    798.0   \n",
       "Grande São Paulo (exclui a Capital)            2485.0    651.0   \n",
       "Piracicaba                                      689.0    199.0   \n",
       "Presidente Prudente                             343.0     74.0   \n",
       "Ribeirão Preto                                  907.0    256.0   \n",
       "Santos                                          638.0    193.0   \n",
       "Sorocaba                                       1231.0    272.0   \n",
       "São José do Rio Preto                           557.0    122.0   \n",
       "São José dos Campos                             715.0    181.0   \n",
       "\n",
       "                                     estupro_de_vulneravel  \\\n",
       "regiao_ssp                                                   \n",
       "Araçatuba                                            184.0   \n",
       "Bauru                                                463.0   \n",
       "Campinas                                             603.0   \n",
       "Capital                                             1792.0   \n",
       "Grande São Paulo (exclui a Capital)                 1834.0   \n",
       "Piracicaba                                           490.0   \n",
       "Presidente Prudente                                  269.0   \n",
       "Ribeirão Preto                                       651.0   \n",
       "Santos                                               445.0   \n",
       "Sorocaba                                             959.0   \n",
       "São José do Rio Preto                                435.0   \n",
       "São José dos Campos                                  534.0   \n",
       "\n",
       "                                     total_de_roubo_outros  roubo_outros  \\\n",
       "regiao_ssp                                                                 \n",
       "Araçatuba                                            811.0         804.0   \n",
       "Bauru                                               1901.0        1864.0   \n",
       "Campinas                                           12992.0       12413.0   \n",
       "Capital                                           136589.0      132332.0   \n",
       "Grande São Paulo (exclui a Capital)                64233.0       61829.0   \n",
       "Piracicaba                                          8263.0        7823.0   \n",
       "Presidente Prudente                                  568.0         550.0   \n",
       "Ribeirão Preto                                      7196.0        7045.0   \n",
       "Santos                                             15542.0       14979.0   \n",
       "Sorocaba                                            5152.0        5022.0   \n",
       "São José do Rio Preto                               1569.0        1549.0   \n",
       "São José dos Campos                                 8298.0        8112.0   \n",
       "\n",
       "                                     roubo_de_veiculo  roubo_a_banco  \\\n",
       "regiao_ssp                                                             \n",
       "Araçatuba                                        34.0            1.0   \n",
       "Bauru                                           156.0            1.0   \n",
       "Campinas                                       5014.0            5.0   \n",
       "Capital                                       26860.0           26.0   \n",
       "Grande São Paulo (exclui a Capital)           18576.0            5.0   \n",
       "Piracicaba                                     2204.0            5.0   \n",
       "Presidente Prudente                              33.0            0.0   \n",
       "Ribeirão Preto                                 1292.0            0.0   \n",
       "Santos                                         1992.0            3.0   \n",
       "Sorocaba                                       1026.0            4.0   \n",
       "São José do Rio Preto                           127.0            1.0   \n",
       "São José dos Campos                            1656.0            3.0   \n",
       "\n",
       "                                     roubo_de_carga  furto_outros  \\\n",
       "regiao_ssp                                                          \n",
       "Araçatuba                                       6.0        7905.0   \n",
       "Bauru                                          36.0       19412.0   \n",
       "Campinas                                      574.0       39391.0   \n",
       "Capital                                      4231.0      201798.0   \n",
       "Grande São Paulo (exclui a Capital)          2399.0       64283.0   \n",
       "Piracicaba                                    435.0       28935.0   \n",
       "Presidente Prudente                            18.0        9234.0   \n",
       "Ribeirão Preto                                151.0       41786.0   \n",
       "Santos                                        560.0       26478.0   \n",
       "Sorocaba                                      126.0       26150.0   \n",
       "São José do Rio Preto                          19.0       16274.0   \n",
       "São José dos Campos                           183.0       23185.0   \n",
       "\n",
       "                                     furto_de_veiculo  \n",
       "regiao_ssp                                             \n",
       "Araçatuba                                       477.0  \n",
       "Bauru                                          1683.0  \n",
       "Campinas                                       7784.0  \n",
       "Capital                                       40395.0  \n",
       "Grande São Paulo (exclui a Capital)           23179.0  \n",
       "Piracicaba                                     6858.0  \n",
       "Presidente Prudente                             605.0  \n",
       "Ribeirão Preto                                 4903.0  \n",
       "Santos                                         3330.0  \n",
       "Sorocaba                                       3991.0  \n",
       "São José do Rio Preto                          1666.0  \n",
       "São José dos Campos                            4475.0  \n",
       "\n",
       "[12 rows x 26 columns]"
      ]
     },
     "metadata": {},
     "output_type": "display_data"
    },
    {
     "data": {
      "application/vnd.plotly.v1+json": {
       "config": {
        "plotlyServerURL": "https://plot.ly"
       },
       "data": [
        {
         "alignmentgroup": "True",
         "hovertemplate": "variable=homicidio_doloso<br>regiao_ssp=%{x}<br>value=%{y}<extra></extra>",
         "legendgroup": "homicidio_doloso",
         "marker": {
          "color": "#636efa",
          "pattern": {
           "shape": ""
          }
         },
         "name": "homicidio_doloso",
         "offsetgroup": "homicidio_doloso",
         "orientation": "v",
         "showlegend": true,
         "textposition": "auto",
         "type": "bar",
         "x": [
          "Araçatuba",
          "Bauru",
          "Campinas",
          "Capital",
          "Grande São Paulo (exclui a Capital)",
          "Piracicaba",
          "Presidente Prudente",
          "Ribeirão Preto",
          "Santos",
          "Sorocaba",
          "São José do Rio Preto",
          "São José dos Campos"
         ],
         "xaxis": "x",
         "y": [
          57,
          97,
          247,
          672,
          669,
          197,
          58,
          212,
          156,
          167,
          91,
          326
         ],
         "yaxis": "y"
        },
        {
         "alignmentgroup": "True",
         "hovertemplate": "variable=numero_de_vitimas_em_homicidio_doloso<br>regiao_ssp=%{x}<br>value=%{y}<extra></extra>",
         "legendgroup": "numero_de_vitimas_em_homicidio_doloso",
         "marker": {
          "color": "#EF553B",
          "pattern": {
           "shape": ""
          }
         },
         "name": "numero_de_vitimas_em_homicidio_doloso",
         "offsetgroup": "numero_de_vitimas_em_homicidio_doloso",
         "orientation": "v",
         "showlegend": true,
         "textposition": "auto",
         "type": "bar",
         "x": [
          "Araçatuba",
          "Bauru",
          "Campinas",
          "Capital",
          "Grande São Paulo (exclui a Capital)",
          "Piracicaba",
          "Presidente Prudente",
          "Ribeirão Preto",
          "Santos",
          "Sorocaba",
          "São José do Rio Preto",
          "São José dos Campos"
         ],
         "xaxis": "x",
         "y": [
          58,
          98,
          257,
          723,
          714,
          204,
          59,
          216,
          169,
          176,
          94,
          338
         ],
         "yaxis": "y"
        },
        {
         "alignmentgroup": "True",
         "hovertemplate": "variable=homicidio_doloso_por_acidente_de_transito<br>regiao_ssp=%{x}<br>value=%{y}<extra></extra>",
         "legendgroup": "homicidio_doloso_por_acidente_de_transito",
         "marker": {
          "color": "#00cc96",
          "pattern": {
           "shape": ""
          }
         },
         "name": "homicidio_doloso_por_acidente_de_transito",
         "offsetgroup": "homicidio_doloso_por_acidente_de_transito",
         "orientation": "v",
         "showlegend": true,
         "textposition": "auto",
         "type": "bar",
         "x": [
          "Araçatuba",
          "Bauru",
          "Campinas",
          "Capital",
          "Grande São Paulo (exclui a Capital)",
          "Piracicaba",
          "Presidente Prudente",
          "Ribeirão Preto",
          "Santos",
          "Sorocaba",
          "São José do Rio Preto",
          "São José dos Campos"
         ],
         "xaxis": "x",
         "y": [
          0,
          2,
          1,
          12,
          6,
          3,
          0,
          4,
          2,
          4,
          1,
          1
         ],
         "yaxis": "y"
        },
        {
         "alignmentgroup": "True",
         "hovertemplate": "variable=numero_de_vitimas_em_homicidio_doloso_por_acidente_de_transito<br>regiao_ssp=%{x}<br>value=%{y}<extra></extra>",
         "legendgroup": "numero_de_vitimas_em_homicidio_doloso_por_acidente_de_transito",
         "marker": {
          "color": "#ab63fa",
          "pattern": {
           "shape": ""
          }
         },
         "name": "numero_de_vitimas_em_homicidio_doloso_por_acidente_de_transito",
         "offsetgroup": "numero_de_vitimas_em_homicidio_doloso_por_acidente_de_transito",
         "orientation": "v",
         "showlegend": true,
         "textposition": "auto",
         "type": "bar",
         "x": [
          "Araçatuba",
          "Bauru",
          "Campinas",
          "Capital",
          "Grande São Paulo (exclui a Capital)",
          "Piracicaba",
          "Presidente Prudente",
          "Ribeirão Preto",
          "Santos",
          "Sorocaba",
          "São José do Rio Preto",
          "São José dos Campos"
         ],
         "xaxis": "x",
         "y": [
          0,
          3,
          1,
          12,
          8,
          3,
          0,
          7,
          3,
          4,
          2,
          1
         ],
         "yaxis": "y"
        },
        {
         "alignmentgroup": "True",
         "hovertemplate": "variable=homicidio_culposo_por_acidente_de_transito<br>regiao_ssp=%{x}<br>value=%{y}<extra></extra>",
         "legendgroup": "homicidio_culposo_por_acidente_de_transito",
         "marker": {
          "color": "#FFA15A",
          "pattern": {
           "shape": ""
          }
         },
         "name": "homicidio_culposo_por_acidente_de_transito",
         "offsetgroup": "homicidio_culposo_por_acidente_de_transito",
         "orientation": "v",
         "showlegend": true,
         "textposition": "auto",
         "type": "bar",
         "x": [
          "Araçatuba",
          "Bauru",
          "Campinas",
          "Capital",
          "Grande São Paulo (exclui a Capital)",
          "Piracicaba",
          "Presidente Prudente",
          "Ribeirão Preto",
          "Santos",
          "Sorocaba",
          "São José do Rio Preto",
          "São José dos Campos"
         ],
         "xaxis": "x",
         "y": [
          92,
          192,
          349,
          392,
          467,
          278,
          111,
          357,
          232,
          353,
          172,
          198
         ],
         "yaxis": "y"
        },
        {
         "alignmentgroup": "True",
         "hovertemplate": "variable=homicidio_culposo_outros<br>regiao_ssp=%{x}<br>value=%{y}<extra></extra>",
         "legendgroup": "homicidio_culposo_outros",
         "marker": {
          "color": "#19d3f3",
          "pattern": {
           "shape": ""
          }
         },
         "name": "homicidio_culposo_outros",
         "offsetgroup": "homicidio_culposo_outros",
         "orientation": "v",
         "showlegend": true,
         "textposition": "auto",
         "type": "bar",
         "x": [
          "Araçatuba",
          "Bauru",
          "Campinas",
          "Capital",
          "Grande São Paulo (exclui a Capital)",
          "Piracicaba",
          "Presidente Prudente",
          "Ribeirão Preto",
          "Santos",
          "Sorocaba",
          "São José do Rio Preto",
          "São José dos Campos"
         ],
         "xaxis": "x",
         "y": [
          3,
          14,
          8,
          29,
          22,
          18,
          7,
          16,
          7,
          14,
          4,
          10
         ],
         "yaxis": "y"
        },
        {
         "alignmentgroup": "True",
         "hovertemplate": "variable=tentativa_de_homicidio<br>regiao_ssp=%{x}<br>value=%{y}<extra></extra>",
         "legendgroup": "tentativa_de_homicidio",
         "marker": {
          "color": "#FF6692",
          "pattern": {
           "shape": ""
          }
         },
         "name": "tentativa_de_homicidio",
         "offsetgroup": "tentativa_de_homicidio",
         "orientation": "v",
         "showlegend": true,
         "textposition": "auto",
         "type": "bar",
         "x": [
          "Araçatuba",
          "Bauru",
          "Campinas",
          "Capital",
          "Grande São Paulo (exclui a Capital)",
          "Piracicaba",
          "Presidente Prudente",
          "Ribeirão Preto",
          "Santos",
          "Sorocaba",
          "São José do Rio Preto",
          "São José dos Campos"
         ],
         "xaxis": "x",
         "y": [
          107,
          145,
          243,
          749,
          646,
          236,
          88,
          302,
          290,
          194,
          143,
          341
         ],
         "yaxis": "y"
        },
        {
         "alignmentgroup": "True",
         "hovertemplate": "variable=total_de_estupro<br>regiao_ssp=%{x}<br>value=%{y}<extra></extra>",
         "legendgroup": "total_de_estupro",
         "marker": {
          "color": "#B6E880",
          "pattern": {
           "shape": ""
          }
         },
         "name": "total_de_estupro",
         "offsetgroup": "total_de_estupro",
         "orientation": "v",
         "showlegend": true,
         "textposition": "auto",
         "type": "bar",
         "x": [
          "Araçatuba",
          "Bauru",
          "Campinas",
          "Capital",
          "Grande São Paulo (exclui a Capital)",
          "Piracicaba",
          "Presidente Prudente",
          "Ribeirão Preto",
          "Santos",
          "Sorocaba",
          "São José do Rio Preto",
          "São José dos Campos"
         ],
         "xaxis": "x",
         "y": [
          246,
          611,
          931,
          2590,
          2485,
          689,
          343,
          907,
          638,
          1231,
          557,
          715
         ],
         "yaxis": "y"
        },
        {
         "alignmentgroup": "True",
         "hovertemplate": "variable=estupro<br>regiao_ssp=%{x}<br>value=%{y}<extra></extra>",
         "legendgroup": "estupro",
         "marker": {
          "color": "#FF97FF",
          "pattern": {
           "shape": ""
          }
         },
         "name": "estupro",
         "offsetgroup": "estupro",
         "orientation": "v",
         "showlegend": true,
         "textposition": "auto",
         "type": "bar",
         "x": [
          "Araçatuba",
          "Bauru",
          "Campinas",
          "Capital",
          "Grande São Paulo (exclui a Capital)",
          "Piracicaba",
          "Presidente Prudente",
          "Ribeirão Preto",
          "Santos",
          "Sorocaba",
          "São José do Rio Preto",
          "São José dos Campos"
         ],
         "xaxis": "x",
         "y": [
          62,
          148,
          328,
          798,
          651,
          199,
          74,
          256,
          193,
          272,
          122,
          181
         ],
         "yaxis": "y"
        },
        {
         "alignmentgroup": "True",
         "hovertemplate": "variable=estupro_de_vulneravel<br>regiao_ssp=%{x}<br>value=%{y}<extra></extra>",
         "legendgroup": "estupro_de_vulneravel",
         "marker": {
          "color": "#FECB52",
          "pattern": {
           "shape": ""
          }
         },
         "name": "estupro_de_vulneravel",
         "offsetgroup": "estupro_de_vulneravel",
         "orientation": "v",
         "showlegend": true,
         "textposition": "auto",
         "type": "bar",
         "x": [
          "Araçatuba",
          "Bauru",
          "Campinas",
          "Capital",
          "Grande São Paulo (exclui a Capital)",
          "Piracicaba",
          "Presidente Prudente",
          "Ribeirão Preto",
          "Santos",
          "Sorocaba",
          "São José do Rio Preto",
          "São José dos Campos"
         ],
         "xaxis": "x",
         "y": [
          184,
          463,
          603,
          1792,
          1834,
          490,
          269,
          651,
          445,
          959,
          435,
          534
         ],
         "yaxis": "y"
        },
        {
         "alignmentgroup": "True",
         "hovertemplate": "variable=total_de_roubo_outros<br>regiao_ssp=%{x}<br>value=%{y}<extra></extra>",
         "legendgroup": "total_de_roubo_outros",
         "marker": {
          "color": "#636efa",
          "pattern": {
           "shape": ""
          }
         },
         "name": "total_de_roubo_outros",
         "offsetgroup": "total_de_roubo_outros",
         "orientation": "v",
         "showlegend": true,
         "textposition": "auto",
         "type": "bar",
         "x": [
          "Araçatuba",
          "Bauru",
          "Campinas",
          "Capital",
          "Grande São Paulo (exclui a Capital)",
          "Piracicaba",
          "Presidente Prudente",
          "Ribeirão Preto",
          "Santos",
          "Sorocaba",
          "São José do Rio Preto",
          "São José dos Campos"
         ],
         "xaxis": "x",
         "y": [
          811,
          1901,
          12992,
          136589,
          64233,
          8263,
          568,
          7196,
          15542,
          5152,
          1569,
          8298
         ],
         "yaxis": "y"
        },
        {
         "alignmentgroup": "True",
         "hovertemplate": "variable=roubo_outros<br>regiao_ssp=%{x}<br>value=%{y}<extra></extra>",
         "legendgroup": "roubo_outros",
         "marker": {
          "color": "#EF553B",
          "pattern": {
           "shape": ""
          }
         },
         "name": "roubo_outros",
         "offsetgroup": "roubo_outros",
         "orientation": "v",
         "showlegend": true,
         "textposition": "auto",
         "type": "bar",
         "x": [
          "Araçatuba",
          "Bauru",
          "Campinas",
          "Capital",
          "Grande São Paulo (exclui a Capital)",
          "Piracicaba",
          "Presidente Prudente",
          "Ribeirão Preto",
          "Santos",
          "Sorocaba",
          "São José do Rio Preto",
          "São José dos Campos"
         ],
         "xaxis": "x",
         "y": [
          804,
          1864,
          12413,
          132332,
          61829,
          7823,
          550,
          7045,
          14979,
          5022,
          1549,
          8112
         ],
         "yaxis": "y"
        },
        {
         "alignmentgroup": "True",
         "hovertemplate": "variable=roubo_de_veiculo<br>regiao_ssp=%{x}<br>value=%{y}<extra></extra>",
         "legendgroup": "roubo_de_veiculo",
         "marker": {
          "color": "#00cc96",
          "pattern": {
           "shape": ""
          }
         },
         "name": "roubo_de_veiculo",
         "offsetgroup": "roubo_de_veiculo",
         "orientation": "v",
         "showlegend": true,
         "textposition": "auto",
         "type": "bar",
         "x": [
          "Araçatuba",
          "Bauru",
          "Campinas",
          "Capital",
          "Grande São Paulo (exclui a Capital)",
          "Piracicaba",
          "Presidente Prudente",
          "Ribeirão Preto",
          "Santos",
          "Sorocaba",
          "São José do Rio Preto",
          "São José dos Campos"
         ],
         "xaxis": "x",
         "y": [
          34,
          156,
          5014,
          26860,
          18576,
          2204,
          33,
          1292,
          1992,
          1026,
          127,
          1656
         ],
         "yaxis": "y"
        },
        {
         "alignmentgroup": "True",
         "hovertemplate": "variable=roubo_a_banco<br>regiao_ssp=%{x}<br>value=%{y}<extra></extra>",
         "legendgroup": "roubo_a_banco",
         "marker": {
          "color": "#ab63fa",
          "pattern": {
           "shape": ""
          }
         },
         "name": "roubo_a_banco",
         "offsetgroup": "roubo_a_banco",
         "orientation": "v",
         "showlegend": true,
         "textposition": "auto",
         "type": "bar",
         "x": [
          "Araçatuba",
          "Bauru",
          "Campinas",
          "Capital",
          "Grande São Paulo (exclui a Capital)",
          "Piracicaba",
          "Presidente Prudente",
          "Ribeirão Preto",
          "Santos",
          "Sorocaba",
          "São José do Rio Preto",
          "São José dos Campos"
         ],
         "xaxis": "x",
         "y": [
          1,
          1,
          5,
          26,
          5,
          5,
          0,
          0,
          3,
          4,
          1,
          3
         ],
         "yaxis": "y"
        },
        {
         "alignmentgroup": "True",
         "hovertemplate": "variable=roubo_de_carga<br>regiao_ssp=%{x}<br>value=%{y}<extra></extra>",
         "legendgroup": "roubo_de_carga",
         "marker": {
          "color": "#FFA15A",
          "pattern": {
           "shape": ""
          }
         },
         "name": "roubo_de_carga",
         "offsetgroup": "roubo_de_carga",
         "orientation": "v",
         "showlegend": true,
         "textposition": "auto",
         "type": "bar",
         "x": [
          "Araçatuba",
          "Bauru",
          "Campinas",
          "Capital",
          "Grande São Paulo (exclui a Capital)",
          "Piracicaba",
          "Presidente Prudente",
          "Ribeirão Preto",
          "Santos",
          "Sorocaba",
          "São José do Rio Preto",
          "São José dos Campos"
         ],
         "xaxis": "x",
         "y": [
          6,
          36,
          574,
          4231,
          2399,
          435,
          18,
          151,
          560,
          126,
          19,
          183
         ],
         "yaxis": "y"
        },
        {
         "alignmentgroup": "True",
         "hovertemplate": "variable=furto_outros<br>regiao_ssp=%{x}<br>value=%{y}<extra></extra>",
         "legendgroup": "furto_outros",
         "marker": {
          "color": "#19d3f3",
          "pattern": {
           "shape": ""
          }
         },
         "name": "furto_outros",
         "offsetgroup": "furto_outros",
         "orientation": "v",
         "showlegend": true,
         "textposition": "auto",
         "type": "bar",
         "x": [
          "Araçatuba",
          "Bauru",
          "Campinas",
          "Capital",
          "Grande São Paulo (exclui a Capital)",
          "Piracicaba",
          "Presidente Prudente",
          "Ribeirão Preto",
          "Santos",
          "Sorocaba",
          "São José do Rio Preto",
          "São José dos Campos"
         ],
         "xaxis": "x",
         "y": [
          7905,
          19412,
          39391,
          201798,
          64283,
          28935,
          9234,
          41786,
          26478,
          26150,
          16274,
          23185
         ],
         "yaxis": "y"
        },
        {
         "alignmentgroup": "True",
         "hovertemplate": "variable=furto_de_veiculo<br>regiao_ssp=%{x}<br>value=%{y}<extra></extra>",
         "legendgroup": "furto_de_veiculo",
         "marker": {
          "color": "#FF6692",
          "pattern": {
           "shape": ""
          }
         },
         "name": "furto_de_veiculo",
         "offsetgroup": "furto_de_veiculo",
         "orientation": "v",
         "showlegend": true,
         "textposition": "auto",
         "type": "bar",
         "x": [
          "Araçatuba",
          "Bauru",
          "Campinas",
          "Capital",
          "Grande São Paulo (exclui a Capital)",
          "Piracicaba",
          "Presidente Prudente",
          "Ribeirão Preto",
          "Santos",
          "Sorocaba",
          "São José do Rio Preto",
          "São José dos Campos"
         ],
         "xaxis": "x",
         "y": [
          477,
          1683,
          7784,
          40395,
          23179,
          6858,
          605,
          4903,
          3330,
          3991,
          1666,
          4475
         ],
         "yaxis": "y"
        }
       ],
       "layout": {
        "barmode": "relative",
        "legend": {
         "title": {
          "text": "variable"
         },
         "tracegroupgap": 0
        },
        "margin": {
         "t": 60
        },
        "template": {
         "data": {
          "bar": [
           {
            "error_x": {
             "color": "#2a3f5f"
            },
            "error_y": {
             "color": "#2a3f5f"
            },
            "marker": {
             "line": {
              "color": "#E5ECF6",
              "width": 0.5
             },
             "pattern": {
              "fillmode": "overlay",
              "size": 10,
              "solidity": 0.2
             }
            },
            "type": "bar"
           }
          ],
          "barpolar": [
           {
            "marker": {
             "line": {
              "color": "#E5ECF6",
              "width": 0.5
             },
             "pattern": {
              "fillmode": "overlay",
              "size": 10,
              "solidity": 0.2
             }
            },
            "type": "barpolar"
           }
          ],
          "carpet": [
           {
            "aaxis": {
             "endlinecolor": "#2a3f5f",
             "gridcolor": "white",
             "linecolor": "white",
             "minorgridcolor": "white",
             "startlinecolor": "#2a3f5f"
            },
            "baxis": {
             "endlinecolor": "#2a3f5f",
             "gridcolor": "white",
             "linecolor": "white",
             "minorgridcolor": "white",
             "startlinecolor": "#2a3f5f"
            },
            "type": "carpet"
           }
          ],
          "choropleth": [
           {
            "colorbar": {
             "outlinewidth": 0,
             "ticks": ""
            },
            "type": "choropleth"
           }
          ],
          "contour": [
           {
            "colorbar": {
             "outlinewidth": 0,
             "ticks": ""
            },
            "colorscale": [
             [
              0,
              "#0d0887"
             ],
             [
              0.1111111111111111,
              "#46039f"
             ],
             [
              0.2222222222222222,
              "#7201a8"
             ],
             [
              0.3333333333333333,
              "#9c179e"
             ],
             [
              0.4444444444444444,
              "#bd3786"
             ],
             [
              0.5555555555555556,
              "#d8576b"
             ],
             [
              0.6666666666666666,
              "#ed7953"
             ],
             [
              0.7777777777777778,
              "#fb9f3a"
             ],
             [
              0.8888888888888888,
              "#fdca26"
             ],
             [
              1,
              "#f0f921"
             ]
            ],
            "type": "contour"
           }
          ],
          "contourcarpet": [
           {
            "colorbar": {
             "outlinewidth": 0,
             "ticks": ""
            },
            "type": "contourcarpet"
           }
          ],
          "heatmap": [
           {
            "colorbar": {
             "outlinewidth": 0,
             "ticks": ""
            },
            "colorscale": [
             [
              0,
              "#0d0887"
             ],
             [
              0.1111111111111111,
              "#46039f"
             ],
             [
              0.2222222222222222,
              "#7201a8"
             ],
             [
              0.3333333333333333,
              "#9c179e"
             ],
             [
              0.4444444444444444,
              "#bd3786"
             ],
             [
              0.5555555555555556,
              "#d8576b"
             ],
             [
              0.6666666666666666,
              "#ed7953"
             ],
             [
              0.7777777777777778,
              "#fb9f3a"
             ],
             [
              0.8888888888888888,
              "#fdca26"
             ],
             [
              1,
              "#f0f921"
             ]
            ],
            "type": "heatmap"
           }
          ],
          "heatmapgl": [
           {
            "colorbar": {
             "outlinewidth": 0,
             "ticks": ""
            },
            "colorscale": [
             [
              0,
              "#0d0887"
             ],
             [
              0.1111111111111111,
              "#46039f"
             ],
             [
              0.2222222222222222,
              "#7201a8"
             ],
             [
              0.3333333333333333,
              "#9c179e"
             ],
             [
              0.4444444444444444,
              "#bd3786"
             ],
             [
              0.5555555555555556,
              "#d8576b"
             ],
             [
              0.6666666666666666,
              "#ed7953"
             ],
             [
              0.7777777777777778,
              "#fb9f3a"
             ],
             [
              0.8888888888888888,
              "#fdca26"
             ],
             [
              1,
              "#f0f921"
             ]
            ],
            "type": "heatmapgl"
           }
          ],
          "histogram": [
           {
            "marker": {
             "pattern": {
              "fillmode": "overlay",
              "size": 10,
              "solidity": 0.2
             }
            },
            "type": "histogram"
           }
          ],
          "histogram2d": [
           {
            "colorbar": {
             "outlinewidth": 0,
             "ticks": ""
            },
            "colorscale": [
             [
              0,
              "#0d0887"
             ],
             [
              0.1111111111111111,
              "#46039f"
             ],
             [
              0.2222222222222222,
              "#7201a8"
             ],
             [
              0.3333333333333333,
              "#9c179e"
             ],
             [
              0.4444444444444444,
              "#bd3786"
             ],
             [
              0.5555555555555556,
              "#d8576b"
             ],
             [
              0.6666666666666666,
              "#ed7953"
             ],
             [
              0.7777777777777778,
              "#fb9f3a"
             ],
             [
              0.8888888888888888,
              "#fdca26"
             ],
             [
              1,
              "#f0f921"
             ]
            ],
            "type": "histogram2d"
           }
          ],
          "histogram2dcontour": [
           {
            "colorbar": {
             "outlinewidth": 0,
             "ticks": ""
            },
            "colorscale": [
             [
              0,
              "#0d0887"
             ],
             [
              0.1111111111111111,
              "#46039f"
             ],
             [
              0.2222222222222222,
              "#7201a8"
             ],
             [
              0.3333333333333333,
              "#9c179e"
             ],
             [
              0.4444444444444444,
              "#bd3786"
             ],
             [
              0.5555555555555556,
              "#d8576b"
             ],
             [
              0.6666666666666666,
              "#ed7953"
             ],
             [
              0.7777777777777778,
              "#fb9f3a"
             ],
             [
              0.8888888888888888,
              "#fdca26"
             ],
             [
              1,
              "#f0f921"
             ]
            ],
            "type": "histogram2dcontour"
           }
          ],
          "mesh3d": [
           {
            "colorbar": {
             "outlinewidth": 0,
             "ticks": ""
            },
            "type": "mesh3d"
           }
          ],
          "parcoords": [
           {
            "line": {
             "colorbar": {
              "outlinewidth": 0,
              "ticks": ""
             }
            },
            "type": "parcoords"
           }
          ],
          "pie": [
           {
            "automargin": true,
            "type": "pie"
           }
          ],
          "scatter": [
           {
            "fillpattern": {
             "fillmode": "overlay",
             "size": 10,
             "solidity": 0.2
            },
            "type": "scatter"
           }
          ],
          "scatter3d": [
           {
            "line": {
             "colorbar": {
              "outlinewidth": 0,
              "ticks": ""
             }
            },
            "marker": {
             "colorbar": {
              "outlinewidth": 0,
              "ticks": ""
             }
            },
            "type": "scatter3d"
           }
          ],
          "scattercarpet": [
           {
            "marker": {
             "colorbar": {
              "outlinewidth": 0,
              "ticks": ""
             }
            },
            "type": "scattercarpet"
           }
          ],
          "scattergeo": [
           {
            "marker": {
             "colorbar": {
              "outlinewidth": 0,
              "ticks": ""
             }
            },
            "type": "scattergeo"
           }
          ],
          "scattergl": [
           {
            "marker": {
             "colorbar": {
              "outlinewidth": 0,
              "ticks": ""
             }
            },
            "type": "scattergl"
           }
          ],
          "scattermapbox": [
           {
            "marker": {
             "colorbar": {
              "outlinewidth": 0,
              "ticks": ""
             }
            },
            "type": "scattermapbox"
           }
          ],
          "scatterpolar": [
           {
            "marker": {
             "colorbar": {
              "outlinewidth": 0,
              "ticks": ""
             }
            },
            "type": "scatterpolar"
           }
          ],
          "scatterpolargl": [
           {
            "marker": {
             "colorbar": {
              "outlinewidth": 0,
              "ticks": ""
             }
            },
            "type": "scatterpolargl"
           }
          ],
          "scatterternary": [
           {
            "marker": {
             "colorbar": {
              "outlinewidth": 0,
              "ticks": ""
             }
            },
            "type": "scatterternary"
           }
          ],
          "surface": [
           {
            "colorbar": {
             "outlinewidth": 0,
             "ticks": ""
            },
            "colorscale": [
             [
              0,
              "#0d0887"
             ],
             [
              0.1111111111111111,
              "#46039f"
             ],
             [
              0.2222222222222222,
              "#7201a8"
             ],
             [
              0.3333333333333333,
              "#9c179e"
             ],
             [
              0.4444444444444444,
              "#bd3786"
             ],
             [
              0.5555555555555556,
              "#d8576b"
             ],
             [
              0.6666666666666666,
              "#ed7953"
             ],
             [
              0.7777777777777778,
              "#fb9f3a"
             ],
             [
              0.8888888888888888,
              "#fdca26"
             ],
             [
              1,
              "#f0f921"
             ]
            ],
            "type": "surface"
           }
          ],
          "table": [
           {
            "cells": {
             "fill": {
              "color": "#EBF0F8"
             },
             "line": {
              "color": "white"
             }
            },
            "header": {
             "fill": {
              "color": "#C8D4E3"
             },
             "line": {
              "color": "white"
             }
            },
            "type": "table"
           }
          ]
         },
         "layout": {
          "annotationdefaults": {
           "arrowcolor": "#2a3f5f",
           "arrowhead": 0,
           "arrowwidth": 1
          },
          "autotypenumbers": "strict",
          "coloraxis": {
           "colorbar": {
            "outlinewidth": 0,
            "ticks": ""
           }
          },
          "colorscale": {
           "diverging": [
            [
             0,
             "#8e0152"
            ],
            [
             0.1,
             "#c51b7d"
            ],
            [
             0.2,
             "#de77ae"
            ],
            [
             0.3,
             "#f1b6da"
            ],
            [
             0.4,
             "#fde0ef"
            ],
            [
             0.5,
             "#f7f7f7"
            ],
            [
             0.6,
             "#e6f5d0"
            ],
            [
             0.7,
             "#b8e186"
            ],
            [
             0.8,
             "#7fbc41"
            ],
            [
             0.9,
             "#4d9221"
            ],
            [
             1,
             "#276419"
            ]
           ],
           "sequential": [
            [
             0,
             "#0d0887"
            ],
            [
             0.1111111111111111,
             "#46039f"
            ],
            [
             0.2222222222222222,
             "#7201a8"
            ],
            [
             0.3333333333333333,
             "#9c179e"
            ],
            [
             0.4444444444444444,
             "#bd3786"
            ],
            [
             0.5555555555555556,
             "#d8576b"
            ],
            [
             0.6666666666666666,
             "#ed7953"
            ],
            [
             0.7777777777777778,
             "#fb9f3a"
            ],
            [
             0.8888888888888888,
             "#fdca26"
            ],
            [
             1,
             "#f0f921"
            ]
           ],
           "sequentialminus": [
            [
             0,
             "#0d0887"
            ],
            [
             0.1111111111111111,
             "#46039f"
            ],
            [
             0.2222222222222222,
             "#7201a8"
            ],
            [
             0.3333333333333333,
             "#9c179e"
            ],
            [
             0.4444444444444444,
             "#bd3786"
            ],
            [
             0.5555555555555556,
             "#d8576b"
            ],
            [
             0.6666666666666666,
             "#ed7953"
            ],
            [
             0.7777777777777778,
             "#fb9f3a"
            ],
            [
             0.8888888888888888,
             "#fdca26"
            ],
            [
             1,
             "#f0f921"
            ]
           ]
          },
          "colorway": [
           "#636efa",
           "#EF553B",
           "#00cc96",
           "#ab63fa",
           "#FFA15A",
           "#19d3f3",
           "#FF6692",
           "#B6E880",
           "#FF97FF",
           "#FECB52"
          ],
          "font": {
           "color": "#2a3f5f"
          },
          "geo": {
           "bgcolor": "white",
           "lakecolor": "white",
           "landcolor": "#E5ECF6",
           "showlakes": true,
           "showland": true,
           "subunitcolor": "white"
          },
          "hoverlabel": {
           "align": "left"
          },
          "hovermode": "closest",
          "mapbox": {
           "style": "light"
          },
          "paper_bgcolor": "white",
          "plot_bgcolor": "#E5ECF6",
          "polar": {
           "angularaxis": {
            "gridcolor": "white",
            "linecolor": "white",
            "ticks": ""
           },
           "bgcolor": "#E5ECF6",
           "radialaxis": {
            "gridcolor": "white",
            "linecolor": "white",
            "ticks": ""
           }
          },
          "scene": {
           "xaxis": {
            "backgroundcolor": "#E5ECF6",
            "gridcolor": "white",
            "gridwidth": 2,
            "linecolor": "white",
            "showbackground": true,
            "ticks": "",
            "zerolinecolor": "white"
           },
           "yaxis": {
            "backgroundcolor": "#E5ECF6",
            "gridcolor": "white",
            "gridwidth": 2,
            "linecolor": "white",
            "showbackground": true,
            "ticks": "",
            "zerolinecolor": "white"
           },
           "zaxis": {
            "backgroundcolor": "#E5ECF6",
            "gridcolor": "white",
            "gridwidth": 2,
            "linecolor": "white",
            "showbackground": true,
            "ticks": "",
            "zerolinecolor": "white"
           }
          },
          "shapedefaults": {
           "line": {
            "color": "#2a3f5f"
           }
          },
          "ternary": {
           "aaxis": {
            "gridcolor": "white",
            "linecolor": "white",
            "ticks": ""
           },
           "baxis": {
            "gridcolor": "white",
            "linecolor": "white",
            "ticks": ""
           },
           "bgcolor": "#E5ECF6",
           "caxis": {
            "gridcolor": "white",
            "linecolor": "white",
            "ticks": ""
           }
          },
          "title": {
           "x": 0.05
          },
          "xaxis": {
           "automargin": true,
           "gridcolor": "white",
           "linecolor": "white",
           "ticks": "",
           "title": {
            "standoff": 15
           },
           "zerolinecolor": "white",
           "zerolinewidth": 2
          },
          "yaxis": {
           "automargin": true,
           "gridcolor": "white",
           "linecolor": "white",
           "ticks": "",
           "title": {
            "standoff": 15
           },
           "zerolinecolor": "white",
           "zerolinewidth": 2
          }
         }
        },
        "title": {
         "text": "tabela 2018"
        },
        "xaxis": {
         "anchor": "y",
         "domain": [
          0,
          1
         ],
         "title": {
          "text": "regiões de São Paulo"
         }
        },
        "yaxis": {
         "anchor": "x",
         "domain": [
          0,
          1
         ],
         "title": {
          "text": "taxas de crimes em 2018"
         }
        }
       }
      },
      "text/html": [
       "<div>                            <div id=\"1c63008f-23a0-415b-97fb-d1b7fa73b733\" class=\"plotly-graph-div\" style=\"height:525px; width:100%;\"></div>            <script type=\"text/javascript\">                require([\"plotly\"], function(Plotly) {                    window.PLOTLYENV=window.PLOTLYENV || {};                                    if (document.getElementById(\"1c63008f-23a0-415b-97fb-d1b7fa73b733\")) {                    Plotly.newPlot(                        \"1c63008f-23a0-415b-97fb-d1b7fa73b733\",                        [{\"alignmentgroup\":\"True\",\"hovertemplate\":\"variable=homicidio_doloso<br>regiao_ssp=%{x}<br>value=%{y}<extra></extra>\",\"legendgroup\":\"homicidio_doloso\",\"marker\":{\"color\":\"#636efa\",\"pattern\":{\"shape\":\"\"}},\"name\":\"homicidio_doloso\",\"offsetgroup\":\"homicidio_doloso\",\"orientation\":\"v\",\"showlegend\":true,\"textposition\":\"auto\",\"x\":[\"Ara\\u00e7atuba\",\"Bauru\",\"Campinas\",\"Capital\",\"Grande S\\u00e3o Paulo (exclui a Capital)\",\"Piracicaba\",\"Presidente Prudente\",\"Ribeir\\u00e3o Preto\",\"Santos\",\"Sorocaba\",\"S\\u00e3o Jos\\u00e9 do Rio Preto\",\"S\\u00e3o Jos\\u00e9 dos Campos\"],\"xaxis\":\"x\",\"y\":[57.0,97.0,247.0,672.0,669.0,197.0,58.0,212.0,156.0,167.0,91.0,326.0],\"yaxis\":\"y\",\"type\":\"bar\"},{\"alignmentgroup\":\"True\",\"hovertemplate\":\"variable=numero_de_vitimas_em_homicidio_doloso<br>regiao_ssp=%{x}<br>value=%{y}<extra></extra>\",\"legendgroup\":\"numero_de_vitimas_em_homicidio_doloso\",\"marker\":{\"color\":\"#EF553B\",\"pattern\":{\"shape\":\"\"}},\"name\":\"numero_de_vitimas_em_homicidio_doloso\",\"offsetgroup\":\"numero_de_vitimas_em_homicidio_doloso\",\"orientation\":\"v\",\"showlegend\":true,\"textposition\":\"auto\",\"x\":[\"Ara\\u00e7atuba\",\"Bauru\",\"Campinas\",\"Capital\",\"Grande S\\u00e3o Paulo (exclui a Capital)\",\"Piracicaba\",\"Presidente Prudente\",\"Ribeir\\u00e3o Preto\",\"Santos\",\"Sorocaba\",\"S\\u00e3o Jos\\u00e9 do Rio Preto\",\"S\\u00e3o Jos\\u00e9 dos Campos\"],\"xaxis\":\"x\",\"y\":[58.0,98.0,257.0,723.0,714.0,204.0,59.0,216.0,169.0,176.0,94.0,338.0],\"yaxis\":\"y\",\"type\":\"bar\"},{\"alignmentgroup\":\"True\",\"hovertemplate\":\"variable=homicidio_doloso_por_acidente_de_transito<br>regiao_ssp=%{x}<br>value=%{y}<extra></extra>\",\"legendgroup\":\"homicidio_doloso_por_acidente_de_transito\",\"marker\":{\"color\":\"#00cc96\",\"pattern\":{\"shape\":\"\"}},\"name\":\"homicidio_doloso_por_acidente_de_transito\",\"offsetgroup\":\"homicidio_doloso_por_acidente_de_transito\",\"orientation\":\"v\",\"showlegend\":true,\"textposition\":\"auto\",\"x\":[\"Ara\\u00e7atuba\",\"Bauru\",\"Campinas\",\"Capital\",\"Grande S\\u00e3o Paulo (exclui a Capital)\",\"Piracicaba\",\"Presidente Prudente\",\"Ribeir\\u00e3o Preto\",\"Santos\",\"Sorocaba\",\"S\\u00e3o Jos\\u00e9 do Rio Preto\",\"S\\u00e3o Jos\\u00e9 dos Campos\"],\"xaxis\":\"x\",\"y\":[0.0,2.0,1.0,12.0,6.0,3.0,0.0,4.0,2.0,4.0,1.0,1.0],\"yaxis\":\"y\",\"type\":\"bar\"},{\"alignmentgroup\":\"True\",\"hovertemplate\":\"variable=numero_de_vitimas_em_homicidio_doloso_por_acidente_de_transito<br>regiao_ssp=%{x}<br>value=%{y}<extra></extra>\",\"legendgroup\":\"numero_de_vitimas_em_homicidio_doloso_por_acidente_de_transito\",\"marker\":{\"color\":\"#ab63fa\",\"pattern\":{\"shape\":\"\"}},\"name\":\"numero_de_vitimas_em_homicidio_doloso_por_acidente_de_transito\",\"offsetgroup\":\"numero_de_vitimas_em_homicidio_doloso_por_acidente_de_transito\",\"orientation\":\"v\",\"showlegend\":true,\"textposition\":\"auto\",\"x\":[\"Ara\\u00e7atuba\",\"Bauru\",\"Campinas\",\"Capital\",\"Grande S\\u00e3o Paulo (exclui a Capital)\",\"Piracicaba\",\"Presidente Prudente\",\"Ribeir\\u00e3o Preto\",\"Santos\",\"Sorocaba\",\"S\\u00e3o Jos\\u00e9 do Rio Preto\",\"S\\u00e3o Jos\\u00e9 dos Campos\"],\"xaxis\":\"x\",\"y\":[0.0,3.0,1.0,12.0,8.0,3.0,0.0,7.0,3.0,4.0,2.0,1.0],\"yaxis\":\"y\",\"type\":\"bar\"},{\"alignmentgroup\":\"True\",\"hovertemplate\":\"variable=homicidio_culposo_por_acidente_de_transito<br>regiao_ssp=%{x}<br>value=%{y}<extra></extra>\",\"legendgroup\":\"homicidio_culposo_por_acidente_de_transito\",\"marker\":{\"color\":\"#FFA15A\",\"pattern\":{\"shape\":\"\"}},\"name\":\"homicidio_culposo_por_acidente_de_transito\",\"offsetgroup\":\"homicidio_culposo_por_acidente_de_transito\",\"orientation\":\"v\",\"showlegend\":true,\"textposition\":\"auto\",\"x\":[\"Ara\\u00e7atuba\",\"Bauru\",\"Campinas\",\"Capital\",\"Grande S\\u00e3o Paulo (exclui a Capital)\",\"Piracicaba\",\"Presidente Prudente\",\"Ribeir\\u00e3o Preto\",\"Santos\",\"Sorocaba\",\"S\\u00e3o Jos\\u00e9 do Rio Preto\",\"S\\u00e3o Jos\\u00e9 dos Campos\"],\"xaxis\":\"x\",\"y\":[92.0,192.0,349.0,392.0,467.0,278.0,111.0,357.0,232.0,353.0,172.0,198.0],\"yaxis\":\"y\",\"type\":\"bar\"},{\"alignmentgroup\":\"True\",\"hovertemplate\":\"variable=homicidio_culposo_outros<br>regiao_ssp=%{x}<br>value=%{y}<extra></extra>\",\"legendgroup\":\"homicidio_culposo_outros\",\"marker\":{\"color\":\"#19d3f3\",\"pattern\":{\"shape\":\"\"}},\"name\":\"homicidio_culposo_outros\",\"offsetgroup\":\"homicidio_culposo_outros\",\"orientation\":\"v\",\"showlegend\":true,\"textposition\":\"auto\",\"x\":[\"Ara\\u00e7atuba\",\"Bauru\",\"Campinas\",\"Capital\",\"Grande S\\u00e3o Paulo (exclui a Capital)\",\"Piracicaba\",\"Presidente Prudente\",\"Ribeir\\u00e3o Preto\",\"Santos\",\"Sorocaba\",\"S\\u00e3o Jos\\u00e9 do Rio Preto\",\"S\\u00e3o Jos\\u00e9 dos Campos\"],\"xaxis\":\"x\",\"y\":[3.0,14.0,8.0,29.0,22.0,18.0,7.0,16.0,7.0,14.0,4.0,10.0],\"yaxis\":\"y\",\"type\":\"bar\"},{\"alignmentgroup\":\"True\",\"hovertemplate\":\"variable=tentativa_de_homicidio<br>regiao_ssp=%{x}<br>value=%{y}<extra></extra>\",\"legendgroup\":\"tentativa_de_homicidio\",\"marker\":{\"color\":\"#FF6692\",\"pattern\":{\"shape\":\"\"}},\"name\":\"tentativa_de_homicidio\",\"offsetgroup\":\"tentativa_de_homicidio\",\"orientation\":\"v\",\"showlegend\":true,\"textposition\":\"auto\",\"x\":[\"Ara\\u00e7atuba\",\"Bauru\",\"Campinas\",\"Capital\",\"Grande S\\u00e3o Paulo (exclui a Capital)\",\"Piracicaba\",\"Presidente Prudente\",\"Ribeir\\u00e3o Preto\",\"Santos\",\"Sorocaba\",\"S\\u00e3o Jos\\u00e9 do Rio Preto\",\"S\\u00e3o Jos\\u00e9 dos Campos\"],\"xaxis\":\"x\",\"y\":[107.0,145.0,243.0,749.0,646.0,236.0,88.0,302.0,290.0,194.0,143.0,341.0],\"yaxis\":\"y\",\"type\":\"bar\"},{\"alignmentgroup\":\"True\",\"hovertemplate\":\"variable=total_de_estupro<br>regiao_ssp=%{x}<br>value=%{y}<extra></extra>\",\"legendgroup\":\"total_de_estupro\",\"marker\":{\"color\":\"#B6E880\",\"pattern\":{\"shape\":\"\"}},\"name\":\"total_de_estupro\",\"offsetgroup\":\"total_de_estupro\",\"orientation\":\"v\",\"showlegend\":true,\"textposition\":\"auto\",\"x\":[\"Ara\\u00e7atuba\",\"Bauru\",\"Campinas\",\"Capital\",\"Grande S\\u00e3o Paulo (exclui a Capital)\",\"Piracicaba\",\"Presidente Prudente\",\"Ribeir\\u00e3o Preto\",\"Santos\",\"Sorocaba\",\"S\\u00e3o Jos\\u00e9 do Rio Preto\",\"S\\u00e3o Jos\\u00e9 dos Campos\"],\"xaxis\":\"x\",\"y\":[246.0,611.0,931.0,2590.0,2485.0,689.0,343.0,907.0,638.0,1231.0,557.0,715.0],\"yaxis\":\"y\",\"type\":\"bar\"},{\"alignmentgroup\":\"True\",\"hovertemplate\":\"variable=estupro<br>regiao_ssp=%{x}<br>value=%{y}<extra></extra>\",\"legendgroup\":\"estupro\",\"marker\":{\"color\":\"#FF97FF\",\"pattern\":{\"shape\":\"\"}},\"name\":\"estupro\",\"offsetgroup\":\"estupro\",\"orientation\":\"v\",\"showlegend\":true,\"textposition\":\"auto\",\"x\":[\"Ara\\u00e7atuba\",\"Bauru\",\"Campinas\",\"Capital\",\"Grande S\\u00e3o Paulo (exclui a Capital)\",\"Piracicaba\",\"Presidente Prudente\",\"Ribeir\\u00e3o Preto\",\"Santos\",\"Sorocaba\",\"S\\u00e3o Jos\\u00e9 do Rio Preto\",\"S\\u00e3o Jos\\u00e9 dos Campos\"],\"xaxis\":\"x\",\"y\":[62.0,148.0,328.0,798.0,651.0,199.0,74.0,256.0,193.0,272.0,122.0,181.0],\"yaxis\":\"y\",\"type\":\"bar\"},{\"alignmentgroup\":\"True\",\"hovertemplate\":\"variable=estupro_de_vulneravel<br>regiao_ssp=%{x}<br>value=%{y}<extra></extra>\",\"legendgroup\":\"estupro_de_vulneravel\",\"marker\":{\"color\":\"#FECB52\",\"pattern\":{\"shape\":\"\"}},\"name\":\"estupro_de_vulneravel\",\"offsetgroup\":\"estupro_de_vulneravel\",\"orientation\":\"v\",\"showlegend\":true,\"textposition\":\"auto\",\"x\":[\"Ara\\u00e7atuba\",\"Bauru\",\"Campinas\",\"Capital\",\"Grande S\\u00e3o Paulo (exclui a Capital)\",\"Piracicaba\",\"Presidente Prudente\",\"Ribeir\\u00e3o Preto\",\"Santos\",\"Sorocaba\",\"S\\u00e3o Jos\\u00e9 do Rio Preto\",\"S\\u00e3o Jos\\u00e9 dos Campos\"],\"xaxis\":\"x\",\"y\":[184.0,463.0,603.0,1792.0,1834.0,490.0,269.0,651.0,445.0,959.0,435.0,534.0],\"yaxis\":\"y\",\"type\":\"bar\"},{\"alignmentgroup\":\"True\",\"hovertemplate\":\"variable=total_de_roubo_outros<br>regiao_ssp=%{x}<br>value=%{y}<extra></extra>\",\"legendgroup\":\"total_de_roubo_outros\",\"marker\":{\"color\":\"#636efa\",\"pattern\":{\"shape\":\"\"}},\"name\":\"total_de_roubo_outros\",\"offsetgroup\":\"total_de_roubo_outros\",\"orientation\":\"v\",\"showlegend\":true,\"textposition\":\"auto\",\"x\":[\"Ara\\u00e7atuba\",\"Bauru\",\"Campinas\",\"Capital\",\"Grande S\\u00e3o Paulo (exclui a Capital)\",\"Piracicaba\",\"Presidente Prudente\",\"Ribeir\\u00e3o Preto\",\"Santos\",\"Sorocaba\",\"S\\u00e3o Jos\\u00e9 do Rio Preto\",\"S\\u00e3o Jos\\u00e9 dos Campos\"],\"xaxis\":\"x\",\"y\":[811.0,1901.0,12992.0,136589.0,64233.0,8263.0,568.0,7196.0,15542.0,5152.0,1569.0,8298.0],\"yaxis\":\"y\",\"type\":\"bar\"},{\"alignmentgroup\":\"True\",\"hovertemplate\":\"variable=roubo_outros<br>regiao_ssp=%{x}<br>value=%{y}<extra></extra>\",\"legendgroup\":\"roubo_outros\",\"marker\":{\"color\":\"#EF553B\",\"pattern\":{\"shape\":\"\"}},\"name\":\"roubo_outros\",\"offsetgroup\":\"roubo_outros\",\"orientation\":\"v\",\"showlegend\":true,\"textposition\":\"auto\",\"x\":[\"Ara\\u00e7atuba\",\"Bauru\",\"Campinas\",\"Capital\",\"Grande S\\u00e3o Paulo (exclui a Capital)\",\"Piracicaba\",\"Presidente Prudente\",\"Ribeir\\u00e3o Preto\",\"Santos\",\"Sorocaba\",\"S\\u00e3o Jos\\u00e9 do Rio Preto\",\"S\\u00e3o Jos\\u00e9 dos Campos\"],\"xaxis\":\"x\",\"y\":[804.0,1864.0,12413.0,132332.0,61829.0,7823.0,550.0,7045.0,14979.0,5022.0,1549.0,8112.0],\"yaxis\":\"y\",\"type\":\"bar\"},{\"alignmentgroup\":\"True\",\"hovertemplate\":\"variable=roubo_de_veiculo<br>regiao_ssp=%{x}<br>value=%{y}<extra></extra>\",\"legendgroup\":\"roubo_de_veiculo\",\"marker\":{\"color\":\"#00cc96\",\"pattern\":{\"shape\":\"\"}},\"name\":\"roubo_de_veiculo\",\"offsetgroup\":\"roubo_de_veiculo\",\"orientation\":\"v\",\"showlegend\":true,\"textposition\":\"auto\",\"x\":[\"Ara\\u00e7atuba\",\"Bauru\",\"Campinas\",\"Capital\",\"Grande S\\u00e3o Paulo (exclui a Capital)\",\"Piracicaba\",\"Presidente Prudente\",\"Ribeir\\u00e3o Preto\",\"Santos\",\"Sorocaba\",\"S\\u00e3o Jos\\u00e9 do Rio Preto\",\"S\\u00e3o Jos\\u00e9 dos Campos\"],\"xaxis\":\"x\",\"y\":[34.0,156.0,5014.0,26860.0,18576.0,2204.0,33.0,1292.0,1992.0,1026.0,127.0,1656.0],\"yaxis\":\"y\",\"type\":\"bar\"},{\"alignmentgroup\":\"True\",\"hovertemplate\":\"variable=roubo_a_banco<br>regiao_ssp=%{x}<br>value=%{y}<extra></extra>\",\"legendgroup\":\"roubo_a_banco\",\"marker\":{\"color\":\"#ab63fa\",\"pattern\":{\"shape\":\"\"}},\"name\":\"roubo_a_banco\",\"offsetgroup\":\"roubo_a_banco\",\"orientation\":\"v\",\"showlegend\":true,\"textposition\":\"auto\",\"x\":[\"Ara\\u00e7atuba\",\"Bauru\",\"Campinas\",\"Capital\",\"Grande S\\u00e3o Paulo (exclui a Capital)\",\"Piracicaba\",\"Presidente Prudente\",\"Ribeir\\u00e3o Preto\",\"Santos\",\"Sorocaba\",\"S\\u00e3o Jos\\u00e9 do Rio Preto\",\"S\\u00e3o Jos\\u00e9 dos Campos\"],\"xaxis\":\"x\",\"y\":[1.0,1.0,5.0,26.0,5.0,5.0,0.0,0.0,3.0,4.0,1.0,3.0],\"yaxis\":\"y\",\"type\":\"bar\"},{\"alignmentgroup\":\"True\",\"hovertemplate\":\"variable=roubo_de_carga<br>regiao_ssp=%{x}<br>value=%{y}<extra></extra>\",\"legendgroup\":\"roubo_de_carga\",\"marker\":{\"color\":\"#FFA15A\",\"pattern\":{\"shape\":\"\"}},\"name\":\"roubo_de_carga\",\"offsetgroup\":\"roubo_de_carga\",\"orientation\":\"v\",\"showlegend\":true,\"textposition\":\"auto\",\"x\":[\"Ara\\u00e7atuba\",\"Bauru\",\"Campinas\",\"Capital\",\"Grande S\\u00e3o Paulo (exclui a Capital)\",\"Piracicaba\",\"Presidente Prudente\",\"Ribeir\\u00e3o Preto\",\"Santos\",\"Sorocaba\",\"S\\u00e3o Jos\\u00e9 do Rio Preto\",\"S\\u00e3o Jos\\u00e9 dos Campos\"],\"xaxis\":\"x\",\"y\":[6.0,36.0,574.0,4231.0,2399.0,435.0,18.0,151.0,560.0,126.0,19.0,183.0],\"yaxis\":\"y\",\"type\":\"bar\"},{\"alignmentgroup\":\"True\",\"hovertemplate\":\"variable=furto_outros<br>regiao_ssp=%{x}<br>value=%{y}<extra></extra>\",\"legendgroup\":\"furto_outros\",\"marker\":{\"color\":\"#19d3f3\",\"pattern\":{\"shape\":\"\"}},\"name\":\"furto_outros\",\"offsetgroup\":\"furto_outros\",\"orientation\":\"v\",\"showlegend\":true,\"textposition\":\"auto\",\"x\":[\"Ara\\u00e7atuba\",\"Bauru\",\"Campinas\",\"Capital\",\"Grande S\\u00e3o Paulo (exclui a Capital)\",\"Piracicaba\",\"Presidente Prudente\",\"Ribeir\\u00e3o Preto\",\"Santos\",\"Sorocaba\",\"S\\u00e3o Jos\\u00e9 do Rio Preto\",\"S\\u00e3o Jos\\u00e9 dos Campos\"],\"xaxis\":\"x\",\"y\":[7905.0,19412.0,39391.0,201798.0,64283.0,28935.0,9234.0,41786.0,26478.0,26150.0,16274.0,23185.0],\"yaxis\":\"y\",\"type\":\"bar\"},{\"alignmentgroup\":\"True\",\"hovertemplate\":\"variable=furto_de_veiculo<br>regiao_ssp=%{x}<br>value=%{y}<extra></extra>\",\"legendgroup\":\"furto_de_veiculo\",\"marker\":{\"color\":\"#FF6692\",\"pattern\":{\"shape\":\"\"}},\"name\":\"furto_de_veiculo\",\"offsetgroup\":\"furto_de_veiculo\",\"orientation\":\"v\",\"showlegend\":true,\"textposition\":\"auto\",\"x\":[\"Ara\\u00e7atuba\",\"Bauru\",\"Campinas\",\"Capital\",\"Grande S\\u00e3o Paulo (exclui a Capital)\",\"Piracicaba\",\"Presidente Prudente\",\"Ribeir\\u00e3o Preto\",\"Santos\",\"Sorocaba\",\"S\\u00e3o Jos\\u00e9 do Rio Preto\",\"S\\u00e3o Jos\\u00e9 dos Campos\"],\"xaxis\":\"x\",\"y\":[477.0,1683.0,7784.0,40395.0,23179.0,6858.0,605.0,4903.0,3330.0,3991.0,1666.0,4475.0],\"yaxis\":\"y\",\"type\":\"bar\"}],                        {\"template\":{\"data\":{\"histogram2dcontour\":[{\"type\":\"histogram2dcontour\",\"colorbar\":{\"outlinewidth\":0,\"ticks\":\"\"},\"colorscale\":[[0.0,\"#0d0887\"],[0.1111111111111111,\"#46039f\"],[0.2222222222222222,\"#7201a8\"],[0.3333333333333333,\"#9c179e\"],[0.4444444444444444,\"#bd3786\"],[0.5555555555555556,\"#d8576b\"],[0.6666666666666666,\"#ed7953\"],[0.7777777777777778,\"#fb9f3a\"],[0.8888888888888888,\"#fdca26\"],[1.0,\"#f0f921\"]]}],\"choropleth\":[{\"type\":\"choropleth\",\"colorbar\":{\"outlinewidth\":0,\"ticks\":\"\"}}],\"histogram2d\":[{\"type\":\"histogram2d\",\"colorbar\":{\"outlinewidth\":0,\"ticks\":\"\"},\"colorscale\":[[0.0,\"#0d0887\"],[0.1111111111111111,\"#46039f\"],[0.2222222222222222,\"#7201a8\"],[0.3333333333333333,\"#9c179e\"],[0.4444444444444444,\"#bd3786\"],[0.5555555555555556,\"#d8576b\"],[0.6666666666666666,\"#ed7953\"],[0.7777777777777778,\"#fb9f3a\"],[0.8888888888888888,\"#fdca26\"],[1.0,\"#f0f921\"]]}],\"heatmap\":[{\"type\":\"heatmap\",\"colorbar\":{\"outlinewidth\":0,\"ticks\":\"\"},\"colorscale\":[[0.0,\"#0d0887\"],[0.1111111111111111,\"#46039f\"],[0.2222222222222222,\"#7201a8\"],[0.3333333333333333,\"#9c179e\"],[0.4444444444444444,\"#bd3786\"],[0.5555555555555556,\"#d8576b\"],[0.6666666666666666,\"#ed7953\"],[0.7777777777777778,\"#fb9f3a\"],[0.8888888888888888,\"#fdca26\"],[1.0,\"#f0f921\"]]}],\"heatmapgl\":[{\"type\":\"heatmapgl\",\"colorbar\":{\"outlinewidth\":0,\"ticks\":\"\"},\"colorscale\":[[0.0,\"#0d0887\"],[0.1111111111111111,\"#46039f\"],[0.2222222222222222,\"#7201a8\"],[0.3333333333333333,\"#9c179e\"],[0.4444444444444444,\"#bd3786\"],[0.5555555555555556,\"#d8576b\"],[0.6666666666666666,\"#ed7953\"],[0.7777777777777778,\"#fb9f3a\"],[0.8888888888888888,\"#fdca26\"],[1.0,\"#f0f921\"]]}],\"contourcarpet\":[{\"type\":\"contourcarpet\",\"colorbar\":{\"outlinewidth\":0,\"ticks\":\"\"}}],\"contour\":[{\"type\":\"contour\",\"colorbar\":{\"outlinewidth\":0,\"ticks\":\"\"},\"colorscale\":[[0.0,\"#0d0887\"],[0.1111111111111111,\"#46039f\"],[0.2222222222222222,\"#7201a8\"],[0.3333333333333333,\"#9c179e\"],[0.4444444444444444,\"#bd3786\"],[0.5555555555555556,\"#d8576b\"],[0.6666666666666666,\"#ed7953\"],[0.7777777777777778,\"#fb9f3a\"],[0.8888888888888888,\"#fdca26\"],[1.0,\"#f0f921\"]]}],\"surface\":[{\"type\":\"surface\",\"colorbar\":{\"outlinewidth\":0,\"ticks\":\"\"},\"colorscale\":[[0.0,\"#0d0887\"],[0.1111111111111111,\"#46039f\"],[0.2222222222222222,\"#7201a8\"],[0.3333333333333333,\"#9c179e\"],[0.4444444444444444,\"#bd3786\"],[0.5555555555555556,\"#d8576b\"],[0.6666666666666666,\"#ed7953\"],[0.7777777777777778,\"#fb9f3a\"],[0.8888888888888888,\"#fdca26\"],[1.0,\"#f0f921\"]]}],\"mesh3d\":[{\"type\":\"mesh3d\",\"colorbar\":{\"outlinewidth\":0,\"ticks\":\"\"}}],\"scatter\":[{\"fillpattern\":{\"fillmode\":\"overlay\",\"size\":10,\"solidity\":0.2},\"type\":\"scatter\"}],\"parcoords\":[{\"type\":\"parcoords\",\"line\":{\"colorbar\":{\"outlinewidth\":0,\"ticks\":\"\"}}}],\"scatterpolargl\":[{\"type\":\"scatterpolargl\",\"marker\":{\"colorbar\":{\"outlinewidth\":0,\"ticks\":\"\"}}}],\"bar\":[{\"error_x\":{\"color\":\"#2a3f5f\"},\"error_y\":{\"color\":\"#2a3f5f\"},\"marker\":{\"line\":{\"color\":\"#E5ECF6\",\"width\":0.5},\"pattern\":{\"fillmode\":\"overlay\",\"size\":10,\"solidity\":0.2}},\"type\":\"bar\"}],\"scattergeo\":[{\"type\":\"scattergeo\",\"marker\":{\"colorbar\":{\"outlinewidth\":0,\"ticks\":\"\"}}}],\"scatterpolar\":[{\"type\":\"scatterpolar\",\"marker\":{\"colorbar\":{\"outlinewidth\":0,\"ticks\":\"\"}}}],\"histogram\":[{\"marker\":{\"pattern\":{\"fillmode\":\"overlay\",\"size\":10,\"solidity\":0.2}},\"type\":\"histogram\"}],\"scattergl\":[{\"type\":\"scattergl\",\"marker\":{\"colorbar\":{\"outlinewidth\":0,\"ticks\":\"\"}}}],\"scatter3d\":[{\"type\":\"scatter3d\",\"line\":{\"colorbar\":{\"outlinewidth\":0,\"ticks\":\"\"}},\"marker\":{\"colorbar\":{\"outlinewidth\":0,\"ticks\":\"\"}}}],\"scattermapbox\":[{\"type\":\"scattermapbox\",\"marker\":{\"colorbar\":{\"outlinewidth\":0,\"ticks\":\"\"}}}],\"scatterternary\":[{\"type\":\"scatterternary\",\"marker\":{\"colorbar\":{\"outlinewidth\":0,\"ticks\":\"\"}}}],\"scattercarpet\":[{\"type\":\"scattercarpet\",\"marker\":{\"colorbar\":{\"outlinewidth\":0,\"ticks\":\"\"}}}],\"carpet\":[{\"aaxis\":{\"endlinecolor\":\"#2a3f5f\",\"gridcolor\":\"white\",\"linecolor\":\"white\",\"minorgridcolor\":\"white\",\"startlinecolor\":\"#2a3f5f\"},\"baxis\":{\"endlinecolor\":\"#2a3f5f\",\"gridcolor\":\"white\",\"linecolor\":\"white\",\"minorgridcolor\":\"white\",\"startlinecolor\":\"#2a3f5f\"},\"type\":\"carpet\"}],\"table\":[{\"cells\":{\"fill\":{\"color\":\"#EBF0F8\"},\"line\":{\"color\":\"white\"}},\"header\":{\"fill\":{\"color\":\"#C8D4E3\"},\"line\":{\"color\":\"white\"}},\"type\":\"table\"}],\"barpolar\":[{\"marker\":{\"line\":{\"color\":\"#E5ECF6\",\"width\":0.5},\"pattern\":{\"fillmode\":\"overlay\",\"size\":10,\"solidity\":0.2}},\"type\":\"barpolar\"}],\"pie\":[{\"automargin\":true,\"type\":\"pie\"}]},\"layout\":{\"autotypenumbers\":\"strict\",\"colorway\":[\"#636efa\",\"#EF553B\",\"#00cc96\",\"#ab63fa\",\"#FFA15A\",\"#19d3f3\",\"#FF6692\",\"#B6E880\",\"#FF97FF\",\"#FECB52\"],\"font\":{\"color\":\"#2a3f5f\"},\"hovermode\":\"closest\",\"hoverlabel\":{\"align\":\"left\"},\"paper_bgcolor\":\"white\",\"plot_bgcolor\":\"#E5ECF6\",\"polar\":{\"bgcolor\":\"#E5ECF6\",\"angularaxis\":{\"gridcolor\":\"white\",\"linecolor\":\"white\",\"ticks\":\"\"},\"radialaxis\":{\"gridcolor\":\"white\",\"linecolor\":\"white\",\"ticks\":\"\"}},\"ternary\":{\"bgcolor\":\"#E5ECF6\",\"aaxis\":{\"gridcolor\":\"white\",\"linecolor\":\"white\",\"ticks\":\"\"},\"baxis\":{\"gridcolor\":\"white\",\"linecolor\":\"white\",\"ticks\":\"\"},\"caxis\":{\"gridcolor\":\"white\",\"linecolor\":\"white\",\"ticks\":\"\"}},\"coloraxis\":{\"colorbar\":{\"outlinewidth\":0,\"ticks\":\"\"}},\"colorscale\":{\"sequential\":[[0.0,\"#0d0887\"],[0.1111111111111111,\"#46039f\"],[0.2222222222222222,\"#7201a8\"],[0.3333333333333333,\"#9c179e\"],[0.4444444444444444,\"#bd3786\"],[0.5555555555555556,\"#d8576b\"],[0.6666666666666666,\"#ed7953\"],[0.7777777777777778,\"#fb9f3a\"],[0.8888888888888888,\"#fdca26\"],[1.0,\"#f0f921\"]],\"sequentialminus\":[[0.0,\"#0d0887\"],[0.1111111111111111,\"#46039f\"],[0.2222222222222222,\"#7201a8\"],[0.3333333333333333,\"#9c179e\"],[0.4444444444444444,\"#bd3786\"],[0.5555555555555556,\"#d8576b\"],[0.6666666666666666,\"#ed7953\"],[0.7777777777777778,\"#fb9f3a\"],[0.8888888888888888,\"#fdca26\"],[1.0,\"#f0f921\"]],\"diverging\":[[0,\"#8e0152\"],[0.1,\"#c51b7d\"],[0.2,\"#de77ae\"],[0.3,\"#f1b6da\"],[0.4,\"#fde0ef\"],[0.5,\"#f7f7f7\"],[0.6,\"#e6f5d0\"],[0.7,\"#b8e186\"],[0.8,\"#7fbc41\"],[0.9,\"#4d9221\"],[1,\"#276419\"]]},\"xaxis\":{\"gridcolor\":\"white\",\"linecolor\":\"white\",\"ticks\":\"\",\"title\":{\"standoff\":15},\"zerolinecolor\":\"white\",\"automargin\":true,\"zerolinewidth\":2},\"yaxis\":{\"gridcolor\":\"white\",\"linecolor\":\"white\",\"ticks\":\"\",\"title\":{\"standoff\":15},\"zerolinecolor\":\"white\",\"automargin\":true,\"zerolinewidth\":2},\"scene\":{\"xaxis\":{\"backgroundcolor\":\"#E5ECF6\",\"gridcolor\":\"white\",\"linecolor\":\"white\",\"showbackground\":true,\"ticks\":\"\",\"zerolinecolor\":\"white\",\"gridwidth\":2},\"yaxis\":{\"backgroundcolor\":\"#E5ECF6\",\"gridcolor\":\"white\",\"linecolor\":\"white\",\"showbackground\":true,\"ticks\":\"\",\"zerolinecolor\":\"white\",\"gridwidth\":2},\"zaxis\":{\"backgroundcolor\":\"#E5ECF6\",\"gridcolor\":\"white\",\"linecolor\":\"white\",\"showbackground\":true,\"ticks\":\"\",\"zerolinecolor\":\"white\",\"gridwidth\":2}},\"shapedefaults\":{\"line\":{\"color\":\"#2a3f5f\"}},\"annotationdefaults\":{\"arrowcolor\":\"#2a3f5f\",\"arrowhead\":0,\"arrowwidth\":1},\"geo\":{\"bgcolor\":\"white\",\"landcolor\":\"#E5ECF6\",\"subunitcolor\":\"white\",\"showland\":true,\"showlakes\":true,\"lakecolor\":\"white\"},\"title\":{\"x\":0.05},\"mapbox\":{\"style\":\"light\"}}},\"xaxis\":{\"anchor\":\"y\",\"domain\":[0.0,1.0],\"title\":{\"text\":\"regi\\u00f5es de S\\u00e3o Paulo\"}},\"yaxis\":{\"anchor\":\"x\",\"domain\":[0.0,1.0],\"title\":{\"text\":\"taxas de crimes em 2018\"}},\"legend\":{\"title\":{\"text\":\"variable\"},\"tracegroupgap\":0},\"margin\":{\"t\":60},\"barmode\":\"relative\",\"title\":{\"text\":\"tabela 2018\"}},                        {\"responsive\": true}                    ).then(function(){\n",
       "                            \n",
       "var gd = document.getElementById('1c63008f-23a0-415b-97fb-d1b7fa73b733');\n",
       "var x = new MutationObserver(function (mutations, observer) {{\n",
       "        var display = window.getComputedStyle(gd).display;\n",
       "        if (!display || display === 'none') {{\n",
       "            console.log([gd, 'removed!']);\n",
       "            Plotly.purge(gd);\n",
       "            observer.disconnect();\n",
       "        }}\n",
       "}});\n",
       "\n",
       "// Listen for the removal of the full notebook cells\n",
       "var notebookContainer = gd.closest('#notebook-container');\n",
       "if (notebookContainer) {{\n",
       "    x.observe(notebookContainer, {childList: true});\n",
       "}}\n",
       "\n",
       "// Listen for the clearing of the current output cell\n",
       "var outputEl = gd.closest('.output');\n",
       "if (outputEl) {{\n",
       "    x.observe(outputEl, {childList: true});\n",
       "}}\n",
       "\n",
       "                        })                };                });            </script>        </div>"
      ]
     },
     "metadata": {},
     "output_type": "display_data"
    }
   ],
   "source": [
    "ano1 = df2[df2['ano'] == 2018] \n",
    "\n",
    "ano1 = ano1.groupby('regiao_ssp').sum()\n",
    "ano2018 = ano1\n",
    "display(ano2018)\n",
    "\n",
    "grafico = px.bar(ano2018, x = ano2018.index , y = [\"homicidio_doloso\",\"numero_de_vitimas_em_homicidio_doloso\",\"homicidio_doloso_por_acidente_de_transito\",\"numero_de_vitimas_em_homicidio_doloso_por_acidente_de_transito\",\"homicidio_culposo_por_acidente_de_transito\",\"homicidio_culposo_outros\",\"tentativa_de_homicidio\",\"total_de_estupro\",\"estupro\",\"estupro_de_vulneravel\",\"total_de_roubo_outros\",\"roubo_outros\",\"roubo_de_veiculo\",\"roubo_a_banco\",\"roubo_de_carga\",\"furto_outros\",\"furto_de_veiculo\"])\n",
    "grafico.update_layout(\n",
    "    yaxis_title=\"taxas de crimes em 2018\",\n",
    "    xaxis_title=\"regiões de São Paulo\",\n",
    "    title = 'tabela 2018')\n",
    "grafico.show()\n"
   ]
  },
  {
   "cell_type": "code",
   "execution_count": 83,
   "id": "99e9f7e3",
   "metadata": {},
   "outputs": [
    {
     "data": {
      "text/html": [
       "<div>\n",
       "<style scoped>\n",
       "    .dataframe tbody tr th:only-of-type {\n",
       "        vertical-align: middle;\n",
       "    }\n",
       "\n",
       "    .dataframe tbody tr th {\n",
       "        vertical-align: top;\n",
       "    }\n",
       "\n",
       "    .dataframe thead th {\n",
       "        text-align: right;\n",
       "    }\n",
       "</style>\n",
       "<table border=\"1\" class=\"dataframe\">\n",
       "  <thead>\n",
       "    <tr style=\"text-align: right;\">\n",
       "      <th></th>\n",
       "      <th>ano</th>\n",
       "      <th>mes</th>\n",
       "      <th>id_municipio</th>\n",
       "      <th>homicidio_doloso</th>\n",
       "      <th>numero_de_vitimas_em_homicidio_doloso</th>\n",
       "      <th>homicidio_doloso_por_acidente_de_transito</th>\n",
       "      <th>numero_de_vitimas_em_homicidio_doloso_por_acidente_de_transito</th>\n",
       "      <th>homicidio_culposo_por_acidente_de_transito</th>\n",
       "      <th>homicidio_culposo_outros</th>\n",
       "      <th>tentativa_de_homicidio</th>\n",
       "      <th>...</th>\n",
       "      <th>total_de_estupro</th>\n",
       "      <th>estupro</th>\n",
       "      <th>estupro_de_vulneravel</th>\n",
       "      <th>total_de_roubo_outros</th>\n",
       "      <th>roubo_outros</th>\n",
       "      <th>roubo_de_veiculo</th>\n",
       "      <th>roubo_a_banco</th>\n",
       "      <th>roubo_de_carga</th>\n",
       "      <th>furto_outros</th>\n",
       "      <th>furto_de_veiculo</th>\n",
       "    </tr>\n",
       "  </thead>\n",
       "  <tbody>\n",
       "    <tr>\n",
       "      <th>count</th>\n",
       "      <td>1.200000e+01</td>\n",
       "      <td>12.000000</td>\n",
       "      <td>1.200000e+01</td>\n",
       "      <td>12.000000</td>\n",
       "      <td>12.000000</td>\n",
       "      <td>12.000000</td>\n",
       "      <td>12.000000</td>\n",
       "      <td>12.000000</td>\n",
       "      <td>12.000000</td>\n",
       "      <td>12.000000</td>\n",
       "      <td>...</td>\n",
       "      <td>12.000000</td>\n",
       "      <td>12.000000</td>\n",
       "      <td>12.000000</td>\n",
       "      <td>12.000000</td>\n",
       "      <td>12.000000</td>\n",
       "      <td>12.000000</td>\n",
       "      <td>12.000000</td>\n",
       "      <td>12.000000</td>\n",
       "      <td>12.000000</td>\n",
       "      <td>12.000000</td>\n",
       "    </tr>\n",
       "    <tr>\n",
       "      <th>mean</th>\n",
       "      <td>1.299592e+06</td>\n",
       "      <td>4186.000000</td>\n",
       "      <td>2.272480e+09</td>\n",
       "      <td>245.750000</td>\n",
       "      <td>258.833333</td>\n",
       "      <td>3.000000</td>\n",
       "      <td>3.666667</td>\n",
       "      <td>266.083333</td>\n",
       "      <td>12.666667</td>\n",
       "      <td>290.333333</td>\n",
       "      <td>...</td>\n",
       "      <td>995.250000</td>\n",
       "      <td>273.666667</td>\n",
       "      <td>721.583333</td>\n",
       "      <td>21926.166667</td>\n",
       "      <td>21193.500000</td>\n",
       "      <td>4914.166667</td>\n",
       "      <td>4.500000</td>\n",
       "      <td>728.166667</td>\n",
       "      <td>42069.250000</td>\n",
       "      <td>8278.833333</td>\n",
       "    </tr>\n",
       "    <tr>\n",
       "      <th>std</th>\n",
       "      <td>6.926972e+05</td>\n",
       "      <td>2231.185091</td>\n",
       "      <td>1.211636e+09</td>\n",
       "      <td>213.625469</td>\n",
       "      <td>230.014953</td>\n",
       "      <td>3.357488</td>\n",
       "      <td>3.626502</td>\n",
       "      <td>118.149719</td>\n",
       "      <td>7.738139</td>\n",
       "      <td>207.019689</td>\n",
       "      <td>...</td>\n",
       "      <td>766.132569</td>\n",
       "      <td>226.576631</td>\n",
       "      <td>544.961460</td>\n",
       "      <td>40052.480370</td>\n",
       "      <td>38767.069394</td>\n",
       "      <td>8614.004610</td>\n",
       "      <td>7.038853</td>\n",
       "      <td>1286.302865</td>\n",
       "      <td>52625.353429</td>\n",
       "      <td>11799.304770</td>\n",
       "    </tr>\n",
       "    <tr>\n",
       "      <th>min</th>\n",
       "      <td>2.421600e+04</td>\n",
       "      <td>78.000000</td>\n",
       "      <td>4.260370e+07</td>\n",
       "      <td>57.000000</td>\n",
       "      <td>58.000000</td>\n",
       "      <td>0.000000</td>\n",
       "      <td>0.000000</td>\n",
       "      <td>92.000000</td>\n",
       "      <td>3.000000</td>\n",
       "      <td>88.000000</td>\n",
       "      <td>...</td>\n",
       "      <td>246.000000</td>\n",
       "      <td>62.000000</td>\n",
       "      <td>184.000000</td>\n",
       "      <td>568.000000</td>\n",
       "      <td>550.000000</td>\n",
       "      <td>33.000000</td>\n",
       "      <td>0.000000</td>\n",
       "      <td>6.000000</td>\n",
       "      <td>7905.000000</td>\n",
       "      <td>477.000000</td>\n",
       "    </tr>\n",
       "    <tr>\n",
       "      <th>25%</th>\n",
       "      <td>9.202080e+05</td>\n",
       "      <td>2964.000000</td>\n",
       "      <td>1.609608e+09</td>\n",
       "      <td>95.500000</td>\n",
       "      <td>97.000000</td>\n",
       "      <td>1.000000</td>\n",
       "      <td>1.000000</td>\n",
       "      <td>187.000000</td>\n",
       "      <td>7.000000</td>\n",
       "      <td>144.500000</td>\n",
       "      <td>...</td>\n",
       "      <td>597.500000</td>\n",
       "      <td>141.500000</td>\n",
       "      <td>442.500000</td>\n",
       "      <td>1818.000000</td>\n",
       "      <td>1785.250000</td>\n",
       "      <td>148.750000</td>\n",
       "      <td>1.000000</td>\n",
       "      <td>31.750000</td>\n",
       "      <td>18627.500000</td>\n",
       "      <td>1678.750000</td>\n",
       "    </tr>\n",
       "    <tr>\n",
       "      <th>50%</th>\n",
       "      <td>1.150260e+06</td>\n",
       "      <td>3705.000000</td>\n",
       "      <td>2.009935e+09</td>\n",
       "      <td>182.000000</td>\n",
       "      <td>190.000000</td>\n",
       "      <td>2.000000</td>\n",
       "      <td>3.000000</td>\n",
       "      <td>255.000000</td>\n",
       "      <td>12.000000</td>\n",
       "      <td>239.500000</td>\n",
       "      <td>...</td>\n",
       "      <td>702.000000</td>\n",
       "      <td>196.000000</td>\n",
       "      <td>512.000000</td>\n",
       "      <td>7729.500000</td>\n",
       "      <td>7434.000000</td>\n",
       "      <td>1474.000000</td>\n",
       "      <td>3.000000</td>\n",
       "      <td>167.000000</td>\n",
       "      <td>26314.000000</td>\n",
       "      <td>4233.000000</td>\n",
       "    </tr>\n",
       "    <tr>\n",
       "      <th>75%</th>\n",
       "      <td>1.852524e+06</td>\n",
       "      <td>5967.000000</td>\n",
       "      <td>3.236988e+09</td>\n",
       "      <td>266.750000</td>\n",
       "      <td>277.250000</td>\n",
       "      <td>4.000000</td>\n",
       "      <td>4.750000</td>\n",
       "      <td>354.000000</td>\n",
       "      <td>16.500000</td>\n",
       "      <td>311.750000</td>\n",
       "      <td>...</td>\n",
       "      <td>1006.000000</td>\n",
       "      <td>286.000000</td>\n",
       "      <td>728.000000</td>\n",
       "      <td>13629.500000</td>\n",
       "      <td>13054.500000</td>\n",
       "      <td>2906.500000</td>\n",
       "      <td>5.000000</td>\n",
       "      <td>563.500000</td>\n",
       "      <td>39989.750000</td>\n",
       "      <td>7089.500000</td>\n",
       "    </tr>\n",
       "    <tr>\n",
       "      <th>max</th>\n",
       "      <td>2.300520e+06</td>\n",
       "      <td>7410.000000</td>\n",
       "      <td>4.026865e+09</td>\n",
       "      <td>672.000000</td>\n",
       "      <td>723.000000</td>\n",
       "      <td>12.000000</td>\n",
       "      <td>12.000000</td>\n",
       "      <td>467.000000</td>\n",
       "      <td>29.000000</td>\n",
       "      <td>749.000000</td>\n",
       "      <td>...</td>\n",
       "      <td>2590.000000</td>\n",
       "      <td>798.000000</td>\n",
       "      <td>1834.000000</td>\n",
       "      <td>136589.000000</td>\n",
       "      <td>132332.000000</td>\n",
       "      <td>26860.000000</td>\n",
       "      <td>26.000000</td>\n",
       "      <td>4231.000000</td>\n",
       "      <td>201798.000000</td>\n",
       "      <td>40395.000000</td>\n",
       "    </tr>\n",
       "  </tbody>\n",
       "</table>\n",
       "<p>8 rows × 26 columns</p>\n",
       "</div>"
      ],
      "text/plain": [
       "                ano          mes  id_municipio  homicidio_doloso  \\\n",
       "count  1.200000e+01    12.000000  1.200000e+01         12.000000   \n",
       "mean   1.299592e+06  4186.000000  2.272480e+09        245.750000   \n",
       "std    6.926972e+05  2231.185091  1.211636e+09        213.625469   \n",
       "min    2.421600e+04    78.000000  4.260370e+07         57.000000   \n",
       "25%    9.202080e+05  2964.000000  1.609608e+09         95.500000   \n",
       "50%    1.150260e+06  3705.000000  2.009935e+09        182.000000   \n",
       "75%    1.852524e+06  5967.000000  3.236988e+09        266.750000   \n",
       "max    2.300520e+06  7410.000000  4.026865e+09        672.000000   \n",
       "\n",
       "       numero_de_vitimas_em_homicidio_doloso  \\\n",
       "count                              12.000000   \n",
       "mean                              258.833333   \n",
       "std                               230.014953   \n",
       "min                                58.000000   \n",
       "25%                                97.000000   \n",
       "50%                               190.000000   \n",
       "75%                               277.250000   \n",
       "max                               723.000000   \n",
       "\n",
       "       homicidio_doloso_por_acidente_de_transito  \\\n",
       "count                                  12.000000   \n",
       "mean                                    3.000000   \n",
       "std                                     3.357488   \n",
       "min                                     0.000000   \n",
       "25%                                     1.000000   \n",
       "50%                                     2.000000   \n",
       "75%                                     4.000000   \n",
       "max                                    12.000000   \n",
       "\n",
       "       numero_de_vitimas_em_homicidio_doloso_por_acidente_de_transito  \\\n",
       "count                                          12.000000                \n",
       "mean                                            3.666667                \n",
       "std                                             3.626502                \n",
       "min                                             0.000000                \n",
       "25%                                             1.000000                \n",
       "50%                                             3.000000                \n",
       "75%                                             4.750000                \n",
       "max                                            12.000000                \n",
       "\n",
       "       homicidio_culposo_por_acidente_de_transito  homicidio_culposo_outros  \\\n",
       "count                                   12.000000                 12.000000   \n",
       "mean                                   266.083333                 12.666667   \n",
       "std                                    118.149719                  7.738139   \n",
       "min                                     92.000000                  3.000000   \n",
       "25%                                    187.000000                  7.000000   \n",
       "50%                                    255.000000                 12.000000   \n",
       "75%                                    354.000000                 16.500000   \n",
       "max                                    467.000000                 29.000000   \n",
       "\n",
       "       tentativa_de_homicidio  ...  total_de_estupro     estupro  \\\n",
       "count               12.000000  ...         12.000000   12.000000   \n",
       "mean               290.333333  ...        995.250000  273.666667   \n",
       "std                207.019689  ...        766.132569  226.576631   \n",
       "min                 88.000000  ...        246.000000   62.000000   \n",
       "25%                144.500000  ...        597.500000  141.500000   \n",
       "50%                239.500000  ...        702.000000  196.000000   \n",
       "75%                311.750000  ...       1006.000000  286.000000   \n",
       "max                749.000000  ...       2590.000000  798.000000   \n",
       "\n",
       "       estupro_de_vulneravel  total_de_roubo_outros   roubo_outros  \\\n",
       "count              12.000000              12.000000      12.000000   \n",
       "mean              721.583333           21926.166667   21193.500000   \n",
       "std               544.961460           40052.480370   38767.069394   \n",
       "min               184.000000             568.000000     550.000000   \n",
       "25%               442.500000            1818.000000    1785.250000   \n",
       "50%               512.000000            7729.500000    7434.000000   \n",
       "75%               728.000000           13629.500000   13054.500000   \n",
       "max              1834.000000          136589.000000  132332.000000   \n",
       "\n",
       "       roubo_de_veiculo  roubo_a_banco  roubo_de_carga   furto_outros  \\\n",
       "count         12.000000      12.000000       12.000000      12.000000   \n",
       "mean        4914.166667       4.500000      728.166667   42069.250000   \n",
       "std         8614.004610       7.038853     1286.302865   52625.353429   \n",
       "min           33.000000       0.000000        6.000000    7905.000000   \n",
       "25%          148.750000       1.000000       31.750000   18627.500000   \n",
       "50%         1474.000000       3.000000      167.000000   26314.000000   \n",
       "75%         2906.500000       5.000000      563.500000   39989.750000   \n",
       "max        26860.000000      26.000000     4231.000000  201798.000000   \n",
       "\n",
       "       furto_de_veiculo  \n",
       "count         12.000000  \n",
       "mean        8278.833333  \n",
       "std        11799.304770  \n",
       "min          477.000000  \n",
       "25%         1678.750000  \n",
       "50%         4233.000000  \n",
       "75%         7089.500000  \n",
       "max        40395.000000  \n",
       "\n",
       "[8 rows x 26 columns]"
      ]
     },
     "execution_count": 83,
     "metadata": {},
     "output_type": "execute_result"
    }
   ],
   "source": [
    "ano2018.describe()"
   ]
  },
  {
   "cell_type": "markdown",
   "id": "766e9ce1",
   "metadata": {},
   "source": [
    "Vamos dar uma olhada mais de perto no que cada variável nos diz em relação ao ano de 2018:\n",
    "\n",
    "<br>\n",
    "\n",
    "__1. Contagem:__ o número de linhas no conjunto de dados que são preenchidas com valores não nulos. Todas as outras variáveis também têm 12 linhas de dados preenchidas, com exceção de 'id_municipio e ano', que estão elevados exponencialmente. \n",
    "\n",
    "<br>\n",
    "\n",
    "__2. Média:__ o valor médio em cada coluna. por exemplo a media de vitimas em homicidios dolosos era de 258,83 no ano.\n",
    "\n",
    "<br>\n",
    "\n",
    "__3. Std (Desvio Padrão):__ quanto desvio cada coluna tem da média.\n",
    "<br>\n",
    "\n",
    "__4. Min:__ o valor mínimo de cada variável. Por exemplo, o valor mínimo para 'roubo_de_veiculo' é 33, o que significa que houve no minimo 33 pessoas tiveram seu carro roubado.\n",
    "\n",
    "<br>\n",
    "\n",
    "__5. Quartis:__ 25%, 50% e 75%: 1º quartil, 2º quartil (mediana) e 3º quartil.\n",
    "\n",
    "<br>\n",
    "\n",
    "__6. Max:__ o valor mais alto para cada variável no conjunto de dados. Pelo quadro de dados acima, podemos ver que em 2018, 723 pessoas morreram vitimas de homicio doloso.\n",
    "\n",
    "<br>"
   ]
  },
  {
   "cell_type": "code",
   "execution_count": 84,
   "id": "c306a4b7",
   "metadata": {},
   "outputs": [
    {
     "name": "stdout",
     "output_type": "stream",
     "text": [
      "<class 'pandas.core.frame.DataFrame'>\n",
      "Index: 12 entries, Araçatuba to São José dos Campos\n",
      "Data columns (total 26 columns):\n",
      " #   Column                                                          Non-Null Count  Dtype  \n",
      "---  ------                                                          --------------  -----  \n",
      " 0   ano                                                             12 non-null     int64  \n",
      " 1   mes                                                             12 non-null     int64  \n",
      " 2   id_municipio                                                    12 non-null     int64  \n",
      " 3   homicidio_doloso                                                12 non-null     float64\n",
      " 4   numero_de_vitimas_em_homicidio_doloso                           12 non-null     float64\n",
      " 5   homicidio_doloso_por_acidente_de_transito                       12 non-null     float64\n",
      " 6   numero_de_vitimas_em_homicidio_doloso_por_acidente_de_transito  12 non-null     float64\n",
      " 7   homicidio_culposo_por_acidente_de_transito                      12 non-null     float64\n",
      " 8   homicidio_culposo_outros                                        12 non-null     float64\n",
      " 9   tentativa_de_homicidio                                          12 non-null     float64\n",
      " 10  lesao_corporal_seguida_de_morte                                 12 non-null     float64\n",
      " 11  lesao_corporal_dolosa                                           12 non-null     float64\n",
      " 12  lesao_corporal_culposa_por_acidente_de_transito                 12 non-null     float64\n",
      " 13  lesao_corporal_culposa_outras                                   12 non-null     float64\n",
      " 14  latrocinio                                                      12 non-null     float64\n",
      " 15  numero_de_vitimas_em_latrocinio                                 12 non-null     float64\n",
      " 16  total_de_estupro                                                12 non-null     float64\n",
      " 17  estupro                                                         12 non-null     float64\n",
      " 18  estupro_de_vulneravel                                           12 non-null     float64\n",
      " 19  total_de_roubo_outros                                           12 non-null     float64\n",
      " 20  roubo_outros                                                    12 non-null     float64\n",
      " 21  roubo_de_veiculo                                                12 non-null     float64\n",
      " 22  roubo_a_banco                                                   12 non-null     float64\n",
      " 23  roubo_de_carga                                                  12 non-null     float64\n",
      " 24  furto_outros                                                    12 non-null     float64\n",
      " 25  furto_de_veiculo                                                12 non-null     float64\n",
      "dtypes: float64(23), int64(3)\n",
      "memory usage: 2.5+ KB\n"
     ]
    }
   ],
   "source": [
    "ano2018.info()"
   ]
  },
  {
   "cell_type": "markdown",
   "id": "c1e2906f",
   "metadata": {},
   "source": [
    "# dados de 2019 :"
   ]
  },
  {
   "cell_type": "code",
   "execution_count": 95,
   "id": "15b7e39d",
   "metadata": {},
   "outputs": [
    {
     "data": {
      "text/html": [
       "<div>\n",
       "<style scoped>\n",
       "    .dataframe tbody tr th:only-of-type {\n",
       "        vertical-align: middle;\n",
       "    }\n",
       "\n",
       "    .dataframe tbody tr th {\n",
       "        vertical-align: top;\n",
       "    }\n",
       "\n",
       "    .dataframe thead th {\n",
       "        text-align: right;\n",
       "    }\n",
       "</style>\n",
       "<table border=\"1\" class=\"dataframe\">\n",
       "  <thead>\n",
       "    <tr style=\"text-align: right;\">\n",
       "      <th></th>\n",
       "      <th>ano</th>\n",
       "      <th>mes</th>\n",
       "      <th>id_municipio</th>\n",
       "      <th>homicidio_doloso</th>\n",
       "      <th>numero_de_vitimas_em_homicidio_doloso</th>\n",
       "      <th>homicidio_doloso_por_acidente_de_transito</th>\n",
       "      <th>numero_de_vitimas_em_homicidio_doloso_por_acidente_de_transito</th>\n",
       "      <th>homicidio_culposo_por_acidente_de_transito</th>\n",
       "      <th>homicidio_culposo_outros</th>\n",
       "      <th>tentativa_de_homicidio</th>\n",
       "      <th>...</th>\n",
       "      <th>total_de_estupro</th>\n",
       "      <th>estupro</th>\n",
       "      <th>estupro_de_vulneravel</th>\n",
       "      <th>total_de_roubo_outros</th>\n",
       "      <th>roubo_outros</th>\n",
       "      <th>roubo_de_veiculo</th>\n",
       "      <th>roubo_a_banco</th>\n",
       "      <th>roubo_de_carga</th>\n",
       "      <th>furto_outros</th>\n",
       "      <th>furto_de_veiculo</th>\n",
       "    </tr>\n",
       "    <tr>\n",
       "      <th>regiao_ssp</th>\n",
       "      <th></th>\n",
       "      <th></th>\n",
       "      <th></th>\n",
       "      <th></th>\n",
       "      <th></th>\n",
       "      <th></th>\n",
       "      <th></th>\n",
       "      <th></th>\n",
       "      <th></th>\n",
       "      <th></th>\n",
       "      <th></th>\n",
       "      <th></th>\n",
       "      <th></th>\n",
       "      <th></th>\n",
       "      <th></th>\n",
       "      <th></th>\n",
       "      <th></th>\n",
       "      <th></th>\n",
       "      <th></th>\n",
       "      <th></th>\n",
       "      <th></th>\n",
       "    </tr>\n",
       "  </thead>\n",
       "  <tbody>\n",
       "    <tr>\n",
       "      <th>Araçatuba</th>\n",
       "      <td>1017576</td>\n",
       "      <td>3276</td>\n",
       "      <td>1775910888</td>\n",
       "      <td>58.0</td>\n",
       "      <td>59.0</td>\n",
       "      <td>0.0</td>\n",
       "      <td>0.0</td>\n",
       "      <td>82.0</td>\n",
       "      <td>6.0</td>\n",
       "      <td>112.0</td>\n",
       "      <td>...</td>\n",
       "      <td>234.0</td>\n",
       "      <td>50.0</td>\n",
       "      <td>184.0</td>\n",
       "      <td>735.0</td>\n",
       "      <td>727.0</td>\n",
       "      <td>66.0</td>\n",
       "      <td>0.0</td>\n",
       "      <td>8.0</td>\n",
       "      <td>7486.0</td>\n",
       "      <td>437.0</td>\n",
       "    </tr>\n",
       "    <tr>\n",
       "      <th>Bauru</th>\n",
       "      <td>1817100</td>\n",
       "      <td>5850</td>\n",
       "      <td>3173218632</td>\n",
       "      <td>90.0</td>\n",
       "      <td>93.0</td>\n",
       "      <td>0.0</td>\n",
       "      <td>0.0</td>\n",
       "      <td>187.0</td>\n",
       "      <td>6.0</td>\n",
       "      <td>158.0</td>\n",
       "      <td>...</td>\n",
       "      <td>615.0</td>\n",
       "      <td>145.0</td>\n",
       "      <td>470.0</td>\n",
       "      <td>1696.0</td>\n",
       "      <td>1654.0</td>\n",
       "      <td>132.0</td>\n",
       "      <td>0.0</td>\n",
       "      <td>42.0</td>\n",
       "      <td>18547.0</td>\n",
       "      <td>1381.0</td>\n",
       "    </tr>\n",
       "    <tr>\n",
       "      <th>Campinas</th>\n",
       "      <td>920664</td>\n",
       "      <td>2964</td>\n",
       "      <td>1609776324</td>\n",
       "      <td>273.0</td>\n",
       "      <td>287.0</td>\n",
       "      <td>2.0</td>\n",
       "      <td>3.0</td>\n",
       "      <td>332.0</td>\n",
       "      <td>14.0</td>\n",
       "      <td>254.0</td>\n",
       "      <td>...</td>\n",
       "      <td>923.0</td>\n",
       "      <td>260.0</td>\n",
       "      <td>663.0</td>\n",
       "      <td>11994.0</td>\n",
       "      <td>11482.0</td>\n",
       "      <td>3958.0</td>\n",
       "      <td>0.0</td>\n",
       "      <td>512.0</td>\n",
       "      <td>37093.0</td>\n",
       "      <td>7464.0</td>\n",
       "    </tr>\n",
       "    <tr>\n",
       "      <th>Capital</th>\n",
       "      <td>24228</td>\n",
       "      <td>78</td>\n",
       "      <td>42603696</td>\n",
       "      <td>650.0</td>\n",
       "      <td>685.0</td>\n",
       "      <td>3.0</td>\n",
       "      <td>3.0</td>\n",
       "      <td>421.0</td>\n",
       "      <td>24.0</td>\n",
       "      <td>746.0</td>\n",
       "      <td>...</td>\n",
       "      <td>2663.0</td>\n",
       "      <td>772.0</td>\n",
       "      <td>1891.0</td>\n",
       "      <td>141134.0</td>\n",
       "      <td>137369.0</td>\n",
       "      <td>21229.0</td>\n",
       "      <td>13.0</td>\n",
       "      <td>3752.0</td>\n",
       "      <td>226566.0</td>\n",
       "      <td>37331.0</td>\n",
       "    </tr>\n",
       "    <tr>\n",
       "      <th>Grande São Paulo (exclui a Capital)</th>\n",
       "      <td>920664</td>\n",
       "      <td>2964</td>\n",
       "      <td>1609102656</td>\n",
       "      <td>566.0</td>\n",
       "      <td>595.0</td>\n",
       "      <td>4.0</td>\n",
       "      <td>4.0</td>\n",
       "      <td>436.0</td>\n",
       "      <td>36.0</td>\n",
       "      <td>565.0</td>\n",
       "      <td>...</td>\n",
       "      <td>2504.0</td>\n",
       "      <td>612.0</td>\n",
       "      <td>1892.0</td>\n",
       "      <td>59059.0</td>\n",
       "      <td>57212.0</td>\n",
       "      <td>14391.0</td>\n",
       "      <td>3.0</td>\n",
       "      <td>1844.0</td>\n",
       "      <td>68810.0</td>\n",
       "      <td>21698.0</td>\n",
       "    </tr>\n",
       "    <tr>\n",
       "      <th>Piracicaba</th>\n",
       "      <td>1259856</td>\n",
       "      <td>4056</td>\n",
       "      <td>2201565300</td>\n",
       "      <td>176.0</td>\n",
       "      <td>183.0</td>\n",
       "      <td>1.0</td>\n",
       "      <td>1.0</td>\n",
       "      <td>273.0</td>\n",
       "      <td>18.0</td>\n",
       "      <td>229.0</td>\n",
       "      <td>...</td>\n",
       "      <td>730.0</td>\n",
       "      <td>184.0</td>\n",
       "      <td>546.0</td>\n",
       "      <td>7193.0</td>\n",
       "      <td>6906.0</td>\n",
       "      <td>1857.0</td>\n",
       "      <td>2.0</td>\n",
       "      <td>285.0</td>\n",
       "      <td>26921.0</td>\n",
       "      <td>6074.0</td>\n",
       "    </tr>\n",
       "    <tr>\n",
       "      <th>Presidente Prudente</th>\n",
       "      <td>1623276</td>\n",
       "      <td>5226</td>\n",
       "      <td>2838356184</td>\n",
       "      <td>50.0</td>\n",
       "      <td>52.0</td>\n",
       "      <td>1.0</td>\n",
       "      <td>1.0</td>\n",
       "      <td>113.0</td>\n",
       "      <td>5.0</td>\n",
       "      <td>63.0</td>\n",
       "      <td>...</td>\n",
       "      <td>345.0</td>\n",
       "      <td>58.0</td>\n",
       "      <td>287.0</td>\n",
       "      <td>419.0</td>\n",
       "      <td>404.0</td>\n",
       "      <td>29.0</td>\n",
       "      <td>0.0</td>\n",
       "      <td>15.0</td>\n",
       "      <td>8592.0</td>\n",
       "      <td>400.0</td>\n",
       "    </tr>\n",
       "    <tr>\n",
       "      <th>Ribeirão Preto</th>\n",
       "      <td>2253204</td>\n",
       "      <td>7254</td>\n",
       "      <td>3938603544</td>\n",
       "      <td>220.0</td>\n",
       "      <td>231.0</td>\n",
       "      <td>2.0</td>\n",
       "      <td>2.0</td>\n",
       "      <td>368.0</td>\n",
       "      <td>23.0</td>\n",
       "      <td>272.0</td>\n",
       "      <td>...</td>\n",
       "      <td>956.0</td>\n",
       "      <td>258.0</td>\n",
       "      <td>698.0</td>\n",
       "      <td>6262.0</td>\n",
       "      <td>6092.0</td>\n",
       "      <td>1117.0</td>\n",
       "      <td>0.0</td>\n",
       "      <td>170.0</td>\n",
       "      <td>38366.0</td>\n",
       "      <td>4567.0</td>\n",
       "    </tr>\n",
       "    <tr>\n",
       "      <th>Santos</th>\n",
       "      <td>581472</td>\n",
       "      <td>1872</td>\n",
       "      <td>1015714932</td>\n",
       "      <td>141.0</td>\n",
       "      <td>151.0</td>\n",
       "      <td>1.0</td>\n",
       "      <td>1.0</td>\n",
       "      <td>210.0</td>\n",
       "      <td>19.0</td>\n",
       "      <td>264.0</td>\n",
       "      <td>...</td>\n",
       "      <td>664.0</td>\n",
       "      <td>185.0</td>\n",
       "      <td>479.0</td>\n",
       "      <td>14520.0</td>\n",
       "      <td>14124.0</td>\n",
       "      <td>1493.0</td>\n",
       "      <td>1.0</td>\n",
       "      <td>395.0</td>\n",
       "      <td>28937.0</td>\n",
       "      <td>2904.0</td>\n",
       "    </tr>\n",
       "    <tr>\n",
       "      <th>Sorocaba</th>\n",
       "      <td>1889784</td>\n",
       "      <td>6084</td>\n",
       "      <td>3301052436</td>\n",
       "      <td>188.0</td>\n",
       "      <td>190.0</td>\n",
       "      <td>2.0</td>\n",
       "      <td>2.0</td>\n",
       "      <td>368.0</td>\n",
       "      <td>11.0</td>\n",
       "      <td>224.0</td>\n",
       "      <td>...</td>\n",
       "      <td>1302.0</td>\n",
       "      <td>290.0</td>\n",
       "      <td>1012.0</td>\n",
       "      <td>4138.0</td>\n",
       "      <td>4033.0</td>\n",
       "      <td>851.0</td>\n",
       "      <td>1.0</td>\n",
       "      <td>104.0</td>\n",
       "      <td>23842.0</td>\n",
       "      <td>3178.0</td>\n",
       "    </tr>\n",
       "    <tr>\n",
       "      <th>São José do Rio Preto</th>\n",
       "      <td>2325888</td>\n",
       "      <td>7488</td>\n",
       "      <td>4069230264</td>\n",
       "      <td>75.0</td>\n",
       "      <td>77.0</td>\n",
       "      <td>2.0</td>\n",
       "      <td>2.0</td>\n",
       "      <td>208.0</td>\n",
       "      <td>11.0</td>\n",
       "      <td>153.0</td>\n",
       "      <td>...</td>\n",
       "      <td>595.0</td>\n",
       "      <td>138.0</td>\n",
       "      <td>457.0</td>\n",
       "      <td>1276.0</td>\n",
       "      <td>1258.0</td>\n",
       "      <td>102.0</td>\n",
       "      <td>1.0</td>\n",
       "      <td>17.0</td>\n",
       "      <td>14906.0</td>\n",
       "      <td>1537.0</td>\n",
       "    </tr>\n",
       "    <tr>\n",
       "      <th>São José dos Campos</th>\n",
       "      <td>920664</td>\n",
       "      <td>2964</td>\n",
       "      <td>1609790652</td>\n",
       "      <td>289.0</td>\n",
       "      <td>300.0</td>\n",
       "      <td>0.0</td>\n",
       "      <td>0.0</td>\n",
       "      <td>238.0</td>\n",
       "      <td>10.0</td>\n",
       "      <td>324.0</td>\n",
       "      <td>...</td>\n",
       "      <td>840.0</td>\n",
       "      <td>204.0</td>\n",
       "      <td>636.0</td>\n",
       "      <td>6969.0</td>\n",
       "      <td>6788.0</td>\n",
       "      <td>1289.0</td>\n",
       "      <td>0.0</td>\n",
       "      <td>181.0</td>\n",
       "      <td>22027.0</td>\n",
       "      <td>3673.0</td>\n",
       "    </tr>\n",
       "  </tbody>\n",
       "</table>\n",
       "<p>12 rows × 26 columns</p>\n",
       "</div>"
      ],
      "text/plain": [
       "                                         ano   mes  id_municipio  \\\n",
       "regiao_ssp                                                         \n",
       "Araçatuba                            1017576  3276    1775910888   \n",
       "Bauru                                1817100  5850    3173218632   \n",
       "Campinas                              920664  2964    1609776324   \n",
       "Capital                                24228    78      42603696   \n",
       "Grande São Paulo (exclui a Capital)   920664  2964    1609102656   \n",
       "Piracicaba                           1259856  4056    2201565300   \n",
       "Presidente Prudente                  1623276  5226    2838356184   \n",
       "Ribeirão Preto                       2253204  7254    3938603544   \n",
       "Santos                                581472  1872    1015714932   \n",
       "Sorocaba                             1889784  6084    3301052436   \n",
       "São José do Rio Preto                2325888  7488    4069230264   \n",
       "São José dos Campos                   920664  2964    1609790652   \n",
       "\n",
       "                                     homicidio_doloso  \\\n",
       "regiao_ssp                                              \n",
       "Araçatuba                                        58.0   \n",
       "Bauru                                            90.0   \n",
       "Campinas                                        273.0   \n",
       "Capital                                         650.0   \n",
       "Grande São Paulo (exclui a Capital)             566.0   \n",
       "Piracicaba                                      176.0   \n",
       "Presidente Prudente                              50.0   \n",
       "Ribeirão Preto                                  220.0   \n",
       "Santos                                          141.0   \n",
       "Sorocaba                                        188.0   \n",
       "São José do Rio Preto                            75.0   \n",
       "São José dos Campos                             289.0   \n",
       "\n",
       "                                     numero_de_vitimas_em_homicidio_doloso  \\\n",
       "regiao_ssp                                                                   \n",
       "Araçatuba                                                             59.0   \n",
       "Bauru                                                                 93.0   \n",
       "Campinas                                                             287.0   \n",
       "Capital                                                              685.0   \n",
       "Grande São Paulo (exclui a Capital)                                  595.0   \n",
       "Piracicaba                                                           183.0   \n",
       "Presidente Prudente                                                   52.0   \n",
       "Ribeirão Preto                                                       231.0   \n",
       "Santos                                                               151.0   \n",
       "Sorocaba                                                             190.0   \n",
       "São José do Rio Preto                                                 77.0   \n",
       "São José dos Campos                                                  300.0   \n",
       "\n",
       "                                     homicidio_doloso_por_acidente_de_transito  \\\n",
       "regiao_ssp                                                                       \n",
       "Araçatuba                                                                  0.0   \n",
       "Bauru                                                                      0.0   \n",
       "Campinas                                                                   2.0   \n",
       "Capital                                                                    3.0   \n",
       "Grande São Paulo (exclui a Capital)                                        4.0   \n",
       "Piracicaba                                                                 1.0   \n",
       "Presidente Prudente                                                        1.0   \n",
       "Ribeirão Preto                                                             2.0   \n",
       "Santos                                                                     1.0   \n",
       "Sorocaba                                                                   2.0   \n",
       "São José do Rio Preto                                                      2.0   \n",
       "São José dos Campos                                                        0.0   \n",
       "\n",
       "                                     numero_de_vitimas_em_homicidio_doloso_por_acidente_de_transito  \\\n",
       "regiao_ssp                                                                                            \n",
       "Araçatuba                                                                          0.0                \n",
       "Bauru                                                                              0.0                \n",
       "Campinas                                                                           3.0                \n",
       "Capital                                                                            3.0                \n",
       "Grande São Paulo (exclui a Capital)                                                4.0                \n",
       "Piracicaba                                                                         1.0                \n",
       "Presidente Prudente                                                                1.0                \n",
       "Ribeirão Preto                                                                     2.0                \n",
       "Santos                                                                             1.0                \n",
       "Sorocaba                                                                           2.0                \n",
       "São José do Rio Preto                                                              2.0                \n",
       "São José dos Campos                                                                0.0                \n",
       "\n",
       "                                     homicidio_culposo_por_acidente_de_transito  \\\n",
       "regiao_ssp                                                                        \n",
       "Araçatuba                                                                  82.0   \n",
       "Bauru                                                                     187.0   \n",
       "Campinas                                                                  332.0   \n",
       "Capital                                                                   421.0   \n",
       "Grande São Paulo (exclui a Capital)                                       436.0   \n",
       "Piracicaba                                                                273.0   \n",
       "Presidente Prudente                                                       113.0   \n",
       "Ribeirão Preto                                                            368.0   \n",
       "Santos                                                                    210.0   \n",
       "Sorocaba                                                                  368.0   \n",
       "São José do Rio Preto                                                     208.0   \n",
       "São José dos Campos                                                       238.0   \n",
       "\n",
       "                                     homicidio_culposo_outros  \\\n",
       "regiao_ssp                                                      \n",
       "Araçatuba                                                 6.0   \n",
       "Bauru                                                     6.0   \n",
       "Campinas                                                 14.0   \n",
       "Capital                                                  24.0   \n",
       "Grande São Paulo (exclui a Capital)                      36.0   \n",
       "Piracicaba                                               18.0   \n",
       "Presidente Prudente                                       5.0   \n",
       "Ribeirão Preto                                           23.0   \n",
       "Santos                                                   19.0   \n",
       "Sorocaba                                                 11.0   \n",
       "São José do Rio Preto                                    11.0   \n",
       "São José dos Campos                                      10.0   \n",
       "\n",
       "                                     tentativa_de_homicidio  ...  \\\n",
       "regiao_ssp                                                   ...   \n",
       "Araçatuba                                             112.0  ...   \n",
       "Bauru                                                 158.0  ...   \n",
       "Campinas                                              254.0  ...   \n",
       "Capital                                               746.0  ...   \n",
       "Grande São Paulo (exclui a Capital)                   565.0  ...   \n",
       "Piracicaba                                            229.0  ...   \n",
       "Presidente Prudente                                    63.0  ...   \n",
       "Ribeirão Preto                                        272.0  ...   \n",
       "Santos                                                264.0  ...   \n",
       "Sorocaba                                              224.0  ...   \n",
       "São José do Rio Preto                                 153.0  ...   \n",
       "São José dos Campos                                   324.0  ...   \n",
       "\n",
       "                                     total_de_estupro  estupro  \\\n",
       "regiao_ssp                                                       \n",
       "Araçatuba                                       234.0     50.0   \n",
       "Bauru                                           615.0    145.0   \n",
       "Campinas                                        923.0    260.0   \n",
       "Capital                                        2663.0    772.0   \n",
       "Grande São Paulo (exclui a Capital)            2504.0    612.0   \n",
       "Piracicaba                                      730.0    184.0   \n",
       "Presidente Prudente                             345.0     58.0   \n",
       "Ribeirão Preto                                  956.0    258.0   \n",
       "Santos                                          664.0    185.0   \n",
       "Sorocaba                                       1302.0    290.0   \n",
       "São José do Rio Preto                           595.0    138.0   \n",
       "São José dos Campos                             840.0    204.0   \n",
       "\n",
       "                                     estupro_de_vulneravel  \\\n",
       "regiao_ssp                                                   \n",
       "Araçatuba                                            184.0   \n",
       "Bauru                                                470.0   \n",
       "Campinas                                             663.0   \n",
       "Capital                                             1891.0   \n",
       "Grande São Paulo (exclui a Capital)                 1892.0   \n",
       "Piracicaba                                           546.0   \n",
       "Presidente Prudente                                  287.0   \n",
       "Ribeirão Preto                                       698.0   \n",
       "Santos                                               479.0   \n",
       "Sorocaba                                            1012.0   \n",
       "São José do Rio Preto                                457.0   \n",
       "São José dos Campos                                  636.0   \n",
       "\n",
       "                                     total_de_roubo_outros  roubo_outros  \\\n",
       "regiao_ssp                                                                 \n",
       "Araçatuba                                            735.0         727.0   \n",
       "Bauru                                               1696.0        1654.0   \n",
       "Campinas                                           11994.0       11482.0   \n",
       "Capital                                           141134.0      137369.0   \n",
       "Grande São Paulo (exclui a Capital)                59059.0       57212.0   \n",
       "Piracicaba                                          7193.0        6906.0   \n",
       "Presidente Prudente                                  419.0         404.0   \n",
       "Ribeirão Preto                                      6262.0        6092.0   \n",
       "Santos                                             14520.0       14124.0   \n",
       "Sorocaba                                            4138.0        4033.0   \n",
       "São José do Rio Preto                               1276.0        1258.0   \n",
       "São José dos Campos                                 6969.0        6788.0   \n",
       "\n",
       "                                     roubo_de_veiculo  roubo_a_banco  \\\n",
       "regiao_ssp                                                             \n",
       "Araçatuba                                        66.0            0.0   \n",
       "Bauru                                           132.0            0.0   \n",
       "Campinas                                       3958.0            0.0   \n",
       "Capital                                       21229.0           13.0   \n",
       "Grande São Paulo (exclui a Capital)           14391.0            3.0   \n",
       "Piracicaba                                     1857.0            2.0   \n",
       "Presidente Prudente                              29.0            0.0   \n",
       "Ribeirão Preto                                 1117.0            0.0   \n",
       "Santos                                         1493.0            1.0   \n",
       "Sorocaba                                        851.0            1.0   \n",
       "São José do Rio Preto                           102.0            1.0   \n",
       "São José dos Campos                            1289.0            0.0   \n",
       "\n",
       "                                     roubo_de_carga  furto_outros  \\\n",
       "regiao_ssp                                                          \n",
       "Araçatuba                                       8.0        7486.0   \n",
       "Bauru                                          42.0       18547.0   \n",
       "Campinas                                      512.0       37093.0   \n",
       "Capital                                      3752.0      226566.0   \n",
       "Grande São Paulo (exclui a Capital)          1844.0       68810.0   \n",
       "Piracicaba                                    285.0       26921.0   \n",
       "Presidente Prudente                            15.0        8592.0   \n",
       "Ribeirão Preto                                170.0       38366.0   \n",
       "Santos                                        395.0       28937.0   \n",
       "Sorocaba                                      104.0       23842.0   \n",
       "São José do Rio Preto                          17.0       14906.0   \n",
       "São José dos Campos                           181.0       22027.0   \n",
       "\n",
       "                                     furto_de_veiculo  \n",
       "regiao_ssp                                             \n",
       "Araçatuba                                       437.0  \n",
       "Bauru                                          1381.0  \n",
       "Campinas                                       7464.0  \n",
       "Capital                                       37331.0  \n",
       "Grande São Paulo (exclui a Capital)           21698.0  \n",
       "Piracicaba                                     6074.0  \n",
       "Presidente Prudente                             400.0  \n",
       "Ribeirão Preto                                 4567.0  \n",
       "Santos                                         2904.0  \n",
       "Sorocaba                                       3178.0  \n",
       "São José do Rio Preto                          1537.0  \n",
       "São José dos Campos                            3673.0  \n",
       "\n",
       "[12 rows x 26 columns]"
      ]
     },
     "metadata": {},
     "output_type": "display_data"
    },
    {
     "data": {
      "application/vnd.plotly.v1+json": {
       "config": {
        "plotlyServerURL": "https://plot.ly"
       },
       "data": [
        {
         "alignmentgroup": "True",
         "hovertemplate": "variable=homicidio_doloso<br>regiao_ssp=%{x}<br>value=%{y}<extra></extra>",
         "legendgroup": "homicidio_doloso",
         "marker": {
          "color": "#636efa",
          "pattern": {
           "shape": ""
          }
         },
         "name": "homicidio_doloso",
         "offsetgroup": "homicidio_doloso",
         "orientation": "v",
         "showlegend": true,
         "textposition": "auto",
         "type": "bar",
         "x": [
          "Araçatuba",
          "Bauru",
          "Campinas",
          "Capital",
          "Grande São Paulo (exclui a Capital)",
          "Piracicaba",
          "Presidente Prudente",
          "Ribeirão Preto",
          "Santos",
          "Sorocaba",
          "São José do Rio Preto",
          "São José dos Campos"
         ],
         "xaxis": "x",
         "y": [
          58,
          90,
          273,
          650,
          566,
          176,
          50,
          220,
          141,
          188,
          75,
          289
         ],
         "yaxis": "y"
        },
        {
         "alignmentgroup": "True",
         "hovertemplate": "variable=numero_de_vitimas_em_homicidio_doloso<br>regiao_ssp=%{x}<br>value=%{y}<extra></extra>",
         "legendgroup": "numero_de_vitimas_em_homicidio_doloso",
         "marker": {
          "color": "#EF553B",
          "pattern": {
           "shape": ""
          }
         },
         "name": "numero_de_vitimas_em_homicidio_doloso",
         "offsetgroup": "numero_de_vitimas_em_homicidio_doloso",
         "orientation": "v",
         "showlegend": true,
         "textposition": "auto",
         "type": "bar",
         "x": [
          "Araçatuba",
          "Bauru",
          "Campinas",
          "Capital",
          "Grande São Paulo (exclui a Capital)",
          "Piracicaba",
          "Presidente Prudente",
          "Ribeirão Preto",
          "Santos",
          "Sorocaba",
          "São José do Rio Preto",
          "São José dos Campos"
         ],
         "xaxis": "x",
         "y": [
          59,
          93,
          287,
          685,
          595,
          183,
          52,
          231,
          151,
          190,
          77,
          300
         ],
         "yaxis": "y"
        },
        {
         "alignmentgroup": "True",
         "hovertemplate": "variable=homicidio_doloso_por_acidente_de_transito<br>regiao_ssp=%{x}<br>value=%{y}<extra></extra>",
         "legendgroup": "homicidio_doloso_por_acidente_de_transito",
         "marker": {
          "color": "#00cc96",
          "pattern": {
           "shape": ""
          }
         },
         "name": "homicidio_doloso_por_acidente_de_transito",
         "offsetgroup": "homicidio_doloso_por_acidente_de_transito",
         "orientation": "v",
         "showlegend": true,
         "textposition": "auto",
         "type": "bar",
         "x": [
          "Araçatuba",
          "Bauru",
          "Campinas",
          "Capital",
          "Grande São Paulo (exclui a Capital)",
          "Piracicaba",
          "Presidente Prudente",
          "Ribeirão Preto",
          "Santos",
          "Sorocaba",
          "São José do Rio Preto",
          "São José dos Campos"
         ],
         "xaxis": "x",
         "y": [
          0,
          0,
          2,
          3,
          4,
          1,
          1,
          2,
          1,
          2,
          2,
          0
         ],
         "yaxis": "y"
        },
        {
         "alignmentgroup": "True",
         "hovertemplate": "variable=numero_de_vitimas_em_homicidio_doloso_por_acidente_de_transito<br>regiao_ssp=%{x}<br>value=%{y}<extra></extra>",
         "legendgroup": "numero_de_vitimas_em_homicidio_doloso_por_acidente_de_transito",
         "marker": {
          "color": "#ab63fa",
          "pattern": {
           "shape": ""
          }
         },
         "name": "numero_de_vitimas_em_homicidio_doloso_por_acidente_de_transito",
         "offsetgroup": "numero_de_vitimas_em_homicidio_doloso_por_acidente_de_transito",
         "orientation": "v",
         "showlegend": true,
         "textposition": "auto",
         "type": "bar",
         "x": [
          "Araçatuba",
          "Bauru",
          "Campinas",
          "Capital",
          "Grande São Paulo (exclui a Capital)",
          "Piracicaba",
          "Presidente Prudente",
          "Ribeirão Preto",
          "Santos",
          "Sorocaba",
          "São José do Rio Preto",
          "São José dos Campos"
         ],
         "xaxis": "x",
         "y": [
          0,
          0,
          3,
          3,
          4,
          1,
          1,
          2,
          1,
          2,
          2,
          0
         ],
         "yaxis": "y"
        },
        {
         "alignmentgroup": "True",
         "hovertemplate": "variable=homicidio_culposo_por_acidente_de_transito<br>regiao_ssp=%{x}<br>value=%{y}<extra></extra>",
         "legendgroup": "homicidio_culposo_por_acidente_de_transito",
         "marker": {
          "color": "#FFA15A",
          "pattern": {
           "shape": ""
          }
         },
         "name": "homicidio_culposo_por_acidente_de_transito",
         "offsetgroup": "homicidio_culposo_por_acidente_de_transito",
         "orientation": "v",
         "showlegend": true,
         "textposition": "auto",
         "type": "bar",
         "x": [
          "Araçatuba",
          "Bauru",
          "Campinas",
          "Capital",
          "Grande São Paulo (exclui a Capital)",
          "Piracicaba",
          "Presidente Prudente",
          "Ribeirão Preto",
          "Santos",
          "Sorocaba",
          "São José do Rio Preto",
          "São José dos Campos"
         ],
         "xaxis": "x",
         "y": [
          82,
          187,
          332,
          421,
          436,
          273,
          113,
          368,
          210,
          368,
          208,
          238
         ],
         "yaxis": "y"
        },
        {
         "alignmentgroup": "True",
         "hovertemplate": "variable=homicidio_culposo_outros<br>regiao_ssp=%{x}<br>value=%{y}<extra></extra>",
         "legendgroup": "homicidio_culposo_outros",
         "marker": {
          "color": "#19d3f3",
          "pattern": {
           "shape": ""
          }
         },
         "name": "homicidio_culposo_outros",
         "offsetgroup": "homicidio_culposo_outros",
         "orientation": "v",
         "showlegend": true,
         "textposition": "auto",
         "type": "bar",
         "x": [
          "Araçatuba",
          "Bauru",
          "Campinas",
          "Capital",
          "Grande São Paulo (exclui a Capital)",
          "Piracicaba",
          "Presidente Prudente",
          "Ribeirão Preto",
          "Santos",
          "Sorocaba",
          "São José do Rio Preto",
          "São José dos Campos"
         ],
         "xaxis": "x",
         "y": [
          6,
          6,
          14,
          24,
          36,
          18,
          5,
          23,
          19,
          11,
          11,
          10
         ],
         "yaxis": "y"
        },
        {
         "alignmentgroup": "True",
         "hovertemplate": "variable=tentativa_de_homicidio<br>regiao_ssp=%{x}<br>value=%{y}<extra></extra>",
         "legendgroup": "tentativa_de_homicidio",
         "marker": {
          "color": "#FF6692",
          "pattern": {
           "shape": ""
          }
         },
         "name": "tentativa_de_homicidio",
         "offsetgroup": "tentativa_de_homicidio",
         "orientation": "v",
         "showlegend": true,
         "textposition": "auto",
         "type": "bar",
         "x": [
          "Araçatuba",
          "Bauru",
          "Campinas",
          "Capital",
          "Grande São Paulo (exclui a Capital)",
          "Piracicaba",
          "Presidente Prudente",
          "Ribeirão Preto",
          "Santos",
          "Sorocaba",
          "São José do Rio Preto",
          "São José dos Campos"
         ],
         "xaxis": "x",
         "y": [
          112,
          158,
          254,
          746,
          565,
          229,
          63,
          272,
          264,
          224,
          153,
          324
         ],
         "yaxis": "y"
        },
        {
         "alignmentgroup": "True",
         "hovertemplate": "variable=total_de_estupro<br>regiao_ssp=%{x}<br>value=%{y}<extra></extra>",
         "legendgroup": "total_de_estupro",
         "marker": {
          "color": "#B6E880",
          "pattern": {
           "shape": ""
          }
         },
         "name": "total_de_estupro",
         "offsetgroup": "total_de_estupro",
         "orientation": "v",
         "showlegend": true,
         "textposition": "auto",
         "type": "bar",
         "x": [
          "Araçatuba",
          "Bauru",
          "Campinas",
          "Capital",
          "Grande São Paulo (exclui a Capital)",
          "Piracicaba",
          "Presidente Prudente",
          "Ribeirão Preto",
          "Santos",
          "Sorocaba",
          "São José do Rio Preto",
          "São José dos Campos"
         ],
         "xaxis": "x",
         "y": [
          234,
          615,
          923,
          2663,
          2504,
          730,
          345,
          956,
          664,
          1302,
          595,
          840
         ],
         "yaxis": "y"
        },
        {
         "alignmentgroup": "True",
         "hovertemplate": "variable=estupro<br>regiao_ssp=%{x}<br>value=%{y}<extra></extra>",
         "legendgroup": "estupro",
         "marker": {
          "color": "#FF97FF",
          "pattern": {
           "shape": ""
          }
         },
         "name": "estupro",
         "offsetgroup": "estupro",
         "orientation": "v",
         "showlegend": true,
         "textposition": "auto",
         "type": "bar",
         "x": [
          "Araçatuba",
          "Bauru",
          "Campinas",
          "Capital",
          "Grande São Paulo (exclui a Capital)",
          "Piracicaba",
          "Presidente Prudente",
          "Ribeirão Preto",
          "Santos",
          "Sorocaba",
          "São José do Rio Preto",
          "São José dos Campos"
         ],
         "xaxis": "x",
         "y": [
          50,
          145,
          260,
          772,
          612,
          184,
          58,
          258,
          185,
          290,
          138,
          204
         ],
         "yaxis": "y"
        },
        {
         "alignmentgroup": "True",
         "hovertemplate": "variable=estupro_de_vulneravel<br>regiao_ssp=%{x}<br>value=%{y}<extra></extra>",
         "legendgroup": "estupro_de_vulneravel",
         "marker": {
          "color": "#FECB52",
          "pattern": {
           "shape": ""
          }
         },
         "name": "estupro_de_vulneravel",
         "offsetgroup": "estupro_de_vulneravel",
         "orientation": "v",
         "showlegend": true,
         "textposition": "auto",
         "type": "bar",
         "x": [
          "Araçatuba",
          "Bauru",
          "Campinas",
          "Capital",
          "Grande São Paulo (exclui a Capital)",
          "Piracicaba",
          "Presidente Prudente",
          "Ribeirão Preto",
          "Santos",
          "Sorocaba",
          "São José do Rio Preto",
          "São José dos Campos"
         ],
         "xaxis": "x",
         "y": [
          184,
          470,
          663,
          1891,
          1892,
          546,
          287,
          698,
          479,
          1012,
          457,
          636
         ],
         "yaxis": "y"
        },
        {
         "alignmentgroup": "True",
         "hovertemplate": "variable=total_de_roubo_outros<br>regiao_ssp=%{x}<br>value=%{y}<extra></extra>",
         "legendgroup": "total_de_roubo_outros",
         "marker": {
          "color": "#636efa",
          "pattern": {
           "shape": ""
          }
         },
         "name": "total_de_roubo_outros",
         "offsetgroup": "total_de_roubo_outros",
         "orientation": "v",
         "showlegend": true,
         "textposition": "auto",
         "type": "bar",
         "x": [
          "Araçatuba",
          "Bauru",
          "Campinas",
          "Capital",
          "Grande São Paulo (exclui a Capital)",
          "Piracicaba",
          "Presidente Prudente",
          "Ribeirão Preto",
          "Santos",
          "Sorocaba",
          "São José do Rio Preto",
          "São José dos Campos"
         ],
         "xaxis": "x",
         "y": [
          735,
          1696,
          11994,
          141134,
          59059,
          7193,
          419,
          6262,
          14520,
          4138,
          1276,
          6969
         ],
         "yaxis": "y"
        },
        {
         "alignmentgroup": "True",
         "hovertemplate": "variable=roubo_outros<br>regiao_ssp=%{x}<br>value=%{y}<extra></extra>",
         "legendgroup": "roubo_outros",
         "marker": {
          "color": "#EF553B",
          "pattern": {
           "shape": ""
          }
         },
         "name": "roubo_outros",
         "offsetgroup": "roubo_outros",
         "orientation": "v",
         "showlegend": true,
         "textposition": "auto",
         "type": "bar",
         "x": [
          "Araçatuba",
          "Bauru",
          "Campinas",
          "Capital",
          "Grande São Paulo (exclui a Capital)",
          "Piracicaba",
          "Presidente Prudente",
          "Ribeirão Preto",
          "Santos",
          "Sorocaba",
          "São José do Rio Preto",
          "São José dos Campos"
         ],
         "xaxis": "x",
         "y": [
          727,
          1654,
          11482,
          137369,
          57212,
          6906,
          404,
          6092,
          14124,
          4033,
          1258,
          6788
         ],
         "yaxis": "y"
        },
        {
         "alignmentgroup": "True",
         "hovertemplate": "variable=roubo_de_veiculo<br>regiao_ssp=%{x}<br>value=%{y}<extra></extra>",
         "legendgroup": "roubo_de_veiculo",
         "marker": {
          "color": "#00cc96",
          "pattern": {
           "shape": ""
          }
         },
         "name": "roubo_de_veiculo",
         "offsetgroup": "roubo_de_veiculo",
         "orientation": "v",
         "showlegend": true,
         "textposition": "auto",
         "type": "bar",
         "x": [
          "Araçatuba",
          "Bauru",
          "Campinas",
          "Capital",
          "Grande São Paulo (exclui a Capital)",
          "Piracicaba",
          "Presidente Prudente",
          "Ribeirão Preto",
          "Santos",
          "Sorocaba",
          "São José do Rio Preto",
          "São José dos Campos"
         ],
         "xaxis": "x",
         "y": [
          66,
          132,
          3958,
          21229,
          14391,
          1857,
          29,
          1117,
          1493,
          851,
          102,
          1289
         ],
         "yaxis": "y"
        },
        {
         "alignmentgroup": "True",
         "hovertemplate": "variable=roubo_a_banco<br>regiao_ssp=%{x}<br>value=%{y}<extra></extra>",
         "legendgroup": "roubo_a_banco",
         "marker": {
          "color": "#ab63fa",
          "pattern": {
           "shape": ""
          }
         },
         "name": "roubo_a_banco",
         "offsetgroup": "roubo_a_banco",
         "orientation": "v",
         "showlegend": true,
         "textposition": "auto",
         "type": "bar",
         "x": [
          "Araçatuba",
          "Bauru",
          "Campinas",
          "Capital",
          "Grande São Paulo (exclui a Capital)",
          "Piracicaba",
          "Presidente Prudente",
          "Ribeirão Preto",
          "Santos",
          "Sorocaba",
          "São José do Rio Preto",
          "São José dos Campos"
         ],
         "xaxis": "x",
         "y": [
          0,
          0,
          0,
          13,
          3,
          2,
          0,
          0,
          1,
          1,
          1,
          0
         ],
         "yaxis": "y"
        },
        {
         "alignmentgroup": "True",
         "hovertemplate": "variable=roubo_de_carga<br>regiao_ssp=%{x}<br>value=%{y}<extra></extra>",
         "legendgroup": "roubo_de_carga",
         "marker": {
          "color": "#FFA15A",
          "pattern": {
           "shape": ""
          }
         },
         "name": "roubo_de_carga",
         "offsetgroup": "roubo_de_carga",
         "orientation": "v",
         "showlegend": true,
         "textposition": "auto",
         "type": "bar",
         "x": [
          "Araçatuba",
          "Bauru",
          "Campinas",
          "Capital",
          "Grande São Paulo (exclui a Capital)",
          "Piracicaba",
          "Presidente Prudente",
          "Ribeirão Preto",
          "Santos",
          "Sorocaba",
          "São José do Rio Preto",
          "São José dos Campos"
         ],
         "xaxis": "x",
         "y": [
          8,
          42,
          512,
          3752,
          1844,
          285,
          15,
          170,
          395,
          104,
          17,
          181
         ],
         "yaxis": "y"
        },
        {
         "alignmentgroup": "True",
         "hovertemplate": "variable=furto_outros<br>regiao_ssp=%{x}<br>value=%{y}<extra></extra>",
         "legendgroup": "furto_outros",
         "marker": {
          "color": "#19d3f3",
          "pattern": {
           "shape": ""
          }
         },
         "name": "furto_outros",
         "offsetgroup": "furto_outros",
         "orientation": "v",
         "showlegend": true,
         "textposition": "auto",
         "type": "bar",
         "x": [
          "Araçatuba",
          "Bauru",
          "Campinas",
          "Capital",
          "Grande São Paulo (exclui a Capital)",
          "Piracicaba",
          "Presidente Prudente",
          "Ribeirão Preto",
          "Santos",
          "Sorocaba",
          "São José do Rio Preto",
          "São José dos Campos"
         ],
         "xaxis": "x",
         "y": [
          7486,
          18547,
          37093,
          226566,
          68810,
          26921,
          8592,
          38366,
          28937,
          23842,
          14906,
          22027
         ],
         "yaxis": "y"
        },
        {
         "alignmentgroup": "True",
         "hovertemplate": "variable=furto_de_veiculo<br>regiao_ssp=%{x}<br>value=%{y}<extra></extra>",
         "legendgroup": "furto_de_veiculo",
         "marker": {
          "color": "#FF6692",
          "pattern": {
           "shape": ""
          }
         },
         "name": "furto_de_veiculo",
         "offsetgroup": "furto_de_veiculo",
         "orientation": "v",
         "showlegend": true,
         "textposition": "auto",
         "type": "bar",
         "x": [
          "Araçatuba",
          "Bauru",
          "Campinas",
          "Capital",
          "Grande São Paulo (exclui a Capital)",
          "Piracicaba",
          "Presidente Prudente",
          "Ribeirão Preto",
          "Santos",
          "Sorocaba",
          "São José do Rio Preto",
          "São José dos Campos"
         ],
         "xaxis": "x",
         "y": [
          437,
          1381,
          7464,
          37331,
          21698,
          6074,
          400,
          4567,
          2904,
          3178,
          1537,
          3673
         ],
         "yaxis": "y"
        }
       ],
       "layout": {
        "barmode": "relative",
        "legend": {
         "title": {
          "text": "variable"
         },
         "tracegroupgap": 0
        },
        "margin": {
         "t": 60
        },
        "template": {
         "data": {
          "bar": [
           {
            "error_x": {
             "color": "#2a3f5f"
            },
            "error_y": {
             "color": "#2a3f5f"
            },
            "marker": {
             "line": {
              "color": "#E5ECF6",
              "width": 0.5
             },
             "pattern": {
              "fillmode": "overlay",
              "size": 10,
              "solidity": 0.2
             }
            },
            "type": "bar"
           }
          ],
          "barpolar": [
           {
            "marker": {
             "line": {
              "color": "#E5ECF6",
              "width": 0.5
             },
             "pattern": {
              "fillmode": "overlay",
              "size": 10,
              "solidity": 0.2
             }
            },
            "type": "barpolar"
           }
          ],
          "carpet": [
           {
            "aaxis": {
             "endlinecolor": "#2a3f5f",
             "gridcolor": "white",
             "linecolor": "white",
             "minorgridcolor": "white",
             "startlinecolor": "#2a3f5f"
            },
            "baxis": {
             "endlinecolor": "#2a3f5f",
             "gridcolor": "white",
             "linecolor": "white",
             "minorgridcolor": "white",
             "startlinecolor": "#2a3f5f"
            },
            "type": "carpet"
           }
          ],
          "choropleth": [
           {
            "colorbar": {
             "outlinewidth": 0,
             "ticks": ""
            },
            "type": "choropleth"
           }
          ],
          "contour": [
           {
            "colorbar": {
             "outlinewidth": 0,
             "ticks": ""
            },
            "colorscale": [
             [
              0,
              "#0d0887"
             ],
             [
              0.1111111111111111,
              "#46039f"
             ],
             [
              0.2222222222222222,
              "#7201a8"
             ],
             [
              0.3333333333333333,
              "#9c179e"
             ],
             [
              0.4444444444444444,
              "#bd3786"
             ],
             [
              0.5555555555555556,
              "#d8576b"
             ],
             [
              0.6666666666666666,
              "#ed7953"
             ],
             [
              0.7777777777777778,
              "#fb9f3a"
             ],
             [
              0.8888888888888888,
              "#fdca26"
             ],
             [
              1,
              "#f0f921"
             ]
            ],
            "type": "contour"
           }
          ],
          "contourcarpet": [
           {
            "colorbar": {
             "outlinewidth": 0,
             "ticks": ""
            },
            "type": "contourcarpet"
           }
          ],
          "heatmap": [
           {
            "colorbar": {
             "outlinewidth": 0,
             "ticks": ""
            },
            "colorscale": [
             [
              0,
              "#0d0887"
             ],
             [
              0.1111111111111111,
              "#46039f"
             ],
             [
              0.2222222222222222,
              "#7201a8"
             ],
             [
              0.3333333333333333,
              "#9c179e"
             ],
             [
              0.4444444444444444,
              "#bd3786"
             ],
             [
              0.5555555555555556,
              "#d8576b"
             ],
             [
              0.6666666666666666,
              "#ed7953"
             ],
             [
              0.7777777777777778,
              "#fb9f3a"
             ],
             [
              0.8888888888888888,
              "#fdca26"
             ],
             [
              1,
              "#f0f921"
             ]
            ],
            "type": "heatmap"
           }
          ],
          "heatmapgl": [
           {
            "colorbar": {
             "outlinewidth": 0,
             "ticks": ""
            },
            "colorscale": [
             [
              0,
              "#0d0887"
             ],
             [
              0.1111111111111111,
              "#46039f"
             ],
             [
              0.2222222222222222,
              "#7201a8"
             ],
             [
              0.3333333333333333,
              "#9c179e"
             ],
             [
              0.4444444444444444,
              "#bd3786"
             ],
             [
              0.5555555555555556,
              "#d8576b"
             ],
             [
              0.6666666666666666,
              "#ed7953"
             ],
             [
              0.7777777777777778,
              "#fb9f3a"
             ],
             [
              0.8888888888888888,
              "#fdca26"
             ],
             [
              1,
              "#f0f921"
             ]
            ],
            "type": "heatmapgl"
           }
          ],
          "histogram": [
           {
            "marker": {
             "pattern": {
              "fillmode": "overlay",
              "size": 10,
              "solidity": 0.2
             }
            },
            "type": "histogram"
           }
          ],
          "histogram2d": [
           {
            "colorbar": {
             "outlinewidth": 0,
             "ticks": ""
            },
            "colorscale": [
             [
              0,
              "#0d0887"
             ],
             [
              0.1111111111111111,
              "#46039f"
             ],
             [
              0.2222222222222222,
              "#7201a8"
             ],
             [
              0.3333333333333333,
              "#9c179e"
             ],
             [
              0.4444444444444444,
              "#bd3786"
             ],
             [
              0.5555555555555556,
              "#d8576b"
             ],
             [
              0.6666666666666666,
              "#ed7953"
             ],
             [
              0.7777777777777778,
              "#fb9f3a"
             ],
             [
              0.8888888888888888,
              "#fdca26"
             ],
             [
              1,
              "#f0f921"
             ]
            ],
            "type": "histogram2d"
           }
          ],
          "histogram2dcontour": [
           {
            "colorbar": {
             "outlinewidth": 0,
             "ticks": ""
            },
            "colorscale": [
             [
              0,
              "#0d0887"
             ],
             [
              0.1111111111111111,
              "#46039f"
             ],
             [
              0.2222222222222222,
              "#7201a8"
             ],
             [
              0.3333333333333333,
              "#9c179e"
             ],
             [
              0.4444444444444444,
              "#bd3786"
             ],
             [
              0.5555555555555556,
              "#d8576b"
             ],
             [
              0.6666666666666666,
              "#ed7953"
             ],
             [
              0.7777777777777778,
              "#fb9f3a"
             ],
             [
              0.8888888888888888,
              "#fdca26"
             ],
             [
              1,
              "#f0f921"
             ]
            ],
            "type": "histogram2dcontour"
           }
          ],
          "mesh3d": [
           {
            "colorbar": {
             "outlinewidth": 0,
             "ticks": ""
            },
            "type": "mesh3d"
           }
          ],
          "parcoords": [
           {
            "line": {
             "colorbar": {
              "outlinewidth": 0,
              "ticks": ""
             }
            },
            "type": "parcoords"
           }
          ],
          "pie": [
           {
            "automargin": true,
            "type": "pie"
           }
          ],
          "scatter": [
           {
            "fillpattern": {
             "fillmode": "overlay",
             "size": 10,
             "solidity": 0.2
            },
            "type": "scatter"
           }
          ],
          "scatter3d": [
           {
            "line": {
             "colorbar": {
              "outlinewidth": 0,
              "ticks": ""
             }
            },
            "marker": {
             "colorbar": {
              "outlinewidth": 0,
              "ticks": ""
             }
            },
            "type": "scatter3d"
           }
          ],
          "scattercarpet": [
           {
            "marker": {
             "colorbar": {
              "outlinewidth": 0,
              "ticks": ""
             }
            },
            "type": "scattercarpet"
           }
          ],
          "scattergeo": [
           {
            "marker": {
             "colorbar": {
              "outlinewidth": 0,
              "ticks": ""
             }
            },
            "type": "scattergeo"
           }
          ],
          "scattergl": [
           {
            "marker": {
             "colorbar": {
              "outlinewidth": 0,
              "ticks": ""
             }
            },
            "type": "scattergl"
           }
          ],
          "scattermapbox": [
           {
            "marker": {
             "colorbar": {
              "outlinewidth": 0,
              "ticks": ""
             }
            },
            "type": "scattermapbox"
           }
          ],
          "scatterpolar": [
           {
            "marker": {
             "colorbar": {
              "outlinewidth": 0,
              "ticks": ""
             }
            },
            "type": "scatterpolar"
           }
          ],
          "scatterpolargl": [
           {
            "marker": {
             "colorbar": {
              "outlinewidth": 0,
              "ticks": ""
             }
            },
            "type": "scatterpolargl"
           }
          ],
          "scatterternary": [
           {
            "marker": {
             "colorbar": {
              "outlinewidth": 0,
              "ticks": ""
             }
            },
            "type": "scatterternary"
           }
          ],
          "surface": [
           {
            "colorbar": {
             "outlinewidth": 0,
             "ticks": ""
            },
            "colorscale": [
             [
              0,
              "#0d0887"
             ],
             [
              0.1111111111111111,
              "#46039f"
             ],
             [
              0.2222222222222222,
              "#7201a8"
             ],
             [
              0.3333333333333333,
              "#9c179e"
             ],
             [
              0.4444444444444444,
              "#bd3786"
             ],
             [
              0.5555555555555556,
              "#d8576b"
             ],
             [
              0.6666666666666666,
              "#ed7953"
             ],
             [
              0.7777777777777778,
              "#fb9f3a"
             ],
             [
              0.8888888888888888,
              "#fdca26"
             ],
             [
              1,
              "#f0f921"
             ]
            ],
            "type": "surface"
           }
          ],
          "table": [
           {
            "cells": {
             "fill": {
              "color": "#EBF0F8"
             },
             "line": {
              "color": "white"
             }
            },
            "header": {
             "fill": {
              "color": "#C8D4E3"
             },
             "line": {
              "color": "white"
             }
            },
            "type": "table"
           }
          ]
         },
         "layout": {
          "annotationdefaults": {
           "arrowcolor": "#2a3f5f",
           "arrowhead": 0,
           "arrowwidth": 1
          },
          "autotypenumbers": "strict",
          "coloraxis": {
           "colorbar": {
            "outlinewidth": 0,
            "ticks": ""
           }
          },
          "colorscale": {
           "diverging": [
            [
             0,
             "#8e0152"
            ],
            [
             0.1,
             "#c51b7d"
            ],
            [
             0.2,
             "#de77ae"
            ],
            [
             0.3,
             "#f1b6da"
            ],
            [
             0.4,
             "#fde0ef"
            ],
            [
             0.5,
             "#f7f7f7"
            ],
            [
             0.6,
             "#e6f5d0"
            ],
            [
             0.7,
             "#b8e186"
            ],
            [
             0.8,
             "#7fbc41"
            ],
            [
             0.9,
             "#4d9221"
            ],
            [
             1,
             "#276419"
            ]
           ],
           "sequential": [
            [
             0,
             "#0d0887"
            ],
            [
             0.1111111111111111,
             "#46039f"
            ],
            [
             0.2222222222222222,
             "#7201a8"
            ],
            [
             0.3333333333333333,
             "#9c179e"
            ],
            [
             0.4444444444444444,
             "#bd3786"
            ],
            [
             0.5555555555555556,
             "#d8576b"
            ],
            [
             0.6666666666666666,
             "#ed7953"
            ],
            [
             0.7777777777777778,
             "#fb9f3a"
            ],
            [
             0.8888888888888888,
             "#fdca26"
            ],
            [
             1,
             "#f0f921"
            ]
           ],
           "sequentialminus": [
            [
             0,
             "#0d0887"
            ],
            [
             0.1111111111111111,
             "#46039f"
            ],
            [
             0.2222222222222222,
             "#7201a8"
            ],
            [
             0.3333333333333333,
             "#9c179e"
            ],
            [
             0.4444444444444444,
             "#bd3786"
            ],
            [
             0.5555555555555556,
             "#d8576b"
            ],
            [
             0.6666666666666666,
             "#ed7953"
            ],
            [
             0.7777777777777778,
             "#fb9f3a"
            ],
            [
             0.8888888888888888,
             "#fdca26"
            ],
            [
             1,
             "#f0f921"
            ]
           ]
          },
          "colorway": [
           "#636efa",
           "#EF553B",
           "#00cc96",
           "#ab63fa",
           "#FFA15A",
           "#19d3f3",
           "#FF6692",
           "#B6E880",
           "#FF97FF",
           "#FECB52"
          ],
          "font": {
           "color": "#2a3f5f"
          },
          "geo": {
           "bgcolor": "white",
           "lakecolor": "white",
           "landcolor": "#E5ECF6",
           "showlakes": true,
           "showland": true,
           "subunitcolor": "white"
          },
          "hoverlabel": {
           "align": "left"
          },
          "hovermode": "closest",
          "mapbox": {
           "style": "light"
          },
          "paper_bgcolor": "white",
          "plot_bgcolor": "#E5ECF6",
          "polar": {
           "angularaxis": {
            "gridcolor": "white",
            "linecolor": "white",
            "ticks": ""
           },
           "bgcolor": "#E5ECF6",
           "radialaxis": {
            "gridcolor": "white",
            "linecolor": "white",
            "ticks": ""
           }
          },
          "scene": {
           "xaxis": {
            "backgroundcolor": "#E5ECF6",
            "gridcolor": "white",
            "gridwidth": 2,
            "linecolor": "white",
            "showbackground": true,
            "ticks": "",
            "zerolinecolor": "white"
           },
           "yaxis": {
            "backgroundcolor": "#E5ECF6",
            "gridcolor": "white",
            "gridwidth": 2,
            "linecolor": "white",
            "showbackground": true,
            "ticks": "",
            "zerolinecolor": "white"
           },
           "zaxis": {
            "backgroundcolor": "#E5ECF6",
            "gridcolor": "white",
            "gridwidth": 2,
            "linecolor": "white",
            "showbackground": true,
            "ticks": "",
            "zerolinecolor": "white"
           }
          },
          "shapedefaults": {
           "line": {
            "color": "#2a3f5f"
           }
          },
          "ternary": {
           "aaxis": {
            "gridcolor": "white",
            "linecolor": "white",
            "ticks": ""
           },
           "baxis": {
            "gridcolor": "white",
            "linecolor": "white",
            "ticks": ""
           },
           "bgcolor": "#E5ECF6",
           "caxis": {
            "gridcolor": "white",
            "linecolor": "white",
            "ticks": ""
           }
          },
          "title": {
           "x": 0.05
          },
          "xaxis": {
           "automargin": true,
           "gridcolor": "white",
           "linecolor": "white",
           "ticks": "",
           "title": {
            "standoff": 15
           },
           "zerolinecolor": "white",
           "zerolinewidth": 2
          },
          "yaxis": {
           "automargin": true,
           "gridcolor": "white",
           "linecolor": "white",
           "ticks": "",
           "title": {
            "standoff": 15
           },
           "zerolinecolor": "white",
           "zerolinewidth": 2
          }
         }
        },
        "title": {
         "text": "tabela 2019"
        },
        "xaxis": {
         "anchor": "y",
         "domain": [
          0,
          1
         ],
         "title": {
          "text": "regiões de São Paulo"
         }
        },
        "yaxis": {
         "anchor": "x",
         "domain": [
          0,
          1
         ],
         "title": {
          "text": "taxas de crimes em 2019"
         }
        }
       }
      },
      "text/html": [
       "<div>                            <div id=\"4e616968-6405-4d91-8667-97b8cc260a75\" class=\"plotly-graph-div\" style=\"height:525px; width:100%;\"></div>            <script type=\"text/javascript\">                require([\"plotly\"], function(Plotly) {                    window.PLOTLYENV=window.PLOTLYENV || {};                                    if (document.getElementById(\"4e616968-6405-4d91-8667-97b8cc260a75\")) {                    Plotly.newPlot(                        \"4e616968-6405-4d91-8667-97b8cc260a75\",                        [{\"alignmentgroup\":\"True\",\"hovertemplate\":\"variable=homicidio_doloso<br>regiao_ssp=%{x}<br>value=%{y}<extra></extra>\",\"legendgroup\":\"homicidio_doloso\",\"marker\":{\"color\":\"#636efa\",\"pattern\":{\"shape\":\"\"}},\"name\":\"homicidio_doloso\",\"offsetgroup\":\"homicidio_doloso\",\"orientation\":\"v\",\"showlegend\":true,\"textposition\":\"auto\",\"x\":[\"Ara\\u00e7atuba\",\"Bauru\",\"Campinas\",\"Capital\",\"Grande S\\u00e3o Paulo (exclui a Capital)\",\"Piracicaba\",\"Presidente Prudente\",\"Ribeir\\u00e3o Preto\",\"Santos\",\"Sorocaba\",\"S\\u00e3o Jos\\u00e9 do Rio Preto\",\"S\\u00e3o Jos\\u00e9 dos Campos\"],\"xaxis\":\"x\",\"y\":[58.0,90.0,273.0,650.0,566.0,176.0,50.0,220.0,141.0,188.0,75.0,289.0],\"yaxis\":\"y\",\"type\":\"bar\"},{\"alignmentgroup\":\"True\",\"hovertemplate\":\"variable=numero_de_vitimas_em_homicidio_doloso<br>regiao_ssp=%{x}<br>value=%{y}<extra></extra>\",\"legendgroup\":\"numero_de_vitimas_em_homicidio_doloso\",\"marker\":{\"color\":\"#EF553B\",\"pattern\":{\"shape\":\"\"}},\"name\":\"numero_de_vitimas_em_homicidio_doloso\",\"offsetgroup\":\"numero_de_vitimas_em_homicidio_doloso\",\"orientation\":\"v\",\"showlegend\":true,\"textposition\":\"auto\",\"x\":[\"Ara\\u00e7atuba\",\"Bauru\",\"Campinas\",\"Capital\",\"Grande S\\u00e3o Paulo (exclui a Capital)\",\"Piracicaba\",\"Presidente Prudente\",\"Ribeir\\u00e3o Preto\",\"Santos\",\"Sorocaba\",\"S\\u00e3o Jos\\u00e9 do Rio Preto\",\"S\\u00e3o Jos\\u00e9 dos Campos\"],\"xaxis\":\"x\",\"y\":[59.0,93.0,287.0,685.0,595.0,183.0,52.0,231.0,151.0,190.0,77.0,300.0],\"yaxis\":\"y\",\"type\":\"bar\"},{\"alignmentgroup\":\"True\",\"hovertemplate\":\"variable=homicidio_doloso_por_acidente_de_transito<br>regiao_ssp=%{x}<br>value=%{y}<extra></extra>\",\"legendgroup\":\"homicidio_doloso_por_acidente_de_transito\",\"marker\":{\"color\":\"#00cc96\",\"pattern\":{\"shape\":\"\"}},\"name\":\"homicidio_doloso_por_acidente_de_transito\",\"offsetgroup\":\"homicidio_doloso_por_acidente_de_transito\",\"orientation\":\"v\",\"showlegend\":true,\"textposition\":\"auto\",\"x\":[\"Ara\\u00e7atuba\",\"Bauru\",\"Campinas\",\"Capital\",\"Grande S\\u00e3o Paulo (exclui a Capital)\",\"Piracicaba\",\"Presidente Prudente\",\"Ribeir\\u00e3o Preto\",\"Santos\",\"Sorocaba\",\"S\\u00e3o Jos\\u00e9 do Rio Preto\",\"S\\u00e3o Jos\\u00e9 dos Campos\"],\"xaxis\":\"x\",\"y\":[0.0,0.0,2.0,3.0,4.0,1.0,1.0,2.0,1.0,2.0,2.0,0.0],\"yaxis\":\"y\",\"type\":\"bar\"},{\"alignmentgroup\":\"True\",\"hovertemplate\":\"variable=numero_de_vitimas_em_homicidio_doloso_por_acidente_de_transito<br>regiao_ssp=%{x}<br>value=%{y}<extra></extra>\",\"legendgroup\":\"numero_de_vitimas_em_homicidio_doloso_por_acidente_de_transito\",\"marker\":{\"color\":\"#ab63fa\",\"pattern\":{\"shape\":\"\"}},\"name\":\"numero_de_vitimas_em_homicidio_doloso_por_acidente_de_transito\",\"offsetgroup\":\"numero_de_vitimas_em_homicidio_doloso_por_acidente_de_transito\",\"orientation\":\"v\",\"showlegend\":true,\"textposition\":\"auto\",\"x\":[\"Ara\\u00e7atuba\",\"Bauru\",\"Campinas\",\"Capital\",\"Grande S\\u00e3o Paulo (exclui a Capital)\",\"Piracicaba\",\"Presidente Prudente\",\"Ribeir\\u00e3o Preto\",\"Santos\",\"Sorocaba\",\"S\\u00e3o Jos\\u00e9 do Rio Preto\",\"S\\u00e3o Jos\\u00e9 dos Campos\"],\"xaxis\":\"x\",\"y\":[0.0,0.0,3.0,3.0,4.0,1.0,1.0,2.0,1.0,2.0,2.0,0.0],\"yaxis\":\"y\",\"type\":\"bar\"},{\"alignmentgroup\":\"True\",\"hovertemplate\":\"variable=homicidio_culposo_por_acidente_de_transito<br>regiao_ssp=%{x}<br>value=%{y}<extra></extra>\",\"legendgroup\":\"homicidio_culposo_por_acidente_de_transito\",\"marker\":{\"color\":\"#FFA15A\",\"pattern\":{\"shape\":\"\"}},\"name\":\"homicidio_culposo_por_acidente_de_transito\",\"offsetgroup\":\"homicidio_culposo_por_acidente_de_transito\",\"orientation\":\"v\",\"showlegend\":true,\"textposition\":\"auto\",\"x\":[\"Ara\\u00e7atuba\",\"Bauru\",\"Campinas\",\"Capital\",\"Grande S\\u00e3o Paulo (exclui a Capital)\",\"Piracicaba\",\"Presidente Prudente\",\"Ribeir\\u00e3o Preto\",\"Santos\",\"Sorocaba\",\"S\\u00e3o Jos\\u00e9 do Rio Preto\",\"S\\u00e3o Jos\\u00e9 dos Campos\"],\"xaxis\":\"x\",\"y\":[82.0,187.0,332.0,421.0,436.0,273.0,113.0,368.0,210.0,368.0,208.0,238.0],\"yaxis\":\"y\",\"type\":\"bar\"},{\"alignmentgroup\":\"True\",\"hovertemplate\":\"variable=homicidio_culposo_outros<br>regiao_ssp=%{x}<br>value=%{y}<extra></extra>\",\"legendgroup\":\"homicidio_culposo_outros\",\"marker\":{\"color\":\"#19d3f3\",\"pattern\":{\"shape\":\"\"}},\"name\":\"homicidio_culposo_outros\",\"offsetgroup\":\"homicidio_culposo_outros\",\"orientation\":\"v\",\"showlegend\":true,\"textposition\":\"auto\",\"x\":[\"Ara\\u00e7atuba\",\"Bauru\",\"Campinas\",\"Capital\",\"Grande S\\u00e3o Paulo (exclui a Capital)\",\"Piracicaba\",\"Presidente Prudente\",\"Ribeir\\u00e3o Preto\",\"Santos\",\"Sorocaba\",\"S\\u00e3o Jos\\u00e9 do Rio Preto\",\"S\\u00e3o Jos\\u00e9 dos Campos\"],\"xaxis\":\"x\",\"y\":[6.0,6.0,14.0,24.0,36.0,18.0,5.0,23.0,19.0,11.0,11.0,10.0],\"yaxis\":\"y\",\"type\":\"bar\"},{\"alignmentgroup\":\"True\",\"hovertemplate\":\"variable=tentativa_de_homicidio<br>regiao_ssp=%{x}<br>value=%{y}<extra></extra>\",\"legendgroup\":\"tentativa_de_homicidio\",\"marker\":{\"color\":\"#FF6692\",\"pattern\":{\"shape\":\"\"}},\"name\":\"tentativa_de_homicidio\",\"offsetgroup\":\"tentativa_de_homicidio\",\"orientation\":\"v\",\"showlegend\":true,\"textposition\":\"auto\",\"x\":[\"Ara\\u00e7atuba\",\"Bauru\",\"Campinas\",\"Capital\",\"Grande S\\u00e3o Paulo (exclui a Capital)\",\"Piracicaba\",\"Presidente Prudente\",\"Ribeir\\u00e3o Preto\",\"Santos\",\"Sorocaba\",\"S\\u00e3o Jos\\u00e9 do Rio Preto\",\"S\\u00e3o Jos\\u00e9 dos Campos\"],\"xaxis\":\"x\",\"y\":[112.0,158.0,254.0,746.0,565.0,229.0,63.0,272.0,264.0,224.0,153.0,324.0],\"yaxis\":\"y\",\"type\":\"bar\"},{\"alignmentgroup\":\"True\",\"hovertemplate\":\"variable=total_de_estupro<br>regiao_ssp=%{x}<br>value=%{y}<extra></extra>\",\"legendgroup\":\"total_de_estupro\",\"marker\":{\"color\":\"#B6E880\",\"pattern\":{\"shape\":\"\"}},\"name\":\"total_de_estupro\",\"offsetgroup\":\"total_de_estupro\",\"orientation\":\"v\",\"showlegend\":true,\"textposition\":\"auto\",\"x\":[\"Ara\\u00e7atuba\",\"Bauru\",\"Campinas\",\"Capital\",\"Grande S\\u00e3o Paulo (exclui a Capital)\",\"Piracicaba\",\"Presidente Prudente\",\"Ribeir\\u00e3o Preto\",\"Santos\",\"Sorocaba\",\"S\\u00e3o Jos\\u00e9 do Rio Preto\",\"S\\u00e3o Jos\\u00e9 dos Campos\"],\"xaxis\":\"x\",\"y\":[234.0,615.0,923.0,2663.0,2504.0,730.0,345.0,956.0,664.0,1302.0,595.0,840.0],\"yaxis\":\"y\",\"type\":\"bar\"},{\"alignmentgroup\":\"True\",\"hovertemplate\":\"variable=estupro<br>regiao_ssp=%{x}<br>value=%{y}<extra></extra>\",\"legendgroup\":\"estupro\",\"marker\":{\"color\":\"#FF97FF\",\"pattern\":{\"shape\":\"\"}},\"name\":\"estupro\",\"offsetgroup\":\"estupro\",\"orientation\":\"v\",\"showlegend\":true,\"textposition\":\"auto\",\"x\":[\"Ara\\u00e7atuba\",\"Bauru\",\"Campinas\",\"Capital\",\"Grande S\\u00e3o Paulo (exclui a Capital)\",\"Piracicaba\",\"Presidente Prudente\",\"Ribeir\\u00e3o Preto\",\"Santos\",\"Sorocaba\",\"S\\u00e3o Jos\\u00e9 do Rio Preto\",\"S\\u00e3o Jos\\u00e9 dos Campos\"],\"xaxis\":\"x\",\"y\":[50.0,145.0,260.0,772.0,612.0,184.0,58.0,258.0,185.0,290.0,138.0,204.0],\"yaxis\":\"y\",\"type\":\"bar\"},{\"alignmentgroup\":\"True\",\"hovertemplate\":\"variable=estupro_de_vulneravel<br>regiao_ssp=%{x}<br>value=%{y}<extra></extra>\",\"legendgroup\":\"estupro_de_vulneravel\",\"marker\":{\"color\":\"#FECB52\",\"pattern\":{\"shape\":\"\"}},\"name\":\"estupro_de_vulneravel\",\"offsetgroup\":\"estupro_de_vulneravel\",\"orientation\":\"v\",\"showlegend\":true,\"textposition\":\"auto\",\"x\":[\"Ara\\u00e7atuba\",\"Bauru\",\"Campinas\",\"Capital\",\"Grande S\\u00e3o Paulo (exclui a Capital)\",\"Piracicaba\",\"Presidente Prudente\",\"Ribeir\\u00e3o Preto\",\"Santos\",\"Sorocaba\",\"S\\u00e3o Jos\\u00e9 do Rio Preto\",\"S\\u00e3o Jos\\u00e9 dos Campos\"],\"xaxis\":\"x\",\"y\":[184.0,470.0,663.0,1891.0,1892.0,546.0,287.0,698.0,479.0,1012.0,457.0,636.0],\"yaxis\":\"y\",\"type\":\"bar\"},{\"alignmentgroup\":\"True\",\"hovertemplate\":\"variable=total_de_roubo_outros<br>regiao_ssp=%{x}<br>value=%{y}<extra></extra>\",\"legendgroup\":\"total_de_roubo_outros\",\"marker\":{\"color\":\"#636efa\",\"pattern\":{\"shape\":\"\"}},\"name\":\"total_de_roubo_outros\",\"offsetgroup\":\"total_de_roubo_outros\",\"orientation\":\"v\",\"showlegend\":true,\"textposition\":\"auto\",\"x\":[\"Ara\\u00e7atuba\",\"Bauru\",\"Campinas\",\"Capital\",\"Grande S\\u00e3o Paulo (exclui a Capital)\",\"Piracicaba\",\"Presidente Prudente\",\"Ribeir\\u00e3o Preto\",\"Santos\",\"Sorocaba\",\"S\\u00e3o Jos\\u00e9 do Rio Preto\",\"S\\u00e3o Jos\\u00e9 dos Campos\"],\"xaxis\":\"x\",\"y\":[735.0,1696.0,11994.0,141134.0,59059.0,7193.0,419.0,6262.0,14520.0,4138.0,1276.0,6969.0],\"yaxis\":\"y\",\"type\":\"bar\"},{\"alignmentgroup\":\"True\",\"hovertemplate\":\"variable=roubo_outros<br>regiao_ssp=%{x}<br>value=%{y}<extra></extra>\",\"legendgroup\":\"roubo_outros\",\"marker\":{\"color\":\"#EF553B\",\"pattern\":{\"shape\":\"\"}},\"name\":\"roubo_outros\",\"offsetgroup\":\"roubo_outros\",\"orientation\":\"v\",\"showlegend\":true,\"textposition\":\"auto\",\"x\":[\"Ara\\u00e7atuba\",\"Bauru\",\"Campinas\",\"Capital\",\"Grande S\\u00e3o Paulo (exclui a Capital)\",\"Piracicaba\",\"Presidente Prudente\",\"Ribeir\\u00e3o Preto\",\"Santos\",\"Sorocaba\",\"S\\u00e3o Jos\\u00e9 do Rio Preto\",\"S\\u00e3o Jos\\u00e9 dos Campos\"],\"xaxis\":\"x\",\"y\":[727.0,1654.0,11482.0,137369.0,57212.0,6906.0,404.0,6092.0,14124.0,4033.0,1258.0,6788.0],\"yaxis\":\"y\",\"type\":\"bar\"},{\"alignmentgroup\":\"True\",\"hovertemplate\":\"variable=roubo_de_veiculo<br>regiao_ssp=%{x}<br>value=%{y}<extra></extra>\",\"legendgroup\":\"roubo_de_veiculo\",\"marker\":{\"color\":\"#00cc96\",\"pattern\":{\"shape\":\"\"}},\"name\":\"roubo_de_veiculo\",\"offsetgroup\":\"roubo_de_veiculo\",\"orientation\":\"v\",\"showlegend\":true,\"textposition\":\"auto\",\"x\":[\"Ara\\u00e7atuba\",\"Bauru\",\"Campinas\",\"Capital\",\"Grande S\\u00e3o Paulo (exclui a Capital)\",\"Piracicaba\",\"Presidente Prudente\",\"Ribeir\\u00e3o Preto\",\"Santos\",\"Sorocaba\",\"S\\u00e3o Jos\\u00e9 do Rio Preto\",\"S\\u00e3o Jos\\u00e9 dos Campos\"],\"xaxis\":\"x\",\"y\":[66.0,132.0,3958.0,21229.0,14391.0,1857.0,29.0,1117.0,1493.0,851.0,102.0,1289.0],\"yaxis\":\"y\",\"type\":\"bar\"},{\"alignmentgroup\":\"True\",\"hovertemplate\":\"variable=roubo_a_banco<br>regiao_ssp=%{x}<br>value=%{y}<extra></extra>\",\"legendgroup\":\"roubo_a_banco\",\"marker\":{\"color\":\"#ab63fa\",\"pattern\":{\"shape\":\"\"}},\"name\":\"roubo_a_banco\",\"offsetgroup\":\"roubo_a_banco\",\"orientation\":\"v\",\"showlegend\":true,\"textposition\":\"auto\",\"x\":[\"Ara\\u00e7atuba\",\"Bauru\",\"Campinas\",\"Capital\",\"Grande S\\u00e3o Paulo (exclui a Capital)\",\"Piracicaba\",\"Presidente Prudente\",\"Ribeir\\u00e3o Preto\",\"Santos\",\"Sorocaba\",\"S\\u00e3o Jos\\u00e9 do Rio Preto\",\"S\\u00e3o Jos\\u00e9 dos Campos\"],\"xaxis\":\"x\",\"y\":[0.0,0.0,0.0,13.0,3.0,2.0,0.0,0.0,1.0,1.0,1.0,0.0],\"yaxis\":\"y\",\"type\":\"bar\"},{\"alignmentgroup\":\"True\",\"hovertemplate\":\"variable=roubo_de_carga<br>regiao_ssp=%{x}<br>value=%{y}<extra></extra>\",\"legendgroup\":\"roubo_de_carga\",\"marker\":{\"color\":\"#FFA15A\",\"pattern\":{\"shape\":\"\"}},\"name\":\"roubo_de_carga\",\"offsetgroup\":\"roubo_de_carga\",\"orientation\":\"v\",\"showlegend\":true,\"textposition\":\"auto\",\"x\":[\"Ara\\u00e7atuba\",\"Bauru\",\"Campinas\",\"Capital\",\"Grande S\\u00e3o Paulo (exclui a Capital)\",\"Piracicaba\",\"Presidente Prudente\",\"Ribeir\\u00e3o Preto\",\"Santos\",\"Sorocaba\",\"S\\u00e3o Jos\\u00e9 do Rio Preto\",\"S\\u00e3o Jos\\u00e9 dos Campos\"],\"xaxis\":\"x\",\"y\":[8.0,42.0,512.0,3752.0,1844.0,285.0,15.0,170.0,395.0,104.0,17.0,181.0],\"yaxis\":\"y\",\"type\":\"bar\"},{\"alignmentgroup\":\"True\",\"hovertemplate\":\"variable=furto_outros<br>regiao_ssp=%{x}<br>value=%{y}<extra></extra>\",\"legendgroup\":\"furto_outros\",\"marker\":{\"color\":\"#19d3f3\",\"pattern\":{\"shape\":\"\"}},\"name\":\"furto_outros\",\"offsetgroup\":\"furto_outros\",\"orientation\":\"v\",\"showlegend\":true,\"textposition\":\"auto\",\"x\":[\"Ara\\u00e7atuba\",\"Bauru\",\"Campinas\",\"Capital\",\"Grande S\\u00e3o Paulo (exclui a Capital)\",\"Piracicaba\",\"Presidente Prudente\",\"Ribeir\\u00e3o Preto\",\"Santos\",\"Sorocaba\",\"S\\u00e3o Jos\\u00e9 do Rio Preto\",\"S\\u00e3o Jos\\u00e9 dos Campos\"],\"xaxis\":\"x\",\"y\":[7486.0,18547.0,37093.0,226566.0,68810.0,26921.0,8592.0,38366.0,28937.0,23842.0,14906.0,22027.0],\"yaxis\":\"y\",\"type\":\"bar\"},{\"alignmentgroup\":\"True\",\"hovertemplate\":\"variable=furto_de_veiculo<br>regiao_ssp=%{x}<br>value=%{y}<extra></extra>\",\"legendgroup\":\"furto_de_veiculo\",\"marker\":{\"color\":\"#FF6692\",\"pattern\":{\"shape\":\"\"}},\"name\":\"furto_de_veiculo\",\"offsetgroup\":\"furto_de_veiculo\",\"orientation\":\"v\",\"showlegend\":true,\"textposition\":\"auto\",\"x\":[\"Ara\\u00e7atuba\",\"Bauru\",\"Campinas\",\"Capital\",\"Grande S\\u00e3o Paulo (exclui a Capital)\",\"Piracicaba\",\"Presidente Prudente\",\"Ribeir\\u00e3o Preto\",\"Santos\",\"Sorocaba\",\"S\\u00e3o Jos\\u00e9 do Rio Preto\",\"S\\u00e3o Jos\\u00e9 dos Campos\"],\"xaxis\":\"x\",\"y\":[437.0,1381.0,7464.0,37331.0,21698.0,6074.0,400.0,4567.0,2904.0,3178.0,1537.0,3673.0],\"yaxis\":\"y\",\"type\":\"bar\"}],                        {\"template\":{\"data\":{\"histogram2dcontour\":[{\"type\":\"histogram2dcontour\",\"colorbar\":{\"outlinewidth\":0,\"ticks\":\"\"},\"colorscale\":[[0.0,\"#0d0887\"],[0.1111111111111111,\"#46039f\"],[0.2222222222222222,\"#7201a8\"],[0.3333333333333333,\"#9c179e\"],[0.4444444444444444,\"#bd3786\"],[0.5555555555555556,\"#d8576b\"],[0.6666666666666666,\"#ed7953\"],[0.7777777777777778,\"#fb9f3a\"],[0.8888888888888888,\"#fdca26\"],[1.0,\"#f0f921\"]]}],\"choropleth\":[{\"type\":\"choropleth\",\"colorbar\":{\"outlinewidth\":0,\"ticks\":\"\"}}],\"histogram2d\":[{\"type\":\"histogram2d\",\"colorbar\":{\"outlinewidth\":0,\"ticks\":\"\"},\"colorscale\":[[0.0,\"#0d0887\"],[0.1111111111111111,\"#46039f\"],[0.2222222222222222,\"#7201a8\"],[0.3333333333333333,\"#9c179e\"],[0.4444444444444444,\"#bd3786\"],[0.5555555555555556,\"#d8576b\"],[0.6666666666666666,\"#ed7953\"],[0.7777777777777778,\"#fb9f3a\"],[0.8888888888888888,\"#fdca26\"],[1.0,\"#f0f921\"]]}],\"heatmap\":[{\"type\":\"heatmap\",\"colorbar\":{\"outlinewidth\":0,\"ticks\":\"\"},\"colorscale\":[[0.0,\"#0d0887\"],[0.1111111111111111,\"#46039f\"],[0.2222222222222222,\"#7201a8\"],[0.3333333333333333,\"#9c179e\"],[0.4444444444444444,\"#bd3786\"],[0.5555555555555556,\"#d8576b\"],[0.6666666666666666,\"#ed7953\"],[0.7777777777777778,\"#fb9f3a\"],[0.8888888888888888,\"#fdca26\"],[1.0,\"#f0f921\"]]}],\"heatmapgl\":[{\"type\":\"heatmapgl\",\"colorbar\":{\"outlinewidth\":0,\"ticks\":\"\"},\"colorscale\":[[0.0,\"#0d0887\"],[0.1111111111111111,\"#46039f\"],[0.2222222222222222,\"#7201a8\"],[0.3333333333333333,\"#9c179e\"],[0.4444444444444444,\"#bd3786\"],[0.5555555555555556,\"#d8576b\"],[0.6666666666666666,\"#ed7953\"],[0.7777777777777778,\"#fb9f3a\"],[0.8888888888888888,\"#fdca26\"],[1.0,\"#f0f921\"]]}],\"contourcarpet\":[{\"type\":\"contourcarpet\",\"colorbar\":{\"outlinewidth\":0,\"ticks\":\"\"}}],\"contour\":[{\"type\":\"contour\",\"colorbar\":{\"outlinewidth\":0,\"ticks\":\"\"},\"colorscale\":[[0.0,\"#0d0887\"],[0.1111111111111111,\"#46039f\"],[0.2222222222222222,\"#7201a8\"],[0.3333333333333333,\"#9c179e\"],[0.4444444444444444,\"#bd3786\"],[0.5555555555555556,\"#d8576b\"],[0.6666666666666666,\"#ed7953\"],[0.7777777777777778,\"#fb9f3a\"],[0.8888888888888888,\"#fdca26\"],[1.0,\"#f0f921\"]]}],\"surface\":[{\"type\":\"surface\",\"colorbar\":{\"outlinewidth\":0,\"ticks\":\"\"},\"colorscale\":[[0.0,\"#0d0887\"],[0.1111111111111111,\"#46039f\"],[0.2222222222222222,\"#7201a8\"],[0.3333333333333333,\"#9c179e\"],[0.4444444444444444,\"#bd3786\"],[0.5555555555555556,\"#d8576b\"],[0.6666666666666666,\"#ed7953\"],[0.7777777777777778,\"#fb9f3a\"],[0.8888888888888888,\"#fdca26\"],[1.0,\"#f0f921\"]]}],\"mesh3d\":[{\"type\":\"mesh3d\",\"colorbar\":{\"outlinewidth\":0,\"ticks\":\"\"}}],\"scatter\":[{\"fillpattern\":{\"fillmode\":\"overlay\",\"size\":10,\"solidity\":0.2},\"type\":\"scatter\"}],\"parcoords\":[{\"type\":\"parcoords\",\"line\":{\"colorbar\":{\"outlinewidth\":0,\"ticks\":\"\"}}}],\"scatterpolargl\":[{\"type\":\"scatterpolargl\",\"marker\":{\"colorbar\":{\"outlinewidth\":0,\"ticks\":\"\"}}}],\"bar\":[{\"error_x\":{\"color\":\"#2a3f5f\"},\"error_y\":{\"color\":\"#2a3f5f\"},\"marker\":{\"line\":{\"color\":\"#E5ECF6\",\"width\":0.5},\"pattern\":{\"fillmode\":\"overlay\",\"size\":10,\"solidity\":0.2}},\"type\":\"bar\"}],\"scattergeo\":[{\"type\":\"scattergeo\",\"marker\":{\"colorbar\":{\"outlinewidth\":0,\"ticks\":\"\"}}}],\"scatterpolar\":[{\"type\":\"scatterpolar\",\"marker\":{\"colorbar\":{\"outlinewidth\":0,\"ticks\":\"\"}}}],\"histogram\":[{\"marker\":{\"pattern\":{\"fillmode\":\"overlay\",\"size\":10,\"solidity\":0.2}},\"type\":\"histogram\"}],\"scattergl\":[{\"type\":\"scattergl\",\"marker\":{\"colorbar\":{\"outlinewidth\":0,\"ticks\":\"\"}}}],\"scatter3d\":[{\"type\":\"scatter3d\",\"line\":{\"colorbar\":{\"outlinewidth\":0,\"ticks\":\"\"}},\"marker\":{\"colorbar\":{\"outlinewidth\":0,\"ticks\":\"\"}}}],\"scattermapbox\":[{\"type\":\"scattermapbox\",\"marker\":{\"colorbar\":{\"outlinewidth\":0,\"ticks\":\"\"}}}],\"scatterternary\":[{\"type\":\"scatterternary\",\"marker\":{\"colorbar\":{\"outlinewidth\":0,\"ticks\":\"\"}}}],\"scattercarpet\":[{\"type\":\"scattercarpet\",\"marker\":{\"colorbar\":{\"outlinewidth\":0,\"ticks\":\"\"}}}],\"carpet\":[{\"aaxis\":{\"endlinecolor\":\"#2a3f5f\",\"gridcolor\":\"white\",\"linecolor\":\"white\",\"minorgridcolor\":\"white\",\"startlinecolor\":\"#2a3f5f\"},\"baxis\":{\"endlinecolor\":\"#2a3f5f\",\"gridcolor\":\"white\",\"linecolor\":\"white\",\"minorgridcolor\":\"white\",\"startlinecolor\":\"#2a3f5f\"},\"type\":\"carpet\"}],\"table\":[{\"cells\":{\"fill\":{\"color\":\"#EBF0F8\"},\"line\":{\"color\":\"white\"}},\"header\":{\"fill\":{\"color\":\"#C8D4E3\"},\"line\":{\"color\":\"white\"}},\"type\":\"table\"}],\"barpolar\":[{\"marker\":{\"line\":{\"color\":\"#E5ECF6\",\"width\":0.5},\"pattern\":{\"fillmode\":\"overlay\",\"size\":10,\"solidity\":0.2}},\"type\":\"barpolar\"}],\"pie\":[{\"automargin\":true,\"type\":\"pie\"}]},\"layout\":{\"autotypenumbers\":\"strict\",\"colorway\":[\"#636efa\",\"#EF553B\",\"#00cc96\",\"#ab63fa\",\"#FFA15A\",\"#19d3f3\",\"#FF6692\",\"#B6E880\",\"#FF97FF\",\"#FECB52\"],\"font\":{\"color\":\"#2a3f5f\"},\"hovermode\":\"closest\",\"hoverlabel\":{\"align\":\"left\"},\"paper_bgcolor\":\"white\",\"plot_bgcolor\":\"#E5ECF6\",\"polar\":{\"bgcolor\":\"#E5ECF6\",\"angularaxis\":{\"gridcolor\":\"white\",\"linecolor\":\"white\",\"ticks\":\"\"},\"radialaxis\":{\"gridcolor\":\"white\",\"linecolor\":\"white\",\"ticks\":\"\"}},\"ternary\":{\"bgcolor\":\"#E5ECF6\",\"aaxis\":{\"gridcolor\":\"white\",\"linecolor\":\"white\",\"ticks\":\"\"},\"baxis\":{\"gridcolor\":\"white\",\"linecolor\":\"white\",\"ticks\":\"\"},\"caxis\":{\"gridcolor\":\"white\",\"linecolor\":\"white\",\"ticks\":\"\"}},\"coloraxis\":{\"colorbar\":{\"outlinewidth\":0,\"ticks\":\"\"}},\"colorscale\":{\"sequential\":[[0.0,\"#0d0887\"],[0.1111111111111111,\"#46039f\"],[0.2222222222222222,\"#7201a8\"],[0.3333333333333333,\"#9c179e\"],[0.4444444444444444,\"#bd3786\"],[0.5555555555555556,\"#d8576b\"],[0.6666666666666666,\"#ed7953\"],[0.7777777777777778,\"#fb9f3a\"],[0.8888888888888888,\"#fdca26\"],[1.0,\"#f0f921\"]],\"sequentialminus\":[[0.0,\"#0d0887\"],[0.1111111111111111,\"#46039f\"],[0.2222222222222222,\"#7201a8\"],[0.3333333333333333,\"#9c179e\"],[0.4444444444444444,\"#bd3786\"],[0.5555555555555556,\"#d8576b\"],[0.6666666666666666,\"#ed7953\"],[0.7777777777777778,\"#fb9f3a\"],[0.8888888888888888,\"#fdca26\"],[1.0,\"#f0f921\"]],\"diverging\":[[0,\"#8e0152\"],[0.1,\"#c51b7d\"],[0.2,\"#de77ae\"],[0.3,\"#f1b6da\"],[0.4,\"#fde0ef\"],[0.5,\"#f7f7f7\"],[0.6,\"#e6f5d0\"],[0.7,\"#b8e186\"],[0.8,\"#7fbc41\"],[0.9,\"#4d9221\"],[1,\"#276419\"]]},\"xaxis\":{\"gridcolor\":\"white\",\"linecolor\":\"white\",\"ticks\":\"\",\"title\":{\"standoff\":15},\"zerolinecolor\":\"white\",\"automargin\":true,\"zerolinewidth\":2},\"yaxis\":{\"gridcolor\":\"white\",\"linecolor\":\"white\",\"ticks\":\"\",\"title\":{\"standoff\":15},\"zerolinecolor\":\"white\",\"automargin\":true,\"zerolinewidth\":2},\"scene\":{\"xaxis\":{\"backgroundcolor\":\"#E5ECF6\",\"gridcolor\":\"white\",\"linecolor\":\"white\",\"showbackground\":true,\"ticks\":\"\",\"zerolinecolor\":\"white\",\"gridwidth\":2},\"yaxis\":{\"backgroundcolor\":\"#E5ECF6\",\"gridcolor\":\"white\",\"linecolor\":\"white\",\"showbackground\":true,\"ticks\":\"\",\"zerolinecolor\":\"white\",\"gridwidth\":2},\"zaxis\":{\"backgroundcolor\":\"#E5ECF6\",\"gridcolor\":\"white\",\"linecolor\":\"white\",\"showbackground\":true,\"ticks\":\"\",\"zerolinecolor\":\"white\",\"gridwidth\":2}},\"shapedefaults\":{\"line\":{\"color\":\"#2a3f5f\"}},\"annotationdefaults\":{\"arrowcolor\":\"#2a3f5f\",\"arrowhead\":0,\"arrowwidth\":1},\"geo\":{\"bgcolor\":\"white\",\"landcolor\":\"#E5ECF6\",\"subunitcolor\":\"white\",\"showland\":true,\"showlakes\":true,\"lakecolor\":\"white\"},\"title\":{\"x\":0.05},\"mapbox\":{\"style\":\"light\"}}},\"xaxis\":{\"anchor\":\"y\",\"domain\":[0.0,1.0],\"title\":{\"text\":\"regi\\u00f5es de S\\u00e3o Paulo\"}},\"yaxis\":{\"anchor\":\"x\",\"domain\":[0.0,1.0],\"title\":{\"text\":\"taxas de crimes em 2019\"}},\"legend\":{\"title\":{\"text\":\"variable\"},\"tracegroupgap\":0},\"margin\":{\"t\":60},\"barmode\":\"relative\",\"title\":{\"text\":\"tabela 2019\"}},                        {\"responsive\": true}                    ).then(function(){\n",
       "                            \n",
       "var gd = document.getElementById('4e616968-6405-4d91-8667-97b8cc260a75');\n",
       "var x = new MutationObserver(function (mutations, observer) {{\n",
       "        var display = window.getComputedStyle(gd).display;\n",
       "        if (!display || display === 'none') {{\n",
       "            console.log([gd, 'removed!']);\n",
       "            Plotly.purge(gd);\n",
       "            observer.disconnect();\n",
       "        }}\n",
       "}});\n",
       "\n",
       "// Listen for the removal of the full notebook cells\n",
       "var notebookContainer = gd.closest('#notebook-container');\n",
       "if (notebookContainer) {{\n",
       "    x.observe(notebookContainer, {childList: true});\n",
       "}}\n",
       "\n",
       "// Listen for the clearing of the current output cell\n",
       "var outputEl = gd.closest('.output');\n",
       "if (outputEl) {{\n",
       "    x.observe(outputEl, {childList: true});\n",
       "}}\n",
       "\n",
       "                        })                };                });            </script>        </div>"
      ]
     },
     "metadata": {},
     "output_type": "display_data"
    }
   ],
   "source": [
    "ano2 = df2[df2['ano'] == 2019] \n",
    "\n",
    "ano2 = ano2.groupby('regiao_ssp').sum()\n",
    "ano2019 = ano2\n",
    "display(ano2019)\n",
    "\n",
    "grafico = px.bar(ano2019, x = ano2019.index , y = [\"homicidio_doloso\",\"numero_de_vitimas_em_homicidio_doloso\",\"homicidio_doloso_por_acidente_de_transito\",\"numero_de_vitimas_em_homicidio_doloso_por_acidente_de_transito\",\"homicidio_culposo_por_acidente_de_transito\",\"homicidio_culposo_outros\",\"tentativa_de_homicidio\",\"total_de_estupro\",\"estupro\",\"estupro_de_vulneravel\",\"total_de_roubo_outros\",\"roubo_outros\",\"roubo_de_veiculo\",\"roubo_a_banco\",\"roubo_de_carga\",\"furto_outros\",\"furto_de_veiculo\"])\n",
    "grafico.update_layout(\n",
    "    yaxis_title=\"taxas de crimes em 2019\",\n",
    "    xaxis_title=\"regiões de São Paulo\",\n",
    "    title = 'tabela 2019')\n",
    "\n",
    "\n",
    "grafico.show()"
   ]
  },
  {
   "cell_type": "code",
   "execution_count": 85,
   "id": "309c4f24",
   "metadata": {
    "scrolled": true
   },
   "outputs": [
    {
     "data": {
      "text/html": [
       "<div>\n",
       "<style scoped>\n",
       "    .dataframe tbody tr th:only-of-type {\n",
       "        vertical-align: middle;\n",
       "    }\n",
       "\n",
       "    .dataframe tbody tr th {\n",
       "        vertical-align: top;\n",
       "    }\n",
       "\n",
       "    .dataframe thead th {\n",
       "        text-align: right;\n",
       "    }\n",
       "</style>\n",
       "<table border=\"1\" class=\"dataframe\">\n",
       "  <thead>\n",
       "    <tr style=\"text-align: right;\">\n",
       "      <th></th>\n",
       "      <th>ano</th>\n",
       "      <th>mes</th>\n",
       "      <th>id_municipio</th>\n",
       "      <th>homicidio_doloso</th>\n",
       "      <th>numero_de_vitimas_em_homicidio_doloso</th>\n",
       "      <th>homicidio_doloso_por_acidente_de_transito</th>\n",
       "      <th>numero_de_vitimas_em_homicidio_doloso_por_acidente_de_transito</th>\n",
       "      <th>homicidio_culposo_por_acidente_de_transito</th>\n",
       "      <th>homicidio_culposo_outros</th>\n",
       "      <th>tentativa_de_homicidio</th>\n",
       "      <th>...</th>\n",
       "      <th>total_de_estupro</th>\n",
       "      <th>estupro</th>\n",
       "      <th>estupro_de_vulneravel</th>\n",
       "      <th>total_de_roubo_outros</th>\n",
       "      <th>roubo_outros</th>\n",
       "      <th>roubo_de_veiculo</th>\n",
       "      <th>roubo_a_banco</th>\n",
       "      <th>roubo_de_carga</th>\n",
       "      <th>furto_outros</th>\n",
       "      <th>furto_de_veiculo</th>\n",
       "    </tr>\n",
       "  </thead>\n",
       "  <tbody>\n",
       "    <tr>\n",
       "      <th>count</th>\n",
       "      <td>1.200000e+01</td>\n",
       "      <td>12.000000</td>\n",
       "      <td>1.200000e+01</td>\n",
       "      <td>12.000000</td>\n",
       "      <td>12.000000</td>\n",
       "      <td>12.000000</td>\n",
       "      <td>12.000000</td>\n",
       "      <td>12.000000</td>\n",
       "      <td>12.000000</td>\n",
       "      <td>12.000000</td>\n",
       "      <td>...</td>\n",
       "      <td>12.000000</td>\n",
       "      <td>12.000000</td>\n",
       "      <td>12.000000</td>\n",
       "      <td>12.000000</td>\n",
       "      <td>12.000000</td>\n",
       "      <td>12.000000</td>\n",
       "      <td>12.000000</td>\n",
       "      <td>12.000000</td>\n",
       "      <td>12.000000</td>\n",
       "      <td>12.000000</td>\n",
       "    </tr>\n",
       "    <tr>\n",
       "      <th>mean</th>\n",
       "      <td>1.296198e+06</td>\n",
       "      <td>4173.000000</td>\n",
       "      <td>2.265410e+09</td>\n",
       "      <td>231.333333</td>\n",
       "      <td>241.916667</td>\n",
       "      <td>1.500000</td>\n",
       "      <td>1.583333</td>\n",
       "      <td>269.666667</td>\n",
       "      <td>15.250000</td>\n",
       "      <td>280.333333</td>\n",
       "      <td>...</td>\n",
       "      <td>1030.916667</td>\n",
       "      <td>263.000000</td>\n",
       "      <td>767.916667</td>\n",
       "      <td>21282.916667</td>\n",
       "      <td>20670.750000</td>\n",
       "      <td>3876.166667</td>\n",
       "      <td>1.750000</td>\n",
       "      <td>610.416667</td>\n",
       "      <td>43507.750000</td>\n",
       "      <td>7553.666667</td>\n",
       "    </tr>\n",
       "    <tr>\n",
       "      <th>std</th>\n",
       "      <td>6.965861e+05</td>\n",
       "      <td>2242.600195</td>\n",
       "      <td>1.217860e+09</td>\n",
       "      <td>193.746476</td>\n",
       "      <td>204.461358</td>\n",
       "      <td>1.243163</td>\n",
       "      <td>1.311372</td>\n",
       "      <td>116.293776</td>\n",
       "      <td>9.196096</td>\n",
       "      <td>193.854366</td>\n",
       "      <td>...</td>\n",
       "      <td>777.794721</td>\n",
       "      <td>216.247754</td>\n",
       "      <td>564.731386</td>\n",
       "      <td>40996.418521</td>\n",
       "      <td>39885.720042</td>\n",
       "      <td>6758.731751</td>\n",
       "      <td>3.671141</td>\n",
       "      <td>1111.131729</td>\n",
       "      <td>59932.901837</td>\n",
       "      <td>10995.117895</td>\n",
       "    </tr>\n",
       "    <tr>\n",
       "      <th>min</th>\n",
       "      <td>2.422800e+04</td>\n",
       "      <td>78.000000</td>\n",
       "      <td>4.260370e+07</td>\n",
       "      <td>50.000000</td>\n",
       "      <td>52.000000</td>\n",
       "      <td>0.000000</td>\n",
       "      <td>0.000000</td>\n",
       "      <td>82.000000</td>\n",
       "      <td>5.000000</td>\n",
       "      <td>63.000000</td>\n",
       "      <td>...</td>\n",
       "      <td>234.000000</td>\n",
       "      <td>50.000000</td>\n",
       "      <td>184.000000</td>\n",
       "      <td>419.000000</td>\n",
       "      <td>404.000000</td>\n",
       "      <td>29.000000</td>\n",
       "      <td>0.000000</td>\n",
       "      <td>8.000000</td>\n",
       "      <td>7486.000000</td>\n",
       "      <td>400.000000</td>\n",
       "    </tr>\n",
       "    <tr>\n",
       "      <th>25%</th>\n",
       "      <td>9.206640e+05</td>\n",
       "      <td>2964.000000</td>\n",
       "      <td>1.609608e+09</td>\n",
       "      <td>86.250000</td>\n",
       "      <td>89.000000</td>\n",
       "      <td>0.750000</td>\n",
       "      <td>0.750000</td>\n",
       "      <td>202.750000</td>\n",
       "      <td>9.000000</td>\n",
       "      <td>156.750000</td>\n",
       "      <td>...</td>\n",
       "      <td>610.000000</td>\n",
       "      <td>143.250000</td>\n",
       "      <td>466.750000</td>\n",
       "      <td>1591.000000</td>\n",
       "      <td>1555.000000</td>\n",
       "      <td>124.500000</td>\n",
       "      <td>0.000000</td>\n",
       "      <td>35.750000</td>\n",
       "      <td>17636.750000</td>\n",
       "      <td>1498.000000</td>\n",
       "    </tr>\n",
       "    <tr>\n",
       "      <th>50%</th>\n",
       "      <td>1.138716e+06</td>\n",
       "      <td>3666.000000</td>\n",
       "      <td>1.988738e+09</td>\n",
       "      <td>182.000000</td>\n",
       "      <td>186.500000</td>\n",
       "      <td>1.500000</td>\n",
       "      <td>1.500000</td>\n",
       "      <td>255.500000</td>\n",
       "      <td>12.500000</td>\n",
       "      <td>241.500000</td>\n",
       "      <td>...</td>\n",
       "      <td>785.000000</td>\n",
       "      <td>194.500000</td>\n",
       "      <td>591.000000</td>\n",
       "      <td>6615.500000</td>\n",
       "      <td>6440.000000</td>\n",
       "      <td>1203.000000</td>\n",
       "      <td>0.500000</td>\n",
       "      <td>175.500000</td>\n",
       "      <td>25381.500000</td>\n",
       "      <td>3425.500000</td>\n",
       "    </tr>\n",
       "    <tr>\n",
       "      <th>75%</th>\n",
       "      <td>1.835271e+06</td>\n",
       "      <td>5908.500000</td>\n",
       "      <td>3.205177e+09</td>\n",
       "      <td>277.000000</td>\n",
       "      <td>290.250000</td>\n",
       "      <td>2.000000</td>\n",
       "      <td>2.250000</td>\n",
       "      <td>368.000000</td>\n",
       "      <td>20.000000</td>\n",
       "      <td>285.000000</td>\n",
       "      <td>...</td>\n",
       "      <td>1042.500000</td>\n",
       "      <td>267.500000</td>\n",
       "      <td>776.500000</td>\n",
       "      <td>12625.500000</td>\n",
       "      <td>12142.500000</td>\n",
       "      <td>2382.250000</td>\n",
       "      <td>1.250000</td>\n",
       "      <td>424.250000</td>\n",
       "      <td>37411.250000</td>\n",
       "      <td>6421.500000</td>\n",
       "    </tr>\n",
       "    <tr>\n",
       "      <th>max</th>\n",
       "      <td>2.325888e+06</td>\n",
       "      <td>7488.000000</td>\n",
       "      <td>4.069230e+09</td>\n",
       "      <td>650.000000</td>\n",
       "      <td>685.000000</td>\n",
       "      <td>4.000000</td>\n",
       "      <td>4.000000</td>\n",
       "      <td>436.000000</td>\n",
       "      <td>36.000000</td>\n",
       "      <td>746.000000</td>\n",
       "      <td>...</td>\n",
       "      <td>2663.000000</td>\n",
       "      <td>772.000000</td>\n",
       "      <td>1892.000000</td>\n",
       "      <td>141134.000000</td>\n",
       "      <td>137369.000000</td>\n",
       "      <td>21229.000000</td>\n",
       "      <td>13.000000</td>\n",
       "      <td>3752.000000</td>\n",
       "      <td>226566.000000</td>\n",
       "      <td>37331.000000</td>\n",
       "    </tr>\n",
       "  </tbody>\n",
       "</table>\n",
       "<p>8 rows × 26 columns</p>\n",
       "</div>"
      ],
      "text/plain": [
       "                ano          mes  id_municipio  homicidio_doloso  \\\n",
       "count  1.200000e+01    12.000000  1.200000e+01         12.000000   \n",
       "mean   1.296198e+06  4173.000000  2.265410e+09        231.333333   \n",
       "std    6.965861e+05  2242.600195  1.217860e+09        193.746476   \n",
       "min    2.422800e+04    78.000000  4.260370e+07         50.000000   \n",
       "25%    9.206640e+05  2964.000000  1.609608e+09         86.250000   \n",
       "50%    1.138716e+06  3666.000000  1.988738e+09        182.000000   \n",
       "75%    1.835271e+06  5908.500000  3.205177e+09        277.000000   \n",
       "max    2.325888e+06  7488.000000  4.069230e+09        650.000000   \n",
       "\n",
       "       numero_de_vitimas_em_homicidio_doloso  \\\n",
       "count                              12.000000   \n",
       "mean                              241.916667   \n",
       "std                               204.461358   \n",
       "min                                52.000000   \n",
       "25%                                89.000000   \n",
       "50%                               186.500000   \n",
       "75%                               290.250000   \n",
       "max                               685.000000   \n",
       "\n",
       "       homicidio_doloso_por_acidente_de_transito  \\\n",
       "count                                  12.000000   \n",
       "mean                                    1.500000   \n",
       "std                                     1.243163   \n",
       "min                                     0.000000   \n",
       "25%                                     0.750000   \n",
       "50%                                     1.500000   \n",
       "75%                                     2.000000   \n",
       "max                                     4.000000   \n",
       "\n",
       "       numero_de_vitimas_em_homicidio_doloso_por_acidente_de_transito  \\\n",
       "count                                          12.000000                \n",
       "mean                                            1.583333                \n",
       "std                                             1.311372                \n",
       "min                                             0.000000                \n",
       "25%                                             0.750000                \n",
       "50%                                             1.500000                \n",
       "75%                                             2.250000                \n",
       "max                                             4.000000                \n",
       "\n",
       "       homicidio_culposo_por_acidente_de_transito  homicidio_culposo_outros  \\\n",
       "count                                   12.000000                 12.000000   \n",
       "mean                                   269.666667                 15.250000   \n",
       "std                                    116.293776                  9.196096   \n",
       "min                                     82.000000                  5.000000   \n",
       "25%                                    202.750000                  9.000000   \n",
       "50%                                    255.500000                 12.500000   \n",
       "75%                                    368.000000                 20.000000   \n",
       "max                                    436.000000                 36.000000   \n",
       "\n",
       "       tentativa_de_homicidio  ...  total_de_estupro     estupro  \\\n",
       "count               12.000000  ...         12.000000   12.000000   \n",
       "mean               280.333333  ...       1030.916667  263.000000   \n",
       "std                193.854366  ...        777.794721  216.247754   \n",
       "min                 63.000000  ...        234.000000   50.000000   \n",
       "25%                156.750000  ...        610.000000  143.250000   \n",
       "50%                241.500000  ...        785.000000  194.500000   \n",
       "75%                285.000000  ...       1042.500000  267.500000   \n",
       "max                746.000000  ...       2663.000000  772.000000   \n",
       "\n",
       "       estupro_de_vulneravel  total_de_roubo_outros   roubo_outros  \\\n",
       "count              12.000000              12.000000      12.000000   \n",
       "mean              767.916667           21282.916667   20670.750000   \n",
       "std               564.731386           40996.418521   39885.720042   \n",
       "min               184.000000             419.000000     404.000000   \n",
       "25%               466.750000            1591.000000    1555.000000   \n",
       "50%               591.000000            6615.500000    6440.000000   \n",
       "75%               776.500000           12625.500000   12142.500000   \n",
       "max              1892.000000          141134.000000  137369.000000   \n",
       "\n",
       "       roubo_de_veiculo  roubo_a_banco  roubo_de_carga   furto_outros  \\\n",
       "count         12.000000      12.000000       12.000000      12.000000   \n",
       "mean        3876.166667       1.750000      610.416667   43507.750000   \n",
       "std         6758.731751       3.671141     1111.131729   59932.901837   \n",
       "min           29.000000       0.000000        8.000000    7486.000000   \n",
       "25%          124.500000       0.000000       35.750000   17636.750000   \n",
       "50%         1203.000000       0.500000      175.500000   25381.500000   \n",
       "75%         2382.250000       1.250000      424.250000   37411.250000   \n",
       "max        21229.000000      13.000000     3752.000000  226566.000000   \n",
       "\n",
       "       furto_de_veiculo  \n",
       "count         12.000000  \n",
       "mean        7553.666667  \n",
       "std        10995.117895  \n",
       "min          400.000000  \n",
       "25%         1498.000000  \n",
       "50%         3425.500000  \n",
       "75%         6421.500000  \n",
       "max        37331.000000  \n",
       "\n",
       "[8 rows x 26 columns]"
      ]
     },
     "execution_count": 85,
     "metadata": {},
     "output_type": "execute_result"
    }
   ],
   "source": [
    "ano2019.describe()"
   ]
  },
  {
   "cell_type": "markdown",
   "id": "b4e34879",
   "metadata": {},
   "source": [
    "Vamos dar uma olhada mais de perto no que cada variável nos diz em relação ao ano de 2019:\n",
    "\n",
    "<br>\n",
    "\n",
    "__1. Contagem:__ o número de linhas no conjunto de dados que são preenchidas com valores não nulos. Todas as outras variáveis também têm 12 linhas de dados preenchidas, com exceção de 'id_municipio e ano', que estão elevados exponencialmente. \n",
    "\n",
    "<br>\n",
    "\n",
    "__2. Média:__ o valor médio em cada coluna. por exemplo a media de vitimas em homicidios dolosos era de 231,33 no ano.\n",
    "\n",
    "<br>\n",
    "\n",
    "__3. Std (Desvio Padrão):__ quanto desvio cada coluna tem da média.\n",
    "<br>\n",
    "\n",
    "__4. Min:__ o valor mínimo de cada variável. Por exemplo, o valor mínimo para 'roubo_de_veiculo' é 29, o que significa que houve no minimo 33 pessoas tiveram seu carro roubado.\n",
    "\n",
    "<br>\n",
    "\n",
    "__5. Quartis:__ 25%, 50% e 75%: 1º quartil, 2º quartil (mediana) e 3º quartil.\n",
    "\n",
    "<br>\n",
    "\n",
    "__6. Max:__ o valor mais alto para cada variável no conjunto de dados. Pelo quadro de dados acima, podemos ver que em 2019, 687 pessoas morreram vitimas de homicio doloso.\n",
    "\n",
    "<br>"
   ]
  },
  {
   "cell_type": "code",
   "execution_count": 87,
   "id": "5da43f3b",
   "metadata": {},
   "outputs": [
    {
     "name": "stdout",
     "output_type": "stream",
     "text": [
      "<class 'pandas.core.frame.DataFrame'>\n",
      "Index: 12 entries, Araçatuba to São José dos Campos\n",
      "Data columns (total 26 columns):\n",
      " #   Column                                                          Non-Null Count  Dtype  \n",
      "---  ------                                                          --------------  -----  \n",
      " 0   ano                                                             12 non-null     int64  \n",
      " 1   mes                                                             12 non-null     int64  \n",
      " 2   id_municipio                                                    12 non-null     int64  \n",
      " 3   homicidio_doloso                                                12 non-null     float64\n",
      " 4   numero_de_vitimas_em_homicidio_doloso                           12 non-null     float64\n",
      " 5   homicidio_doloso_por_acidente_de_transito                       12 non-null     float64\n",
      " 6   numero_de_vitimas_em_homicidio_doloso_por_acidente_de_transito  12 non-null     float64\n",
      " 7   homicidio_culposo_por_acidente_de_transito                      12 non-null     float64\n",
      " 8   homicidio_culposo_outros                                        12 non-null     float64\n",
      " 9   tentativa_de_homicidio                                          12 non-null     float64\n",
      " 10  lesao_corporal_seguida_de_morte                                 12 non-null     float64\n",
      " 11  lesao_corporal_dolosa                                           12 non-null     float64\n",
      " 12  lesao_corporal_culposa_por_acidente_de_transito                 12 non-null     float64\n",
      " 13  lesao_corporal_culposa_outras                                   12 non-null     float64\n",
      " 14  latrocinio                                                      12 non-null     float64\n",
      " 15  numero_de_vitimas_em_latrocinio                                 12 non-null     float64\n",
      " 16  total_de_estupro                                                12 non-null     float64\n",
      " 17  estupro                                                         12 non-null     float64\n",
      " 18  estupro_de_vulneravel                                           12 non-null     float64\n",
      " 19  total_de_roubo_outros                                           12 non-null     float64\n",
      " 20  roubo_outros                                                    12 non-null     float64\n",
      " 21  roubo_de_veiculo                                                12 non-null     float64\n",
      " 22  roubo_a_banco                                                   12 non-null     float64\n",
      " 23  roubo_de_carga                                                  12 non-null     float64\n",
      " 24  furto_outros                                                    12 non-null     float64\n",
      " 25  furto_de_veiculo                                                12 non-null     float64\n",
      "dtypes: float64(23), int64(3)\n",
      "memory usage: 2.5+ KB\n"
     ]
    }
   ],
   "source": [
    "ano2019.info()"
   ]
  },
  {
   "cell_type": "code",
   "execution_count": null,
   "id": "4484df9d",
   "metadata": {},
   "outputs": [],
   "source": []
  },
  {
   "cell_type": "markdown",
   "id": "260e582c",
   "metadata": {},
   "source": [
    "# dados de 2020:"
   ]
  },
  {
   "cell_type": "code",
   "execution_count": 88,
   "id": "1db17a9e",
   "metadata": {
    "scrolled": true
   },
   "outputs": [
    {
     "data": {
      "text/html": [
       "<div>\n",
       "<style scoped>\n",
       "    .dataframe tbody tr th:only-of-type {\n",
       "        vertical-align: middle;\n",
       "    }\n",
       "\n",
       "    .dataframe tbody tr th {\n",
       "        vertical-align: top;\n",
       "    }\n",
       "\n",
       "    .dataframe thead th {\n",
       "        text-align: right;\n",
       "    }\n",
       "</style>\n",
       "<table border=\"1\" class=\"dataframe\">\n",
       "  <thead>\n",
       "    <tr style=\"text-align: right;\">\n",
       "      <th></th>\n",
       "      <th>ano</th>\n",
       "      <th>mes</th>\n",
       "      <th>id_municipio</th>\n",
       "      <th>homicidio_doloso</th>\n",
       "      <th>numero_de_vitimas_em_homicidio_doloso</th>\n",
       "      <th>homicidio_doloso_por_acidente_de_transito</th>\n",
       "      <th>numero_de_vitimas_em_homicidio_doloso_por_acidente_de_transito</th>\n",
       "      <th>homicidio_culposo_por_acidente_de_transito</th>\n",
       "      <th>homicidio_culposo_outros</th>\n",
       "      <th>tentativa_de_homicidio</th>\n",
       "      <th>...</th>\n",
       "      <th>total_de_estupro</th>\n",
       "      <th>estupro</th>\n",
       "      <th>estupro_de_vulneravel</th>\n",
       "      <th>total_de_roubo_outros</th>\n",
       "      <th>roubo_outros</th>\n",
       "      <th>roubo_de_veiculo</th>\n",
       "      <th>roubo_a_banco</th>\n",
       "      <th>roubo_de_carga</th>\n",
       "      <th>furto_outros</th>\n",
       "      <th>furto_de_veiculo</th>\n",
       "    </tr>\n",
       "    <tr>\n",
       "      <th>regiao_ssp</th>\n",
       "      <th></th>\n",
       "      <th></th>\n",
       "      <th></th>\n",
       "      <th></th>\n",
       "      <th></th>\n",
       "      <th></th>\n",
       "      <th></th>\n",
       "      <th></th>\n",
       "      <th></th>\n",
       "      <th></th>\n",
       "      <th></th>\n",
       "      <th></th>\n",
       "      <th></th>\n",
       "      <th></th>\n",
       "      <th></th>\n",
       "      <th></th>\n",
       "      <th></th>\n",
       "      <th></th>\n",
       "      <th></th>\n",
       "      <th></th>\n",
       "      <th></th>\n",
       "    </tr>\n",
       "  </thead>\n",
       "  <tbody>\n",
       "    <tr>\n",
       "      <th>Araçatuba</th>\n",
       "      <td>1042320</td>\n",
       "      <td>3354</td>\n",
       "      <td>1818305304</td>\n",
       "      <td>65.0</td>\n",
       "      <td>69.0</td>\n",
       "      <td>1.0</td>\n",
       "      <td>2.0</td>\n",
       "      <td>91.0</td>\n",
       "      <td>1.0</td>\n",
       "      <td>139.0</td>\n",
       "      <td>...</td>\n",
       "      <td>218.0</td>\n",
       "      <td>47.0</td>\n",
       "      <td>171.0</td>\n",
       "      <td>556.0</td>\n",
       "      <td>546.0</td>\n",
       "      <td>44.0</td>\n",
       "      <td>0.0</td>\n",
       "      <td>10.0</td>\n",
       "      <td>6383.0</td>\n",
       "      <td>418.0</td>\n",
       "    </tr>\n",
       "    <tr>\n",
       "      <th>Bauru</th>\n",
       "      <td>1842240</td>\n",
       "      <td>5928</td>\n",
       "      <td>3215632632</td>\n",
       "      <td>117.0</td>\n",
       "      <td>121.0</td>\n",
       "      <td>1.0</td>\n",
       "      <td>1.0</td>\n",
       "      <td>196.0</td>\n",
       "      <td>7.0</td>\n",
       "      <td>205.0</td>\n",
       "      <td>...</td>\n",
       "      <td>595.0</td>\n",
       "      <td>134.0</td>\n",
       "      <td>461.0</td>\n",
       "      <td>1253.0</td>\n",
       "      <td>1224.0</td>\n",
       "      <td>112.0</td>\n",
       "      <td>1.0</td>\n",
       "      <td>28.0</td>\n",
       "      <td>14307.0</td>\n",
       "      <td>1051.0</td>\n",
       "    </tr>\n",
       "    <tr>\n",
       "      <th>Campinas</th>\n",
       "      <td>921120</td>\n",
       "      <td>2964</td>\n",
       "      <td>1609776324</td>\n",
       "      <td>228.0</td>\n",
       "      <td>233.0</td>\n",
       "      <td>0.0</td>\n",
       "      <td>0.0</td>\n",
       "      <td>357.0</td>\n",
       "      <td>5.0</td>\n",
       "      <td>218.0</td>\n",
       "      <td>...</td>\n",
       "      <td>837.0</td>\n",
       "      <td>228.0</td>\n",
       "      <td>609.0</td>\n",
       "      <td>8829.0</td>\n",
       "      <td>8329.0</td>\n",
       "      <td>2993.0</td>\n",
       "      <td>2.0</td>\n",
       "      <td>498.0</td>\n",
       "      <td>27082.0</td>\n",
       "      <td>5427.0</td>\n",
       "    </tr>\n",
       "    <tr>\n",
       "      <th>Capital</th>\n",
       "      <td>24240</td>\n",
       "      <td>78</td>\n",
       "      <td>42603696</td>\n",
       "      <td>659.0</td>\n",
       "      <td>709.0</td>\n",
       "      <td>7.0</td>\n",
       "      <td>7.0</td>\n",
       "      <td>393.0</td>\n",
       "      <td>22.0</td>\n",
       "      <td>590.0</td>\n",
       "      <td>...</td>\n",
       "      <td>2318.0</td>\n",
       "      <td>604.0</td>\n",
       "      <td>1714.0</td>\n",
       "      <td>127513.0</td>\n",
       "      <td>124552.0</td>\n",
       "      <td>13965.0</td>\n",
       "      <td>18.0</td>\n",
       "      <td>2943.0</td>\n",
       "      <td>164444.0</td>\n",
       "      <td>27035.0</td>\n",
       "    </tr>\n",
       "    <tr>\n",
       "      <th>Grande São Paulo (exclui a Capital)</th>\n",
       "      <td>921120</td>\n",
       "      <td>2964</td>\n",
       "      <td>1609102656</td>\n",
       "      <td>642.0</td>\n",
       "      <td>674.0</td>\n",
       "      <td>6.0</td>\n",
       "      <td>7.0</td>\n",
       "      <td>424.0</td>\n",
       "      <td>45.0</td>\n",
       "      <td>557.0</td>\n",
       "      <td>...</td>\n",
       "      <td>2260.0</td>\n",
       "      <td>510.0</td>\n",
       "      <td>1750.0</td>\n",
       "      <td>49756.0</td>\n",
       "      <td>48109.0</td>\n",
       "      <td>9872.0</td>\n",
       "      <td>2.0</td>\n",
       "      <td>1645.0</td>\n",
       "      <td>54402.0</td>\n",
       "      <td>15763.0</td>\n",
       "    </tr>\n",
       "    <tr>\n",
       "      <th>Piracicaba</th>\n",
       "      <td>1236240</td>\n",
       "      <td>3978</td>\n",
       "      <td>2159164464</td>\n",
       "      <td>220.0</td>\n",
       "      <td>227.0</td>\n",
       "      <td>2.0</td>\n",
       "      <td>3.0</td>\n",
       "      <td>264.0</td>\n",
       "      <td>15.0</td>\n",
       "      <td>205.0</td>\n",
       "      <td>...</td>\n",
       "      <td>638.0</td>\n",
       "      <td>171.0</td>\n",
       "      <td>467.0</td>\n",
       "      <td>5005.0</td>\n",
       "      <td>4822.0</td>\n",
       "      <td>1436.0</td>\n",
       "      <td>0.0</td>\n",
       "      <td>183.0</td>\n",
       "      <td>19803.0</td>\n",
       "      <td>4298.0</td>\n",
       "    </tr>\n",
       "    <tr>\n",
       "      <th>Presidente Prudente</th>\n",
       "      <td>1599840</td>\n",
       "      <td>5148</td>\n",
       "      <td>2795919312</td>\n",
       "      <td>46.0</td>\n",
       "      <td>48.0</td>\n",
       "      <td>0.0</td>\n",
       "      <td>0.0</td>\n",
       "      <td>84.0</td>\n",
       "      <td>2.0</td>\n",
       "      <td>71.0</td>\n",
       "      <td>...</td>\n",
       "      <td>289.0</td>\n",
       "      <td>51.0</td>\n",
       "      <td>238.0</td>\n",
       "      <td>316.0</td>\n",
       "      <td>299.0</td>\n",
       "      <td>25.0</td>\n",
       "      <td>0.0</td>\n",
       "      <td>17.0</td>\n",
       "      <td>6068.0</td>\n",
       "      <td>316.0</td>\n",
       "    </tr>\n",
       "    <tr>\n",
       "      <th>Ribeirão Preto</th>\n",
       "      <td>2254320</td>\n",
       "      <td>7254</td>\n",
       "      <td>3938603544</td>\n",
       "      <td>195.0</td>\n",
       "      <td>200.0</td>\n",
       "      <td>1.0</td>\n",
       "      <td>1.0</td>\n",
       "      <td>363.0</td>\n",
       "      <td>10.0</td>\n",
       "      <td>239.0</td>\n",
       "      <td>...</td>\n",
       "      <td>813.0</td>\n",
       "      <td>202.0</td>\n",
       "      <td>611.0</td>\n",
       "      <td>4546.0</td>\n",
       "      <td>4432.0</td>\n",
       "      <td>888.0</td>\n",
       "      <td>2.0</td>\n",
       "      <td>112.0</td>\n",
       "      <td>28076.0</td>\n",
       "      <td>3466.0</td>\n",
       "    </tr>\n",
       "    <tr>\n",
       "      <th>Santos</th>\n",
       "      <td>581760</td>\n",
       "      <td>1872</td>\n",
       "      <td>1015714932</td>\n",
       "      <td>121.0</td>\n",
       "      <td>128.0</td>\n",
       "      <td>1.0</td>\n",
       "      <td>5.0</td>\n",
       "      <td>228.0</td>\n",
       "      <td>2.0</td>\n",
       "      <td>237.0</td>\n",
       "      <td>...</td>\n",
       "      <td>639.0</td>\n",
       "      <td>148.0</td>\n",
       "      <td>491.0</td>\n",
       "      <td>11845.0</td>\n",
       "      <td>11584.0</td>\n",
       "      <td>900.0</td>\n",
       "      <td>0.0</td>\n",
       "      <td>261.0</td>\n",
       "      <td>25464.0</td>\n",
       "      <td>2174.0</td>\n",
       "    </tr>\n",
       "    <tr>\n",
       "      <th>Sorocaba</th>\n",
       "      <td>1890720</td>\n",
       "      <td>6084</td>\n",
       "      <td>3301052436</td>\n",
       "      <td>192.0</td>\n",
       "      <td>203.0</td>\n",
       "      <td>0.0</td>\n",
       "      <td>0.0</td>\n",
       "      <td>361.0</td>\n",
       "      <td>11.0</td>\n",
       "      <td>225.0</td>\n",
       "      <td>...</td>\n",
       "      <td>1192.0</td>\n",
       "      <td>249.0</td>\n",
       "      <td>943.0</td>\n",
       "      <td>3098.0</td>\n",
       "      <td>3010.0</td>\n",
       "      <td>658.0</td>\n",
       "      <td>1.0</td>\n",
       "      <td>87.0</td>\n",
       "      <td>17409.0</td>\n",
       "      <td>2068.0</td>\n",
       "    </tr>\n",
       "    <tr>\n",
       "      <th>São José do Rio Preto</th>\n",
       "      <td>2302800</td>\n",
       "      <td>7410</td>\n",
       "      <td>4026834180</td>\n",
       "      <td>82.0</td>\n",
       "      <td>82.0</td>\n",
       "      <td>0.0</td>\n",
       "      <td>0.0</td>\n",
       "      <td>175.0</td>\n",
       "      <td>7.0</td>\n",
       "      <td>137.0</td>\n",
       "      <td>...</td>\n",
       "      <td>549.0</td>\n",
       "      <td>114.0</td>\n",
       "      <td>435.0</td>\n",
       "      <td>976.0</td>\n",
       "      <td>963.0</td>\n",
       "      <td>87.0</td>\n",
       "      <td>0.0</td>\n",
       "      <td>13.0</td>\n",
       "      <td>11621.0</td>\n",
       "      <td>1272.0</td>\n",
       "    </tr>\n",
       "    <tr>\n",
       "      <th>São José dos Campos</th>\n",
       "      <td>945360</td>\n",
       "      <td>3042</td>\n",
       "      <td>1652178324</td>\n",
       "      <td>326.0</td>\n",
       "      <td>344.0</td>\n",
       "      <td>0.0</td>\n",
       "      <td>0.0</td>\n",
       "      <td>217.0</td>\n",
       "      <td>4.0</td>\n",
       "      <td>369.0</td>\n",
       "      <td>...</td>\n",
       "      <td>660.0</td>\n",
       "      <td>157.0</td>\n",
       "      <td>503.0</td>\n",
       "      <td>5066.0</td>\n",
       "      <td>4946.0</td>\n",
       "      <td>897.0</td>\n",
       "      <td>3.0</td>\n",
       "      <td>117.0</td>\n",
       "      <td>16762.0</td>\n",
       "      <td>2365.0</td>\n",
       "    </tr>\n",
       "  </tbody>\n",
       "</table>\n",
       "<p>12 rows × 26 columns</p>\n",
       "</div>"
      ],
      "text/plain": [
       "                                         ano   mes  id_municipio  \\\n",
       "regiao_ssp                                                         \n",
       "Araçatuba                            1042320  3354    1818305304   \n",
       "Bauru                                1842240  5928    3215632632   \n",
       "Campinas                              921120  2964    1609776324   \n",
       "Capital                                24240    78      42603696   \n",
       "Grande São Paulo (exclui a Capital)   921120  2964    1609102656   \n",
       "Piracicaba                           1236240  3978    2159164464   \n",
       "Presidente Prudente                  1599840  5148    2795919312   \n",
       "Ribeirão Preto                       2254320  7254    3938603544   \n",
       "Santos                                581760  1872    1015714932   \n",
       "Sorocaba                             1890720  6084    3301052436   \n",
       "São José do Rio Preto                2302800  7410    4026834180   \n",
       "São José dos Campos                   945360  3042    1652178324   \n",
       "\n",
       "                                     homicidio_doloso  \\\n",
       "regiao_ssp                                              \n",
       "Araçatuba                                        65.0   \n",
       "Bauru                                           117.0   \n",
       "Campinas                                        228.0   \n",
       "Capital                                         659.0   \n",
       "Grande São Paulo (exclui a Capital)             642.0   \n",
       "Piracicaba                                      220.0   \n",
       "Presidente Prudente                              46.0   \n",
       "Ribeirão Preto                                  195.0   \n",
       "Santos                                          121.0   \n",
       "Sorocaba                                        192.0   \n",
       "São José do Rio Preto                            82.0   \n",
       "São José dos Campos                             326.0   \n",
       "\n",
       "                                     numero_de_vitimas_em_homicidio_doloso  \\\n",
       "regiao_ssp                                                                   \n",
       "Araçatuba                                                             69.0   \n",
       "Bauru                                                                121.0   \n",
       "Campinas                                                             233.0   \n",
       "Capital                                                              709.0   \n",
       "Grande São Paulo (exclui a Capital)                                  674.0   \n",
       "Piracicaba                                                           227.0   \n",
       "Presidente Prudente                                                   48.0   \n",
       "Ribeirão Preto                                                       200.0   \n",
       "Santos                                                               128.0   \n",
       "Sorocaba                                                             203.0   \n",
       "São José do Rio Preto                                                 82.0   \n",
       "São José dos Campos                                                  344.0   \n",
       "\n",
       "                                     homicidio_doloso_por_acidente_de_transito  \\\n",
       "regiao_ssp                                                                       \n",
       "Araçatuba                                                                  1.0   \n",
       "Bauru                                                                      1.0   \n",
       "Campinas                                                                   0.0   \n",
       "Capital                                                                    7.0   \n",
       "Grande São Paulo (exclui a Capital)                                        6.0   \n",
       "Piracicaba                                                                 2.0   \n",
       "Presidente Prudente                                                        0.0   \n",
       "Ribeirão Preto                                                             1.0   \n",
       "Santos                                                                     1.0   \n",
       "Sorocaba                                                                   0.0   \n",
       "São José do Rio Preto                                                      0.0   \n",
       "São José dos Campos                                                        0.0   \n",
       "\n",
       "                                     numero_de_vitimas_em_homicidio_doloso_por_acidente_de_transito  \\\n",
       "regiao_ssp                                                                                            \n",
       "Araçatuba                                                                          2.0                \n",
       "Bauru                                                                              1.0                \n",
       "Campinas                                                                           0.0                \n",
       "Capital                                                                            7.0                \n",
       "Grande São Paulo (exclui a Capital)                                                7.0                \n",
       "Piracicaba                                                                         3.0                \n",
       "Presidente Prudente                                                                0.0                \n",
       "Ribeirão Preto                                                                     1.0                \n",
       "Santos                                                                             5.0                \n",
       "Sorocaba                                                                           0.0                \n",
       "São José do Rio Preto                                                              0.0                \n",
       "São José dos Campos                                                                0.0                \n",
       "\n",
       "                                     homicidio_culposo_por_acidente_de_transito  \\\n",
       "regiao_ssp                                                                        \n",
       "Araçatuba                                                                  91.0   \n",
       "Bauru                                                                     196.0   \n",
       "Campinas                                                                  357.0   \n",
       "Capital                                                                   393.0   \n",
       "Grande São Paulo (exclui a Capital)                                       424.0   \n",
       "Piracicaba                                                                264.0   \n",
       "Presidente Prudente                                                        84.0   \n",
       "Ribeirão Preto                                                            363.0   \n",
       "Santos                                                                    228.0   \n",
       "Sorocaba                                                                  361.0   \n",
       "São José do Rio Preto                                                     175.0   \n",
       "São José dos Campos                                                       217.0   \n",
       "\n",
       "                                     homicidio_culposo_outros  \\\n",
       "regiao_ssp                                                      \n",
       "Araçatuba                                                 1.0   \n",
       "Bauru                                                     7.0   \n",
       "Campinas                                                  5.0   \n",
       "Capital                                                  22.0   \n",
       "Grande São Paulo (exclui a Capital)                      45.0   \n",
       "Piracicaba                                               15.0   \n",
       "Presidente Prudente                                       2.0   \n",
       "Ribeirão Preto                                           10.0   \n",
       "Santos                                                    2.0   \n",
       "Sorocaba                                                 11.0   \n",
       "São José do Rio Preto                                     7.0   \n",
       "São José dos Campos                                       4.0   \n",
       "\n",
       "                                     tentativa_de_homicidio  ...  \\\n",
       "regiao_ssp                                                   ...   \n",
       "Araçatuba                                             139.0  ...   \n",
       "Bauru                                                 205.0  ...   \n",
       "Campinas                                              218.0  ...   \n",
       "Capital                                               590.0  ...   \n",
       "Grande São Paulo (exclui a Capital)                   557.0  ...   \n",
       "Piracicaba                                            205.0  ...   \n",
       "Presidente Prudente                                    71.0  ...   \n",
       "Ribeirão Preto                                        239.0  ...   \n",
       "Santos                                                237.0  ...   \n",
       "Sorocaba                                              225.0  ...   \n",
       "São José do Rio Preto                                 137.0  ...   \n",
       "São José dos Campos                                   369.0  ...   \n",
       "\n",
       "                                     total_de_estupro  estupro  \\\n",
       "regiao_ssp                                                       \n",
       "Araçatuba                                       218.0     47.0   \n",
       "Bauru                                           595.0    134.0   \n",
       "Campinas                                        837.0    228.0   \n",
       "Capital                                        2318.0    604.0   \n",
       "Grande São Paulo (exclui a Capital)            2260.0    510.0   \n",
       "Piracicaba                                      638.0    171.0   \n",
       "Presidente Prudente                             289.0     51.0   \n",
       "Ribeirão Preto                                  813.0    202.0   \n",
       "Santos                                          639.0    148.0   \n",
       "Sorocaba                                       1192.0    249.0   \n",
       "São José do Rio Preto                           549.0    114.0   \n",
       "São José dos Campos                             660.0    157.0   \n",
       "\n",
       "                                     estupro_de_vulneravel  \\\n",
       "regiao_ssp                                                   \n",
       "Araçatuba                                            171.0   \n",
       "Bauru                                                461.0   \n",
       "Campinas                                             609.0   \n",
       "Capital                                             1714.0   \n",
       "Grande São Paulo (exclui a Capital)                 1750.0   \n",
       "Piracicaba                                           467.0   \n",
       "Presidente Prudente                                  238.0   \n",
       "Ribeirão Preto                                       611.0   \n",
       "Santos                                               491.0   \n",
       "Sorocaba                                             943.0   \n",
       "São José do Rio Preto                                435.0   \n",
       "São José dos Campos                                  503.0   \n",
       "\n",
       "                                     total_de_roubo_outros  roubo_outros  \\\n",
       "regiao_ssp                                                                 \n",
       "Araçatuba                                            556.0         546.0   \n",
       "Bauru                                               1253.0        1224.0   \n",
       "Campinas                                            8829.0        8329.0   \n",
       "Capital                                           127513.0      124552.0   \n",
       "Grande São Paulo (exclui a Capital)                49756.0       48109.0   \n",
       "Piracicaba                                          5005.0        4822.0   \n",
       "Presidente Prudente                                  316.0         299.0   \n",
       "Ribeirão Preto                                      4546.0        4432.0   \n",
       "Santos                                             11845.0       11584.0   \n",
       "Sorocaba                                            3098.0        3010.0   \n",
       "São José do Rio Preto                                976.0         963.0   \n",
       "São José dos Campos                                 5066.0        4946.0   \n",
       "\n",
       "                                     roubo_de_veiculo  roubo_a_banco  \\\n",
       "regiao_ssp                                                             \n",
       "Araçatuba                                        44.0            0.0   \n",
       "Bauru                                           112.0            1.0   \n",
       "Campinas                                       2993.0            2.0   \n",
       "Capital                                       13965.0           18.0   \n",
       "Grande São Paulo (exclui a Capital)            9872.0            2.0   \n",
       "Piracicaba                                     1436.0            0.0   \n",
       "Presidente Prudente                              25.0            0.0   \n",
       "Ribeirão Preto                                  888.0            2.0   \n",
       "Santos                                          900.0            0.0   \n",
       "Sorocaba                                        658.0            1.0   \n",
       "São José do Rio Preto                            87.0            0.0   \n",
       "São José dos Campos                             897.0            3.0   \n",
       "\n",
       "                                     roubo_de_carga  furto_outros  \\\n",
       "regiao_ssp                                                          \n",
       "Araçatuba                                      10.0        6383.0   \n",
       "Bauru                                          28.0       14307.0   \n",
       "Campinas                                      498.0       27082.0   \n",
       "Capital                                      2943.0      164444.0   \n",
       "Grande São Paulo (exclui a Capital)          1645.0       54402.0   \n",
       "Piracicaba                                    183.0       19803.0   \n",
       "Presidente Prudente                            17.0        6068.0   \n",
       "Ribeirão Preto                                112.0       28076.0   \n",
       "Santos                                        261.0       25464.0   \n",
       "Sorocaba                                       87.0       17409.0   \n",
       "São José do Rio Preto                          13.0       11621.0   \n",
       "São José dos Campos                           117.0       16762.0   \n",
       "\n",
       "                                     furto_de_veiculo  \n",
       "regiao_ssp                                             \n",
       "Araçatuba                                       418.0  \n",
       "Bauru                                          1051.0  \n",
       "Campinas                                       5427.0  \n",
       "Capital                                       27035.0  \n",
       "Grande São Paulo (exclui a Capital)           15763.0  \n",
       "Piracicaba                                     4298.0  \n",
       "Presidente Prudente                             316.0  \n",
       "Ribeirão Preto                                 3466.0  \n",
       "Santos                                         2174.0  \n",
       "Sorocaba                                       2068.0  \n",
       "São José do Rio Preto                          1272.0  \n",
       "São José dos Campos                            2365.0  \n",
       "\n",
       "[12 rows x 26 columns]"
      ]
     },
     "metadata": {},
     "output_type": "display_data"
    },
    {
     "data": {
      "application/vnd.plotly.v1+json": {
       "config": {
        "plotlyServerURL": "https://plot.ly"
       },
       "data": [
        {
         "alignmentgroup": "True",
         "hovertemplate": "variable=homicidio_doloso<br>regiao_ssp=%{x}<br>value=%{y}<extra></extra>",
         "legendgroup": "homicidio_doloso",
         "marker": {
          "color": "#636efa",
          "pattern": {
           "shape": ""
          }
         },
         "name": "homicidio_doloso",
         "offsetgroup": "homicidio_doloso",
         "orientation": "v",
         "showlegend": true,
         "textposition": "auto",
         "type": "bar",
         "x": [
          "Araçatuba",
          "Bauru",
          "Campinas",
          "Capital",
          "Grande São Paulo (exclui a Capital)",
          "Piracicaba",
          "Presidente Prudente",
          "Ribeirão Preto",
          "Santos",
          "Sorocaba",
          "São José do Rio Preto",
          "São José dos Campos"
         ],
         "xaxis": "x",
         "y": [
          65,
          117,
          228,
          659,
          642,
          220,
          46,
          195,
          121,
          192,
          82,
          326
         ],
         "yaxis": "y"
        },
        {
         "alignmentgroup": "True",
         "hovertemplate": "variable=numero_de_vitimas_em_homicidio_doloso<br>regiao_ssp=%{x}<br>value=%{y}<extra></extra>",
         "legendgroup": "numero_de_vitimas_em_homicidio_doloso",
         "marker": {
          "color": "#EF553B",
          "pattern": {
           "shape": ""
          }
         },
         "name": "numero_de_vitimas_em_homicidio_doloso",
         "offsetgroup": "numero_de_vitimas_em_homicidio_doloso",
         "orientation": "v",
         "showlegend": true,
         "textposition": "auto",
         "type": "bar",
         "x": [
          "Araçatuba",
          "Bauru",
          "Campinas",
          "Capital",
          "Grande São Paulo (exclui a Capital)",
          "Piracicaba",
          "Presidente Prudente",
          "Ribeirão Preto",
          "Santos",
          "Sorocaba",
          "São José do Rio Preto",
          "São José dos Campos"
         ],
         "xaxis": "x",
         "y": [
          69,
          121,
          233,
          709,
          674,
          227,
          48,
          200,
          128,
          203,
          82,
          344
         ],
         "yaxis": "y"
        },
        {
         "alignmentgroup": "True",
         "hovertemplate": "variable=homicidio_doloso_por_acidente_de_transito<br>regiao_ssp=%{x}<br>value=%{y}<extra></extra>",
         "legendgroup": "homicidio_doloso_por_acidente_de_transito",
         "marker": {
          "color": "#00cc96",
          "pattern": {
           "shape": ""
          }
         },
         "name": "homicidio_doloso_por_acidente_de_transito",
         "offsetgroup": "homicidio_doloso_por_acidente_de_transito",
         "orientation": "v",
         "showlegend": true,
         "textposition": "auto",
         "type": "bar",
         "x": [
          "Araçatuba",
          "Bauru",
          "Campinas",
          "Capital",
          "Grande São Paulo (exclui a Capital)",
          "Piracicaba",
          "Presidente Prudente",
          "Ribeirão Preto",
          "Santos",
          "Sorocaba",
          "São José do Rio Preto",
          "São José dos Campos"
         ],
         "xaxis": "x",
         "y": [
          1,
          1,
          0,
          7,
          6,
          2,
          0,
          1,
          1,
          0,
          0,
          0
         ],
         "yaxis": "y"
        },
        {
         "alignmentgroup": "True",
         "hovertemplate": "variable=numero_de_vitimas_em_homicidio_doloso_por_acidente_de_transito<br>regiao_ssp=%{x}<br>value=%{y}<extra></extra>",
         "legendgroup": "numero_de_vitimas_em_homicidio_doloso_por_acidente_de_transito",
         "marker": {
          "color": "#ab63fa",
          "pattern": {
           "shape": ""
          }
         },
         "name": "numero_de_vitimas_em_homicidio_doloso_por_acidente_de_transito",
         "offsetgroup": "numero_de_vitimas_em_homicidio_doloso_por_acidente_de_transito",
         "orientation": "v",
         "showlegend": true,
         "textposition": "auto",
         "type": "bar",
         "x": [
          "Araçatuba",
          "Bauru",
          "Campinas",
          "Capital",
          "Grande São Paulo (exclui a Capital)",
          "Piracicaba",
          "Presidente Prudente",
          "Ribeirão Preto",
          "Santos",
          "Sorocaba",
          "São José do Rio Preto",
          "São José dos Campos"
         ],
         "xaxis": "x",
         "y": [
          2,
          1,
          0,
          7,
          7,
          3,
          0,
          1,
          5,
          0,
          0,
          0
         ],
         "yaxis": "y"
        },
        {
         "alignmentgroup": "True",
         "hovertemplate": "variable=homicidio_culposo_por_acidente_de_transito<br>regiao_ssp=%{x}<br>value=%{y}<extra></extra>",
         "legendgroup": "homicidio_culposo_por_acidente_de_transito",
         "marker": {
          "color": "#FFA15A",
          "pattern": {
           "shape": ""
          }
         },
         "name": "homicidio_culposo_por_acidente_de_transito",
         "offsetgroup": "homicidio_culposo_por_acidente_de_transito",
         "orientation": "v",
         "showlegend": true,
         "textposition": "auto",
         "type": "bar",
         "x": [
          "Araçatuba",
          "Bauru",
          "Campinas",
          "Capital",
          "Grande São Paulo (exclui a Capital)",
          "Piracicaba",
          "Presidente Prudente",
          "Ribeirão Preto",
          "Santos",
          "Sorocaba",
          "São José do Rio Preto",
          "São José dos Campos"
         ],
         "xaxis": "x",
         "y": [
          91,
          196,
          357,
          393,
          424,
          264,
          84,
          363,
          228,
          361,
          175,
          217
         ],
         "yaxis": "y"
        },
        {
         "alignmentgroup": "True",
         "hovertemplate": "variable=homicidio_culposo_outros<br>regiao_ssp=%{x}<br>value=%{y}<extra></extra>",
         "legendgroup": "homicidio_culposo_outros",
         "marker": {
          "color": "#19d3f3",
          "pattern": {
           "shape": ""
          }
         },
         "name": "homicidio_culposo_outros",
         "offsetgroup": "homicidio_culposo_outros",
         "orientation": "v",
         "showlegend": true,
         "textposition": "auto",
         "type": "bar",
         "x": [
          "Araçatuba",
          "Bauru",
          "Campinas",
          "Capital",
          "Grande São Paulo (exclui a Capital)",
          "Piracicaba",
          "Presidente Prudente",
          "Ribeirão Preto",
          "Santos",
          "Sorocaba",
          "São José do Rio Preto",
          "São José dos Campos"
         ],
         "xaxis": "x",
         "y": [
          1,
          7,
          5,
          22,
          45,
          15,
          2,
          10,
          2,
          11,
          7,
          4
         ],
         "yaxis": "y"
        },
        {
         "alignmentgroup": "True",
         "hovertemplate": "variable=tentativa_de_homicidio<br>regiao_ssp=%{x}<br>value=%{y}<extra></extra>",
         "legendgroup": "tentativa_de_homicidio",
         "marker": {
          "color": "#FF6692",
          "pattern": {
           "shape": ""
          }
         },
         "name": "tentativa_de_homicidio",
         "offsetgroup": "tentativa_de_homicidio",
         "orientation": "v",
         "showlegend": true,
         "textposition": "auto",
         "type": "bar",
         "x": [
          "Araçatuba",
          "Bauru",
          "Campinas",
          "Capital",
          "Grande São Paulo (exclui a Capital)",
          "Piracicaba",
          "Presidente Prudente",
          "Ribeirão Preto",
          "Santos",
          "Sorocaba",
          "São José do Rio Preto",
          "São José dos Campos"
         ],
         "xaxis": "x",
         "y": [
          139,
          205,
          218,
          590,
          557,
          205,
          71,
          239,
          237,
          225,
          137,
          369
         ],
         "yaxis": "y"
        },
        {
         "alignmentgroup": "True",
         "hovertemplate": "variable=total_de_estupro<br>regiao_ssp=%{x}<br>value=%{y}<extra></extra>",
         "legendgroup": "total_de_estupro",
         "marker": {
          "color": "#B6E880",
          "pattern": {
           "shape": ""
          }
         },
         "name": "total_de_estupro",
         "offsetgroup": "total_de_estupro",
         "orientation": "v",
         "showlegend": true,
         "textposition": "auto",
         "type": "bar",
         "x": [
          "Araçatuba",
          "Bauru",
          "Campinas",
          "Capital",
          "Grande São Paulo (exclui a Capital)",
          "Piracicaba",
          "Presidente Prudente",
          "Ribeirão Preto",
          "Santos",
          "Sorocaba",
          "São José do Rio Preto",
          "São José dos Campos"
         ],
         "xaxis": "x",
         "y": [
          218,
          595,
          837,
          2318,
          2260,
          638,
          289,
          813,
          639,
          1192,
          549,
          660
         ],
         "yaxis": "y"
        },
        {
         "alignmentgroup": "True",
         "hovertemplate": "variable=estupro<br>regiao_ssp=%{x}<br>value=%{y}<extra></extra>",
         "legendgroup": "estupro",
         "marker": {
          "color": "#FF97FF",
          "pattern": {
           "shape": ""
          }
         },
         "name": "estupro",
         "offsetgroup": "estupro",
         "orientation": "v",
         "showlegend": true,
         "textposition": "auto",
         "type": "bar",
         "x": [
          "Araçatuba",
          "Bauru",
          "Campinas",
          "Capital",
          "Grande São Paulo (exclui a Capital)",
          "Piracicaba",
          "Presidente Prudente",
          "Ribeirão Preto",
          "Santos",
          "Sorocaba",
          "São José do Rio Preto",
          "São José dos Campos"
         ],
         "xaxis": "x",
         "y": [
          47,
          134,
          228,
          604,
          510,
          171,
          51,
          202,
          148,
          249,
          114,
          157
         ],
         "yaxis": "y"
        },
        {
         "alignmentgroup": "True",
         "hovertemplate": "variable=estupro_de_vulneravel<br>regiao_ssp=%{x}<br>value=%{y}<extra></extra>",
         "legendgroup": "estupro_de_vulneravel",
         "marker": {
          "color": "#FECB52",
          "pattern": {
           "shape": ""
          }
         },
         "name": "estupro_de_vulneravel",
         "offsetgroup": "estupro_de_vulneravel",
         "orientation": "v",
         "showlegend": true,
         "textposition": "auto",
         "type": "bar",
         "x": [
          "Araçatuba",
          "Bauru",
          "Campinas",
          "Capital",
          "Grande São Paulo (exclui a Capital)",
          "Piracicaba",
          "Presidente Prudente",
          "Ribeirão Preto",
          "Santos",
          "Sorocaba",
          "São José do Rio Preto",
          "São José dos Campos"
         ],
         "xaxis": "x",
         "y": [
          171,
          461,
          609,
          1714,
          1750,
          467,
          238,
          611,
          491,
          943,
          435,
          503
         ],
         "yaxis": "y"
        },
        {
         "alignmentgroup": "True",
         "hovertemplate": "variable=total_de_roubo_outros<br>regiao_ssp=%{x}<br>value=%{y}<extra></extra>",
         "legendgroup": "total_de_roubo_outros",
         "marker": {
          "color": "#636efa",
          "pattern": {
           "shape": ""
          }
         },
         "name": "total_de_roubo_outros",
         "offsetgroup": "total_de_roubo_outros",
         "orientation": "v",
         "showlegend": true,
         "textposition": "auto",
         "type": "bar",
         "x": [
          "Araçatuba",
          "Bauru",
          "Campinas",
          "Capital",
          "Grande São Paulo (exclui a Capital)",
          "Piracicaba",
          "Presidente Prudente",
          "Ribeirão Preto",
          "Santos",
          "Sorocaba",
          "São José do Rio Preto",
          "São José dos Campos"
         ],
         "xaxis": "x",
         "y": [
          556,
          1253,
          8829,
          127513,
          49756,
          5005,
          316,
          4546,
          11845,
          3098,
          976,
          5066
         ],
         "yaxis": "y"
        },
        {
         "alignmentgroup": "True",
         "hovertemplate": "variable=roubo_outros<br>regiao_ssp=%{x}<br>value=%{y}<extra></extra>",
         "legendgroup": "roubo_outros",
         "marker": {
          "color": "#EF553B",
          "pattern": {
           "shape": ""
          }
         },
         "name": "roubo_outros",
         "offsetgroup": "roubo_outros",
         "orientation": "v",
         "showlegend": true,
         "textposition": "auto",
         "type": "bar",
         "x": [
          "Araçatuba",
          "Bauru",
          "Campinas",
          "Capital",
          "Grande São Paulo (exclui a Capital)",
          "Piracicaba",
          "Presidente Prudente",
          "Ribeirão Preto",
          "Santos",
          "Sorocaba",
          "São José do Rio Preto",
          "São José dos Campos"
         ],
         "xaxis": "x",
         "y": [
          546,
          1224,
          8329,
          124552,
          48109,
          4822,
          299,
          4432,
          11584,
          3010,
          963,
          4946
         ],
         "yaxis": "y"
        },
        {
         "alignmentgroup": "True",
         "hovertemplate": "variable=roubo_de_veiculo<br>regiao_ssp=%{x}<br>value=%{y}<extra></extra>",
         "legendgroup": "roubo_de_veiculo",
         "marker": {
          "color": "#00cc96",
          "pattern": {
           "shape": ""
          }
         },
         "name": "roubo_de_veiculo",
         "offsetgroup": "roubo_de_veiculo",
         "orientation": "v",
         "showlegend": true,
         "textposition": "auto",
         "type": "bar",
         "x": [
          "Araçatuba",
          "Bauru",
          "Campinas",
          "Capital",
          "Grande São Paulo (exclui a Capital)",
          "Piracicaba",
          "Presidente Prudente",
          "Ribeirão Preto",
          "Santos",
          "Sorocaba",
          "São José do Rio Preto",
          "São José dos Campos"
         ],
         "xaxis": "x",
         "y": [
          44,
          112,
          2993,
          13965,
          9872,
          1436,
          25,
          888,
          900,
          658,
          87,
          897
         ],
         "yaxis": "y"
        },
        {
         "alignmentgroup": "True",
         "hovertemplate": "variable=roubo_a_banco<br>regiao_ssp=%{x}<br>value=%{y}<extra></extra>",
         "legendgroup": "roubo_a_banco",
         "marker": {
          "color": "#ab63fa",
          "pattern": {
           "shape": ""
          }
         },
         "name": "roubo_a_banco",
         "offsetgroup": "roubo_a_banco",
         "orientation": "v",
         "showlegend": true,
         "textposition": "auto",
         "type": "bar",
         "x": [
          "Araçatuba",
          "Bauru",
          "Campinas",
          "Capital",
          "Grande São Paulo (exclui a Capital)",
          "Piracicaba",
          "Presidente Prudente",
          "Ribeirão Preto",
          "Santos",
          "Sorocaba",
          "São José do Rio Preto",
          "São José dos Campos"
         ],
         "xaxis": "x",
         "y": [
          0,
          1,
          2,
          18,
          2,
          0,
          0,
          2,
          0,
          1,
          0,
          3
         ],
         "yaxis": "y"
        },
        {
         "alignmentgroup": "True",
         "hovertemplate": "variable=roubo_de_carga<br>regiao_ssp=%{x}<br>value=%{y}<extra></extra>",
         "legendgroup": "roubo_de_carga",
         "marker": {
          "color": "#FFA15A",
          "pattern": {
           "shape": ""
          }
         },
         "name": "roubo_de_carga",
         "offsetgroup": "roubo_de_carga",
         "orientation": "v",
         "showlegend": true,
         "textposition": "auto",
         "type": "bar",
         "x": [
          "Araçatuba",
          "Bauru",
          "Campinas",
          "Capital",
          "Grande São Paulo (exclui a Capital)",
          "Piracicaba",
          "Presidente Prudente",
          "Ribeirão Preto",
          "Santos",
          "Sorocaba",
          "São José do Rio Preto",
          "São José dos Campos"
         ],
         "xaxis": "x",
         "y": [
          10,
          28,
          498,
          2943,
          1645,
          183,
          17,
          112,
          261,
          87,
          13,
          117
         ],
         "yaxis": "y"
        },
        {
         "alignmentgroup": "True",
         "hovertemplate": "variable=furto_outros<br>regiao_ssp=%{x}<br>value=%{y}<extra></extra>",
         "legendgroup": "furto_outros",
         "marker": {
          "color": "#19d3f3",
          "pattern": {
           "shape": ""
          }
         },
         "name": "furto_outros",
         "offsetgroup": "furto_outros",
         "orientation": "v",
         "showlegend": true,
         "textposition": "auto",
         "type": "bar",
         "x": [
          "Araçatuba",
          "Bauru",
          "Campinas",
          "Capital",
          "Grande São Paulo (exclui a Capital)",
          "Piracicaba",
          "Presidente Prudente",
          "Ribeirão Preto",
          "Santos",
          "Sorocaba",
          "São José do Rio Preto",
          "São José dos Campos"
         ],
         "xaxis": "x",
         "y": [
          6383,
          14307,
          27082,
          164444,
          54402,
          19803,
          6068,
          28076,
          25464,
          17409,
          11621,
          16762
         ],
         "yaxis": "y"
        },
        {
         "alignmentgroup": "True",
         "hovertemplate": "variable=furto_de_veiculo<br>regiao_ssp=%{x}<br>value=%{y}<extra></extra>",
         "legendgroup": "furto_de_veiculo",
         "marker": {
          "color": "#FF6692",
          "pattern": {
           "shape": ""
          }
         },
         "name": "furto_de_veiculo",
         "offsetgroup": "furto_de_veiculo",
         "orientation": "v",
         "showlegend": true,
         "textposition": "auto",
         "type": "bar",
         "x": [
          "Araçatuba",
          "Bauru",
          "Campinas",
          "Capital",
          "Grande São Paulo (exclui a Capital)",
          "Piracicaba",
          "Presidente Prudente",
          "Ribeirão Preto",
          "Santos",
          "Sorocaba",
          "São José do Rio Preto",
          "São José dos Campos"
         ],
         "xaxis": "x",
         "y": [
          418,
          1051,
          5427,
          27035,
          15763,
          4298,
          316,
          3466,
          2174,
          2068,
          1272,
          2365
         ],
         "yaxis": "y"
        }
       ],
       "layout": {
        "barmode": "relative",
        "legend": {
         "title": {
          "text": "variable"
         },
         "tracegroupgap": 0
        },
        "margin": {
         "t": 60
        },
        "template": {
         "data": {
          "bar": [
           {
            "error_x": {
             "color": "#2a3f5f"
            },
            "error_y": {
             "color": "#2a3f5f"
            },
            "marker": {
             "line": {
              "color": "#E5ECF6",
              "width": 0.5
             },
             "pattern": {
              "fillmode": "overlay",
              "size": 10,
              "solidity": 0.2
             }
            },
            "type": "bar"
           }
          ],
          "barpolar": [
           {
            "marker": {
             "line": {
              "color": "#E5ECF6",
              "width": 0.5
             },
             "pattern": {
              "fillmode": "overlay",
              "size": 10,
              "solidity": 0.2
             }
            },
            "type": "barpolar"
           }
          ],
          "carpet": [
           {
            "aaxis": {
             "endlinecolor": "#2a3f5f",
             "gridcolor": "white",
             "linecolor": "white",
             "minorgridcolor": "white",
             "startlinecolor": "#2a3f5f"
            },
            "baxis": {
             "endlinecolor": "#2a3f5f",
             "gridcolor": "white",
             "linecolor": "white",
             "minorgridcolor": "white",
             "startlinecolor": "#2a3f5f"
            },
            "type": "carpet"
           }
          ],
          "choropleth": [
           {
            "colorbar": {
             "outlinewidth": 0,
             "ticks": ""
            },
            "type": "choropleth"
           }
          ],
          "contour": [
           {
            "colorbar": {
             "outlinewidth": 0,
             "ticks": ""
            },
            "colorscale": [
             [
              0,
              "#0d0887"
             ],
             [
              0.1111111111111111,
              "#46039f"
             ],
             [
              0.2222222222222222,
              "#7201a8"
             ],
             [
              0.3333333333333333,
              "#9c179e"
             ],
             [
              0.4444444444444444,
              "#bd3786"
             ],
             [
              0.5555555555555556,
              "#d8576b"
             ],
             [
              0.6666666666666666,
              "#ed7953"
             ],
             [
              0.7777777777777778,
              "#fb9f3a"
             ],
             [
              0.8888888888888888,
              "#fdca26"
             ],
             [
              1,
              "#f0f921"
             ]
            ],
            "type": "contour"
           }
          ],
          "contourcarpet": [
           {
            "colorbar": {
             "outlinewidth": 0,
             "ticks": ""
            },
            "type": "contourcarpet"
           }
          ],
          "heatmap": [
           {
            "colorbar": {
             "outlinewidth": 0,
             "ticks": ""
            },
            "colorscale": [
             [
              0,
              "#0d0887"
             ],
             [
              0.1111111111111111,
              "#46039f"
             ],
             [
              0.2222222222222222,
              "#7201a8"
             ],
             [
              0.3333333333333333,
              "#9c179e"
             ],
             [
              0.4444444444444444,
              "#bd3786"
             ],
             [
              0.5555555555555556,
              "#d8576b"
             ],
             [
              0.6666666666666666,
              "#ed7953"
             ],
             [
              0.7777777777777778,
              "#fb9f3a"
             ],
             [
              0.8888888888888888,
              "#fdca26"
             ],
             [
              1,
              "#f0f921"
             ]
            ],
            "type": "heatmap"
           }
          ],
          "heatmapgl": [
           {
            "colorbar": {
             "outlinewidth": 0,
             "ticks": ""
            },
            "colorscale": [
             [
              0,
              "#0d0887"
             ],
             [
              0.1111111111111111,
              "#46039f"
             ],
             [
              0.2222222222222222,
              "#7201a8"
             ],
             [
              0.3333333333333333,
              "#9c179e"
             ],
             [
              0.4444444444444444,
              "#bd3786"
             ],
             [
              0.5555555555555556,
              "#d8576b"
             ],
             [
              0.6666666666666666,
              "#ed7953"
             ],
             [
              0.7777777777777778,
              "#fb9f3a"
             ],
             [
              0.8888888888888888,
              "#fdca26"
             ],
             [
              1,
              "#f0f921"
             ]
            ],
            "type": "heatmapgl"
           }
          ],
          "histogram": [
           {
            "marker": {
             "pattern": {
              "fillmode": "overlay",
              "size": 10,
              "solidity": 0.2
             }
            },
            "type": "histogram"
           }
          ],
          "histogram2d": [
           {
            "colorbar": {
             "outlinewidth": 0,
             "ticks": ""
            },
            "colorscale": [
             [
              0,
              "#0d0887"
             ],
             [
              0.1111111111111111,
              "#46039f"
             ],
             [
              0.2222222222222222,
              "#7201a8"
             ],
             [
              0.3333333333333333,
              "#9c179e"
             ],
             [
              0.4444444444444444,
              "#bd3786"
             ],
             [
              0.5555555555555556,
              "#d8576b"
             ],
             [
              0.6666666666666666,
              "#ed7953"
             ],
             [
              0.7777777777777778,
              "#fb9f3a"
             ],
             [
              0.8888888888888888,
              "#fdca26"
             ],
             [
              1,
              "#f0f921"
             ]
            ],
            "type": "histogram2d"
           }
          ],
          "histogram2dcontour": [
           {
            "colorbar": {
             "outlinewidth": 0,
             "ticks": ""
            },
            "colorscale": [
             [
              0,
              "#0d0887"
             ],
             [
              0.1111111111111111,
              "#46039f"
             ],
             [
              0.2222222222222222,
              "#7201a8"
             ],
             [
              0.3333333333333333,
              "#9c179e"
             ],
             [
              0.4444444444444444,
              "#bd3786"
             ],
             [
              0.5555555555555556,
              "#d8576b"
             ],
             [
              0.6666666666666666,
              "#ed7953"
             ],
             [
              0.7777777777777778,
              "#fb9f3a"
             ],
             [
              0.8888888888888888,
              "#fdca26"
             ],
             [
              1,
              "#f0f921"
             ]
            ],
            "type": "histogram2dcontour"
           }
          ],
          "mesh3d": [
           {
            "colorbar": {
             "outlinewidth": 0,
             "ticks": ""
            },
            "type": "mesh3d"
           }
          ],
          "parcoords": [
           {
            "line": {
             "colorbar": {
              "outlinewidth": 0,
              "ticks": ""
             }
            },
            "type": "parcoords"
           }
          ],
          "pie": [
           {
            "automargin": true,
            "type": "pie"
           }
          ],
          "scatter": [
           {
            "fillpattern": {
             "fillmode": "overlay",
             "size": 10,
             "solidity": 0.2
            },
            "type": "scatter"
           }
          ],
          "scatter3d": [
           {
            "line": {
             "colorbar": {
              "outlinewidth": 0,
              "ticks": ""
             }
            },
            "marker": {
             "colorbar": {
              "outlinewidth": 0,
              "ticks": ""
             }
            },
            "type": "scatter3d"
           }
          ],
          "scattercarpet": [
           {
            "marker": {
             "colorbar": {
              "outlinewidth": 0,
              "ticks": ""
             }
            },
            "type": "scattercarpet"
           }
          ],
          "scattergeo": [
           {
            "marker": {
             "colorbar": {
              "outlinewidth": 0,
              "ticks": ""
             }
            },
            "type": "scattergeo"
           }
          ],
          "scattergl": [
           {
            "marker": {
             "colorbar": {
              "outlinewidth": 0,
              "ticks": ""
             }
            },
            "type": "scattergl"
           }
          ],
          "scattermapbox": [
           {
            "marker": {
             "colorbar": {
              "outlinewidth": 0,
              "ticks": ""
             }
            },
            "type": "scattermapbox"
           }
          ],
          "scatterpolar": [
           {
            "marker": {
             "colorbar": {
              "outlinewidth": 0,
              "ticks": ""
             }
            },
            "type": "scatterpolar"
           }
          ],
          "scatterpolargl": [
           {
            "marker": {
             "colorbar": {
              "outlinewidth": 0,
              "ticks": ""
             }
            },
            "type": "scatterpolargl"
           }
          ],
          "scatterternary": [
           {
            "marker": {
             "colorbar": {
              "outlinewidth": 0,
              "ticks": ""
             }
            },
            "type": "scatterternary"
           }
          ],
          "surface": [
           {
            "colorbar": {
             "outlinewidth": 0,
             "ticks": ""
            },
            "colorscale": [
             [
              0,
              "#0d0887"
             ],
             [
              0.1111111111111111,
              "#46039f"
             ],
             [
              0.2222222222222222,
              "#7201a8"
             ],
             [
              0.3333333333333333,
              "#9c179e"
             ],
             [
              0.4444444444444444,
              "#bd3786"
             ],
             [
              0.5555555555555556,
              "#d8576b"
             ],
             [
              0.6666666666666666,
              "#ed7953"
             ],
             [
              0.7777777777777778,
              "#fb9f3a"
             ],
             [
              0.8888888888888888,
              "#fdca26"
             ],
             [
              1,
              "#f0f921"
             ]
            ],
            "type": "surface"
           }
          ],
          "table": [
           {
            "cells": {
             "fill": {
              "color": "#EBF0F8"
             },
             "line": {
              "color": "white"
             }
            },
            "header": {
             "fill": {
              "color": "#C8D4E3"
             },
             "line": {
              "color": "white"
             }
            },
            "type": "table"
           }
          ]
         },
         "layout": {
          "annotationdefaults": {
           "arrowcolor": "#2a3f5f",
           "arrowhead": 0,
           "arrowwidth": 1
          },
          "autotypenumbers": "strict",
          "coloraxis": {
           "colorbar": {
            "outlinewidth": 0,
            "ticks": ""
           }
          },
          "colorscale": {
           "diverging": [
            [
             0,
             "#8e0152"
            ],
            [
             0.1,
             "#c51b7d"
            ],
            [
             0.2,
             "#de77ae"
            ],
            [
             0.3,
             "#f1b6da"
            ],
            [
             0.4,
             "#fde0ef"
            ],
            [
             0.5,
             "#f7f7f7"
            ],
            [
             0.6,
             "#e6f5d0"
            ],
            [
             0.7,
             "#b8e186"
            ],
            [
             0.8,
             "#7fbc41"
            ],
            [
             0.9,
             "#4d9221"
            ],
            [
             1,
             "#276419"
            ]
           ],
           "sequential": [
            [
             0,
             "#0d0887"
            ],
            [
             0.1111111111111111,
             "#46039f"
            ],
            [
             0.2222222222222222,
             "#7201a8"
            ],
            [
             0.3333333333333333,
             "#9c179e"
            ],
            [
             0.4444444444444444,
             "#bd3786"
            ],
            [
             0.5555555555555556,
             "#d8576b"
            ],
            [
             0.6666666666666666,
             "#ed7953"
            ],
            [
             0.7777777777777778,
             "#fb9f3a"
            ],
            [
             0.8888888888888888,
             "#fdca26"
            ],
            [
             1,
             "#f0f921"
            ]
           ],
           "sequentialminus": [
            [
             0,
             "#0d0887"
            ],
            [
             0.1111111111111111,
             "#46039f"
            ],
            [
             0.2222222222222222,
             "#7201a8"
            ],
            [
             0.3333333333333333,
             "#9c179e"
            ],
            [
             0.4444444444444444,
             "#bd3786"
            ],
            [
             0.5555555555555556,
             "#d8576b"
            ],
            [
             0.6666666666666666,
             "#ed7953"
            ],
            [
             0.7777777777777778,
             "#fb9f3a"
            ],
            [
             0.8888888888888888,
             "#fdca26"
            ],
            [
             1,
             "#f0f921"
            ]
           ]
          },
          "colorway": [
           "#636efa",
           "#EF553B",
           "#00cc96",
           "#ab63fa",
           "#FFA15A",
           "#19d3f3",
           "#FF6692",
           "#B6E880",
           "#FF97FF",
           "#FECB52"
          ],
          "font": {
           "color": "#2a3f5f"
          },
          "geo": {
           "bgcolor": "white",
           "lakecolor": "white",
           "landcolor": "#E5ECF6",
           "showlakes": true,
           "showland": true,
           "subunitcolor": "white"
          },
          "hoverlabel": {
           "align": "left"
          },
          "hovermode": "closest",
          "mapbox": {
           "style": "light"
          },
          "paper_bgcolor": "white",
          "plot_bgcolor": "#E5ECF6",
          "polar": {
           "angularaxis": {
            "gridcolor": "white",
            "linecolor": "white",
            "ticks": ""
           },
           "bgcolor": "#E5ECF6",
           "radialaxis": {
            "gridcolor": "white",
            "linecolor": "white",
            "ticks": ""
           }
          },
          "scene": {
           "xaxis": {
            "backgroundcolor": "#E5ECF6",
            "gridcolor": "white",
            "gridwidth": 2,
            "linecolor": "white",
            "showbackground": true,
            "ticks": "",
            "zerolinecolor": "white"
           },
           "yaxis": {
            "backgroundcolor": "#E5ECF6",
            "gridcolor": "white",
            "gridwidth": 2,
            "linecolor": "white",
            "showbackground": true,
            "ticks": "",
            "zerolinecolor": "white"
           },
           "zaxis": {
            "backgroundcolor": "#E5ECF6",
            "gridcolor": "white",
            "gridwidth": 2,
            "linecolor": "white",
            "showbackground": true,
            "ticks": "",
            "zerolinecolor": "white"
           }
          },
          "shapedefaults": {
           "line": {
            "color": "#2a3f5f"
           }
          },
          "ternary": {
           "aaxis": {
            "gridcolor": "white",
            "linecolor": "white",
            "ticks": ""
           },
           "baxis": {
            "gridcolor": "white",
            "linecolor": "white",
            "ticks": ""
           },
           "bgcolor": "#E5ECF6",
           "caxis": {
            "gridcolor": "white",
            "linecolor": "white",
            "ticks": ""
           }
          },
          "title": {
           "x": 0.05
          },
          "xaxis": {
           "automargin": true,
           "gridcolor": "white",
           "linecolor": "white",
           "ticks": "",
           "title": {
            "standoff": 15
           },
           "zerolinecolor": "white",
           "zerolinewidth": 2
          },
          "yaxis": {
           "automargin": true,
           "gridcolor": "white",
           "linecolor": "white",
           "ticks": "",
           "title": {
            "standoff": 15
           },
           "zerolinecolor": "white",
           "zerolinewidth": 2
          }
         }
        },
        "title": {
         "text": "tabela 2020"
        },
        "xaxis": {
         "anchor": "y",
         "domain": [
          0,
          1
         ],
         "title": {
          "text": "regiões de São Paulo"
         }
        },
        "yaxis": {
         "anchor": "x",
         "domain": [
          0,
          1
         ],
         "title": {
          "text": "taxas de crimes em 2020"
         }
        }
       }
      },
      "text/html": [
       "<div>                            <div id=\"c3396f6e-cf2e-457c-b50d-35d541c9b87b\" class=\"plotly-graph-div\" style=\"height:525px; width:100%;\"></div>            <script type=\"text/javascript\">                require([\"plotly\"], function(Plotly) {                    window.PLOTLYENV=window.PLOTLYENV || {};                                    if (document.getElementById(\"c3396f6e-cf2e-457c-b50d-35d541c9b87b\")) {                    Plotly.newPlot(                        \"c3396f6e-cf2e-457c-b50d-35d541c9b87b\",                        [{\"alignmentgroup\":\"True\",\"hovertemplate\":\"variable=homicidio_doloso<br>regiao_ssp=%{x}<br>value=%{y}<extra></extra>\",\"legendgroup\":\"homicidio_doloso\",\"marker\":{\"color\":\"#636efa\",\"pattern\":{\"shape\":\"\"}},\"name\":\"homicidio_doloso\",\"offsetgroup\":\"homicidio_doloso\",\"orientation\":\"v\",\"showlegend\":true,\"textposition\":\"auto\",\"x\":[\"Ara\\u00e7atuba\",\"Bauru\",\"Campinas\",\"Capital\",\"Grande S\\u00e3o Paulo (exclui a Capital)\",\"Piracicaba\",\"Presidente Prudente\",\"Ribeir\\u00e3o Preto\",\"Santos\",\"Sorocaba\",\"S\\u00e3o Jos\\u00e9 do Rio Preto\",\"S\\u00e3o Jos\\u00e9 dos Campos\"],\"xaxis\":\"x\",\"y\":[65.0,117.0,228.0,659.0,642.0,220.0,46.0,195.0,121.0,192.0,82.0,326.0],\"yaxis\":\"y\",\"type\":\"bar\"},{\"alignmentgroup\":\"True\",\"hovertemplate\":\"variable=numero_de_vitimas_em_homicidio_doloso<br>regiao_ssp=%{x}<br>value=%{y}<extra></extra>\",\"legendgroup\":\"numero_de_vitimas_em_homicidio_doloso\",\"marker\":{\"color\":\"#EF553B\",\"pattern\":{\"shape\":\"\"}},\"name\":\"numero_de_vitimas_em_homicidio_doloso\",\"offsetgroup\":\"numero_de_vitimas_em_homicidio_doloso\",\"orientation\":\"v\",\"showlegend\":true,\"textposition\":\"auto\",\"x\":[\"Ara\\u00e7atuba\",\"Bauru\",\"Campinas\",\"Capital\",\"Grande S\\u00e3o Paulo (exclui a Capital)\",\"Piracicaba\",\"Presidente Prudente\",\"Ribeir\\u00e3o Preto\",\"Santos\",\"Sorocaba\",\"S\\u00e3o Jos\\u00e9 do Rio Preto\",\"S\\u00e3o Jos\\u00e9 dos Campos\"],\"xaxis\":\"x\",\"y\":[69.0,121.0,233.0,709.0,674.0,227.0,48.0,200.0,128.0,203.0,82.0,344.0],\"yaxis\":\"y\",\"type\":\"bar\"},{\"alignmentgroup\":\"True\",\"hovertemplate\":\"variable=homicidio_doloso_por_acidente_de_transito<br>regiao_ssp=%{x}<br>value=%{y}<extra></extra>\",\"legendgroup\":\"homicidio_doloso_por_acidente_de_transito\",\"marker\":{\"color\":\"#00cc96\",\"pattern\":{\"shape\":\"\"}},\"name\":\"homicidio_doloso_por_acidente_de_transito\",\"offsetgroup\":\"homicidio_doloso_por_acidente_de_transito\",\"orientation\":\"v\",\"showlegend\":true,\"textposition\":\"auto\",\"x\":[\"Ara\\u00e7atuba\",\"Bauru\",\"Campinas\",\"Capital\",\"Grande S\\u00e3o Paulo (exclui a Capital)\",\"Piracicaba\",\"Presidente Prudente\",\"Ribeir\\u00e3o Preto\",\"Santos\",\"Sorocaba\",\"S\\u00e3o Jos\\u00e9 do Rio Preto\",\"S\\u00e3o Jos\\u00e9 dos Campos\"],\"xaxis\":\"x\",\"y\":[1.0,1.0,0.0,7.0,6.0,2.0,0.0,1.0,1.0,0.0,0.0,0.0],\"yaxis\":\"y\",\"type\":\"bar\"},{\"alignmentgroup\":\"True\",\"hovertemplate\":\"variable=numero_de_vitimas_em_homicidio_doloso_por_acidente_de_transito<br>regiao_ssp=%{x}<br>value=%{y}<extra></extra>\",\"legendgroup\":\"numero_de_vitimas_em_homicidio_doloso_por_acidente_de_transito\",\"marker\":{\"color\":\"#ab63fa\",\"pattern\":{\"shape\":\"\"}},\"name\":\"numero_de_vitimas_em_homicidio_doloso_por_acidente_de_transito\",\"offsetgroup\":\"numero_de_vitimas_em_homicidio_doloso_por_acidente_de_transito\",\"orientation\":\"v\",\"showlegend\":true,\"textposition\":\"auto\",\"x\":[\"Ara\\u00e7atuba\",\"Bauru\",\"Campinas\",\"Capital\",\"Grande S\\u00e3o Paulo (exclui a Capital)\",\"Piracicaba\",\"Presidente Prudente\",\"Ribeir\\u00e3o Preto\",\"Santos\",\"Sorocaba\",\"S\\u00e3o Jos\\u00e9 do Rio Preto\",\"S\\u00e3o Jos\\u00e9 dos Campos\"],\"xaxis\":\"x\",\"y\":[2.0,1.0,0.0,7.0,7.0,3.0,0.0,1.0,5.0,0.0,0.0,0.0],\"yaxis\":\"y\",\"type\":\"bar\"},{\"alignmentgroup\":\"True\",\"hovertemplate\":\"variable=homicidio_culposo_por_acidente_de_transito<br>regiao_ssp=%{x}<br>value=%{y}<extra></extra>\",\"legendgroup\":\"homicidio_culposo_por_acidente_de_transito\",\"marker\":{\"color\":\"#FFA15A\",\"pattern\":{\"shape\":\"\"}},\"name\":\"homicidio_culposo_por_acidente_de_transito\",\"offsetgroup\":\"homicidio_culposo_por_acidente_de_transito\",\"orientation\":\"v\",\"showlegend\":true,\"textposition\":\"auto\",\"x\":[\"Ara\\u00e7atuba\",\"Bauru\",\"Campinas\",\"Capital\",\"Grande S\\u00e3o Paulo (exclui a Capital)\",\"Piracicaba\",\"Presidente Prudente\",\"Ribeir\\u00e3o Preto\",\"Santos\",\"Sorocaba\",\"S\\u00e3o Jos\\u00e9 do Rio Preto\",\"S\\u00e3o Jos\\u00e9 dos Campos\"],\"xaxis\":\"x\",\"y\":[91.0,196.0,357.0,393.0,424.0,264.0,84.0,363.0,228.0,361.0,175.0,217.0],\"yaxis\":\"y\",\"type\":\"bar\"},{\"alignmentgroup\":\"True\",\"hovertemplate\":\"variable=homicidio_culposo_outros<br>regiao_ssp=%{x}<br>value=%{y}<extra></extra>\",\"legendgroup\":\"homicidio_culposo_outros\",\"marker\":{\"color\":\"#19d3f3\",\"pattern\":{\"shape\":\"\"}},\"name\":\"homicidio_culposo_outros\",\"offsetgroup\":\"homicidio_culposo_outros\",\"orientation\":\"v\",\"showlegend\":true,\"textposition\":\"auto\",\"x\":[\"Ara\\u00e7atuba\",\"Bauru\",\"Campinas\",\"Capital\",\"Grande S\\u00e3o Paulo (exclui a Capital)\",\"Piracicaba\",\"Presidente Prudente\",\"Ribeir\\u00e3o Preto\",\"Santos\",\"Sorocaba\",\"S\\u00e3o Jos\\u00e9 do Rio Preto\",\"S\\u00e3o Jos\\u00e9 dos Campos\"],\"xaxis\":\"x\",\"y\":[1.0,7.0,5.0,22.0,45.0,15.0,2.0,10.0,2.0,11.0,7.0,4.0],\"yaxis\":\"y\",\"type\":\"bar\"},{\"alignmentgroup\":\"True\",\"hovertemplate\":\"variable=tentativa_de_homicidio<br>regiao_ssp=%{x}<br>value=%{y}<extra></extra>\",\"legendgroup\":\"tentativa_de_homicidio\",\"marker\":{\"color\":\"#FF6692\",\"pattern\":{\"shape\":\"\"}},\"name\":\"tentativa_de_homicidio\",\"offsetgroup\":\"tentativa_de_homicidio\",\"orientation\":\"v\",\"showlegend\":true,\"textposition\":\"auto\",\"x\":[\"Ara\\u00e7atuba\",\"Bauru\",\"Campinas\",\"Capital\",\"Grande S\\u00e3o Paulo (exclui a Capital)\",\"Piracicaba\",\"Presidente Prudente\",\"Ribeir\\u00e3o Preto\",\"Santos\",\"Sorocaba\",\"S\\u00e3o Jos\\u00e9 do Rio Preto\",\"S\\u00e3o Jos\\u00e9 dos Campos\"],\"xaxis\":\"x\",\"y\":[139.0,205.0,218.0,590.0,557.0,205.0,71.0,239.0,237.0,225.0,137.0,369.0],\"yaxis\":\"y\",\"type\":\"bar\"},{\"alignmentgroup\":\"True\",\"hovertemplate\":\"variable=total_de_estupro<br>regiao_ssp=%{x}<br>value=%{y}<extra></extra>\",\"legendgroup\":\"total_de_estupro\",\"marker\":{\"color\":\"#B6E880\",\"pattern\":{\"shape\":\"\"}},\"name\":\"total_de_estupro\",\"offsetgroup\":\"total_de_estupro\",\"orientation\":\"v\",\"showlegend\":true,\"textposition\":\"auto\",\"x\":[\"Ara\\u00e7atuba\",\"Bauru\",\"Campinas\",\"Capital\",\"Grande S\\u00e3o Paulo (exclui a Capital)\",\"Piracicaba\",\"Presidente Prudente\",\"Ribeir\\u00e3o Preto\",\"Santos\",\"Sorocaba\",\"S\\u00e3o Jos\\u00e9 do Rio Preto\",\"S\\u00e3o Jos\\u00e9 dos Campos\"],\"xaxis\":\"x\",\"y\":[218.0,595.0,837.0,2318.0,2260.0,638.0,289.0,813.0,639.0,1192.0,549.0,660.0],\"yaxis\":\"y\",\"type\":\"bar\"},{\"alignmentgroup\":\"True\",\"hovertemplate\":\"variable=estupro<br>regiao_ssp=%{x}<br>value=%{y}<extra></extra>\",\"legendgroup\":\"estupro\",\"marker\":{\"color\":\"#FF97FF\",\"pattern\":{\"shape\":\"\"}},\"name\":\"estupro\",\"offsetgroup\":\"estupro\",\"orientation\":\"v\",\"showlegend\":true,\"textposition\":\"auto\",\"x\":[\"Ara\\u00e7atuba\",\"Bauru\",\"Campinas\",\"Capital\",\"Grande S\\u00e3o Paulo (exclui a Capital)\",\"Piracicaba\",\"Presidente Prudente\",\"Ribeir\\u00e3o Preto\",\"Santos\",\"Sorocaba\",\"S\\u00e3o Jos\\u00e9 do Rio Preto\",\"S\\u00e3o Jos\\u00e9 dos Campos\"],\"xaxis\":\"x\",\"y\":[47.0,134.0,228.0,604.0,510.0,171.0,51.0,202.0,148.0,249.0,114.0,157.0],\"yaxis\":\"y\",\"type\":\"bar\"},{\"alignmentgroup\":\"True\",\"hovertemplate\":\"variable=estupro_de_vulneravel<br>regiao_ssp=%{x}<br>value=%{y}<extra></extra>\",\"legendgroup\":\"estupro_de_vulneravel\",\"marker\":{\"color\":\"#FECB52\",\"pattern\":{\"shape\":\"\"}},\"name\":\"estupro_de_vulneravel\",\"offsetgroup\":\"estupro_de_vulneravel\",\"orientation\":\"v\",\"showlegend\":true,\"textposition\":\"auto\",\"x\":[\"Ara\\u00e7atuba\",\"Bauru\",\"Campinas\",\"Capital\",\"Grande S\\u00e3o Paulo (exclui a Capital)\",\"Piracicaba\",\"Presidente Prudente\",\"Ribeir\\u00e3o Preto\",\"Santos\",\"Sorocaba\",\"S\\u00e3o Jos\\u00e9 do Rio Preto\",\"S\\u00e3o Jos\\u00e9 dos Campos\"],\"xaxis\":\"x\",\"y\":[171.0,461.0,609.0,1714.0,1750.0,467.0,238.0,611.0,491.0,943.0,435.0,503.0],\"yaxis\":\"y\",\"type\":\"bar\"},{\"alignmentgroup\":\"True\",\"hovertemplate\":\"variable=total_de_roubo_outros<br>regiao_ssp=%{x}<br>value=%{y}<extra></extra>\",\"legendgroup\":\"total_de_roubo_outros\",\"marker\":{\"color\":\"#636efa\",\"pattern\":{\"shape\":\"\"}},\"name\":\"total_de_roubo_outros\",\"offsetgroup\":\"total_de_roubo_outros\",\"orientation\":\"v\",\"showlegend\":true,\"textposition\":\"auto\",\"x\":[\"Ara\\u00e7atuba\",\"Bauru\",\"Campinas\",\"Capital\",\"Grande S\\u00e3o Paulo (exclui a Capital)\",\"Piracicaba\",\"Presidente Prudente\",\"Ribeir\\u00e3o Preto\",\"Santos\",\"Sorocaba\",\"S\\u00e3o Jos\\u00e9 do Rio Preto\",\"S\\u00e3o Jos\\u00e9 dos Campos\"],\"xaxis\":\"x\",\"y\":[556.0,1253.0,8829.0,127513.0,49756.0,5005.0,316.0,4546.0,11845.0,3098.0,976.0,5066.0],\"yaxis\":\"y\",\"type\":\"bar\"},{\"alignmentgroup\":\"True\",\"hovertemplate\":\"variable=roubo_outros<br>regiao_ssp=%{x}<br>value=%{y}<extra></extra>\",\"legendgroup\":\"roubo_outros\",\"marker\":{\"color\":\"#EF553B\",\"pattern\":{\"shape\":\"\"}},\"name\":\"roubo_outros\",\"offsetgroup\":\"roubo_outros\",\"orientation\":\"v\",\"showlegend\":true,\"textposition\":\"auto\",\"x\":[\"Ara\\u00e7atuba\",\"Bauru\",\"Campinas\",\"Capital\",\"Grande S\\u00e3o Paulo (exclui a Capital)\",\"Piracicaba\",\"Presidente Prudente\",\"Ribeir\\u00e3o Preto\",\"Santos\",\"Sorocaba\",\"S\\u00e3o Jos\\u00e9 do Rio Preto\",\"S\\u00e3o Jos\\u00e9 dos Campos\"],\"xaxis\":\"x\",\"y\":[546.0,1224.0,8329.0,124552.0,48109.0,4822.0,299.0,4432.0,11584.0,3010.0,963.0,4946.0],\"yaxis\":\"y\",\"type\":\"bar\"},{\"alignmentgroup\":\"True\",\"hovertemplate\":\"variable=roubo_de_veiculo<br>regiao_ssp=%{x}<br>value=%{y}<extra></extra>\",\"legendgroup\":\"roubo_de_veiculo\",\"marker\":{\"color\":\"#00cc96\",\"pattern\":{\"shape\":\"\"}},\"name\":\"roubo_de_veiculo\",\"offsetgroup\":\"roubo_de_veiculo\",\"orientation\":\"v\",\"showlegend\":true,\"textposition\":\"auto\",\"x\":[\"Ara\\u00e7atuba\",\"Bauru\",\"Campinas\",\"Capital\",\"Grande S\\u00e3o Paulo (exclui a Capital)\",\"Piracicaba\",\"Presidente Prudente\",\"Ribeir\\u00e3o Preto\",\"Santos\",\"Sorocaba\",\"S\\u00e3o Jos\\u00e9 do Rio Preto\",\"S\\u00e3o Jos\\u00e9 dos Campos\"],\"xaxis\":\"x\",\"y\":[44.0,112.0,2993.0,13965.0,9872.0,1436.0,25.0,888.0,900.0,658.0,87.0,897.0],\"yaxis\":\"y\",\"type\":\"bar\"},{\"alignmentgroup\":\"True\",\"hovertemplate\":\"variable=roubo_a_banco<br>regiao_ssp=%{x}<br>value=%{y}<extra></extra>\",\"legendgroup\":\"roubo_a_banco\",\"marker\":{\"color\":\"#ab63fa\",\"pattern\":{\"shape\":\"\"}},\"name\":\"roubo_a_banco\",\"offsetgroup\":\"roubo_a_banco\",\"orientation\":\"v\",\"showlegend\":true,\"textposition\":\"auto\",\"x\":[\"Ara\\u00e7atuba\",\"Bauru\",\"Campinas\",\"Capital\",\"Grande S\\u00e3o Paulo (exclui a Capital)\",\"Piracicaba\",\"Presidente Prudente\",\"Ribeir\\u00e3o Preto\",\"Santos\",\"Sorocaba\",\"S\\u00e3o Jos\\u00e9 do Rio Preto\",\"S\\u00e3o Jos\\u00e9 dos Campos\"],\"xaxis\":\"x\",\"y\":[0.0,1.0,2.0,18.0,2.0,0.0,0.0,2.0,0.0,1.0,0.0,3.0],\"yaxis\":\"y\",\"type\":\"bar\"},{\"alignmentgroup\":\"True\",\"hovertemplate\":\"variable=roubo_de_carga<br>regiao_ssp=%{x}<br>value=%{y}<extra></extra>\",\"legendgroup\":\"roubo_de_carga\",\"marker\":{\"color\":\"#FFA15A\",\"pattern\":{\"shape\":\"\"}},\"name\":\"roubo_de_carga\",\"offsetgroup\":\"roubo_de_carga\",\"orientation\":\"v\",\"showlegend\":true,\"textposition\":\"auto\",\"x\":[\"Ara\\u00e7atuba\",\"Bauru\",\"Campinas\",\"Capital\",\"Grande S\\u00e3o Paulo (exclui a Capital)\",\"Piracicaba\",\"Presidente Prudente\",\"Ribeir\\u00e3o Preto\",\"Santos\",\"Sorocaba\",\"S\\u00e3o Jos\\u00e9 do Rio Preto\",\"S\\u00e3o Jos\\u00e9 dos Campos\"],\"xaxis\":\"x\",\"y\":[10.0,28.0,498.0,2943.0,1645.0,183.0,17.0,112.0,261.0,87.0,13.0,117.0],\"yaxis\":\"y\",\"type\":\"bar\"},{\"alignmentgroup\":\"True\",\"hovertemplate\":\"variable=furto_outros<br>regiao_ssp=%{x}<br>value=%{y}<extra></extra>\",\"legendgroup\":\"furto_outros\",\"marker\":{\"color\":\"#19d3f3\",\"pattern\":{\"shape\":\"\"}},\"name\":\"furto_outros\",\"offsetgroup\":\"furto_outros\",\"orientation\":\"v\",\"showlegend\":true,\"textposition\":\"auto\",\"x\":[\"Ara\\u00e7atuba\",\"Bauru\",\"Campinas\",\"Capital\",\"Grande S\\u00e3o Paulo (exclui a Capital)\",\"Piracicaba\",\"Presidente Prudente\",\"Ribeir\\u00e3o Preto\",\"Santos\",\"Sorocaba\",\"S\\u00e3o Jos\\u00e9 do Rio Preto\",\"S\\u00e3o Jos\\u00e9 dos Campos\"],\"xaxis\":\"x\",\"y\":[6383.0,14307.0,27082.0,164444.0,54402.0,19803.0,6068.0,28076.0,25464.0,17409.0,11621.0,16762.0],\"yaxis\":\"y\",\"type\":\"bar\"},{\"alignmentgroup\":\"True\",\"hovertemplate\":\"variable=furto_de_veiculo<br>regiao_ssp=%{x}<br>value=%{y}<extra></extra>\",\"legendgroup\":\"furto_de_veiculo\",\"marker\":{\"color\":\"#FF6692\",\"pattern\":{\"shape\":\"\"}},\"name\":\"furto_de_veiculo\",\"offsetgroup\":\"furto_de_veiculo\",\"orientation\":\"v\",\"showlegend\":true,\"textposition\":\"auto\",\"x\":[\"Ara\\u00e7atuba\",\"Bauru\",\"Campinas\",\"Capital\",\"Grande S\\u00e3o Paulo (exclui a Capital)\",\"Piracicaba\",\"Presidente Prudente\",\"Ribeir\\u00e3o Preto\",\"Santos\",\"Sorocaba\",\"S\\u00e3o Jos\\u00e9 do Rio Preto\",\"S\\u00e3o Jos\\u00e9 dos Campos\"],\"xaxis\":\"x\",\"y\":[418.0,1051.0,5427.0,27035.0,15763.0,4298.0,316.0,3466.0,2174.0,2068.0,1272.0,2365.0],\"yaxis\":\"y\",\"type\":\"bar\"}],                        {\"template\":{\"data\":{\"histogram2dcontour\":[{\"type\":\"histogram2dcontour\",\"colorbar\":{\"outlinewidth\":0,\"ticks\":\"\"},\"colorscale\":[[0.0,\"#0d0887\"],[0.1111111111111111,\"#46039f\"],[0.2222222222222222,\"#7201a8\"],[0.3333333333333333,\"#9c179e\"],[0.4444444444444444,\"#bd3786\"],[0.5555555555555556,\"#d8576b\"],[0.6666666666666666,\"#ed7953\"],[0.7777777777777778,\"#fb9f3a\"],[0.8888888888888888,\"#fdca26\"],[1.0,\"#f0f921\"]]}],\"choropleth\":[{\"type\":\"choropleth\",\"colorbar\":{\"outlinewidth\":0,\"ticks\":\"\"}}],\"histogram2d\":[{\"type\":\"histogram2d\",\"colorbar\":{\"outlinewidth\":0,\"ticks\":\"\"},\"colorscale\":[[0.0,\"#0d0887\"],[0.1111111111111111,\"#46039f\"],[0.2222222222222222,\"#7201a8\"],[0.3333333333333333,\"#9c179e\"],[0.4444444444444444,\"#bd3786\"],[0.5555555555555556,\"#d8576b\"],[0.6666666666666666,\"#ed7953\"],[0.7777777777777778,\"#fb9f3a\"],[0.8888888888888888,\"#fdca26\"],[1.0,\"#f0f921\"]]}],\"heatmap\":[{\"type\":\"heatmap\",\"colorbar\":{\"outlinewidth\":0,\"ticks\":\"\"},\"colorscale\":[[0.0,\"#0d0887\"],[0.1111111111111111,\"#46039f\"],[0.2222222222222222,\"#7201a8\"],[0.3333333333333333,\"#9c179e\"],[0.4444444444444444,\"#bd3786\"],[0.5555555555555556,\"#d8576b\"],[0.6666666666666666,\"#ed7953\"],[0.7777777777777778,\"#fb9f3a\"],[0.8888888888888888,\"#fdca26\"],[1.0,\"#f0f921\"]]}],\"heatmapgl\":[{\"type\":\"heatmapgl\",\"colorbar\":{\"outlinewidth\":0,\"ticks\":\"\"},\"colorscale\":[[0.0,\"#0d0887\"],[0.1111111111111111,\"#46039f\"],[0.2222222222222222,\"#7201a8\"],[0.3333333333333333,\"#9c179e\"],[0.4444444444444444,\"#bd3786\"],[0.5555555555555556,\"#d8576b\"],[0.6666666666666666,\"#ed7953\"],[0.7777777777777778,\"#fb9f3a\"],[0.8888888888888888,\"#fdca26\"],[1.0,\"#f0f921\"]]}],\"contourcarpet\":[{\"type\":\"contourcarpet\",\"colorbar\":{\"outlinewidth\":0,\"ticks\":\"\"}}],\"contour\":[{\"type\":\"contour\",\"colorbar\":{\"outlinewidth\":0,\"ticks\":\"\"},\"colorscale\":[[0.0,\"#0d0887\"],[0.1111111111111111,\"#46039f\"],[0.2222222222222222,\"#7201a8\"],[0.3333333333333333,\"#9c179e\"],[0.4444444444444444,\"#bd3786\"],[0.5555555555555556,\"#d8576b\"],[0.6666666666666666,\"#ed7953\"],[0.7777777777777778,\"#fb9f3a\"],[0.8888888888888888,\"#fdca26\"],[1.0,\"#f0f921\"]]}],\"surface\":[{\"type\":\"surface\",\"colorbar\":{\"outlinewidth\":0,\"ticks\":\"\"},\"colorscale\":[[0.0,\"#0d0887\"],[0.1111111111111111,\"#46039f\"],[0.2222222222222222,\"#7201a8\"],[0.3333333333333333,\"#9c179e\"],[0.4444444444444444,\"#bd3786\"],[0.5555555555555556,\"#d8576b\"],[0.6666666666666666,\"#ed7953\"],[0.7777777777777778,\"#fb9f3a\"],[0.8888888888888888,\"#fdca26\"],[1.0,\"#f0f921\"]]}],\"mesh3d\":[{\"type\":\"mesh3d\",\"colorbar\":{\"outlinewidth\":0,\"ticks\":\"\"}}],\"scatter\":[{\"fillpattern\":{\"fillmode\":\"overlay\",\"size\":10,\"solidity\":0.2},\"type\":\"scatter\"}],\"parcoords\":[{\"type\":\"parcoords\",\"line\":{\"colorbar\":{\"outlinewidth\":0,\"ticks\":\"\"}}}],\"scatterpolargl\":[{\"type\":\"scatterpolargl\",\"marker\":{\"colorbar\":{\"outlinewidth\":0,\"ticks\":\"\"}}}],\"bar\":[{\"error_x\":{\"color\":\"#2a3f5f\"},\"error_y\":{\"color\":\"#2a3f5f\"},\"marker\":{\"line\":{\"color\":\"#E5ECF6\",\"width\":0.5},\"pattern\":{\"fillmode\":\"overlay\",\"size\":10,\"solidity\":0.2}},\"type\":\"bar\"}],\"scattergeo\":[{\"type\":\"scattergeo\",\"marker\":{\"colorbar\":{\"outlinewidth\":0,\"ticks\":\"\"}}}],\"scatterpolar\":[{\"type\":\"scatterpolar\",\"marker\":{\"colorbar\":{\"outlinewidth\":0,\"ticks\":\"\"}}}],\"histogram\":[{\"marker\":{\"pattern\":{\"fillmode\":\"overlay\",\"size\":10,\"solidity\":0.2}},\"type\":\"histogram\"}],\"scattergl\":[{\"type\":\"scattergl\",\"marker\":{\"colorbar\":{\"outlinewidth\":0,\"ticks\":\"\"}}}],\"scatter3d\":[{\"type\":\"scatter3d\",\"line\":{\"colorbar\":{\"outlinewidth\":0,\"ticks\":\"\"}},\"marker\":{\"colorbar\":{\"outlinewidth\":0,\"ticks\":\"\"}}}],\"scattermapbox\":[{\"type\":\"scattermapbox\",\"marker\":{\"colorbar\":{\"outlinewidth\":0,\"ticks\":\"\"}}}],\"scatterternary\":[{\"type\":\"scatterternary\",\"marker\":{\"colorbar\":{\"outlinewidth\":0,\"ticks\":\"\"}}}],\"scattercarpet\":[{\"type\":\"scattercarpet\",\"marker\":{\"colorbar\":{\"outlinewidth\":0,\"ticks\":\"\"}}}],\"carpet\":[{\"aaxis\":{\"endlinecolor\":\"#2a3f5f\",\"gridcolor\":\"white\",\"linecolor\":\"white\",\"minorgridcolor\":\"white\",\"startlinecolor\":\"#2a3f5f\"},\"baxis\":{\"endlinecolor\":\"#2a3f5f\",\"gridcolor\":\"white\",\"linecolor\":\"white\",\"minorgridcolor\":\"white\",\"startlinecolor\":\"#2a3f5f\"},\"type\":\"carpet\"}],\"table\":[{\"cells\":{\"fill\":{\"color\":\"#EBF0F8\"},\"line\":{\"color\":\"white\"}},\"header\":{\"fill\":{\"color\":\"#C8D4E3\"},\"line\":{\"color\":\"white\"}},\"type\":\"table\"}],\"barpolar\":[{\"marker\":{\"line\":{\"color\":\"#E5ECF6\",\"width\":0.5},\"pattern\":{\"fillmode\":\"overlay\",\"size\":10,\"solidity\":0.2}},\"type\":\"barpolar\"}],\"pie\":[{\"automargin\":true,\"type\":\"pie\"}]},\"layout\":{\"autotypenumbers\":\"strict\",\"colorway\":[\"#636efa\",\"#EF553B\",\"#00cc96\",\"#ab63fa\",\"#FFA15A\",\"#19d3f3\",\"#FF6692\",\"#B6E880\",\"#FF97FF\",\"#FECB52\"],\"font\":{\"color\":\"#2a3f5f\"},\"hovermode\":\"closest\",\"hoverlabel\":{\"align\":\"left\"},\"paper_bgcolor\":\"white\",\"plot_bgcolor\":\"#E5ECF6\",\"polar\":{\"bgcolor\":\"#E5ECF6\",\"angularaxis\":{\"gridcolor\":\"white\",\"linecolor\":\"white\",\"ticks\":\"\"},\"radialaxis\":{\"gridcolor\":\"white\",\"linecolor\":\"white\",\"ticks\":\"\"}},\"ternary\":{\"bgcolor\":\"#E5ECF6\",\"aaxis\":{\"gridcolor\":\"white\",\"linecolor\":\"white\",\"ticks\":\"\"},\"baxis\":{\"gridcolor\":\"white\",\"linecolor\":\"white\",\"ticks\":\"\"},\"caxis\":{\"gridcolor\":\"white\",\"linecolor\":\"white\",\"ticks\":\"\"}},\"coloraxis\":{\"colorbar\":{\"outlinewidth\":0,\"ticks\":\"\"}},\"colorscale\":{\"sequential\":[[0.0,\"#0d0887\"],[0.1111111111111111,\"#46039f\"],[0.2222222222222222,\"#7201a8\"],[0.3333333333333333,\"#9c179e\"],[0.4444444444444444,\"#bd3786\"],[0.5555555555555556,\"#d8576b\"],[0.6666666666666666,\"#ed7953\"],[0.7777777777777778,\"#fb9f3a\"],[0.8888888888888888,\"#fdca26\"],[1.0,\"#f0f921\"]],\"sequentialminus\":[[0.0,\"#0d0887\"],[0.1111111111111111,\"#46039f\"],[0.2222222222222222,\"#7201a8\"],[0.3333333333333333,\"#9c179e\"],[0.4444444444444444,\"#bd3786\"],[0.5555555555555556,\"#d8576b\"],[0.6666666666666666,\"#ed7953\"],[0.7777777777777778,\"#fb9f3a\"],[0.8888888888888888,\"#fdca26\"],[1.0,\"#f0f921\"]],\"diverging\":[[0,\"#8e0152\"],[0.1,\"#c51b7d\"],[0.2,\"#de77ae\"],[0.3,\"#f1b6da\"],[0.4,\"#fde0ef\"],[0.5,\"#f7f7f7\"],[0.6,\"#e6f5d0\"],[0.7,\"#b8e186\"],[0.8,\"#7fbc41\"],[0.9,\"#4d9221\"],[1,\"#276419\"]]},\"xaxis\":{\"gridcolor\":\"white\",\"linecolor\":\"white\",\"ticks\":\"\",\"title\":{\"standoff\":15},\"zerolinecolor\":\"white\",\"automargin\":true,\"zerolinewidth\":2},\"yaxis\":{\"gridcolor\":\"white\",\"linecolor\":\"white\",\"ticks\":\"\",\"title\":{\"standoff\":15},\"zerolinecolor\":\"white\",\"automargin\":true,\"zerolinewidth\":2},\"scene\":{\"xaxis\":{\"backgroundcolor\":\"#E5ECF6\",\"gridcolor\":\"white\",\"linecolor\":\"white\",\"showbackground\":true,\"ticks\":\"\",\"zerolinecolor\":\"white\",\"gridwidth\":2},\"yaxis\":{\"backgroundcolor\":\"#E5ECF6\",\"gridcolor\":\"white\",\"linecolor\":\"white\",\"showbackground\":true,\"ticks\":\"\",\"zerolinecolor\":\"white\",\"gridwidth\":2},\"zaxis\":{\"backgroundcolor\":\"#E5ECF6\",\"gridcolor\":\"white\",\"linecolor\":\"white\",\"showbackground\":true,\"ticks\":\"\",\"zerolinecolor\":\"white\",\"gridwidth\":2}},\"shapedefaults\":{\"line\":{\"color\":\"#2a3f5f\"}},\"annotationdefaults\":{\"arrowcolor\":\"#2a3f5f\",\"arrowhead\":0,\"arrowwidth\":1},\"geo\":{\"bgcolor\":\"white\",\"landcolor\":\"#E5ECF6\",\"subunitcolor\":\"white\",\"showland\":true,\"showlakes\":true,\"lakecolor\":\"white\"},\"title\":{\"x\":0.05},\"mapbox\":{\"style\":\"light\"}}},\"xaxis\":{\"anchor\":\"y\",\"domain\":[0.0,1.0],\"title\":{\"text\":\"regi\\u00f5es de S\\u00e3o Paulo\"}},\"yaxis\":{\"anchor\":\"x\",\"domain\":[0.0,1.0],\"title\":{\"text\":\"taxas de crimes em 2020\"}},\"legend\":{\"title\":{\"text\":\"variable\"},\"tracegroupgap\":0},\"margin\":{\"t\":60},\"barmode\":\"relative\",\"title\":{\"text\":\"tabela 2020\"}},                        {\"responsive\": true}                    ).then(function(){\n",
       "                            \n",
       "var gd = document.getElementById('c3396f6e-cf2e-457c-b50d-35d541c9b87b');\n",
       "var x = new MutationObserver(function (mutations, observer) {{\n",
       "        var display = window.getComputedStyle(gd).display;\n",
       "        if (!display || display === 'none') {{\n",
       "            console.log([gd, 'removed!']);\n",
       "            Plotly.purge(gd);\n",
       "            observer.disconnect();\n",
       "        }}\n",
       "}});\n",
       "\n",
       "// Listen for the removal of the full notebook cells\n",
       "var notebookContainer = gd.closest('#notebook-container');\n",
       "if (notebookContainer) {{\n",
       "    x.observe(notebookContainer, {childList: true});\n",
       "}}\n",
       "\n",
       "// Listen for the clearing of the current output cell\n",
       "var outputEl = gd.closest('.output');\n",
       "if (outputEl) {{\n",
       "    x.observe(outputEl, {childList: true});\n",
       "}}\n",
       "\n",
       "                        })                };                });            </script>        </div>"
      ]
     },
     "metadata": {},
     "output_type": "display_data"
    }
   ],
   "source": [
    "ano3 = df2[df2['ano'] == 2020] \n",
    "\n",
    "ano3 = ano3.groupby('regiao_ssp').sum()\n",
    "ano2020 = ano3\n",
    "display(ano2020)\n",
    "\n",
    "grafico = px.bar(ano2020, x = ano2020.index , y = [\"homicidio_doloso\",\"numero_de_vitimas_em_homicidio_doloso\",\"homicidio_doloso_por_acidente_de_transito\",\"numero_de_vitimas_em_homicidio_doloso_por_acidente_de_transito\",\"homicidio_culposo_por_acidente_de_transito\",\"homicidio_culposo_outros\",\"tentativa_de_homicidio\",\"total_de_estupro\",\"estupro\",\"estupro_de_vulneravel\",\"total_de_roubo_outros\",\"roubo_outros\",\"roubo_de_veiculo\",\"roubo_a_banco\",\"roubo_de_carga\",\"furto_outros\",\"furto_de_veiculo\"])\n",
    "grafico.update_layout(\n",
    "    yaxis_title=\"taxas de crimes em 2020\",\n",
    "    xaxis_title=\"regiões de São Paulo\",\n",
    "    title = 'tabela 2020')\n",
    "\n",
    "grafico.show()"
   ]
  },
  {
   "cell_type": "code",
   "execution_count": 89,
   "id": "e41a58cb",
   "metadata": {
    "scrolled": true
   },
   "outputs": [
    {
     "data": {
      "text/html": [
       "<div>\n",
       "<style scoped>\n",
       "    .dataframe tbody tr th:only-of-type {\n",
       "        vertical-align: middle;\n",
       "    }\n",
       "\n",
       "    .dataframe tbody tr th {\n",
       "        vertical-align: top;\n",
       "    }\n",
       "\n",
       "    .dataframe thead th {\n",
       "        text-align: right;\n",
       "    }\n",
       "</style>\n",
       "<table border=\"1\" class=\"dataframe\">\n",
       "  <thead>\n",
       "    <tr style=\"text-align: right;\">\n",
       "      <th></th>\n",
       "      <th>ano</th>\n",
       "      <th>mes</th>\n",
       "      <th>id_municipio</th>\n",
       "      <th>homicidio_doloso</th>\n",
       "      <th>numero_de_vitimas_em_homicidio_doloso</th>\n",
       "      <th>homicidio_doloso_por_acidente_de_transito</th>\n",
       "      <th>numero_de_vitimas_em_homicidio_doloso_por_acidente_de_transito</th>\n",
       "      <th>homicidio_culposo_por_acidente_de_transito</th>\n",
       "      <th>homicidio_culposo_outros</th>\n",
       "      <th>tentativa_de_homicidio</th>\n",
       "      <th>...</th>\n",
       "      <th>total_de_estupro</th>\n",
       "      <th>estupro</th>\n",
       "      <th>estupro_de_vulneravel</th>\n",
       "      <th>total_de_roubo_outros</th>\n",
       "      <th>roubo_outros</th>\n",
       "      <th>roubo_de_veiculo</th>\n",
       "      <th>roubo_a_banco</th>\n",
       "      <th>roubo_de_carga</th>\n",
       "      <th>furto_outros</th>\n",
       "      <th>furto_de_veiculo</th>\n",
       "    </tr>\n",
       "  </thead>\n",
       "  <tbody>\n",
       "    <tr>\n",
       "      <th>count</th>\n",
       "      <td>1.200000e+01</td>\n",
       "      <td>12.000000</td>\n",
       "      <td>1.200000e+01</td>\n",
       "      <td>12.000000</td>\n",
       "      <td>12.000000</td>\n",
       "      <td>12.000000</td>\n",
       "      <td>12.000000</td>\n",
       "      <td>12.000000</td>\n",
       "      <td>12.000000</td>\n",
       "      <td>12.000000</td>\n",
       "      <td>...</td>\n",
       "      <td>12.000000</td>\n",
       "      <td>12.000000</td>\n",
       "      <td>12.000000</td>\n",
       "      <td>12.000000</td>\n",
       "      <td>12.000000</td>\n",
       "      <td>12.000000</td>\n",
       "      <td>12.000000</td>\n",
       "      <td>12.000000</td>\n",
       "      <td>12.000000</td>\n",
       "      <td>12.000000</td>\n",
       "    </tr>\n",
       "    <tr>\n",
       "      <th>mean</th>\n",
       "      <td>1.296840e+06</td>\n",
       "      <td>4173.000000</td>\n",
       "      <td>2.265407e+09</td>\n",
       "      <td>241.083333</td>\n",
       "      <td>253.166667</td>\n",
       "      <td>1.583333</td>\n",
       "      <td>2.166667</td>\n",
       "      <td>262.750000</td>\n",
       "      <td>10.916667</td>\n",
       "      <td>266.000000</td>\n",
       "      <td>...</td>\n",
       "      <td>917.333333</td>\n",
       "      <td>217.916667</td>\n",
       "      <td>699.416667</td>\n",
       "      <td>18229.916667</td>\n",
       "      <td>17734.666667</td>\n",
       "      <td>2656.416667</td>\n",
       "      <td>2.416667</td>\n",
       "      <td>492.833333</td>\n",
       "      <td>32651.750000</td>\n",
       "      <td>5471.083333</td>\n",
       "    </tr>\n",
       "    <tr>\n",
       "      <th>std</th>\n",
       "      <td>6.925486e+05</td>\n",
       "      <td>2228.497986</td>\n",
       "      <td>1.210167e+09</td>\n",
       "      <td>207.130814</td>\n",
       "      <td>221.156807</td>\n",
       "      <td>2.391589</td>\n",
       "      <td>2.724746</td>\n",
       "      <td>116.173949</td>\n",
       "      <td>12.332207</td>\n",
       "      <td>160.696778</td>\n",
       "      <td>...</td>\n",
       "      <td>687.720653</td>\n",
       "      <td>170.935638</td>\n",
       "      <td>519.033448</td>\n",
       "      <td>36988.242983</td>\n",
       "      <td>36101.180347</td>\n",
       "      <td>4489.158161</td>\n",
       "      <td>5.017394</td>\n",
       "      <td>896.326628</td>\n",
       "      <td>43454.652577</td>\n",
       "      <td>7964.135169</td>\n",
       "    </tr>\n",
       "    <tr>\n",
       "      <th>min</th>\n",
       "      <td>2.424000e+04</td>\n",
       "      <td>78.000000</td>\n",
       "      <td>4.260370e+07</td>\n",
       "      <td>46.000000</td>\n",
       "      <td>48.000000</td>\n",
       "      <td>0.000000</td>\n",
       "      <td>0.000000</td>\n",
       "      <td>84.000000</td>\n",
       "      <td>1.000000</td>\n",
       "      <td>71.000000</td>\n",
       "      <td>...</td>\n",
       "      <td>218.000000</td>\n",
       "      <td>47.000000</td>\n",
       "      <td>171.000000</td>\n",
       "      <td>316.000000</td>\n",
       "      <td>299.000000</td>\n",
       "      <td>25.000000</td>\n",
       "      <td>0.000000</td>\n",
       "      <td>10.000000</td>\n",
       "      <td>6068.000000</td>\n",
       "      <td>316.000000</td>\n",
       "    </tr>\n",
       "    <tr>\n",
       "      <th>25%</th>\n",
       "      <td>9.211200e+05</td>\n",
       "      <td>2964.000000</td>\n",
       "      <td>1.609608e+09</td>\n",
       "      <td>108.250000</td>\n",
       "      <td>111.250000</td>\n",
       "      <td>0.000000</td>\n",
       "      <td>0.000000</td>\n",
       "      <td>190.750000</td>\n",
       "      <td>3.500000</td>\n",
       "      <td>188.500000</td>\n",
       "      <td>...</td>\n",
       "      <td>583.500000</td>\n",
       "      <td>129.000000</td>\n",
       "      <td>454.500000</td>\n",
       "      <td>1183.750000</td>\n",
       "      <td>1158.750000</td>\n",
       "      <td>105.750000</td>\n",
       "      <td>0.000000</td>\n",
       "      <td>25.250000</td>\n",
       "      <td>13635.500000</td>\n",
       "      <td>1216.750000</td>\n",
       "    </tr>\n",
       "    <tr>\n",
       "      <th>50%</th>\n",
       "      <td>1.139280e+06</td>\n",
       "      <td>3666.000000</td>\n",
       "      <td>1.988735e+09</td>\n",
       "      <td>193.500000</td>\n",
       "      <td>201.500000</td>\n",
       "      <td>1.000000</td>\n",
       "      <td>1.000000</td>\n",
       "      <td>246.000000</td>\n",
       "      <td>7.000000</td>\n",
       "      <td>221.500000</td>\n",
       "      <td>...</td>\n",
       "      <td>649.500000</td>\n",
       "      <td>164.000000</td>\n",
       "      <td>497.000000</td>\n",
       "      <td>4775.500000</td>\n",
       "      <td>4627.000000</td>\n",
       "      <td>892.500000</td>\n",
       "      <td>1.000000</td>\n",
       "      <td>114.500000</td>\n",
       "      <td>18606.000000</td>\n",
       "      <td>2269.500000</td>\n",
       "    </tr>\n",
       "    <tr>\n",
       "      <th>75%</th>\n",
       "      <td>1.854360e+06</td>\n",
       "      <td>5967.000000</td>\n",
       "      <td>3.236988e+09</td>\n",
       "      <td>252.500000</td>\n",
       "      <td>260.750000</td>\n",
       "      <td>1.250000</td>\n",
       "      <td>3.500000</td>\n",
       "      <td>361.500000</td>\n",
       "      <td>12.000000</td>\n",
       "      <td>271.500000</td>\n",
       "      <td>...</td>\n",
       "      <td>925.750000</td>\n",
       "      <td>233.250000</td>\n",
       "      <td>694.000000</td>\n",
       "      <td>9583.000000</td>\n",
       "      <td>9142.750000</td>\n",
       "      <td>1825.250000</td>\n",
       "      <td>2.000000</td>\n",
       "      <td>320.250000</td>\n",
       "      <td>27330.500000</td>\n",
       "      <td>4580.250000</td>\n",
       "    </tr>\n",
       "    <tr>\n",
       "      <th>max</th>\n",
       "      <td>2.302800e+06</td>\n",
       "      <td>7410.000000</td>\n",
       "      <td>4.026834e+09</td>\n",
       "      <td>659.000000</td>\n",
       "      <td>709.000000</td>\n",
       "      <td>7.000000</td>\n",
       "      <td>7.000000</td>\n",
       "      <td>424.000000</td>\n",
       "      <td>45.000000</td>\n",
       "      <td>590.000000</td>\n",
       "      <td>...</td>\n",
       "      <td>2318.000000</td>\n",
       "      <td>604.000000</td>\n",
       "      <td>1750.000000</td>\n",
       "      <td>127513.000000</td>\n",
       "      <td>124552.000000</td>\n",
       "      <td>13965.000000</td>\n",
       "      <td>18.000000</td>\n",
       "      <td>2943.000000</td>\n",
       "      <td>164444.000000</td>\n",
       "      <td>27035.000000</td>\n",
       "    </tr>\n",
       "  </tbody>\n",
       "</table>\n",
       "<p>8 rows × 26 columns</p>\n",
       "</div>"
      ],
      "text/plain": [
       "                ano          mes  id_municipio  homicidio_doloso  \\\n",
       "count  1.200000e+01    12.000000  1.200000e+01         12.000000   \n",
       "mean   1.296840e+06  4173.000000  2.265407e+09        241.083333   \n",
       "std    6.925486e+05  2228.497986  1.210167e+09        207.130814   \n",
       "min    2.424000e+04    78.000000  4.260370e+07         46.000000   \n",
       "25%    9.211200e+05  2964.000000  1.609608e+09        108.250000   \n",
       "50%    1.139280e+06  3666.000000  1.988735e+09        193.500000   \n",
       "75%    1.854360e+06  5967.000000  3.236988e+09        252.500000   \n",
       "max    2.302800e+06  7410.000000  4.026834e+09        659.000000   \n",
       "\n",
       "       numero_de_vitimas_em_homicidio_doloso  \\\n",
       "count                              12.000000   \n",
       "mean                              253.166667   \n",
       "std                               221.156807   \n",
       "min                                48.000000   \n",
       "25%                               111.250000   \n",
       "50%                               201.500000   \n",
       "75%                               260.750000   \n",
       "max                               709.000000   \n",
       "\n",
       "       homicidio_doloso_por_acidente_de_transito  \\\n",
       "count                                  12.000000   \n",
       "mean                                    1.583333   \n",
       "std                                     2.391589   \n",
       "min                                     0.000000   \n",
       "25%                                     0.000000   \n",
       "50%                                     1.000000   \n",
       "75%                                     1.250000   \n",
       "max                                     7.000000   \n",
       "\n",
       "       numero_de_vitimas_em_homicidio_doloso_por_acidente_de_transito  \\\n",
       "count                                          12.000000                \n",
       "mean                                            2.166667                \n",
       "std                                             2.724746                \n",
       "min                                             0.000000                \n",
       "25%                                             0.000000                \n",
       "50%                                             1.000000                \n",
       "75%                                             3.500000                \n",
       "max                                             7.000000                \n",
       "\n",
       "       homicidio_culposo_por_acidente_de_transito  homicidio_culposo_outros  \\\n",
       "count                                   12.000000                 12.000000   \n",
       "mean                                   262.750000                 10.916667   \n",
       "std                                    116.173949                 12.332207   \n",
       "min                                     84.000000                  1.000000   \n",
       "25%                                    190.750000                  3.500000   \n",
       "50%                                    246.000000                  7.000000   \n",
       "75%                                    361.500000                 12.000000   \n",
       "max                                    424.000000                 45.000000   \n",
       "\n",
       "       tentativa_de_homicidio  ...  total_de_estupro     estupro  \\\n",
       "count               12.000000  ...         12.000000   12.000000   \n",
       "mean               266.000000  ...        917.333333  217.916667   \n",
       "std                160.696778  ...        687.720653  170.935638   \n",
       "min                 71.000000  ...        218.000000   47.000000   \n",
       "25%                188.500000  ...        583.500000  129.000000   \n",
       "50%                221.500000  ...        649.500000  164.000000   \n",
       "75%                271.500000  ...        925.750000  233.250000   \n",
       "max                590.000000  ...       2318.000000  604.000000   \n",
       "\n",
       "       estupro_de_vulneravel  total_de_roubo_outros   roubo_outros  \\\n",
       "count              12.000000              12.000000      12.000000   \n",
       "mean              699.416667           18229.916667   17734.666667   \n",
       "std               519.033448           36988.242983   36101.180347   \n",
       "min               171.000000             316.000000     299.000000   \n",
       "25%               454.500000            1183.750000    1158.750000   \n",
       "50%               497.000000            4775.500000    4627.000000   \n",
       "75%               694.000000            9583.000000    9142.750000   \n",
       "max              1750.000000          127513.000000  124552.000000   \n",
       "\n",
       "       roubo_de_veiculo  roubo_a_banco  roubo_de_carga   furto_outros  \\\n",
       "count         12.000000      12.000000       12.000000      12.000000   \n",
       "mean        2656.416667       2.416667      492.833333   32651.750000   \n",
       "std         4489.158161       5.017394      896.326628   43454.652577   \n",
       "min           25.000000       0.000000       10.000000    6068.000000   \n",
       "25%          105.750000       0.000000       25.250000   13635.500000   \n",
       "50%          892.500000       1.000000      114.500000   18606.000000   \n",
       "75%         1825.250000       2.000000      320.250000   27330.500000   \n",
       "max        13965.000000      18.000000     2943.000000  164444.000000   \n",
       "\n",
       "       furto_de_veiculo  \n",
       "count         12.000000  \n",
       "mean        5471.083333  \n",
       "std         7964.135169  \n",
       "min          316.000000  \n",
       "25%         1216.750000  \n",
       "50%         2269.500000  \n",
       "75%         4580.250000  \n",
       "max        27035.000000  \n",
       "\n",
       "[8 rows x 26 columns]"
      ]
     },
     "execution_count": 89,
     "metadata": {},
     "output_type": "execute_result"
    }
   ],
   "source": [
    "ano2020.describe()"
   ]
  },
  {
   "cell_type": "markdown",
   "id": "92bb13f2",
   "metadata": {},
   "source": [
    "Vamos dar uma olhada mais de perto no que cada variável nos diz em relação ao ano de 2020:\n",
    "\n",
    "<br>\n",
    "\n",
    "__1. Contagem:__ o número de linhas no conjunto de dados que são preenchidas com valores não nulos. Todas as outras variáveis também têm 12 linhas de dados preenchidas, com exceção de 'id_municipio e ano', que estão elevados exponencialmente. \n",
    "\n",
    "<br>\n",
    "\n",
    "__2. Média:__ o valor médio em cada coluna. por exemplo a media de vitimas em homicidios dolosos era de 241,08 no ano.\n",
    "\n",
    "<br>\n",
    "\n",
    "__3. Std (Desvio Padrão):__ quanto desvio cada coluna tem da média.\n",
    "<br>\n",
    "\n",
    "__4. Min:__ o valor mínimo de cada variável. Por exemplo, o valor mínimo para 'roubo_de_veiculo' é 25, o que significa que houve no minimo 33 pessoas tiveram seu carro roubado.\n",
    "\n",
    "<br>\n",
    "\n",
    "__5. Quartis:__ 25%, 50% e 75%: 1º quartil, 2º quartil (mediana) e 3º quartil.\n",
    "\n",
    "<br>\n",
    "\n",
    "__6. Max:__ o valor mais alto para cada variável no conjunto de dados. Pelo quadro de dados acima, podemos ver que em 2020, 709 pessoas morreram vitimas de homicio doloso.\n",
    "\n",
    "<br>"
   ]
  },
  {
   "cell_type": "code",
   "execution_count": 90,
   "id": "3345ee0e",
   "metadata": {},
   "outputs": [
    {
     "name": "stdout",
     "output_type": "stream",
     "text": [
      "<class 'pandas.core.frame.DataFrame'>\n",
      "Index: 12 entries, Araçatuba to São José dos Campos\n",
      "Data columns (total 26 columns):\n",
      " #   Column                                                          Non-Null Count  Dtype  \n",
      "---  ------                                                          --------------  -----  \n",
      " 0   ano                                                             12 non-null     int64  \n",
      " 1   mes                                                             12 non-null     int64  \n",
      " 2   id_municipio                                                    12 non-null     int64  \n",
      " 3   homicidio_doloso                                                12 non-null     float64\n",
      " 4   numero_de_vitimas_em_homicidio_doloso                           12 non-null     float64\n",
      " 5   homicidio_doloso_por_acidente_de_transito                       12 non-null     float64\n",
      " 6   numero_de_vitimas_em_homicidio_doloso_por_acidente_de_transito  12 non-null     float64\n",
      " 7   homicidio_culposo_por_acidente_de_transito                      12 non-null     float64\n",
      " 8   homicidio_culposo_outros                                        12 non-null     float64\n",
      " 9   tentativa_de_homicidio                                          12 non-null     float64\n",
      " 10  lesao_corporal_seguida_de_morte                                 12 non-null     float64\n",
      " 11  lesao_corporal_dolosa                                           12 non-null     float64\n",
      " 12  lesao_corporal_culposa_por_acidente_de_transito                 12 non-null     float64\n",
      " 13  lesao_corporal_culposa_outras                                   12 non-null     float64\n",
      " 14  latrocinio                                                      12 non-null     float64\n",
      " 15  numero_de_vitimas_em_latrocinio                                 12 non-null     float64\n",
      " 16  total_de_estupro                                                12 non-null     float64\n",
      " 17  estupro                                                         12 non-null     float64\n",
      " 18  estupro_de_vulneravel                                           12 non-null     float64\n",
      " 19  total_de_roubo_outros                                           12 non-null     float64\n",
      " 20  roubo_outros                                                    12 non-null     float64\n",
      " 21  roubo_de_veiculo                                                12 non-null     float64\n",
      " 22  roubo_a_banco                                                   12 non-null     float64\n",
      " 23  roubo_de_carga                                                  12 non-null     float64\n",
      " 24  furto_outros                                                    12 non-null     float64\n",
      " 25  furto_de_veiculo                                                12 non-null     float64\n",
      "dtypes: float64(23), int64(3)\n",
      "memory usage: 2.5+ KB\n"
     ]
    }
   ],
   "source": [
    "ano2020.info()"
   ]
  },
  {
   "cell_type": "markdown",
   "id": "1e100af5",
   "metadata": {},
   "source": [
    "# dados de 2021:"
   ]
  },
  {
   "cell_type": "code",
   "execution_count": 91,
   "id": "c0c6704e",
   "metadata": {
    "scrolled": true
   },
   "outputs": [
    {
     "data": {
      "text/html": [
       "<div>\n",
       "<style scoped>\n",
       "    .dataframe tbody tr th:only-of-type {\n",
       "        vertical-align: middle;\n",
       "    }\n",
       "\n",
       "    .dataframe tbody tr th {\n",
       "        vertical-align: top;\n",
       "    }\n",
       "\n",
       "    .dataframe thead th {\n",
       "        text-align: right;\n",
       "    }\n",
       "</style>\n",
       "<table border=\"1\" class=\"dataframe\">\n",
       "  <thead>\n",
       "    <tr style=\"text-align: right;\">\n",
       "      <th></th>\n",
       "      <th>ano</th>\n",
       "      <th>mes</th>\n",
       "      <th>id_municipio</th>\n",
       "      <th>homicidio_doloso</th>\n",
       "      <th>numero_de_vitimas_em_homicidio_doloso</th>\n",
       "      <th>homicidio_doloso_por_acidente_de_transito</th>\n",
       "      <th>numero_de_vitimas_em_homicidio_doloso_por_acidente_de_transito</th>\n",
       "      <th>homicidio_culposo_por_acidente_de_transito</th>\n",
       "      <th>homicidio_culposo_outros</th>\n",
       "      <th>tentativa_de_homicidio</th>\n",
       "      <th>...</th>\n",
       "      <th>total_de_estupro</th>\n",
       "      <th>estupro</th>\n",
       "      <th>estupro_de_vulneravel</th>\n",
       "      <th>total_de_roubo_outros</th>\n",
       "      <th>roubo_outros</th>\n",
       "      <th>roubo_de_veiculo</th>\n",
       "      <th>roubo_a_banco</th>\n",
       "      <th>roubo_de_carga</th>\n",
       "      <th>furto_outros</th>\n",
       "      <th>furto_de_veiculo</th>\n",
       "    </tr>\n",
       "    <tr>\n",
       "      <th>regiao_ssp</th>\n",
       "      <th></th>\n",
       "      <th></th>\n",
       "      <th></th>\n",
       "      <th></th>\n",
       "      <th></th>\n",
       "      <th></th>\n",
       "      <th></th>\n",
       "      <th></th>\n",
       "      <th></th>\n",
       "      <th></th>\n",
       "      <th></th>\n",
       "      <th></th>\n",
       "      <th></th>\n",
       "      <th></th>\n",
       "      <th></th>\n",
       "      <th></th>\n",
       "      <th></th>\n",
       "      <th></th>\n",
       "      <th></th>\n",
       "      <th></th>\n",
       "      <th></th>\n",
       "    </tr>\n",
       "  </thead>\n",
       "  <tbody>\n",
       "    <tr>\n",
       "      <th>Araçatuba</th>\n",
       "      <td>695224</td>\n",
       "      <td>1548</td>\n",
       "      <td>1212203536</td>\n",
       "      <td>50.0</td>\n",
       "      <td>53.0</td>\n",
       "      <td>0.0</td>\n",
       "      <td>0.0</td>\n",
       "      <td>47.0</td>\n",
       "      <td>0.0</td>\n",
       "      <td>83.0</td>\n",
       "      <td>...</td>\n",
       "      <td>143.0</td>\n",
       "      <td>28.0</td>\n",
       "      <td>115.0</td>\n",
       "      <td>418.0</td>\n",
       "      <td>412.0</td>\n",
       "      <td>24.0</td>\n",
       "      <td>1.0</td>\n",
       "      <td>5.0</td>\n",
       "      <td>4908.0</td>\n",
       "      <td>227.0</td>\n",
       "    </tr>\n",
       "    <tr>\n",
       "      <th>Bauru</th>\n",
       "      <td>1228768</td>\n",
       "      <td>2736</td>\n",
       "      <td>2143755088</td>\n",
       "      <td>71.0</td>\n",
       "      <td>74.0</td>\n",
       "      <td>0.0</td>\n",
       "      <td>0.0</td>\n",
       "      <td>134.0</td>\n",
       "      <td>3.0</td>\n",
       "      <td>109.0</td>\n",
       "      <td>...</td>\n",
       "      <td>395.0</td>\n",
       "      <td>84.0</td>\n",
       "      <td>311.0</td>\n",
       "      <td>861.0</td>\n",
       "      <td>832.0</td>\n",
       "      <td>69.0</td>\n",
       "      <td>0.0</td>\n",
       "      <td>29.0</td>\n",
       "      <td>10883.0</td>\n",
       "      <td>710.0</td>\n",
       "    </tr>\n",
       "    <tr>\n",
       "      <th>Campinas</th>\n",
       "      <td>614384</td>\n",
       "      <td>1368</td>\n",
       "      <td>1073184216</td>\n",
       "      <td>144.0</td>\n",
       "      <td>154.0</td>\n",
       "      <td>0.0</td>\n",
       "      <td>0.0</td>\n",
       "      <td>224.0</td>\n",
       "      <td>2.0</td>\n",
       "      <td>151.0</td>\n",
       "      <td>...</td>\n",
       "      <td>581.0</td>\n",
       "      <td>129.0</td>\n",
       "      <td>452.0</td>\n",
       "      <td>6089.0</td>\n",
       "      <td>5779.0</td>\n",
       "      <td>1963.0</td>\n",
       "      <td>0.0</td>\n",
       "      <td>310.0</td>\n",
       "      <td>21274.0</td>\n",
       "      <td>3704.0</td>\n",
       "    </tr>\n",
       "    <tr>\n",
       "      <th>Capital</th>\n",
       "      <td>16168</td>\n",
       "      <td>36</td>\n",
       "      <td>28402464</td>\n",
       "      <td>387.0</td>\n",
       "      <td>407.0</td>\n",
       "      <td>3.0</td>\n",
       "      <td>3.0</td>\n",
       "      <td>246.0</td>\n",
       "      <td>22.0</td>\n",
       "      <td>406.0</td>\n",
       "      <td>...</td>\n",
       "      <td>1576.0</td>\n",
       "      <td>429.0</td>\n",
       "      <td>1147.0</td>\n",
       "      <td>83321.0</td>\n",
       "      <td>81408.0</td>\n",
       "      <td>8433.0</td>\n",
       "      <td>4.0</td>\n",
       "      <td>1909.0</td>\n",
       "      <td>113807.0</td>\n",
       "      <td>22250.0</td>\n",
       "    </tr>\n",
       "    <tr>\n",
       "      <th>Grande São Paulo (exclui a Capital)</th>\n",
       "      <td>614384</td>\n",
       "      <td>1368</td>\n",
       "      <td>1072735104</td>\n",
       "      <td>353.0</td>\n",
       "      <td>375.0</td>\n",
       "      <td>0.0</td>\n",
       "      <td>0.0</td>\n",
       "      <td>346.0</td>\n",
       "      <td>36.0</td>\n",
       "      <td>391.0</td>\n",
       "      <td>...</td>\n",
       "      <td>1598.0</td>\n",
       "      <td>335.0</td>\n",
       "      <td>1263.0</td>\n",
       "      <td>36171.0</td>\n",
       "      <td>34897.0</td>\n",
       "      <td>6637.0</td>\n",
       "      <td>1.0</td>\n",
       "      <td>1273.0</td>\n",
       "      <td>43090.0</td>\n",
       "      <td>12810.0</td>\n",
       "    </tr>\n",
       "    <tr>\n",
       "      <th>Piracicaba</th>\n",
       "      <td>840736</td>\n",
       "      <td>1872</td>\n",
       "      <td>1467710200</td>\n",
       "      <td>152.0</td>\n",
       "      <td>159.0</td>\n",
       "      <td>1.0</td>\n",
       "      <td>2.0</td>\n",
       "      <td>192.0</td>\n",
       "      <td>4.0</td>\n",
       "      <td>174.0</td>\n",
       "      <td>...</td>\n",
       "      <td>463.0</td>\n",
       "      <td>98.0</td>\n",
       "      <td>365.0</td>\n",
       "      <td>3280.0</td>\n",
       "      <td>3161.0</td>\n",
       "      <td>917.0</td>\n",
       "      <td>1.0</td>\n",
       "      <td>118.0</td>\n",
       "      <td>15674.0</td>\n",
       "      <td>2791.0</td>\n",
       "    </tr>\n",
       "    <tr>\n",
       "      <th>Presidente Prudente</th>\n",
       "      <td>1083256</td>\n",
       "      <td>2412</td>\n",
       "      <td>1892237456</td>\n",
       "      <td>42.0</td>\n",
       "      <td>44.0</td>\n",
       "      <td>0.0</td>\n",
       "      <td>0.0</td>\n",
       "      <td>68.0</td>\n",
       "      <td>0.0</td>\n",
       "      <td>56.0</td>\n",
       "      <td>...</td>\n",
       "      <td>215.0</td>\n",
       "      <td>47.0</td>\n",
       "      <td>168.0</td>\n",
       "      <td>242.0</td>\n",
       "      <td>226.0</td>\n",
       "      <td>30.0</td>\n",
       "      <td>0.0</td>\n",
       "      <td>16.0</td>\n",
       "      <td>4898.0</td>\n",
       "      <td>227.0</td>\n",
       "    </tr>\n",
       "    <tr>\n",
       "      <th>Ribeirão Preto</th>\n",
       "      <td>1503624</td>\n",
       "      <td>3348</td>\n",
       "      <td>2625735696</td>\n",
       "      <td>162.0</td>\n",
       "      <td>168.0</td>\n",
       "      <td>0.0</td>\n",
       "      <td>0.0</td>\n",
       "      <td>259.0</td>\n",
       "      <td>8.0</td>\n",
       "      <td>194.0</td>\n",
       "      <td>...</td>\n",
       "      <td>677.0</td>\n",
       "      <td>165.0</td>\n",
       "      <td>512.0</td>\n",
       "      <td>3411.0</td>\n",
       "      <td>3284.0</td>\n",
       "      <td>645.0</td>\n",
       "      <td>2.0</td>\n",
       "      <td>125.0</td>\n",
       "      <td>21738.0</td>\n",
       "      <td>2742.0</td>\n",
       "    </tr>\n",
       "    <tr>\n",
       "      <th>Santos</th>\n",
       "      <td>388032</td>\n",
       "      <td>864</td>\n",
       "      <td>677143288</td>\n",
       "      <td>97.0</td>\n",
       "      <td>98.0</td>\n",
       "      <td>0.0</td>\n",
       "      <td>0.0</td>\n",
       "      <td>146.0</td>\n",
       "      <td>4.0</td>\n",
       "      <td>141.0</td>\n",
       "      <td>...</td>\n",
       "      <td>397.0</td>\n",
       "      <td>87.0</td>\n",
       "      <td>310.0</td>\n",
       "      <td>7492.0</td>\n",
       "      <td>7323.0</td>\n",
       "      <td>590.0</td>\n",
       "      <td>1.0</td>\n",
       "      <td>168.0</td>\n",
       "      <td>18893.0</td>\n",
       "      <td>1707.0</td>\n",
       "    </tr>\n",
       "    <tr>\n",
       "      <th>Sorocaba</th>\n",
       "      <td>1261104</td>\n",
       "      <td>2808</td>\n",
       "      <td>2200701624</td>\n",
       "      <td>108.0</td>\n",
       "      <td>112.0</td>\n",
       "      <td>0.0</td>\n",
       "      <td>0.0</td>\n",
       "      <td>233.0</td>\n",
       "      <td>5.0</td>\n",
       "      <td>143.0</td>\n",
       "      <td>...</td>\n",
       "      <td>825.0</td>\n",
       "      <td>168.0</td>\n",
       "      <td>657.0</td>\n",
       "      <td>1914.0</td>\n",
       "      <td>1835.0</td>\n",
       "      <td>367.0</td>\n",
       "      <td>0.0</td>\n",
       "      <td>79.0</td>\n",
       "      <td>14202.0</td>\n",
       "      <td>1576.0</td>\n",
       "    </tr>\n",
       "    <tr>\n",
       "      <th>São José do Rio Preto</th>\n",
       "      <td>1552128</td>\n",
       "      <td>3456</td>\n",
       "      <td>2712820176</td>\n",
       "      <td>60.0</td>\n",
       "      <td>61.0</td>\n",
       "      <td>0.0</td>\n",
       "      <td>0.0</td>\n",
       "      <td>119.0</td>\n",
       "      <td>3.0</td>\n",
       "      <td>95.0</td>\n",
       "      <td>...</td>\n",
       "      <td>362.0</td>\n",
       "      <td>65.0</td>\n",
       "      <td>297.0</td>\n",
       "      <td>698.0</td>\n",
       "      <td>684.0</td>\n",
       "      <td>51.0</td>\n",
       "      <td>1.0</td>\n",
       "      <td>13.0</td>\n",
       "      <td>8430.0</td>\n",
       "      <td>870.0</td>\n",
       "    </tr>\n",
       "    <tr>\n",
       "      <th>São José dos Campos</th>\n",
       "      <td>630552</td>\n",
       "      <td>1404</td>\n",
       "      <td>1101452216</td>\n",
       "      <td>222.0</td>\n",
       "      <td>231.0</td>\n",
       "      <td>0.0</td>\n",
       "      <td>0.0</td>\n",
       "      <td>142.0</td>\n",
       "      <td>10.0</td>\n",
       "      <td>207.0</td>\n",
       "      <td>...</td>\n",
       "      <td>420.0</td>\n",
       "      <td>81.0</td>\n",
       "      <td>339.0</td>\n",
       "      <td>3317.0</td>\n",
       "      <td>3230.0</td>\n",
       "      <td>547.0</td>\n",
       "      <td>1.0</td>\n",
       "      <td>86.0</td>\n",
       "      <td>12914.0</td>\n",
       "      <td>1353.0</td>\n",
       "    </tr>\n",
       "  </tbody>\n",
       "</table>\n",
       "<p>12 rows × 26 columns</p>\n",
       "</div>"
      ],
      "text/plain": [
       "                                         ano   mes  id_municipio  \\\n",
       "regiao_ssp                                                         \n",
       "Araçatuba                             695224  1548    1212203536   \n",
       "Bauru                                1228768  2736    2143755088   \n",
       "Campinas                              614384  1368    1073184216   \n",
       "Capital                                16168    36      28402464   \n",
       "Grande São Paulo (exclui a Capital)   614384  1368    1072735104   \n",
       "Piracicaba                            840736  1872    1467710200   \n",
       "Presidente Prudente                  1083256  2412    1892237456   \n",
       "Ribeirão Preto                       1503624  3348    2625735696   \n",
       "Santos                                388032   864     677143288   \n",
       "Sorocaba                             1261104  2808    2200701624   \n",
       "São José do Rio Preto                1552128  3456    2712820176   \n",
       "São José dos Campos                   630552  1404    1101452216   \n",
       "\n",
       "                                     homicidio_doloso  \\\n",
       "regiao_ssp                                              \n",
       "Araçatuba                                        50.0   \n",
       "Bauru                                            71.0   \n",
       "Campinas                                        144.0   \n",
       "Capital                                         387.0   \n",
       "Grande São Paulo (exclui a Capital)             353.0   \n",
       "Piracicaba                                      152.0   \n",
       "Presidente Prudente                              42.0   \n",
       "Ribeirão Preto                                  162.0   \n",
       "Santos                                           97.0   \n",
       "Sorocaba                                        108.0   \n",
       "São José do Rio Preto                            60.0   \n",
       "São José dos Campos                             222.0   \n",
       "\n",
       "                                     numero_de_vitimas_em_homicidio_doloso  \\\n",
       "regiao_ssp                                                                   \n",
       "Araçatuba                                                             53.0   \n",
       "Bauru                                                                 74.0   \n",
       "Campinas                                                             154.0   \n",
       "Capital                                                              407.0   \n",
       "Grande São Paulo (exclui a Capital)                                  375.0   \n",
       "Piracicaba                                                           159.0   \n",
       "Presidente Prudente                                                   44.0   \n",
       "Ribeirão Preto                                                       168.0   \n",
       "Santos                                                                98.0   \n",
       "Sorocaba                                                             112.0   \n",
       "São José do Rio Preto                                                 61.0   \n",
       "São José dos Campos                                                  231.0   \n",
       "\n",
       "                                     homicidio_doloso_por_acidente_de_transito  \\\n",
       "regiao_ssp                                                                       \n",
       "Araçatuba                                                                  0.0   \n",
       "Bauru                                                                      0.0   \n",
       "Campinas                                                                   0.0   \n",
       "Capital                                                                    3.0   \n",
       "Grande São Paulo (exclui a Capital)                                        0.0   \n",
       "Piracicaba                                                                 1.0   \n",
       "Presidente Prudente                                                        0.0   \n",
       "Ribeirão Preto                                                             0.0   \n",
       "Santos                                                                     0.0   \n",
       "Sorocaba                                                                   0.0   \n",
       "São José do Rio Preto                                                      0.0   \n",
       "São José dos Campos                                                        0.0   \n",
       "\n",
       "                                     numero_de_vitimas_em_homicidio_doloso_por_acidente_de_transito  \\\n",
       "regiao_ssp                                                                                            \n",
       "Araçatuba                                                                          0.0                \n",
       "Bauru                                                                              0.0                \n",
       "Campinas                                                                           0.0                \n",
       "Capital                                                                            3.0                \n",
       "Grande São Paulo (exclui a Capital)                                                0.0                \n",
       "Piracicaba                                                                         2.0                \n",
       "Presidente Prudente                                                                0.0                \n",
       "Ribeirão Preto                                                                     0.0                \n",
       "Santos                                                                             0.0                \n",
       "Sorocaba                                                                           0.0                \n",
       "São José do Rio Preto                                                              0.0                \n",
       "São José dos Campos                                                                0.0                \n",
       "\n",
       "                                     homicidio_culposo_por_acidente_de_transito  \\\n",
       "regiao_ssp                                                                        \n",
       "Araçatuba                                                                  47.0   \n",
       "Bauru                                                                     134.0   \n",
       "Campinas                                                                  224.0   \n",
       "Capital                                                                   246.0   \n",
       "Grande São Paulo (exclui a Capital)                                       346.0   \n",
       "Piracicaba                                                                192.0   \n",
       "Presidente Prudente                                                        68.0   \n",
       "Ribeirão Preto                                                            259.0   \n",
       "Santos                                                                    146.0   \n",
       "Sorocaba                                                                  233.0   \n",
       "São José do Rio Preto                                                     119.0   \n",
       "São José dos Campos                                                       142.0   \n",
       "\n",
       "                                     homicidio_culposo_outros  \\\n",
       "regiao_ssp                                                      \n",
       "Araçatuba                                                 0.0   \n",
       "Bauru                                                     3.0   \n",
       "Campinas                                                  2.0   \n",
       "Capital                                                  22.0   \n",
       "Grande São Paulo (exclui a Capital)                      36.0   \n",
       "Piracicaba                                                4.0   \n",
       "Presidente Prudente                                       0.0   \n",
       "Ribeirão Preto                                            8.0   \n",
       "Santos                                                    4.0   \n",
       "Sorocaba                                                  5.0   \n",
       "São José do Rio Preto                                     3.0   \n",
       "São José dos Campos                                      10.0   \n",
       "\n",
       "                                     tentativa_de_homicidio  ...  \\\n",
       "regiao_ssp                                                   ...   \n",
       "Araçatuba                                              83.0  ...   \n",
       "Bauru                                                 109.0  ...   \n",
       "Campinas                                              151.0  ...   \n",
       "Capital                                               406.0  ...   \n",
       "Grande São Paulo (exclui a Capital)                   391.0  ...   \n",
       "Piracicaba                                            174.0  ...   \n",
       "Presidente Prudente                                    56.0  ...   \n",
       "Ribeirão Preto                                        194.0  ...   \n",
       "Santos                                                141.0  ...   \n",
       "Sorocaba                                              143.0  ...   \n",
       "São José do Rio Preto                                  95.0  ...   \n",
       "São José dos Campos                                   207.0  ...   \n",
       "\n",
       "                                     total_de_estupro  estupro  \\\n",
       "regiao_ssp                                                       \n",
       "Araçatuba                                       143.0     28.0   \n",
       "Bauru                                           395.0     84.0   \n",
       "Campinas                                        581.0    129.0   \n",
       "Capital                                        1576.0    429.0   \n",
       "Grande São Paulo (exclui a Capital)            1598.0    335.0   \n",
       "Piracicaba                                      463.0     98.0   \n",
       "Presidente Prudente                             215.0     47.0   \n",
       "Ribeirão Preto                                  677.0    165.0   \n",
       "Santos                                          397.0     87.0   \n",
       "Sorocaba                                        825.0    168.0   \n",
       "São José do Rio Preto                           362.0     65.0   \n",
       "São José dos Campos                             420.0     81.0   \n",
       "\n",
       "                                     estupro_de_vulneravel  \\\n",
       "regiao_ssp                                                   \n",
       "Araçatuba                                            115.0   \n",
       "Bauru                                                311.0   \n",
       "Campinas                                             452.0   \n",
       "Capital                                             1147.0   \n",
       "Grande São Paulo (exclui a Capital)                 1263.0   \n",
       "Piracicaba                                           365.0   \n",
       "Presidente Prudente                                  168.0   \n",
       "Ribeirão Preto                                       512.0   \n",
       "Santos                                               310.0   \n",
       "Sorocaba                                             657.0   \n",
       "São José do Rio Preto                                297.0   \n",
       "São José dos Campos                                  339.0   \n",
       "\n",
       "                                     total_de_roubo_outros  roubo_outros  \\\n",
       "regiao_ssp                                                                 \n",
       "Araçatuba                                            418.0         412.0   \n",
       "Bauru                                                861.0         832.0   \n",
       "Campinas                                            6089.0        5779.0   \n",
       "Capital                                            83321.0       81408.0   \n",
       "Grande São Paulo (exclui a Capital)                36171.0       34897.0   \n",
       "Piracicaba                                          3280.0        3161.0   \n",
       "Presidente Prudente                                  242.0         226.0   \n",
       "Ribeirão Preto                                      3411.0        3284.0   \n",
       "Santos                                              7492.0        7323.0   \n",
       "Sorocaba                                            1914.0        1835.0   \n",
       "São José do Rio Preto                                698.0         684.0   \n",
       "São José dos Campos                                 3317.0        3230.0   \n",
       "\n",
       "                                     roubo_de_veiculo  roubo_a_banco  \\\n",
       "regiao_ssp                                                             \n",
       "Araçatuba                                        24.0            1.0   \n",
       "Bauru                                            69.0            0.0   \n",
       "Campinas                                       1963.0            0.0   \n",
       "Capital                                        8433.0            4.0   \n",
       "Grande São Paulo (exclui a Capital)            6637.0            1.0   \n",
       "Piracicaba                                      917.0            1.0   \n",
       "Presidente Prudente                              30.0            0.0   \n",
       "Ribeirão Preto                                  645.0            2.0   \n",
       "Santos                                          590.0            1.0   \n",
       "Sorocaba                                        367.0            0.0   \n",
       "São José do Rio Preto                            51.0            1.0   \n",
       "São José dos Campos                             547.0            1.0   \n",
       "\n",
       "                                     roubo_de_carga  furto_outros  \\\n",
       "regiao_ssp                                                          \n",
       "Araçatuba                                       5.0        4908.0   \n",
       "Bauru                                          29.0       10883.0   \n",
       "Campinas                                      310.0       21274.0   \n",
       "Capital                                      1909.0      113807.0   \n",
       "Grande São Paulo (exclui a Capital)          1273.0       43090.0   \n",
       "Piracicaba                                    118.0       15674.0   \n",
       "Presidente Prudente                            16.0        4898.0   \n",
       "Ribeirão Preto                                125.0       21738.0   \n",
       "Santos                                        168.0       18893.0   \n",
       "Sorocaba                                       79.0       14202.0   \n",
       "São José do Rio Preto                          13.0        8430.0   \n",
       "São José dos Campos                            86.0       12914.0   \n",
       "\n",
       "                                     furto_de_veiculo  \n",
       "regiao_ssp                                             \n",
       "Araçatuba                                       227.0  \n",
       "Bauru                                           710.0  \n",
       "Campinas                                       3704.0  \n",
       "Capital                                       22250.0  \n",
       "Grande São Paulo (exclui a Capital)           12810.0  \n",
       "Piracicaba                                     2791.0  \n",
       "Presidente Prudente                             227.0  \n",
       "Ribeirão Preto                                 2742.0  \n",
       "Santos                                         1707.0  \n",
       "Sorocaba                                       1576.0  \n",
       "São José do Rio Preto                           870.0  \n",
       "São José dos Campos                            1353.0  \n",
       "\n",
       "[12 rows x 26 columns]"
      ]
     },
     "metadata": {},
     "output_type": "display_data"
    },
    {
     "data": {
      "application/vnd.plotly.v1+json": {
       "config": {
        "plotlyServerURL": "https://plot.ly"
       },
       "data": [
        {
         "alignmentgroup": "True",
         "hovertemplate": "variable=homicidio_doloso<br>regiao_ssp=%{x}<br>value=%{y}<extra></extra>",
         "legendgroup": "homicidio_doloso",
         "marker": {
          "color": "#636efa",
          "pattern": {
           "shape": ""
          }
         },
         "name": "homicidio_doloso",
         "offsetgroup": "homicidio_doloso",
         "orientation": "v",
         "showlegend": true,
         "textposition": "auto",
         "type": "bar",
         "x": [
          "Araçatuba",
          "Bauru",
          "Campinas",
          "Capital",
          "Grande São Paulo (exclui a Capital)",
          "Piracicaba",
          "Presidente Prudente",
          "Ribeirão Preto",
          "Santos",
          "Sorocaba",
          "São José do Rio Preto",
          "São José dos Campos"
         ],
         "xaxis": "x",
         "y": [
          50,
          71,
          144,
          387,
          353,
          152,
          42,
          162,
          97,
          108,
          60,
          222
         ],
         "yaxis": "y"
        },
        {
         "alignmentgroup": "True",
         "hovertemplate": "variable=numero_de_vitimas_em_homicidio_doloso<br>regiao_ssp=%{x}<br>value=%{y}<extra></extra>",
         "legendgroup": "numero_de_vitimas_em_homicidio_doloso",
         "marker": {
          "color": "#EF553B",
          "pattern": {
           "shape": ""
          }
         },
         "name": "numero_de_vitimas_em_homicidio_doloso",
         "offsetgroup": "numero_de_vitimas_em_homicidio_doloso",
         "orientation": "v",
         "showlegend": true,
         "textposition": "auto",
         "type": "bar",
         "x": [
          "Araçatuba",
          "Bauru",
          "Campinas",
          "Capital",
          "Grande São Paulo (exclui a Capital)",
          "Piracicaba",
          "Presidente Prudente",
          "Ribeirão Preto",
          "Santos",
          "Sorocaba",
          "São José do Rio Preto",
          "São José dos Campos"
         ],
         "xaxis": "x",
         "y": [
          53,
          74,
          154,
          407,
          375,
          159,
          44,
          168,
          98,
          112,
          61,
          231
         ],
         "yaxis": "y"
        },
        {
         "alignmentgroup": "True",
         "hovertemplate": "variable=homicidio_doloso_por_acidente_de_transito<br>regiao_ssp=%{x}<br>value=%{y}<extra></extra>",
         "legendgroup": "homicidio_doloso_por_acidente_de_transito",
         "marker": {
          "color": "#00cc96",
          "pattern": {
           "shape": ""
          }
         },
         "name": "homicidio_doloso_por_acidente_de_transito",
         "offsetgroup": "homicidio_doloso_por_acidente_de_transito",
         "orientation": "v",
         "showlegend": true,
         "textposition": "auto",
         "type": "bar",
         "x": [
          "Araçatuba",
          "Bauru",
          "Campinas",
          "Capital",
          "Grande São Paulo (exclui a Capital)",
          "Piracicaba",
          "Presidente Prudente",
          "Ribeirão Preto",
          "Santos",
          "Sorocaba",
          "São José do Rio Preto",
          "São José dos Campos"
         ],
         "xaxis": "x",
         "y": [
          0,
          0,
          0,
          3,
          0,
          1,
          0,
          0,
          0,
          0,
          0,
          0
         ],
         "yaxis": "y"
        },
        {
         "alignmentgroup": "True",
         "hovertemplate": "variable=numero_de_vitimas_em_homicidio_doloso_por_acidente_de_transito<br>regiao_ssp=%{x}<br>value=%{y}<extra></extra>",
         "legendgroup": "numero_de_vitimas_em_homicidio_doloso_por_acidente_de_transito",
         "marker": {
          "color": "#ab63fa",
          "pattern": {
           "shape": ""
          }
         },
         "name": "numero_de_vitimas_em_homicidio_doloso_por_acidente_de_transito",
         "offsetgroup": "numero_de_vitimas_em_homicidio_doloso_por_acidente_de_transito",
         "orientation": "v",
         "showlegend": true,
         "textposition": "auto",
         "type": "bar",
         "x": [
          "Araçatuba",
          "Bauru",
          "Campinas",
          "Capital",
          "Grande São Paulo (exclui a Capital)",
          "Piracicaba",
          "Presidente Prudente",
          "Ribeirão Preto",
          "Santos",
          "Sorocaba",
          "São José do Rio Preto",
          "São José dos Campos"
         ],
         "xaxis": "x",
         "y": [
          0,
          0,
          0,
          3,
          0,
          2,
          0,
          0,
          0,
          0,
          0,
          0
         ],
         "yaxis": "y"
        },
        {
         "alignmentgroup": "True",
         "hovertemplate": "variable=homicidio_culposo_por_acidente_de_transito<br>regiao_ssp=%{x}<br>value=%{y}<extra></extra>",
         "legendgroup": "homicidio_culposo_por_acidente_de_transito",
         "marker": {
          "color": "#FFA15A",
          "pattern": {
           "shape": ""
          }
         },
         "name": "homicidio_culposo_por_acidente_de_transito",
         "offsetgroup": "homicidio_culposo_por_acidente_de_transito",
         "orientation": "v",
         "showlegend": true,
         "textposition": "auto",
         "type": "bar",
         "x": [
          "Araçatuba",
          "Bauru",
          "Campinas",
          "Capital",
          "Grande São Paulo (exclui a Capital)",
          "Piracicaba",
          "Presidente Prudente",
          "Ribeirão Preto",
          "Santos",
          "Sorocaba",
          "São José do Rio Preto",
          "São José dos Campos"
         ],
         "xaxis": "x",
         "y": [
          47,
          134,
          224,
          246,
          346,
          192,
          68,
          259,
          146,
          233,
          119,
          142
         ],
         "yaxis": "y"
        },
        {
         "alignmentgroup": "True",
         "hovertemplate": "variable=homicidio_culposo_outros<br>regiao_ssp=%{x}<br>value=%{y}<extra></extra>",
         "legendgroup": "homicidio_culposo_outros",
         "marker": {
          "color": "#19d3f3",
          "pattern": {
           "shape": ""
          }
         },
         "name": "homicidio_culposo_outros",
         "offsetgroup": "homicidio_culposo_outros",
         "orientation": "v",
         "showlegend": true,
         "textposition": "auto",
         "type": "bar",
         "x": [
          "Araçatuba",
          "Bauru",
          "Campinas",
          "Capital",
          "Grande São Paulo (exclui a Capital)",
          "Piracicaba",
          "Presidente Prudente",
          "Ribeirão Preto",
          "Santos",
          "Sorocaba",
          "São José do Rio Preto",
          "São José dos Campos"
         ],
         "xaxis": "x",
         "y": [
          0,
          3,
          2,
          22,
          36,
          4,
          0,
          8,
          4,
          5,
          3,
          10
         ],
         "yaxis": "y"
        },
        {
         "alignmentgroup": "True",
         "hovertemplate": "variable=tentativa_de_homicidio<br>regiao_ssp=%{x}<br>value=%{y}<extra></extra>",
         "legendgroup": "tentativa_de_homicidio",
         "marker": {
          "color": "#FF6692",
          "pattern": {
           "shape": ""
          }
         },
         "name": "tentativa_de_homicidio",
         "offsetgroup": "tentativa_de_homicidio",
         "orientation": "v",
         "showlegend": true,
         "textposition": "auto",
         "type": "bar",
         "x": [
          "Araçatuba",
          "Bauru",
          "Campinas",
          "Capital",
          "Grande São Paulo (exclui a Capital)",
          "Piracicaba",
          "Presidente Prudente",
          "Ribeirão Preto",
          "Santos",
          "Sorocaba",
          "São José do Rio Preto",
          "São José dos Campos"
         ],
         "xaxis": "x",
         "y": [
          83,
          109,
          151,
          406,
          391,
          174,
          56,
          194,
          141,
          143,
          95,
          207
         ],
         "yaxis": "y"
        },
        {
         "alignmentgroup": "True",
         "hovertemplate": "variable=total_de_estupro<br>regiao_ssp=%{x}<br>value=%{y}<extra></extra>",
         "legendgroup": "total_de_estupro",
         "marker": {
          "color": "#B6E880",
          "pattern": {
           "shape": ""
          }
         },
         "name": "total_de_estupro",
         "offsetgroup": "total_de_estupro",
         "orientation": "v",
         "showlegend": true,
         "textposition": "auto",
         "type": "bar",
         "x": [
          "Araçatuba",
          "Bauru",
          "Campinas",
          "Capital",
          "Grande São Paulo (exclui a Capital)",
          "Piracicaba",
          "Presidente Prudente",
          "Ribeirão Preto",
          "Santos",
          "Sorocaba",
          "São José do Rio Preto",
          "São José dos Campos"
         ],
         "xaxis": "x",
         "y": [
          143,
          395,
          581,
          1576,
          1598,
          463,
          215,
          677,
          397,
          825,
          362,
          420
         ],
         "yaxis": "y"
        },
        {
         "alignmentgroup": "True",
         "hovertemplate": "variable=estupro<br>regiao_ssp=%{x}<br>value=%{y}<extra></extra>",
         "legendgroup": "estupro",
         "marker": {
          "color": "#FF97FF",
          "pattern": {
           "shape": ""
          }
         },
         "name": "estupro",
         "offsetgroup": "estupro",
         "orientation": "v",
         "showlegend": true,
         "textposition": "auto",
         "type": "bar",
         "x": [
          "Araçatuba",
          "Bauru",
          "Campinas",
          "Capital",
          "Grande São Paulo (exclui a Capital)",
          "Piracicaba",
          "Presidente Prudente",
          "Ribeirão Preto",
          "Santos",
          "Sorocaba",
          "São José do Rio Preto",
          "São José dos Campos"
         ],
         "xaxis": "x",
         "y": [
          28,
          84,
          129,
          429,
          335,
          98,
          47,
          165,
          87,
          168,
          65,
          81
         ],
         "yaxis": "y"
        },
        {
         "alignmentgroup": "True",
         "hovertemplate": "variable=estupro_de_vulneravel<br>regiao_ssp=%{x}<br>value=%{y}<extra></extra>",
         "legendgroup": "estupro_de_vulneravel",
         "marker": {
          "color": "#FECB52",
          "pattern": {
           "shape": ""
          }
         },
         "name": "estupro_de_vulneravel",
         "offsetgroup": "estupro_de_vulneravel",
         "orientation": "v",
         "showlegend": true,
         "textposition": "auto",
         "type": "bar",
         "x": [
          "Araçatuba",
          "Bauru",
          "Campinas",
          "Capital",
          "Grande São Paulo (exclui a Capital)",
          "Piracicaba",
          "Presidente Prudente",
          "Ribeirão Preto",
          "Santos",
          "Sorocaba",
          "São José do Rio Preto",
          "São José dos Campos"
         ],
         "xaxis": "x",
         "y": [
          115,
          311,
          452,
          1147,
          1263,
          365,
          168,
          512,
          310,
          657,
          297,
          339
         ],
         "yaxis": "y"
        },
        {
         "alignmentgroup": "True",
         "hovertemplate": "variable=total_de_roubo_outros<br>regiao_ssp=%{x}<br>value=%{y}<extra></extra>",
         "legendgroup": "total_de_roubo_outros",
         "marker": {
          "color": "#636efa",
          "pattern": {
           "shape": ""
          }
         },
         "name": "total_de_roubo_outros",
         "offsetgroup": "total_de_roubo_outros",
         "orientation": "v",
         "showlegend": true,
         "textposition": "auto",
         "type": "bar",
         "x": [
          "Araçatuba",
          "Bauru",
          "Campinas",
          "Capital",
          "Grande São Paulo (exclui a Capital)",
          "Piracicaba",
          "Presidente Prudente",
          "Ribeirão Preto",
          "Santos",
          "Sorocaba",
          "São José do Rio Preto",
          "São José dos Campos"
         ],
         "xaxis": "x",
         "y": [
          418,
          861,
          6089,
          83321,
          36171,
          3280,
          242,
          3411,
          7492,
          1914,
          698,
          3317
         ],
         "yaxis": "y"
        },
        {
         "alignmentgroup": "True",
         "hovertemplate": "variable=roubo_outros<br>regiao_ssp=%{x}<br>value=%{y}<extra></extra>",
         "legendgroup": "roubo_outros",
         "marker": {
          "color": "#EF553B",
          "pattern": {
           "shape": ""
          }
         },
         "name": "roubo_outros",
         "offsetgroup": "roubo_outros",
         "orientation": "v",
         "showlegend": true,
         "textposition": "auto",
         "type": "bar",
         "x": [
          "Araçatuba",
          "Bauru",
          "Campinas",
          "Capital",
          "Grande São Paulo (exclui a Capital)",
          "Piracicaba",
          "Presidente Prudente",
          "Ribeirão Preto",
          "Santos",
          "Sorocaba",
          "São José do Rio Preto",
          "São José dos Campos"
         ],
         "xaxis": "x",
         "y": [
          412,
          832,
          5779,
          81408,
          34897,
          3161,
          226,
          3284,
          7323,
          1835,
          684,
          3230
         ],
         "yaxis": "y"
        },
        {
         "alignmentgroup": "True",
         "hovertemplate": "variable=roubo_de_veiculo<br>regiao_ssp=%{x}<br>value=%{y}<extra></extra>",
         "legendgroup": "roubo_de_veiculo",
         "marker": {
          "color": "#00cc96",
          "pattern": {
           "shape": ""
          }
         },
         "name": "roubo_de_veiculo",
         "offsetgroup": "roubo_de_veiculo",
         "orientation": "v",
         "showlegend": true,
         "textposition": "auto",
         "type": "bar",
         "x": [
          "Araçatuba",
          "Bauru",
          "Campinas",
          "Capital",
          "Grande São Paulo (exclui a Capital)",
          "Piracicaba",
          "Presidente Prudente",
          "Ribeirão Preto",
          "Santos",
          "Sorocaba",
          "São José do Rio Preto",
          "São José dos Campos"
         ],
         "xaxis": "x",
         "y": [
          24,
          69,
          1963,
          8433,
          6637,
          917,
          30,
          645,
          590,
          367,
          51,
          547
         ],
         "yaxis": "y"
        },
        {
         "alignmentgroup": "True",
         "hovertemplate": "variable=roubo_a_banco<br>regiao_ssp=%{x}<br>value=%{y}<extra></extra>",
         "legendgroup": "roubo_a_banco",
         "marker": {
          "color": "#ab63fa",
          "pattern": {
           "shape": ""
          }
         },
         "name": "roubo_a_banco",
         "offsetgroup": "roubo_a_banco",
         "orientation": "v",
         "showlegend": true,
         "textposition": "auto",
         "type": "bar",
         "x": [
          "Araçatuba",
          "Bauru",
          "Campinas",
          "Capital",
          "Grande São Paulo (exclui a Capital)",
          "Piracicaba",
          "Presidente Prudente",
          "Ribeirão Preto",
          "Santos",
          "Sorocaba",
          "São José do Rio Preto",
          "São José dos Campos"
         ],
         "xaxis": "x",
         "y": [
          1,
          0,
          0,
          4,
          1,
          1,
          0,
          2,
          1,
          0,
          1,
          1
         ],
         "yaxis": "y"
        },
        {
         "alignmentgroup": "True",
         "hovertemplate": "variable=roubo_de_carga<br>regiao_ssp=%{x}<br>value=%{y}<extra></extra>",
         "legendgroup": "roubo_de_carga",
         "marker": {
          "color": "#FFA15A",
          "pattern": {
           "shape": ""
          }
         },
         "name": "roubo_de_carga",
         "offsetgroup": "roubo_de_carga",
         "orientation": "v",
         "showlegend": true,
         "textposition": "auto",
         "type": "bar",
         "x": [
          "Araçatuba",
          "Bauru",
          "Campinas",
          "Capital",
          "Grande São Paulo (exclui a Capital)",
          "Piracicaba",
          "Presidente Prudente",
          "Ribeirão Preto",
          "Santos",
          "Sorocaba",
          "São José do Rio Preto",
          "São José dos Campos"
         ],
         "xaxis": "x",
         "y": [
          5,
          29,
          310,
          1909,
          1273,
          118,
          16,
          125,
          168,
          79,
          13,
          86
         ],
         "yaxis": "y"
        },
        {
         "alignmentgroup": "True",
         "hovertemplate": "variable=furto_outros<br>regiao_ssp=%{x}<br>value=%{y}<extra></extra>",
         "legendgroup": "furto_outros",
         "marker": {
          "color": "#19d3f3",
          "pattern": {
           "shape": ""
          }
         },
         "name": "furto_outros",
         "offsetgroup": "furto_outros",
         "orientation": "v",
         "showlegend": true,
         "textposition": "auto",
         "type": "bar",
         "x": [
          "Araçatuba",
          "Bauru",
          "Campinas",
          "Capital",
          "Grande São Paulo (exclui a Capital)",
          "Piracicaba",
          "Presidente Prudente",
          "Ribeirão Preto",
          "Santos",
          "Sorocaba",
          "São José do Rio Preto",
          "São José dos Campos"
         ],
         "xaxis": "x",
         "y": [
          4908,
          10883,
          21274,
          113807,
          43090,
          15674,
          4898,
          21738,
          18893,
          14202,
          8430,
          12914
         ],
         "yaxis": "y"
        },
        {
         "alignmentgroup": "True",
         "hovertemplate": "variable=furto_de_veiculo<br>regiao_ssp=%{x}<br>value=%{y}<extra></extra>",
         "legendgroup": "furto_de_veiculo",
         "marker": {
          "color": "#FF6692",
          "pattern": {
           "shape": ""
          }
         },
         "name": "furto_de_veiculo",
         "offsetgroup": "furto_de_veiculo",
         "orientation": "v",
         "showlegend": true,
         "textposition": "auto",
         "type": "bar",
         "x": [
          "Araçatuba",
          "Bauru",
          "Campinas",
          "Capital",
          "Grande São Paulo (exclui a Capital)",
          "Piracicaba",
          "Presidente Prudente",
          "Ribeirão Preto",
          "Santos",
          "Sorocaba",
          "São José do Rio Preto",
          "São José dos Campos"
         ],
         "xaxis": "x",
         "y": [
          227,
          710,
          3704,
          22250,
          12810,
          2791,
          227,
          2742,
          1707,
          1576,
          870,
          1353
         ],
         "yaxis": "y"
        }
       ],
       "layout": {
        "barmode": "relative",
        "legend": {
         "title": {
          "text": "variable"
         },
         "tracegroupgap": 0
        },
        "margin": {
         "t": 60
        },
        "template": {
         "data": {
          "bar": [
           {
            "error_x": {
             "color": "#2a3f5f"
            },
            "error_y": {
             "color": "#2a3f5f"
            },
            "marker": {
             "line": {
              "color": "#E5ECF6",
              "width": 0.5
             },
             "pattern": {
              "fillmode": "overlay",
              "size": 10,
              "solidity": 0.2
             }
            },
            "type": "bar"
           }
          ],
          "barpolar": [
           {
            "marker": {
             "line": {
              "color": "#E5ECF6",
              "width": 0.5
             },
             "pattern": {
              "fillmode": "overlay",
              "size": 10,
              "solidity": 0.2
             }
            },
            "type": "barpolar"
           }
          ],
          "carpet": [
           {
            "aaxis": {
             "endlinecolor": "#2a3f5f",
             "gridcolor": "white",
             "linecolor": "white",
             "minorgridcolor": "white",
             "startlinecolor": "#2a3f5f"
            },
            "baxis": {
             "endlinecolor": "#2a3f5f",
             "gridcolor": "white",
             "linecolor": "white",
             "minorgridcolor": "white",
             "startlinecolor": "#2a3f5f"
            },
            "type": "carpet"
           }
          ],
          "choropleth": [
           {
            "colorbar": {
             "outlinewidth": 0,
             "ticks": ""
            },
            "type": "choropleth"
           }
          ],
          "contour": [
           {
            "colorbar": {
             "outlinewidth": 0,
             "ticks": ""
            },
            "colorscale": [
             [
              0,
              "#0d0887"
             ],
             [
              0.1111111111111111,
              "#46039f"
             ],
             [
              0.2222222222222222,
              "#7201a8"
             ],
             [
              0.3333333333333333,
              "#9c179e"
             ],
             [
              0.4444444444444444,
              "#bd3786"
             ],
             [
              0.5555555555555556,
              "#d8576b"
             ],
             [
              0.6666666666666666,
              "#ed7953"
             ],
             [
              0.7777777777777778,
              "#fb9f3a"
             ],
             [
              0.8888888888888888,
              "#fdca26"
             ],
             [
              1,
              "#f0f921"
             ]
            ],
            "type": "contour"
           }
          ],
          "contourcarpet": [
           {
            "colorbar": {
             "outlinewidth": 0,
             "ticks": ""
            },
            "type": "contourcarpet"
           }
          ],
          "heatmap": [
           {
            "colorbar": {
             "outlinewidth": 0,
             "ticks": ""
            },
            "colorscale": [
             [
              0,
              "#0d0887"
             ],
             [
              0.1111111111111111,
              "#46039f"
             ],
             [
              0.2222222222222222,
              "#7201a8"
             ],
             [
              0.3333333333333333,
              "#9c179e"
             ],
             [
              0.4444444444444444,
              "#bd3786"
             ],
             [
              0.5555555555555556,
              "#d8576b"
             ],
             [
              0.6666666666666666,
              "#ed7953"
             ],
             [
              0.7777777777777778,
              "#fb9f3a"
             ],
             [
              0.8888888888888888,
              "#fdca26"
             ],
             [
              1,
              "#f0f921"
             ]
            ],
            "type": "heatmap"
           }
          ],
          "heatmapgl": [
           {
            "colorbar": {
             "outlinewidth": 0,
             "ticks": ""
            },
            "colorscale": [
             [
              0,
              "#0d0887"
             ],
             [
              0.1111111111111111,
              "#46039f"
             ],
             [
              0.2222222222222222,
              "#7201a8"
             ],
             [
              0.3333333333333333,
              "#9c179e"
             ],
             [
              0.4444444444444444,
              "#bd3786"
             ],
             [
              0.5555555555555556,
              "#d8576b"
             ],
             [
              0.6666666666666666,
              "#ed7953"
             ],
             [
              0.7777777777777778,
              "#fb9f3a"
             ],
             [
              0.8888888888888888,
              "#fdca26"
             ],
             [
              1,
              "#f0f921"
             ]
            ],
            "type": "heatmapgl"
           }
          ],
          "histogram": [
           {
            "marker": {
             "pattern": {
              "fillmode": "overlay",
              "size": 10,
              "solidity": 0.2
             }
            },
            "type": "histogram"
           }
          ],
          "histogram2d": [
           {
            "colorbar": {
             "outlinewidth": 0,
             "ticks": ""
            },
            "colorscale": [
             [
              0,
              "#0d0887"
             ],
             [
              0.1111111111111111,
              "#46039f"
             ],
             [
              0.2222222222222222,
              "#7201a8"
             ],
             [
              0.3333333333333333,
              "#9c179e"
             ],
             [
              0.4444444444444444,
              "#bd3786"
             ],
             [
              0.5555555555555556,
              "#d8576b"
             ],
             [
              0.6666666666666666,
              "#ed7953"
             ],
             [
              0.7777777777777778,
              "#fb9f3a"
             ],
             [
              0.8888888888888888,
              "#fdca26"
             ],
             [
              1,
              "#f0f921"
             ]
            ],
            "type": "histogram2d"
           }
          ],
          "histogram2dcontour": [
           {
            "colorbar": {
             "outlinewidth": 0,
             "ticks": ""
            },
            "colorscale": [
             [
              0,
              "#0d0887"
             ],
             [
              0.1111111111111111,
              "#46039f"
             ],
             [
              0.2222222222222222,
              "#7201a8"
             ],
             [
              0.3333333333333333,
              "#9c179e"
             ],
             [
              0.4444444444444444,
              "#bd3786"
             ],
             [
              0.5555555555555556,
              "#d8576b"
             ],
             [
              0.6666666666666666,
              "#ed7953"
             ],
             [
              0.7777777777777778,
              "#fb9f3a"
             ],
             [
              0.8888888888888888,
              "#fdca26"
             ],
             [
              1,
              "#f0f921"
             ]
            ],
            "type": "histogram2dcontour"
           }
          ],
          "mesh3d": [
           {
            "colorbar": {
             "outlinewidth": 0,
             "ticks": ""
            },
            "type": "mesh3d"
           }
          ],
          "parcoords": [
           {
            "line": {
             "colorbar": {
              "outlinewidth": 0,
              "ticks": ""
             }
            },
            "type": "parcoords"
           }
          ],
          "pie": [
           {
            "automargin": true,
            "type": "pie"
           }
          ],
          "scatter": [
           {
            "fillpattern": {
             "fillmode": "overlay",
             "size": 10,
             "solidity": 0.2
            },
            "type": "scatter"
           }
          ],
          "scatter3d": [
           {
            "line": {
             "colorbar": {
              "outlinewidth": 0,
              "ticks": ""
             }
            },
            "marker": {
             "colorbar": {
              "outlinewidth": 0,
              "ticks": ""
             }
            },
            "type": "scatter3d"
           }
          ],
          "scattercarpet": [
           {
            "marker": {
             "colorbar": {
              "outlinewidth": 0,
              "ticks": ""
             }
            },
            "type": "scattercarpet"
           }
          ],
          "scattergeo": [
           {
            "marker": {
             "colorbar": {
              "outlinewidth": 0,
              "ticks": ""
             }
            },
            "type": "scattergeo"
           }
          ],
          "scattergl": [
           {
            "marker": {
             "colorbar": {
              "outlinewidth": 0,
              "ticks": ""
             }
            },
            "type": "scattergl"
           }
          ],
          "scattermapbox": [
           {
            "marker": {
             "colorbar": {
              "outlinewidth": 0,
              "ticks": ""
             }
            },
            "type": "scattermapbox"
           }
          ],
          "scatterpolar": [
           {
            "marker": {
             "colorbar": {
              "outlinewidth": 0,
              "ticks": ""
             }
            },
            "type": "scatterpolar"
           }
          ],
          "scatterpolargl": [
           {
            "marker": {
             "colorbar": {
              "outlinewidth": 0,
              "ticks": ""
             }
            },
            "type": "scatterpolargl"
           }
          ],
          "scatterternary": [
           {
            "marker": {
             "colorbar": {
              "outlinewidth": 0,
              "ticks": ""
             }
            },
            "type": "scatterternary"
           }
          ],
          "surface": [
           {
            "colorbar": {
             "outlinewidth": 0,
             "ticks": ""
            },
            "colorscale": [
             [
              0,
              "#0d0887"
             ],
             [
              0.1111111111111111,
              "#46039f"
             ],
             [
              0.2222222222222222,
              "#7201a8"
             ],
             [
              0.3333333333333333,
              "#9c179e"
             ],
             [
              0.4444444444444444,
              "#bd3786"
             ],
             [
              0.5555555555555556,
              "#d8576b"
             ],
             [
              0.6666666666666666,
              "#ed7953"
             ],
             [
              0.7777777777777778,
              "#fb9f3a"
             ],
             [
              0.8888888888888888,
              "#fdca26"
             ],
             [
              1,
              "#f0f921"
             ]
            ],
            "type": "surface"
           }
          ],
          "table": [
           {
            "cells": {
             "fill": {
              "color": "#EBF0F8"
             },
             "line": {
              "color": "white"
             }
            },
            "header": {
             "fill": {
              "color": "#C8D4E3"
             },
             "line": {
              "color": "white"
             }
            },
            "type": "table"
           }
          ]
         },
         "layout": {
          "annotationdefaults": {
           "arrowcolor": "#2a3f5f",
           "arrowhead": 0,
           "arrowwidth": 1
          },
          "autotypenumbers": "strict",
          "coloraxis": {
           "colorbar": {
            "outlinewidth": 0,
            "ticks": ""
           }
          },
          "colorscale": {
           "diverging": [
            [
             0,
             "#8e0152"
            ],
            [
             0.1,
             "#c51b7d"
            ],
            [
             0.2,
             "#de77ae"
            ],
            [
             0.3,
             "#f1b6da"
            ],
            [
             0.4,
             "#fde0ef"
            ],
            [
             0.5,
             "#f7f7f7"
            ],
            [
             0.6,
             "#e6f5d0"
            ],
            [
             0.7,
             "#b8e186"
            ],
            [
             0.8,
             "#7fbc41"
            ],
            [
             0.9,
             "#4d9221"
            ],
            [
             1,
             "#276419"
            ]
           ],
           "sequential": [
            [
             0,
             "#0d0887"
            ],
            [
             0.1111111111111111,
             "#46039f"
            ],
            [
             0.2222222222222222,
             "#7201a8"
            ],
            [
             0.3333333333333333,
             "#9c179e"
            ],
            [
             0.4444444444444444,
             "#bd3786"
            ],
            [
             0.5555555555555556,
             "#d8576b"
            ],
            [
             0.6666666666666666,
             "#ed7953"
            ],
            [
             0.7777777777777778,
             "#fb9f3a"
            ],
            [
             0.8888888888888888,
             "#fdca26"
            ],
            [
             1,
             "#f0f921"
            ]
           ],
           "sequentialminus": [
            [
             0,
             "#0d0887"
            ],
            [
             0.1111111111111111,
             "#46039f"
            ],
            [
             0.2222222222222222,
             "#7201a8"
            ],
            [
             0.3333333333333333,
             "#9c179e"
            ],
            [
             0.4444444444444444,
             "#bd3786"
            ],
            [
             0.5555555555555556,
             "#d8576b"
            ],
            [
             0.6666666666666666,
             "#ed7953"
            ],
            [
             0.7777777777777778,
             "#fb9f3a"
            ],
            [
             0.8888888888888888,
             "#fdca26"
            ],
            [
             1,
             "#f0f921"
            ]
           ]
          },
          "colorway": [
           "#636efa",
           "#EF553B",
           "#00cc96",
           "#ab63fa",
           "#FFA15A",
           "#19d3f3",
           "#FF6692",
           "#B6E880",
           "#FF97FF",
           "#FECB52"
          ],
          "font": {
           "color": "#2a3f5f"
          },
          "geo": {
           "bgcolor": "white",
           "lakecolor": "white",
           "landcolor": "#E5ECF6",
           "showlakes": true,
           "showland": true,
           "subunitcolor": "white"
          },
          "hoverlabel": {
           "align": "left"
          },
          "hovermode": "closest",
          "mapbox": {
           "style": "light"
          },
          "paper_bgcolor": "white",
          "plot_bgcolor": "#E5ECF6",
          "polar": {
           "angularaxis": {
            "gridcolor": "white",
            "linecolor": "white",
            "ticks": ""
           },
           "bgcolor": "#E5ECF6",
           "radialaxis": {
            "gridcolor": "white",
            "linecolor": "white",
            "ticks": ""
           }
          },
          "scene": {
           "xaxis": {
            "backgroundcolor": "#E5ECF6",
            "gridcolor": "white",
            "gridwidth": 2,
            "linecolor": "white",
            "showbackground": true,
            "ticks": "",
            "zerolinecolor": "white"
           },
           "yaxis": {
            "backgroundcolor": "#E5ECF6",
            "gridcolor": "white",
            "gridwidth": 2,
            "linecolor": "white",
            "showbackground": true,
            "ticks": "",
            "zerolinecolor": "white"
           },
           "zaxis": {
            "backgroundcolor": "#E5ECF6",
            "gridcolor": "white",
            "gridwidth": 2,
            "linecolor": "white",
            "showbackground": true,
            "ticks": "",
            "zerolinecolor": "white"
           }
          },
          "shapedefaults": {
           "line": {
            "color": "#2a3f5f"
           }
          },
          "ternary": {
           "aaxis": {
            "gridcolor": "white",
            "linecolor": "white",
            "ticks": ""
           },
           "baxis": {
            "gridcolor": "white",
            "linecolor": "white",
            "ticks": ""
           },
           "bgcolor": "#E5ECF6",
           "caxis": {
            "gridcolor": "white",
            "linecolor": "white",
            "ticks": ""
           }
          },
          "title": {
           "x": 0.05
          },
          "xaxis": {
           "automargin": true,
           "gridcolor": "white",
           "linecolor": "white",
           "ticks": "",
           "title": {
            "standoff": 15
           },
           "zerolinecolor": "white",
           "zerolinewidth": 2
          },
          "yaxis": {
           "automargin": true,
           "gridcolor": "white",
           "linecolor": "white",
           "ticks": "",
           "title": {
            "standoff": 15
           },
           "zerolinecolor": "white",
           "zerolinewidth": 2
          }
         }
        },
        "title": {
         "text": "tabela 2021"
        },
        "xaxis": {
         "anchor": "y",
         "domain": [
          0,
          1
         ],
         "title": {
          "text": "regiões de São Paulo"
         }
        },
        "yaxis": {
         "anchor": "x",
         "domain": [
          0,
          1
         ],
         "title": {
          "text": "taxas de crimes em 2021"
         }
        }
       }
      },
      "text/html": [
       "<div>                            <div id=\"16ffa4ca-85d0-49e3-a3bf-0663735a22ca\" class=\"plotly-graph-div\" style=\"height:525px; width:100%;\"></div>            <script type=\"text/javascript\">                require([\"plotly\"], function(Plotly) {                    window.PLOTLYENV=window.PLOTLYENV || {};                                    if (document.getElementById(\"16ffa4ca-85d0-49e3-a3bf-0663735a22ca\")) {                    Plotly.newPlot(                        \"16ffa4ca-85d0-49e3-a3bf-0663735a22ca\",                        [{\"alignmentgroup\":\"True\",\"hovertemplate\":\"variable=homicidio_doloso<br>regiao_ssp=%{x}<br>value=%{y}<extra></extra>\",\"legendgroup\":\"homicidio_doloso\",\"marker\":{\"color\":\"#636efa\",\"pattern\":{\"shape\":\"\"}},\"name\":\"homicidio_doloso\",\"offsetgroup\":\"homicidio_doloso\",\"orientation\":\"v\",\"showlegend\":true,\"textposition\":\"auto\",\"x\":[\"Ara\\u00e7atuba\",\"Bauru\",\"Campinas\",\"Capital\",\"Grande S\\u00e3o Paulo (exclui a Capital)\",\"Piracicaba\",\"Presidente Prudente\",\"Ribeir\\u00e3o Preto\",\"Santos\",\"Sorocaba\",\"S\\u00e3o Jos\\u00e9 do Rio Preto\",\"S\\u00e3o Jos\\u00e9 dos Campos\"],\"xaxis\":\"x\",\"y\":[50.0,71.0,144.0,387.0,353.0,152.0,42.0,162.0,97.0,108.0,60.0,222.0],\"yaxis\":\"y\",\"type\":\"bar\"},{\"alignmentgroup\":\"True\",\"hovertemplate\":\"variable=numero_de_vitimas_em_homicidio_doloso<br>regiao_ssp=%{x}<br>value=%{y}<extra></extra>\",\"legendgroup\":\"numero_de_vitimas_em_homicidio_doloso\",\"marker\":{\"color\":\"#EF553B\",\"pattern\":{\"shape\":\"\"}},\"name\":\"numero_de_vitimas_em_homicidio_doloso\",\"offsetgroup\":\"numero_de_vitimas_em_homicidio_doloso\",\"orientation\":\"v\",\"showlegend\":true,\"textposition\":\"auto\",\"x\":[\"Ara\\u00e7atuba\",\"Bauru\",\"Campinas\",\"Capital\",\"Grande S\\u00e3o Paulo (exclui a Capital)\",\"Piracicaba\",\"Presidente Prudente\",\"Ribeir\\u00e3o Preto\",\"Santos\",\"Sorocaba\",\"S\\u00e3o Jos\\u00e9 do Rio Preto\",\"S\\u00e3o Jos\\u00e9 dos Campos\"],\"xaxis\":\"x\",\"y\":[53.0,74.0,154.0,407.0,375.0,159.0,44.0,168.0,98.0,112.0,61.0,231.0],\"yaxis\":\"y\",\"type\":\"bar\"},{\"alignmentgroup\":\"True\",\"hovertemplate\":\"variable=homicidio_doloso_por_acidente_de_transito<br>regiao_ssp=%{x}<br>value=%{y}<extra></extra>\",\"legendgroup\":\"homicidio_doloso_por_acidente_de_transito\",\"marker\":{\"color\":\"#00cc96\",\"pattern\":{\"shape\":\"\"}},\"name\":\"homicidio_doloso_por_acidente_de_transito\",\"offsetgroup\":\"homicidio_doloso_por_acidente_de_transito\",\"orientation\":\"v\",\"showlegend\":true,\"textposition\":\"auto\",\"x\":[\"Ara\\u00e7atuba\",\"Bauru\",\"Campinas\",\"Capital\",\"Grande S\\u00e3o Paulo (exclui a Capital)\",\"Piracicaba\",\"Presidente Prudente\",\"Ribeir\\u00e3o Preto\",\"Santos\",\"Sorocaba\",\"S\\u00e3o Jos\\u00e9 do Rio Preto\",\"S\\u00e3o Jos\\u00e9 dos Campos\"],\"xaxis\":\"x\",\"y\":[0.0,0.0,0.0,3.0,0.0,1.0,0.0,0.0,0.0,0.0,0.0,0.0],\"yaxis\":\"y\",\"type\":\"bar\"},{\"alignmentgroup\":\"True\",\"hovertemplate\":\"variable=numero_de_vitimas_em_homicidio_doloso_por_acidente_de_transito<br>regiao_ssp=%{x}<br>value=%{y}<extra></extra>\",\"legendgroup\":\"numero_de_vitimas_em_homicidio_doloso_por_acidente_de_transito\",\"marker\":{\"color\":\"#ab63fa\",\"pattern\":{\"shape\":\"\"}},\"name\":\"numero_de_vitimas_em_homicidio_doloso_por_acidente_de_transito\",\"offsetgroup\":\"numero_de_vitimas_em_homicidio_doloso_por_acidente_de_transito\",\"orientation\":\"v\",\"showlegend\":true,\"textposition\":\"auto\",\"x\":[\"Ara\\u00e7atuba\",\"Bauru\",\"Campinas\",\"Capital\",\"Grande S\\u00e3o Paulo (exclui a Capital)\",\"Piracicaba\",\"Presidente Prudente\",\"Ribeir\\u00e3o Preto\",\"Santos\",\"Sorocaba\",\"S\\u00e3o Jos\\u00e9 do Rio Preto\",\"S\\u00e3o Jos\\u00e9 dos Campos\"],\"xaxis\":\"x\",\"y\":[0.0,0.0,0.0,3.0,0.0,2.0,0.0,0.0,0.0,0.0,0.0,0.0],\"yaxis\":\"y\",\"type\":\"bar\"},{\"alignmentgroup\":\"True\",\"hovertemplate\":\"variable=homicidio_culposo_por_acidente_de_transito<br>regiao_ssp=%{x}<br>value=%{y}<extra></extra>\",\"legendgroup\":\"homicidio_culposo_por_acidente_de_transito\",\"marker\":{\"color\":\"#FFA15A\",\"pattern\":{\"shape\":\"\"}},\"name\":\"homicidio_culposo_por_acidente_de_transito\",\"offsetgroup\":\"homicidio_culposo_por_acidente_de_transito\",\"orientation\":\"v\",\"showlegend\":true,\"textposition\":\"auto\",\"x\":[\"Ara\\u00e7atuba\",\"Bauru\",\"Campinas\",\"Capital\",\"Grande S\\u00e3o Paulo (exclui a Capital)\",\"Piracicaba\",\"Presidente Prudente\",\"Ribeir\\u00e3o Preto\",\"Santos\",\"Sorocaba\",\"S\\u00e3o Jos\\u00e9 do Rio Preto\",\"S\\u00e3o Jos\\u00e9 dos Campos\"],\"xaxis\":\"x\",\"y\":[47.0,134.0,224.0,246.0,346.0,192.0,68.0,259.0,146.0,233.0,119.0,142.0],\"yaxis\":\"y\",\"type\":\"bar\"},{\"alignmentgroup\":\"True\",\"hovertemplate\":\"variable=homicidio_culposo_outros<br>regiao_ssp=%{x}<br>value=%{y}<extra></extra>\",\"legendgroup\":\"homicidio_culposo_outros\",\"marker\":{\"color\":\"#19d3f3\",\"pattern\":{\"shape\":\"\"}},\"name\":\"homicidio_culposo_outros\",\"offsetgroup\":\"homicidio_culposo_outros\",\"orientation\":\"v\",\"showlegend\":true,\"textposition\":\"auto\",\"x\":[\"Ara\\u00e7atuba\",\"Bauru\",\"Campinas\",\"Capital\",\"Grande S\\u00e3o Paulo (exclui a Capital)\",\"Piracicaba\",\"Presidente Prudente\",\"Ribeir\\u00e3o Preto\",\"Santos\",\"Sorocaba\",\"S\\u00e3o Jos\\u00e9 do Rio Preto\",\"S\\u00e3o Jos\\u00e9 dos Campos\"],\"xaxis\":\"x\",\"y\":[0.0,3.0,2.0,22.0,36.0,4.0,0.0,8.0,4.0,5.0,3.0,10.0],\"yaxis\":\"y\",\"type\":\"bar\"},{\"alignmentgroup\":\"True\",\"hovertemplate\":\"variable=tentativa_de_homicidio<br>regiao_ssp=%{x}<br>value=%{y}<extra></extra>\",\"legendgroup\":\"tentativa_de_homicidio\",\"marker\":{\"color\":\"#FF6692\",\"pattern\":{\"shape\":\"\"}},\"name\":\"tentativa_de_homicidio\",\"offsetgroup\":\"tentativa_de_homicidio\",\"orientation\":\"v\",\"showlegend\":true,\"textposition\":\"auto\",\"x\":[\"Ara\\u00e7atuba\",\"Bauru\",\"Campinas\",\"Capital\",\"Grande S\\u00e3o Paulo (exclui a Capital)\",\"Piracicaba\",\"Presidente Prudente\",\"Ribeir\\u00e3o Preto\",\"Santos\",\"Sorocaba\",\"S\\u00e3o Jos\\u00e9 do Rio Preto\",\"S\\u00e3o Jos\\u00e9 dos Campos\"],\"xaxis\":\"x\",\"y\":[83.0,109.0,151.0,406.0,391.0,174.0,56.0,194.0,141.0,143.0,95.0,207.0],\"yaxis\":\"y\",\"type\":\"bar\"},{\"alignmentgroup\":\"True\",\"hovertemplate\":\"variable=total_de_estupro<br>regiao_ssp=%{x}<br>value=%{y}<extra></extra>\",\"legendgroup\":\"total_de_estupro\",\"marker\":{\"color\":\"#B6E880\",\"pattern\":{\"shape\":\"\"}},\"name\":\"total_de_estupro\",\"offsetgroup\":\"total_de_estupro\",\"orientation\":\"v\",\"showlegend\":true,\"textposition\":\"auto\",\"x\":[\"Ara\\u00e7atuba\",\"Bauru\",\"Campinas\",\"Capital\",\"Grande S\\u00e3o Paulo (exclui a Capital)\",\"Piracicaba\",\"Presidente Prudente\",\"Ribeir\\u00e3o Preto\",\"Santos\",\"Sorocaba\",\"S\\u00e3o Jos\\u00e9 do Rio Preto\",\"S\\u00e3o Jos\\u00e9 dos Campos\"],\"xaxis\":\"x\",\"y\":[143.0,395.0,581.0,1576.0,1598.0,463.0,215.0,677.0,397.0,825.0,362.0,420.0],\"yaxis\":\"y\",\"type\":\"bar\"},{\"alignmentgroup\":\"True\",\"hovertemplate\":\"variable=estupro<br>regiao_ssp=%{x}<br>value=%{y}<extra></extra>\",\"legendgroup\":\"estupro\",\"marker\":{\"color\":\"#FF97FF\",\"pattern\":{\"shape\":\"\"}},\"name\":\"estupro\",\"offsetgroup\":\"estupro\",\"orientation\":\"v\",\"showlegend\":true,\"textposition\":\"auto\",\"x\":[\"Ara\\u00e7atuba\",\"Bauru\",\"Campinas\",\"Capital\",\"Grande S\\u00e3o Paulo (exclui a Capital)\",\"Piracicaba\",\"Presidente Prudente\",\"Ribeir\\u00e3o Preto\",\"Santos\",\"Sorocaba\",\"S\\u00e3o Jos\\u00e9 do Rio Preto\",\"S\\u00e3o Jos\\u00e9 dos Campos\"],\"xaxis\":\"x\",\"y\":[28.0,84.0,129.0,429.0,335.0,98.0,47.0,165.0,87.0,168.0,65.0,81.0],\"yaxis\":\"y\",\"type\":\"bar\"},{\"alignmentgroup\":\"True\",\"hovertemplate\":\"variable=estupro_de_vulneravel<br>regiao_ssp=%{x}<br>value=%{y}<extra></extra>\",\"legendgroup\":\"estupro_de_vulneravel\",\"marker\":{\"color\":\"#FECB52\",\"pattern\":{\"shape\":\"\"}},\"name\":\"estupro_de_vulneravel\",\"offsetgroup\":\"estupro_de_vulneravel\",\"orientation\":\"v\",\"showlegend\":true,\"textposition\":\"auto\",\"x\":[\"Ara\\u00e7atuba\",\"Bauru\",\"Campinas\",\"Capital\",\"Grande S\\u00e3o Paulo (exclui a Capital)\",\"Piracicaba\",\"Presidente Prudente\",\"Ribeir\\u00e3o Preto\",\"Santos\",\"Sorocaba\",\"S\\u00e3o Jos\\u00e9 do Rio Preto\",\"S\\u00e3o Jos\\u00e9 dos Campos\"],\"xaxis\":\"x\",\"y\":[115.0,311.0,452.0,1147.0,1263.0,365.0,168.0,512.0,310.0,657.0,297.0,339.0],\"yaxis\":\"y\",\"type\":\"bar\"},{\"alignmentgroup\":\"True\",\"hovertemplate\":\"variable=total_de_roubo_outros<br>regiao_ssp=%{x}<br>value=%{y}<extra></extra>\",\"legendgroup\":\"total_de_roubo_outros\",\"marker\":{\"color\":\"#636efa\",\"pattern\":{\"shape\":\"\"}},\"name\":\"total_de_roubo_outros\",\"offsetgroup\":\"total_de_roubo_outros\",\"orientation\":\"v\",\"showlegend\":true,\"textposition\":\"auto\",\"x\":[\"Ara\\u00e7atuba\",\"Bauru\",\"Campinas\",\"Capital\",\"Grande S\\u00e3o Paulo (exclui a Capital)\",\"Piracicaba\",\"Presidente Prudente\",\"Ribeir\\u00e3o Preto\",\"Santos\",\"Sorocaba\",\"S\\u00e3o Jos\\u00e9 do Rio Preto\",\"S\\u00e3o Jos\\u00e9 dos Campos\"],\"xaxis\":\"x\",\"y\":[418.0,861.0,6089.0,83321.0,36171.0,3280.0,242.0,3411.0,7492.0,1914.0,698.0,3317.0],\"yaxis\":\"y\",\"type\":\"bar\"},{\"alignmentgroup\":\"True\",\"hovertemplate\":\"variable=roubo_outros<br>regiao_ssp=%{x}<br>value=%{y}<extra></extra>\",\"legendgroup\":\"roubo_outros\",\"marker\":{\"color\":\"#EF553B\",\"pattern\":{\"shape\":\"\"}},\"name\":\"roubo_outros\",\"offsetgroup\":\"roubo_outros\",\"orientation\":\"v\",\"showlegend\":true,\"textposition\":\"auto\",\"x\":[\"Ara\\u00e7atuba\",\"Bauru\",\"Campinas\",\"Capital\",\"Grande S\\u00e3o Paulo (exclui a Capital)\",\"Piracicaba\",\"Presidente Prudente\",\"Ribeir\\u00e3o Preto\",\"Santos\",\"Sorocaba\",\"S\\u00e3o Jos\\u00e9 do Rio Preto\",\"S\\u00e3o Jos\\u00e9 dos Campos\"],\"xaxis\":\"x\",\"y\":[412.0,832.0,5779.0,81408.0,34897.0,3161.0,226.0,3284.0,7323.0,1835.0,684.0,3230.0],\"yaxis\":\"y\",\"type\":\"bar\"},{\"alignmentgroup\":\"True\",\"hovertemplate\":\"variable=roubo_de_veiculo<br>regiao_ssp=%{x}<br>value=%{y}<extra></extra>\",\"legendgroup\":\"roubo_de_veiculo\",\"marker\":{\"color\":\"#00cc96\",\"pattern\":{\"shape\":\"\"}},\"name\":\"roubo_de_veiculo\",\"offsetgroup\":\"roubo_de_veiculo\",\"orientation\":\"v\",\"showlegend\":true,\"textposition\":\"auto\",\"x\":[\"Ara\\u00e7atuba\",\"Bauru\",\"Campinas\",\"Capital\",\"Grande S\\u00e3o Paulo (exclui a Capital)\",\"Piracicaba\",\"Presidente Prudente\",\"Ribeir\\u00e3o Preto\",\"Santos\",\"Sorocaba\",\"S\\u00e3o Jos\\u00e9 do Rio Preto\",\"S\\u00e3o Jos\\u00e9 dos Campos\"],\"xaxis\":\"x\",\"y\":[24.0,69.0,1963.0,8433.0,6637.0,917.0,30.0,645.0,590.0,367.0,51.0,547.0],\"yaxis\":\"y\",\"type\":\"bar\"},{\"alignmentgroup\":\"True\",\"hovertemplate\":\"variable=roubo_a_banco<br>regiao_ssp=%{x}<br>value=%{y}<extra></extra>\",\"legendgroup\":\"roubo_a_banco\",\"marker\":{\"color\":\"#ab63fa\",\"pattern\":{\"shape\":\"\"}},\"name\":\"roubo_a_banco\",\"offsetgroup\":\"roubo_a_banco\",\"orientation\":\"v\",\"showlegend\":true,\"textposition\":\"auto\",\"x\":[\"Ara\\u00e7atuba\",\"Bauru\",\"Campinas\",\"Capital\",\"Grande S\\u00e3o Paulo (exclui a Capital)\",\"Piracicaba\",\"Presidente Prudente\",\"Ribeir\\u00e3o Preto\",\"Santos\",\"Sorocaba\",\"S\\u00e3o Jos\\u00e9 do Rio Preto\",\"S\\u00e3o Jos\\u00e9 dos Campos\"],\"xaxis\":\"x\",\"y\":[1.0,0.0,0.0,4.0,1.0,1.0,0.0,2.0,1.0,0.0,1.0,1.0],\"yaxis\":\"y\",\"type\":\"bar\"},{\"alignmentgroup\":\"True\",\"hovertemplate\":\"variable=roubo_de_carga<br>regiao_ssp=%{x}<br>value=%{y}<extra></extra>\",\"legendgroup\":\"roubo_de_carga\",\"marker\":{\"color\":\"#FFA15A\",\"pattern\":{\"shape\":\"\"}},\"name\":\"roubo_de_carga\",\"offsetgroup\":\"roubo_de_carga\",\"orientation\":\"v\",\"showlegend\":true,\"textposition\":\"auto\",\"x\":[\"Ara\\u00e7atuba\",\"Bauru\",\"Campinas\",\"Capital\",\"Grande S\\u00e3o Paulo (exclui a Capital)\",\"Piracicaba\",\"Presidente Prudente\",\"Ribeir\\u00e3o Preto\",\"Santos\",\"Sorocaba\",\"S\\u00e3o Jos\\u00e9 do Rio Preto\",\"S\\u00e3o Jos\\u00e9 dos Campos\"],\"xaxis\":\"x\",\"y\":[5.0,29.0,310.0,1909.0,1273.0,118.0,16.0,125.0,168.0,79.0,13.0,86.0],\"yaxis\":\"y\",\"type\":\"bar\"},{\"alignmentgroup\":\"True\",\"hovertemplate\":\"variable=furto_outros<br>regiao_ssp=%{x}<br>value=%{y}<extra></extra>\",\"legendgroup\":\"furto_outros\",\"marker\":{\"color\":\"#19d3f3\",\"pattern\":{\"shape\":\"\"}},\"name\":\"furto_outros\",\"offsetgroup\":\"furto_outros\",\"orientation\":\"v\",\"showlegend\":true,\"textposition\":\"auto\",\"x\":[\"Ara\\u00e7atuba\",\"Bauru\",\"Campinas\",\"Capital\",\"Grande S\\u00e3o Paulo (exclui a Capital)\",\"Piracicaba\",\"Presidente Prudente\",\"Ribeir\\u00e3o Preto\",\"Santos\",\"Sorocaba\",\"S\\u00e3o Jos\\u00e9 do Rio Preto\",\"S\\u00e3o Jos\\u00e9 dos Campos\"],\"xaxis\":\"x\",\"y\":[4908.0,10883.0,21274.0,113807.0,43090.0,15674.0,4898.0,21738.0,18893.0,14202.0,8430.0,12914.0],\"yaxis\":\"y\",\"type\":\"bar\"},{\"alignmentgroup\":\"True\",\"hovertemplate\":\"variable=furto_de_veiculo<br>regiao_ssp=%{x}<br>value=%{y}<extra></extra>\",\"legendgroup\":\"furto_de_veiculo\",\"marker\":{\"color\":\"#FF6692\",\"pattern\":{\"shape\":\"\"}},\"name\":\"furto_de_veiculo\",\"offsetgroup\":\"furto_de_veiculo\",\"orientation\":\"v\",\"showlegend\":true,\"textposition\":\"auto\",\"x\":[\"Ara\\u00e7atuba\",\"Bauru\",\"Campinas\",\"Capital\",\"Grande S\\u00e3o Paulo (exclui a Capital)\",\"Piracicaba\",\"Presidente Prudente\",\"Ribeir\\u00e3o Preto\",\"Santos\",\"Sorocaba\",\"S\\u00e3o Jos\\u00e9 do Rio Preto\",\"S\\u00e3o Jos\\u00e9 dos Campos\"],\"xaxis\":\"x\",\"y\":[227.0,710.0,3704.0,22250.0,12810.0,2791.0,227.0,2742.0,1707.0,1576.0,870.0,1353.0],\"yaxis\":\"y\",\"type\":\"bar\"}],                        {\"template\":{\"data\":{\"histogram2dcontour\":[{\"type\":\"histogram2dcontour\",\"colorbar\":{\"outlinewidth\":0,\"ticks\":\"\"},\"colorscale\":[[0.0,\"#0d0887\"],[0.1111111111111111,\"#46039f\"],[0.2222222222222222,\"#7201a8\"],[0.3333333333333333,\"#9c179e\"],[0.4444444444444444,\"#bd3786\"],[0.5555555555555556,\"#d8576b\"],[0.6666666666666666,\"#ed7953\"],[0.7777777777777778,\"#fb9f3a\"],[0.8888888888888888,\"#fdca26\"],[1.0,\"#f0f921\"]]}],\"choropleth\":[{\"type\":\"choropleth\",\"colorbar\":{\"outlinewidth\":0,\"ticks\":\"\"}}],\"histogram2d\":[{\"type\":\"histogram2d\",\"colorbar\":{\"outlinewidth\":0,\"ticks\":\"\"},\"colorscale\":[[0.0,\"#0d0887\"],[0.1111111111111111,\"#46039f\"],[0.2222222222222222,\"#7201a8\"],[0.3333333333333333,\"#9c179e\"],[0.4444444444444444,\"#bd3786\"],[0.5555555555555556,\"#d8576b\"],[0.6666666666666666,\"#ed7953\"],[0.7777777777777778,\"#fb9f3a\"],[0.8888888888888888,\"#fdca26\"],[1.0,\"#f0f921\"]]}],\"heatmap\":[{\"type\":\"heatmap\",\"colorbar\":{\"outlinewidth\":0,\"ticks\":\"\"},\"colorscale\":[[0.0,\"#0d0887\"],[0.1111111111111111,\"#46039f\"],[0.2222222222222222,\"#7201a8\"],[0.3333333333333333,\"#9c179e\"],[0.4444444444444444,\"#bd3786\"],[0.5555555555555556,\"#d8576b\"],[0.6666666666666666,\"#ed7953\"],[0.7777777777777778,\"#fb9f3a\"],[0.8888888888888888,\"#fdca26\"],[1.0,\"#f0f921\"]]}],\"heatmapgl\":[{\"type\":\"heatmapgl\",\"colorbar\":{\"outlinewidth\":0,\"ticks\":\"\"},\"colorscale\":[[0.0,\"#0d0887\"],[0.1111111111111111,\"#46039f\"],[0.2222222222222222,\"#7201a8\"],[0.3333333333333333,\"#9c179e\"],[0.4444444444444444,\"#bd3786\"],[0.5555555555555556,\"#d8576b\"],[0.6666666666666666,\"#ed7953\"],[0.7777777777777778,\"#fb9f3a\"],[0.8888888888888888,\"#fdca26\"],[1.0,\"#f0f921\"]]}],\"contourcarpet\":[{\"type\":\"contourcarpet\",\"colorbar\":{\"outlinewidth\":0,\"ticks\":\"\"}}],\"contour\":[{\"type\":\"contour\",\"colorbar\":{\"outlinewidth\":0,\"ticks\":\"\"},\"colorscale\":[[0.0,\"#0d0887\"],[0.1111111111111111,\"#46039f\"],[0.2222222222222222,\"#7201a8\"],[0.3333333333333333,\"#9c179e\"],[0.4444444444444444,\"#bd3786\"],[0.5555555555555556,\"#d8576b\"],[0.6666666666666666,\"#ed7953\"],[0.7777777777777778,\"#fb9f3a\"],[0.8888888888888888,\"#fdca26\"],[1.0,\"#f0f921\"]]}],\"surface\":[{\"type\":\"surface\",\"colorbar\":{\"outlinewidth\":0,\"ticks\":\"\"},\"colorscale\":[[0.0,\"#0d0887\"],[0.1111111111111111,\"#46039f\"],[0.2222222222222222,\"#7201a8\"],[0.3333333333333333,\"#9c179e\"],[0.4444444444444444,\"#bd3786\"],[0.5555555555555556,\"#d8576b\"],[0.6666666666666666,\"#ed7953\"],[0.7777777777777778,\"#fb9f3a\"],[0.8888888888888888,\"#fdca26\"],[1.0,\"#f0f921\"]]}],\"mesh3d\":[{\"type\":\"mesh3d\",\"colorbar\":{\"outlinewidth\":0,\"ticks\":\"\"}}],\"scatter\":[{\"fillpattern\":{\"fillmode\":\"overlay\",\"size\":10,\"solidity\":0.2},\"type\":\"scatter\"}],\"parcoords\":[{\"type\":\"parcoords\",\"line\":{\"colorbar\":{\"outlinewidth\":0,\"ticks\":\"\"}}}],\"scatterpolargl\":[{\"type\":\"scatterpolargl\",\"marker\":{\"colorbar\":{\"outlinewidth\":0,\"ticks\":\"\"}}}],\"bar\":[{\"error_x\":{\"color\":\"#2a3f5f\"},\"error_y\":{\"color\":\"#2a3f5f\"},\"marker\":{\"line\":{\"color\":\"#E5ECF6\",\"width\":0.5},\"pattern\":{\"fillmode\":\"overlay\",\"size\":10,\"solidity\":0.2}},\"type\":\"bar\"}],\"scattergeo\":[{\"type\":\"scattergeo\",\"marker\":{\"colorbar\":{\"outlinewidth\":0,\"ticks\":\"\"}}}],\"scatterpolar\":[{\"type\":\"scatterpolar\",\"marker\":{\"colorbar\":{\"outlinewidth\":0,\"ticks\":\"\"}}}],\"histogram\":[{\"marker\":{\"pattern\":{\"fillmode\":\"overlay\",\"size\":10,\"solidity\":0.2}},\"type\":\"histogram\"}],\"scattergl\":[{\"type\":\"scattergl\",\"marker\":{\"colorbar\":{\"outlinewidth\":0,\"ticks\":\"\"}}}],\"scatter3d\":[{\"type\":\"scatter3d\",\"line\":{\"colorbar\":{\"outlinewidth\":0,\"ticks\":\"\"}},\"marker\":{\"colorbar\":{\"outlinewidth\":0,\"ticks\":\"\"}}}],\"scattermapbox\":[{\"type\":\"scattermapbox\",\"marker\":{\"colorbar\":{\"outlinewidth\":0,\"ticks\":\"\"}}}],\"scatterternary\":[{\"type\":\"scatterternary\",\"marker\":{\"colorbar\":{\"outlinewidth\":0,\"ticks\":\"\"}}}],\"scattercarpet\":[{\"type\":\"scattercarpet\",\"marker\":{\"colorbar\":{\"outlinewidth\":0,\"ticks\":\"\"}}}],\"carpet\":[{\"aaxis\":{\"endlinecolor\":\"#2a3f5f\",\"gridcolor\":\"white\",\"linecolor\":\"white\",\"minorgridcolor\":\"white\",\"startlinecolor\":\"#2a3f5f\"},\"baxis\":{\"endlinecolor\":\"#2a3f5f\",\"gridcolor\":\"white\",\"linecolor\":\"white\",\"minorgridcolor\":\"white\",\"startlinecolor\":\"#2a3f5f\"},\"type\":\"carpet\"}],\"table\":[{\"cells\":{\"fill\":{\"color\":\"#EBF0F8\"},\"line\":{\"color\":\"white\"}},\"header\":{\"fill\":{\"color\":\"#C8D4E3\"},\"line\":{\"color\":\"white\"}},\"type\":\"table\"}],\"barpolar\":[{\"marker\":{\"line\":{\"color\":\"#E5ECF6\",\"width\":0.5},\"pattern\":{\"fillmode\":\"overlay\",\"size\":10,\"solidity\":0.2}},\"type\":\"barpolar\"}],\"pie\":[{\"automargin\":true,\"type\":\"pie\"}]},\"layout\":{\"autotypenumbers\":\"strict\",\"colorway\":[\"#636efa\",\"#EF553B\",\"#00cc96\",\"#ab63fa\",\"#FFA15A\",\"#19d3f3\",\"#FF6692\",\"#B6E880\",\"#FF97FF\",\"#FECB52\"],\"font\":{\"color\":\"#2a3f5f\"},\"hovermode\":\"closest\",\"hoverlabel\":{\"align\":\"left\"},\"paper_bgcolor\":\"white\",\"plot_bgcolor\":\"#E5ECF6\",\"polar\":{\"bgcolor\":\"#E5ECF6\",\"angularaxis\":{\"gridcolor\":\"white\",\"linecolor\":\"white\",\"ticks\":\"\"},\"radialaxis\":{\"gridcolor\":\"white\",\"linecolor\":\"white\",\"ticks\":\"\"}},\"ternary\":{\"bgcolor\":\"#E5ECF6\",\"aaxis\":{\"gridcolor\":\"white\",\"linecolor\":\"white\",\"ticks\":\"\"},\"baxis\":{\"gridcolor\":\"white\",\"linecolor\":\"white\",\"ticks\":\"\"},\"caxis\":{\"gridcolor\":\"white\",\"linecolor\":\"white\",\"ticks\":\"\"}},\"coloraxis\":{\"colorbar\":{\"outlinewidth\":0,\"ticks\":\"\"}},\"colorscale\":{\"sequential\":[[0.0,\"#0d0887\"],[0.1111111111111111,\"#46039f\"],[0.2222222222222222,\"#7201a8\"],[0.3333333333333333,\"#9c179e\"],[0.4444444444444444,\"#bd3786\"],[0.5555555555555556,\"#d8576b\"],[0.6666666666666666,\"#ed7953\"],[0.7777777777777778,\"#fb9f3a\"],[0.8888888888888888,\"#fdca26\"],[1.0,\"#f0f921\"]],\"sequentialminus\":[[0.0,\"#0d0887\"],[0.1111111111111111,\"#46039f\"],[0.2222222222222222,\"#7201a8\"],[0.3333333333333333,\"#9c179e\"],[0.4444444444444444,\"#bd3786\"],[0.5555555555555556,\"#d8576b\"],[0.6666666666666666,\"#ed7953\"],[0.7777777777777778,\"#fb9f3a\"],[0.8888888888888888,\"#fdca26\"],[1.0,\"#f0f921\"]],\"diverging\":[[0,\"#8e0152\"],[0.1,\"#c51b7d\"],[0.2,\"#de77ae\"],[0.3,\"#f1b6da\"],[0.4,\"#fde0ef\"],[0.5,\"#f7f7f7\"],[0.6,\"#e6f5d0\"],[0.7,\"#b8e186\"],[0.8,\"#7fbc41\"],[0.9,\"#4d9221\"],[1,\"#276419\"]]},\"xaxis\":{\"gridcolor\":\"white\",\"linecolor\":\"white\",\"ticks\":\"\",\"title\":{\"standoff\":15},\"zerolinecolor\":\"white\",\"automargin\":true,\"zerolinewidth\":2},\"yaxis\":{\"gridcolor\":\"white\",\"linecolor\":\"white\",\"ticks\":\"\",\"title\":{\"standoff\":15},\"zerolinecolor\":\"white\",\"automargin\":true,\"zerolinewidth\":2},\"scene\":{\"xaxis\":{\"backgroundcolor\":\"#E5ECF6\",\"gridcolor\":\"white\",\"linecolor\":\"white\",\"showbackground\":true,\"ticks\":\"\",\"zerolinecolor\":\"white\",\"gridwidth\":2},\"yaxis\":{\"backgroundcolor\":\"#E5ECF6\",\"gridcolor\":\"white\",\"linecolor\":\"white\",\"showbackground\":true,\"ticks\":\"\",\"zerolinecolor\":\"white\",\"gridwidth\":2},\"zaxis\":{\"backgroundcolor\":\"#E5ECF6\",\"gridcolor\":\"white\",\"linecolor\":\"white\",\"showbackground\":true,\"ticks\":\"\",\"zerolinecolor\":\"white\",\"gridwidth\":2}},\"shapedefaults\":{\"line\":{\"color\":\"#2a3f5f\"}},\"annotationdefaults\":{\"arrowcolor\":\"#2a3f5f\",\"arrowhead\":0,\"arrowwidth\":1},\"geo\":{\"bgcolor\":\"white\",\"landcolor\":\"#E5ECF6\",\"subunitcolor\":\"white\",\"showland\":true,\"showlakes\":true,\"lakecolor\":\"white\"},\"title\":{\"x\":0.05},\"mapbox\":{\"style\":\"light\"}}},\"xaxis\":{\"anchor\":\"y\",\"domain\":[0.0,1.0],\"title\":{\"text\":\"regi\\u00f5es de S\\u00e3o Paulo\"}},\"yaxis\":{\"anchor\":\"x\",\"domain\":[0.0,1.0],\"title\":{\"text\":\"taxas de crimes em 2021\"}},\"legend\":{\"title\":{\"text\":\"variable\"},\"tracegroupgap\":0},\"margin\":{\"t\":60},\"barmode\":\"relative\",\"title\":{\"text\":\"tabela 2021\"}},                        {\"responsive\": true}                    ).then(function(){\n",
       "                            \n",
       "var gd = document.getElementById('16ffa4ca-85d0-49e3-a3bf-0663735a22ca');\n",
       "var x = new MutationObserver(function (mutations, observer) {{\n",
       "        var display = window.getComputedStyle(gd).display;\n",
       "        if (!display || display === 'none') {{\n",
       "            console.log([gd, 'removed!']);\n",
       "            Plotly.purge(gd);\n",
       "            observer.disconnect();\n",
       "        }}\n",
       "}});\n",
       "\n",
       "// Listen for the removal of the full notebook cells\n",
       "var notebookContainer = gd.closest('#notebook-container');\n",
       "if (notebookContainer) {{\n",
       "    x.observe(notebookContainer, {childList: true});\n",
       "}}\n",
       "\n",
       "// Listen for the clearing of the current output cell\n",
       "var outputEl = gd.closest('.output');\n",
       "if (outputEl) {{\n",
       "    x.observe(outputEl, {childList: true});\n",
       "}}\n",
       "\n",
       "                        })                };                });            </script>        </div>"
      ]
     },
     "metadata": {},
     "output_type": "display_data"
    }
   ],
   "source": [
    "ano4 = df2[df2['ano'] == 2021] \n",
    "\n",
    "ano4 = ano4.groupby('regiao_ssp').sum()\n",
    "ano2021 = ano4\n",
    "display(ano2021)\n",
    "\n",
    "\n",
    "grafico = px.bar(ano2021, x = ano2021.index , y = [\"homicidio_doloso\",\"numero_de_vitimas_em_homicidio_doloso\",\"homicidio_doloso_por_acidente_de_transito\",\"numero_de_vitimas_em_homicidio_doloso_por_acidente_de_transito\",\"homicidio_culposo_por_acidente_de_transito\",\"homicidio_culposo_outros\",\"tentativa_de_homicidio\",\"total_de_estupro\",\"estupro\",\"estupro_de_vulneravel\",\"total_de_roubo_outros\",\"roubo_outros\",\"roubo_de_veiculo\",\"roubo_a_banco\",\"roubo_de_carga\",\"furto_outros\",\"furto_de_veiculo\"])\n",
    "grafico.update_layout(\n",
    "    yaxis_title=\"taxas de crimes em 2021\",\n",
    "    xaxis_title=\"regiões de São Paulo\",\n",
    "    title = 'tabela 2021')\n",
    "\n",
    "grafico.show()"
   ]
  },
  {
   "cell_type": "code",
   "execution_count": 92,
   "id": "3108c83d",
   "metadata": {},
   "outputs": [
    {
     "data": {
      "text/html": [
       "<div>\n",
       "<style scoped>\n",
       "    .dataframe tbody tr th:only-of-type {\n",
       "        vertical-align: middle;\n",
       "    }\n",
       "\n",
       "    .dataframe tbody tr th {\n",
       "        vertical-align: top;\n",
       "    }\n",
       "\n",
       "    .dataframe thead th {\n",
       "        text-align: right;\n",
       "    }\n",
       "</style>\n",
       "<table border=\"1\" class=\"dataframe\">\n",
       "  <thead>\n",
       "    <tr style=\"text-align: right;\">\n",
       "      <th></th>\n",
       "      <th>ano</th>\n",
       "      <th>mes</th>\n",
       "      <th>id_municipio</th>\n",
       "      <th>homicidio_doloso</th>\n",
       "      <th>numero_de_vitimas_em_homicidio_doloso</th>\n",
       "      <th>homicidio_doloso_por_acidente_de_transito</th>\n",
       "      <th>numero_de_vitimas_em_homicidio_doloso_por_acidente_de_transito</th>\n",
       "      <th>homicidio_culposo_por_acidente_de_transito</th>\n",
       "      <th>homicidio_culposo_outros</th>\n",
       "      <th>tentativa_de_homicidio</th>\n",
       "      <th>...</th>\n",
       "      <th>total_de_estupro</th>\n",
       "      <th>estupro</th>\n",
       "      <th>estupro_de_vulneravel</th>\n",
       "      <th>total_de_roubo_outros</th>\n",
       "      <th>roubo_outros</th>\n",
       "      <th>roubo_de_veiculo</th>\n",
       "      <th>roubo_a_banco</th>\n",
       "      <th>roubo_de_carga</th>\n",
       "      <th>furto_outros</th>\n",
       "      <th>furto_de_veiculo</th>\n",
       "    </tr>\n",
       "  </thead>\n",
       "  <tbody>\n",
       "    <tr>\n",
       "      <th>count</th>\n",
       "      <td>1.200000e+01</td>\n",
       "      <td>12.000000</td>\n",
       "      <td>1.200000e+01</td>\n",
       "      <td>12.000000</td>\n",
       "      <td>12.000000</td>\n",
       "      <td>12.000000</td>\n",
       "      <td>12.000000</td>\n",
       "      <td>12.000000</td>\n",
       "      <td>12.000000</td>\n",
       "      <td>12.000000</td>\n",
       "      <td>...</td>\n",
       "      <td>12.000000</td>\n",
       "      <td>12.000000</td>\n",
       "      <td>12.000000</td>\n",
       "      <td>12.000000</td>\n",
       "      <td>12.000000</td>\n",
       "      <td>12.000000</td>\n",
       "      <td>12.000000</td>\n",
       "      <td>12.000000</td>\n",
       "      <td>12.000000</td>\n",
       "      <td>12.000000</td>\n",
       "    </tr>\n",
       "    <tr>\n",
       "      <th>mean</th>\n",
       "      <td>8.690300e+05</td>\n",
       "      <td>1935.000000</td>\n",
       "      <td>1.517340e+09</td>\n",
       "      <td>154.000000</td>\n",
       "      <td>161.333333</td>\n",
       "      <td>0.333333</td>\n",
       "      <td>0.416667</td>\n",
       "      <td>179.666667</td>\n",
       "      <td>8.083333</td>\n",
       "      <td>179.166667</td>\n",
       "      <td>...</td>\n",
       "      <td>637.666667</td>\n",
       "      <td>143.000000</td>\n",
       "      <td>494.666667</td>\n",
       "      <td>12267.833333</td>\n",
       "      <td>11922.583333</td>\n",
       "      <td>1689.416667</td>\n",
       "      <td>1.000000</td>\n",
       "      <td>344.250000</td>\n",
       "      <td>24225.916667</td>\n",
       "      <td>4247.250000</td>\n",
       "    </tr>\n",
       "    <tr>\n",
       "      <th>std</th>\n",
       "      <td>4.646271e+05</td>\n",
       "      <td>1034.548123</td>\n",
       "      <td>8.115075e+08</td>\n",
       "      <td>114.070154</td>\n",
       "      <td>120.832215</td>\n",
       "      <td>0.887625</td>\n",
       "      <td>0.996205</td>\n",
       "      <td>86.187252</td>\n",
       "      <td>10.612671</td>\n",
       "      <td>111.734941</td>\n",
       "      <td>...</td>\n",
       "      <td>480.207405</td>\n",
       "      <td>120.971822</td>\n",
       "      <td>362.210219</td>\n",
       "      <td>24451.176714</td>\n",
       "      <td>23859.947277</td>\n",
       "      <td>2809.348564</td>\n",
       "      <td>1.128152</td>\n",
       "      <td>603.889985</td>\n",
       "      <td>29999.751500</td>\n",
       "      <td>6607.909601</td>\n",
       "    </tr>\n",
       "    <tr>\n",
       "      <th>min</th>\n",
       "      <td>1.616800e+04</td>\n",
       "      <td>36.000000</td>\n",
       "      <td>2.840246e+07</td>\n",
       "      <td>42.000000</td>\n",
       "      <td>44.000000</td>\n",
       "      <td>0.000000</td>\n",
       "      <td>0.000000</td>\n",
       "      <td>47.000000</td>\n",
       "      <td>0.000000</td>\n",
       "      <td>56.000000</td>\n",
       "      <td>...</td>\n",
       "      <td>143.000000</td>\n",
       "      <td>28.000000</td>\n",
       "      <td>115.000000</td>\n",
       "      <td>242.000000</td>\n",
       "      <td>226.000000</td>\n",
       "      <td>24.000000</td>\n",
       "      <td>0.000000</td>\n",
       "      <td>5.000000</td>\n",
       "      <td>4898.000000</td>\n",
       "      <td>227.000000</td>\n",
       "    </tr>\n",
       "    <tr>\n",
       "      <th>25%</th>\n",
       "      <td>6.143840e+05</td>\n",
       "      <td>1368.000000</td>\n",
       "      <td>1.073072e+09</td>\n",
       "      <td>68.250000</td>\n",
       "      <td>70.750000</td>\n",
       "      <td>0.000000</td>\n",
       "      <td>0.000000</td>\n",
       "      <td>130.250000</td>\n",
       "      <td>2.750000</td>\n",
       "      <td>105.500000</td>\n",
       "      <td>...</td>\n",
       "      <td>386.750000</td>\n",
       "      <td>77.000000</td>\n",
       "      <td>306.750000</td>\n",
       "      <td>820.250000</td>\n",
       "      <td>795.000000</td>\n",
       "      <td>64.500000</td>\n",
       "      <td>0.000000</td>\n",
       "      <td>25.750000</td>\n",
       "      <td>10269.750000</td>\n",
       "      <td>830.000000</td>\n",
       "    </tr>\n",
       "    <tr>\n",
       "      <th>50%</th>\n",
       "      <td>7.679800e+05</td>\n",
       "      <td>1710.000000</td>\n",
       "      <td>1.339957e+09</td>\n",
       "      <td>126.000000</td>\n",
       "      <td>133.000000</td>\n",
       "      <td>0.000000</td>\n",
       "      <td>0.000000</td>\n",
       "      <td>169.000000</td>\n",
       "      <td>4.000000</td>\n",
       "      <td>147.000000</td>\n",
       "      <td>...</td>\n",
       "      <td>441.500000</td>\n",
       "      <td>92.500000</td>\n",
       "      <td>352.000000</td>\n",
       "      <td>3298.500000</td>\n",
       "      <td>3195.500000</td>\n",
       "      <td>568.500000</td>\n",
       "      <td>1.000000</td>\n",
       "      <td>102.000000</td>\n",
       "      <td>14938.000000</td>\n",
       "      <td>1641.500000</td>\n",
       "    </tr>\n",
       "    <tr>\n",
       "      <th>75%</th>\n",
       "      <td>1.236852e+06</td>\n",
       "      <td>2754.000000</td>\n",
       "      <td>2.157992e+09</td>\n",
       "      <td>177.000000</td>\n",
       "      <td>183.750000</td>\n",
       "      <td>0.000000</td>\n",
       "      <td>0.000000</td>\n",
       "      <td>236.250000</td>\n",
       "      <td>8.500000</td>\n",
       "      <td>197.250000</td>\n",
       "      <td>...</td>\n",
       "      <td>714.000000</td>\n",
       "      <td>165.750000</td>\n",
       "      <td>548.250000</td>\n",
       "      <td>6439.750000</td>\n",
       "      <td>6165.000000</td>\n",
       "      <td>1178.500000</td>\n",
       "      <td>1.000000</td>\n",
       "      <td>203.500000</td>\n",
       "      <td>21390.000000</td>\n",
       "      <td>3019.250000</td>\n",
       "    </tr>\n",
       "    <tr>\n",
       "      <th>max</th>\n",
       "      <td>1.552128e+06</td>\n",
       "      <td>3456.000000</td>\n",
       "      <td>2.712820e+09</td>\n",
       "      <td>387.000000</td>\n",
       "      <td>407.000000</td>\n",
       "      <td>3.000000</td>\n",
       "      <td>3.000000</td>\n",
       "      <td>346.000000</td>\n",
       "      <td>36.000000</td>\n",
       "      <td>406.000000</td>\n",
       "      <td>...</td>\n",
       "      <td>1598.000000</td>\n",
       "      <td>429.000000</td>\n",
       "      <td>1263.000000</td>\n",
       "      <td>83321.000000</td>\n",
       "      <td>81408.000000</td>\n",
       "      <td>8433.000000</td>\n",
       "      <td>4.000000</td>\n",
       "      <td>1909.000000</td>\n",
       "      <td>113807.000000</td>\n",
       "      <td>22250.000000</td>\n",
       "    </tr>\n",
       "  </tbody>\n",
       "</table>\n",
       "<p>8 rows × 26 columns</p>\n",
       "</div>"
      ],
      "text/plain": [
       "                ano          mes  id_municipio  homicidio_doloso  \\\n",
       "count  1.200000e+01    12.000000  1.200000e+01         12.000000   \n",
       "mean   8.690300e+05  1935.000000  1.517340e+09        154.000000   \n",
       "std    4.646271e+05  1034.548123  8.115075e+08        114.070154   \n",
       "min    1.616800e+04    36.000000  2.840246e+07         42.000000   \n",
       "25%    6.143840e+05  1368.000000  1.073072e+09         68.250000   \n",
       "50%    7.679800e+05  1710.000000  1.339957e+09        126.000000   \n",
       "75%    1.236852e+06  2754.000000  2.157992e+09        177.000000   \n",
       "max    1.552128e+06  3456.000000  2.712820e+09        387.000000   \n",
       "\n",
       "       numero_de_vitimas_em_homicidio_doloso  \\\n",
       "count                              12.000000   \n",
       "mean                              161.333333   \n",
       "std                               120.832215   \n",
       "min                                44.000000   \n",
       "25%                                70.750000   \n",
       "50%                               133.000000   \n",
       "75%                               183.750000   \n",
       "max                               407.000000   \n",
       "\n",
       "       homicidio_doloso_por_acidente_de_transito  \\\n",
       "count                                  12.000000   \n",
       "mean                                    0.333333   \n",
       "std                                     0.887625   \n",
       "min                                     0.000000   \n",
       "25%                                     0.000000   \n",
       "50%                                     0.000000   \n",
       "75%                                     0.000000   \n",
       "max                                     3.000000   \n",
       "\n",
       "       numero_de_vitimas_em_homicidio_doloso_por_acidente_de_transito  \\\n",
       "count                                          12.000000                \n",
       "mean                                            0.416667                \n",
       "std                                             0.996205                \n",
       "min                                             0.000000                \n",
       "25%                                             0.000000                \n",
       "50%                                             0.000000                \n",
       "75%                                             0.000000                \n",
       "max                                             3.000000                \n",
       "\n",
       "       homicidio_culposo_por_acidente_de_transito  homicidio_culposo_outros  \\\n",
       "count                                   12.000000                 12.000000   \n",
       "mean                                   179.666667                  8.083333   \n",
       "std                                     86.187252                 10.612671   \n",
       "min                                     47.000000                  0.000000   \n",
       "25%                                    130.250000                  2.750000   \n",
       "50%                                    169.000000                  4.000000   \n",
       "75%                                    236.250000                  8.500000   \n",
       "max                                    346.000000                 36.000000   \n",
       "\n",
       "       tentativa_de_homicidio  ...  total_de_estupro     estupro  \\\n",
       "count               12.000000  ...         12.000000   12.000000   \n",
       "mean               179.166667  ...        637.666667  143.000000   \n",
       "std                111.734941  ...        480.207405  120.971822   \n",
       "min                 56.000000  ...        143.000000   28.000000   \n",
       "25%                105.500000  ...        386.750000   77.000000   \n",
       "50%                147.000000  ...        441.500000   92.500000   \n",
       "75%                197.250000  ...        714.000000  165.750000   \n",
       "max                406.000000  ...       1598.000000  429.000000   \n",
       "\n",
       "       estupro_de_vulneravel  total_de_roubo_outros  roubo_outros  \\\n",
       "count              12.000000              12.000000     12.000000   \n",
       "mean              494.666667           12267.833333  11922.583333   \n",
       "std               362.210219           24451.176714  23859.947277   \n",
       "min               115.000000             242.000000    226.000000   \n",
       "25%               306.750000             820.250000    795.000000   \n",
       "50%               352.000000            3298.500000   3195.500000   \n",
       "75%               548.250000            6439.750000   6165.000000   \n",
       "max              1263.000000           83321.000000  81408.000000   \n",
       "\n",
       "       roubo_de_veiculo  roubo_a_banco  roubo_de_carga   furto_outros  \\\n",
       "count         12.000000      12.000000       12.000000      12.000000   \n",
       "mean        1689.416667       1.000000      344.250000   24225.916667   \n",
       "std         2809.348564       1.128152      603.889985   29999.751500   \n",
       "min           24.000000       0.000000        5.000000    4898.000000   \n",
       "25%           64.500000       0.000000       25.750000   10269.750000   \n",
       "50%          568.500000       1.000000      102.000000   14938.000000   \n",
       "75%         1178.500000       1.000000      203.500000   21390.000000   \n",
       "max         8433.000000       4.000000     1909.000000  113807.000000   \n",
       "\n",
       "       furto_de_veiculo  \n",
       "count         12.000000  \n",
       "mean        4247.250000  \n",
       "std         6607.909601  \n",
       "min          227.000000  \n",
       "25%          830.000000  \n",
       "50%         1641.500000  \n",
       "75%         3019.250000  \n",
       "max        22250.000000  \n",
       "\n",
       "[8 rows x 26 columns]"
      ]
     },
     "execution_count": 92,
     "metadata": {},
     "output_type": "execute_result"
    }
   ],
   "source": [
    "ano2021.describe()"
   ]
  },
  {
   "cell_type": "markdown",
   "id": "74fea693",
   "metadata": {},
   "source": [
    "Vamos dar uma olhada mais de perto no que cada variável nos diz em relação ao ano de 2021:\n",
    "\n",
    "<br>\n",
    "\n",
    "__1. Contagem:__ o número de linhas no conjunto de dados que são preenchidas com valores não nulos. Todas as outras variáveis também têm 12 linhas de dados preenchidas, com exceção de 'id_municipio e ano', que estão elevados exponencialmente. \n",
    "\n",
    "<br>\n",
    "\n",
    "__2. Média:__ o valor médio em cada coluna. por exemplo a media de vitimas em homicidios dolosos era de 154 no ano.\n",
    "\n",
    "<br>\n",
    "\n",
    "__3. Std (Desvio Padrão):__ quanto desvio cada coluna tem da média.\n",
    "<br>\n",
    "\n",
    "__4. Min:__ o valor mínimo de cada variável. Por exemplo, o valor mínimo para 'roubo_de_veiculo' é 24, o que significa que houve no minimo 33 pessoas tiveram seu carro roubado.\n",
    "\n",
    "<br>\n",
    "\n",
    "__5. Quartis:__ 25%, 50% e 75%: 1º quartil, 2º quartil (mediana) e 3º quartil.\n",
    "\n",
    "<br>\n",
    "\n",
    "__6. Max:__ o valor mais alto para cada variável no conjunto de dados. Pelo quadro de dados acima, podemos ver que em 2021, 407 pessoas morreram vitimas de homicio doloso.\n",
    "\n",
    "<br>"
   ]
  },
  {
   "cell_type": "code",
   "execution_count": 93,
   "id": "657302ad",
   "metadata": {},
   "outputs": [
    {
     "name": "stdout",
     "output_type": "stream",
     "text": [
      "<class 'pandas.core.frame.DataFrame'>\n",
      "Index: 12 entries, Araçatuba to São José dos Campos\n",
      "Data columns (total 26 columns):\n",
      " #   Column                                                          Non-Null Count  Dtype  \n",
      "---  ------                                                          --------------  -----  \n",
      " 0   ano                                                             12 non-null     int64  \n",
      " 1   mes                                                             12 non-null     int64  \n",
      " 2   id_municipio                                                    12 non-null     int64  \n",
      " 3   homicidio_doloso                                                12 non-null     float64\n",
      " 4   numero_de_vitimas_em_homicidio_doloso                           12 non-null     float64\n",
      " 5   homicidio_doloso_por_acidente_de_transito                       12 non-null     float64\n",
      " 6   numero_de_vitimas_em_homicidio_doloso_por_acidente_de_transito  12 non-null     float64\n",
      " 7   homicidio_culposo_por_acidente_de_transito                      12 non-null     float64\n",
      " 8   homicidio_culposo_outros                                        12 non-null     float64\n",
      " 9   tentativa_de_homicidio                                          12 non-null     float64\n",
      " 10  lesao_corporal_seguida_de_morte                                 12 non-null     float64\n",
      " 11  lesao_corporal_dolosa                                           12 non-null     float64\n",
      " 12  lesao_corporal_culposa_por_acidente_de_transito                 12 non-null     float64\n",
      " 13  lesao_corporal_culposa_outras                                   12 non-null     float64\n",
      " 14  latrocinio                                                      12 non-null     float64\n",
      " 15  numero_de_vitimas_em_latrocinio                                 12 non-null     float64\n",
      " 16  total_de_estupro                                                12 non-null     float64\n",
      " 17  estupro                                                         12 non-null     float64\n",
      " 18  estupro_de_vulneravel                                           12 non-null     float64\n",
      " 19  total_de_roubo_outros                                           12 non-null     float64\n",
      " 20  roubo_outros                                                    12 non-null     float64\n",
      " 21  roubo_de_veiculo                                                12 non-null     float64\n",
      " 22  roubo_a_banco                                                   12 non-null     float64\n",
      " 23  roubo_de_carga                                                  12 non-null     float64\n",
      " 24  furto_outros                                                    12 non-null     float64\n",
      " 25  furto_de_veiculo                                                12 non-null     float64\n",
      "dtypes: float64(23), int64(3)\n",
      "memory usage: 2.5+ KB\n"
     ]
    }
   ],
   "source": [
    "ano2021.info()"
   ]
  },
  {
   "cell_type": "markdown",
   "id": "9b360b76",
   "metadata": {},
   "source": [
    "Depois de levantarmos informações nos ultimos 4 anos do estado de São Paulo, podemos ver que em algumas regiões alguns crimes aconteceram em maiores quantidades durante os ulitmos anos, sendo assim :\n",
    "\n",
    "01 - qual o crime mais cometido em :\n",
    "\n",
    "2018? furto e outros 201,798k <br>\n",
    "2019? furto e outros 226,566k <br>\n",
    "2020? furto e outros 164,444k <br>\n",
    "2021? furto e outros 103,807k <br>\n",
    "\n",
    "02- qual a regiao mais afetada dos ultimos anos? = capital\n",
    "\n",
    "03- por que com o passar dos anos, a taxa de furtos na cidade de São Paulo teve uma queda referente ao ano anterior?\n",
    "\n",
    "a pandemia de COVID-19 pode ter influenciado a diminuição da taxa de roubos no Brasil . Isso pode ser explicado pelo fato de que, durante a pandemia, houve uma diminuição do número de pessoas nas ruas e uma maior presença policial nas cidades, o que pode ter inibido a ação de criminosos . Além disso, o isolamento social e o fechamento de estabelecimentos comerciais também podem ter contribuído para a diminuição dos roubos .\n",
    "\n",
    " \n",
    "\n",
    "\n",
    "\n",
    "\n",
    "\n",
    "\n"
   ]
  },
  {
   "cell_type": "code",
   "execution_count": null,
   "id": "9db1cb82",
   "metadata": {},
   "outputs": [],
   "source": []
  }
 ],
 "metadata": {
  "kernelspec": {
   "display_name": "Python 3 (ipykernel)",
   "language": "python",
   "name": "python3"
  },
  "language_info": {
   "codemirror_mode": {
    "name": "ipython",
    "version": 3
   },
   "file_extension": ".py",
   "mimetype": "text/x-python",
   "name": "python",
   "nbconvert_exporter": "python",
   "pygments_lexer": "ipython3",
   "version": "3.11.5"
  }
 },
 "nbformat": 4,
 "nbformat_minor": 5
}
